{
 "cells": [
  {
   "cell_type": "code",
   "execution_count": 1,
   "metadata": {},
   "outputs": [],
   "source": [
    "import numpy as np\n",
    "import pandas as pd\n",
    "import matplotlib.pyplot as plt"
   ]
  },
  {
   "cell_type": "markdown",
   "metadata": {},
   "source": [
    "# Perceptron"
   ]
  },
  {
   "cell_type": "markdown",
   "metadata": {},
   "source": [
    "![](./image/week1_perceptron.png)"
   ]
  },
  {
   "cell_type": "markdown",
   "metadata": {},
   "source": [
    "### Load Dataset"
   ]
  },
  {
   "cell_type": "code",
   "execution_count": 2,
   "metadata": {},
   "outputs": [],
   "source": [
    "data = pd.read_csv('./data/data_banknote_authentication.csv', names = ['X1', 'X2', 'X3', 'X4', 'Y'])"
   ]
  },
  {
   "cell_type": "code",
   "execution_count": 3,
   "metadata": {},
   "outputs": [
    {
     "data": {
      "text/html": [
       "<div>\n",
       "<style scoped>\n",
       "    .dataframe tbody tr th:only-of-type {\n",
       "        vertical-align: middle;\n",
       "    }\n",
       "\n",
       "    .dataframe tbody tr th {\n",
       "        vertical-align: top;\n",
       "    }\n",
       "\n",
       "    .dataframe thead th {\n",
       "        text-align: right;\n",
       "    }\n",
       "</style>\n",
       "<table border=\"1\" class=\"dataframe\">\n",
       "  <thead>\n",
       "    <tr style=\"text-align: right;\">\n",
       "      <th></th>\n",
       "      <th>X1</th>\n",
       "      <th>X2</th>\n",
       "      <th>X3</th>\n",
       "      <th>X4</th>\n",
       "      <th>Y</th>\n",
       "    </tr>\n",
       "  </thead>\n",
       "  <tbody>\n",
       "    <tr>\n",
       "      <th>0</th>\n",
       "      <td>3.62160</td>\n",
       "      <td>8.66610</td>\n",
       "      <td>-2.8073</td>\n",
       "      <td>-0.44699</td>\n",
       "      <td>0</td>\n",
       "    </tr>\n",
       "    <tr>\n",
       "      <th>1</th>\n",
       "      <td>4.54590</td>\n",
       "      <td>8.16740</td>\n",
       "      <td>-2.4586</td>\n",
       "      <td>-1.46210</td>\n",
       "      <td>0</td>\n",
       "    </tr>\n",
       "    <tr>\n",
       "      <th>2</th>\n",
       "      <td>3.86600</td>\n",
       "      <td>-2.63830</td>\n",
       "      <td>1.9242</td>\n",
       "      <td>0.10645</td>\n",
       "      <td>0</td>\n",
       "    </tr>\n",
       "    <tr>\n",
       "      <th>3</th>\n",
       "      <td>3.45660</td>\n",
       "      <td>9.52280</td>\n",
       "      <td>-4.0112</td>\n",
       "      <td>-3.59440</td>\n",
       "      <td>0</td>\n",
       "    </tr>\n",
       "    <tr>\n",
       "      <th>4</th>\n",
       "      <td>0.32924</td>\n",
       "      <td>-4.45520</td>\n",
       "      <td>4.5718</td>\n",
       "      <td>-0.98880</td>\n",
       "      <td>0</td>\n",
       "    </tr>\n",
       "    <tr>\n",
       "      <th>...</th>\n",
       "      <td>...</td>\n",
       "      <td>...</td>\n",
       "      <td>...</td>\n",
       "      <td>...</td>\n",
       "      <td>...</td>\n",
       "    </tr>\n",
       "    <tr>\n",
       "      <th>1367</th>\n",
       "      <td>0.40614</td>\n",
       "      <td>1.34920</td>\n",
       "      <td>-1.4501</td>\n",
       "      <td>-0.55949</td>\n",
       "      <td>1</td>\n",
       "    </tr>\n",
       "    <tr>\n",
       "      <th>1368</th>\n",
       "      <td>-1.38870</td>\n",
       "      <td>-4.87730</td>\n",
       "      <td>6.4774</td>\n",
       "      <td>0.34179</td>\n",
       "      <td>1</td>\n",
       "    </tr>\n",
       "    <tr>\n",
       "      <th>1369</th>\n",
       "      <td>-3.75030</td>\n",
       "      <td>-13.45860</td>\n",
       "      <td>17.5932</td>\n",
       "      <td>-2.77710</td>\n",
       "      <td>1</td>\n",
       "    </tr>\n",
       "    <tr>\n",
       "      <th>1370</th>\n",
       "      <td>-3.56370</td>\n",
       "      <td>-8.38270</td>\n",
       "      <td>12.3930</td>\n",
       "      <td>-1.28230</td>\n",
       "      <td>1</td>\n",
       "    </tr>\n",
       "    <tr>\n",
       "      <th>1371</th>\n",
       "      <td>-2.54190</td>\n",
       "      <td>-0.65804</td>\n",
       "      <td>2.6842</td>\n",
       "      <td>1.19520</td>\n",
       "      <td>1</td>\n",
       "    </tr>\n",
       "  </tbody>\n",
       "</table>\n",
       "<p>1372 rows × 5 columns</p>\n",
       "</div>"
      ],
      "text/plain": [
       "           X1        X2       X3       X4  Y\n",
       "0     3.62160   8.66610  -2.8073 -0.44699  0\n",
       "1     4.54590   8.16740  -2.4586 -1.46210  0\n",
       "2     3.86600  -2.63830   1.9242  0.10645  0\n",
       "3     3.45660   9.52280  -4.0112 -3.59440  0\n",
       "4     0.32924  -4.45520   4.5718 -0.98880  0\n",
       "...       ...       ...      ...      ... ..\n",
       "1367  0.40614   1.34920  -1.4501 -0.55949  1\n",
       "1368 -1.38870  -4.87730   6.4774  0.34179  1\n",
       "1369 -3.75030 -13.45860  17.5932 -2.77710  1\n",
       "1370 -3.56370  -8.38270  12.3930 -1.28230  1\n",
       "1371 -2.54190  -0.65804   2.6842  1.19520  1\n",
       "\n",
       "[1372 rows x 5 columns]"
      ]
     },
     "execution_count": 3,
     "metadata": {},
     "output_type": "execute_result"
    }
   ],
   "source": [
    "data"
   ]
  },
  {
   "cell_type": "markdown",
   "metadata": {},
   "source": [
    "### Activation Function (Step Function)"
   ]
  },
  {
   "cell_type": "markdown",
   "metadata": {},
   "source": [
    "<img src=\"./image/week1_stepfunction.svg.png\" width=\"200\" height=\"200\"/>"
   ]
  },
  {
   "cell_type": "code",
   "execution_count": 4,
   "metadata": {},
   "outputs": [],
   "source": [
    "def step_function(x):\n",
    "    return (x >= 0) * 1"
   ]
  },
  {
   "cell_type": "markdown",
   "metadata": {},
   "source": [
    "## Train Perceptron with only one sample"
   ]
  },
  {
   "cell_type": "code",
   "execution_count": 5,
   "metadata": {},
   "outputs": [
    {
     "name": "stdout",
     "output_type": "stream",
     "text": [
      "가중치: [1. 1. 1. 1.] 편향: 1\n",
      "data: [ 3.6216   8.6661  -2.8073  -0.44699]\n",
      "가중합: 9.03341\n",
      "출력: 1 실제 값: 0\n"
     ]
    }
   ],
   "source": [
    "# 가중치 & 편향 1로 초기화\n",
    "weight = np.ones(4) # [1, 1, 1, 1]\n",
    "bias = 1\n",
    "# 학습 데이터 정의\n",
    "X = data.iloc[0, 0:4].values # DataFrame.values => df와 차원이 동일한 numpy.array 반환\n",
    "# 합성곱 계산\n",
    "weight_sum = X.dot(weight) + bias # numpy.array.dot(nunmpy.array) -> 행렬곱\n",
    "# 활성화함수(계단함수) 통과\n",
    "output = step_function(weight_sum)\n",
    "# 실제값 정의\n",
    "y = data.iloc[0, 4]\n",
    "\n",
    "print(\"가중치:\", weight, \"편향:\", bias)\n",
    "print(\"data:\", X)\n",
    "print(\"가중합:\", np.array(X).dot(weight))\n",
    "print(\"출력:\", output, \"실제 값:\", y)"
   ]
  },
  {
   "cell_type": "markdown",
   "metadata": {},
   "source": [
    "![](./image/week1_perceptron_algorithm.png)"
   ]
  },
  {
   "cell_type": "code",
   "execution_count": 6,
   "metadata": {},
   "outputs": [
    {
     "name": "stdout",
     "output_type": "stream",
     "text": [
      "가중치: [0.963784  0.913339  1.028073  1.0044699] 편향: 0.99 출력: 1\n"
     ]
    }
   ],
   "source": [
    "lr = 0.01 # learning rate (학습률)\n",
    "for i in range(4):\n",
    "    weight[i] = weight[i] + lr * (y - output)*X[i]\n",
    "bias = bias  + lr * (y - output)\n",
    "output = step_function(X.dot(weight) + bias)\n",
    "\n",
    "print(\"가중치:\", weight, \"편향:\", bias, \"출력:\", output)"
   ]
  },
  {
   "cell_type": "code",
   "execution_count": 7,
   "metadata": {},
   "outputs": [
    {
     "name": "stdout",
     "output_type": "stream",
     "text": [
      "[Epoch] 0 가중치: [0.927568  0.826678  1.056146  1.0089398] 편향: 0.98 출력: 1\n",
      "[Epoch] 1 가중치: [0.891352  0.740017  1.084219  1.0134097] 편향: 0.97 출력: 1\n",
      "[Epoch] 2 가중치: [0.855136  0.653356  1.112292  1.0178796] 편향: 0.96 출력: 1\n",
      "[Epoch] 3 가중치: [0.81892   0.566695  1.140365  1.0223495] 편향: 0.95 출력: 1\n",
      "[Epoch] 4 가중치: [0.782704  0.480034  1.168438  1.0268194] 편향: 0.94 출력: 1\n",
      "[Epoch] 5 가중치: [0.746488  0.393373  1.196511  1.0312893] 편향: 0.9299999999999999 출력: 1\n",
      "[Epoch] 6 가중치: [0.710272  0.306712  1.224584  1.0357592] 편향: 0.9199999999999999 출력: 1\n",
      "[Epoch] 7 가중치: [0.674056  0.220051  1.252657  1.0402291] 편향: 0.9099999999999999 출력: 1\n",
      "[Epoch] 8 가중치: [0.63784  0.13339  1.28073  1.044699] 편향: 0.8999999999999999 출력: 1\n",
      "[Epoch] 9 가중치: [0.601624  0.046729  1.308803  1.0491689] 편향: 0.8899999999999999 출력: 0\n"
     ]
    }
   ],
   "source": [
    "epoch = 10\n",
    "for j in range(epoch):\n",
    "    for i in range(4):\n",
    "        weight[i] = weight[i] + lr * (y - output)*X[i]\n",
    "    bias = bias  + lr * (y - output)\n",
    "    output = step_function(X.dot(weight) + bias)\n",
    "\n",
    "    print(\"[Epoch]\", j, \"가중치:\", weight, \"편향:\", bias, \"출력:\", output)"
   ]
  },
  {
   "cell_type": "markdown",
   "metadata": {},
   "source": [
    "## Train Perceptron with all samples"
   ]
  },
  {
   "cell_type": "markdown",
   "metadata": {},
   "source": [
    "### Split Train & Test Dataset"
   ]
  },
  {
   "cell_type": "code",
   "execution_count": 8,
   "metadata": {},
   "outputs": [
    {
     "name": "stdout",
     "output_type": "stream",
     "text": [
      "(1000, 5) (372, 5)\n"
     ]
    }
   ],
   "source": [
    "# random하게 train 인덱스를 뽑고 나머지를 test 인덱스로 지정\n",
    "train_idx = np.random.choice(data.shape[0], 1000, replace = False)\n",
    "test_idx = np.setdiff1d(range(data.shape[0]), train_idx)\n",
    "\n",
    "train = data.iloc[train_idx, :]\n",
    "test = data.iloc[test_idx, :]\n",
    "print(train.shape, test.shape)"
   ]
  },
  {
   "cell_type": "code",
   "execution_count": 9,
   "metadata": {},
   "outputs": [],
   "source": [
    "weight = np.ones(5) #bias를 weight에 포함시킴  [ 1, 1, 1, 1, 1]\n",
    "X = train.iloc[:, 0:4].values\n",
    "y = train.iloc[:, 4].values # df -> numpy\n",
    "ones_vector = np.ones((X.shape[0], 1))\n",
    "design_X = np.hstack((ones_vector, X))"
   ]
  },
  {
   "cell_type": "code",
   "execution_count": 10,
   "metadata": {},
   "outputs": [
    {
     "name": "stdout",
     "output_type": "stream",
     "text": [
      "[[ 1.        0.77805   6.6424   -1.1425   -1.0573  ]\n",
      " [ 1.        2.4391    6.4417   -0.80743  -0.69139 ]\n",
      " [ 1.        4.1711    8.722    -3.0224   -0.59699 ]\n",
      " ...\n",
      " [ 1.        0.72252  -0.053811  5.6703   -1.3509  ]\n",
      " [ 1.       -0.8471    3.1329   -3.0112   -2.9388  ]\n",
      " [ 1.       -2.3629   -0.10554   1.9336    1.1358  ]]\n"
     ]
    }
   ],
   "source": [
    "print(design_X)"
   ]
  },
  {
   "cell_type": "code",
   "execution_count": 11,
   "metadata": {},
   "outputs": [
    {
     "name": "stdout",
     "output_type": "stream",
     "text": [
      "[0 0 0 0 1 0 1 0 0 1 0 0 1 1 0 1 0 0 1 1 1 0 0 1 1 1 1 0 1 0 0 0 0 0 1 1 1\n",
      " 1 1 1 1 1 0 0 1 1 0 1 0 0 0 1 0 1 1 0 1 0 1 0 1 1 1 0 0 1 0 1 0 0 1 0 1 1\n",
      " 1 0 0 1 1 0 0 0 0 1 0 1 0 0 1 1 0 1 1 0 0 0 0 0 0 0 1 1 1 0 1 0 0 0 0 0 0\n",
      " 1 0 0 0 1 0 0 0 1 1 1 1 0 1 0 0 0 0 0 1 0 0 0 0 0 0 1 0 0 0 0 0 1 1 1 0 1\n",
      " 0 1 0 0 1 0 1 1 0 0 1 0 0 0 0 0 0 1 1 0 0 1 1 1 0 0 0 0 1 0 0 0 1 0 0 1 0\n",
      " 0 0 0 0 1 0 1 0 0 0 1 0 0 0 0 1 1 0 0 0 0 1 0 1 0 0 1 0 0 1 0 1 0 0 1 1 0\n",
      " 1 0 0 1 1 0 0 1 0 0 0 1 0 1 1 0 0 0 0 1 0 1 0 0 1 1 0 0 0 1 1 1 1 0 0 1 0\n",
      " 0 1 0 1 0 1 1 0 0 0 1 0 0 1 0 0 1 0 1 0 1 0 0 1 0 1 1 0 1 1 0 1 0 0 1 0 0\n",
      " 0 0 1 0 1 0 1 0 0 1 1 0 0 1 0 0 1 1 1 1 0 0 0 0 1 0 0 0 1 1 0 1 1 0 0 1 1\n",
      " 0 0 0 0 0 1 1 1 0 1 1 0 1 0 0 0 0 1 1 1 0 0 1 1 0 0 1 0 0 1 1 0 1 0 0 1 1\n",
      " 0 0 0 0 1 1 1 1 1 0 1 0 0 1 1 1 1 0 1 0 1 0 1 0 0 1 0 0 1 0 0 0 0 0 1 1 0\n",
      " 0 1 0 0 1 0 0 1 0 0 1 0 0 1 0 0 1 0 1 1 0 0 1 1 0 0 1 0 1 1 0 1 0 0 0 0 1\n",
      " 0 0 1 0 1 1 0 1 1 0 0 1 0 1 0 0 0 1 1 0 0 0 1 1 0 0 0 1 1 1 1 1 0 1 0 0 1\n",
      " 0 1 0 0 1 1 0 0 0 0 1 0 0 1 0 1 0 1 1 0 0 0 0 1 0 0 1 0 0 0 0 1 1 0 0 0 1\n",
      " 1 1 1 0 0 0 1 0 1 1 0 0 1 1 0 0 1 1 1 0 0 1 1 1 0 1 1 0 0 1 1 1 0 0 1 0 0\n",
      " 0 1 0 0 0 1 0 1 1 0 0 1 0 1 0 1 1 0 1 1 0 0 0 1 1 1 1 1 1 0 1 1 0 0 0 1 0\n",
      " 0 0 0 1 0 1 0 0 0 0 0 0 1 1 1 0 0 1 1 1 0 0 1 1 1 1 0 1 0 1 0 1 1 0 0 0 0\n",
      " 1 1 1 1 1 1 1 0 0 1 1 1 0 1 0 0 0 0 1 1 1 0 1 1 0 1 0 1 0 1 0 0 0 0 0 1 0\n",
      " 0 1 0 0 0 0 1 0 0 0 0 1 0 1 0 0 0 1 1 0 1 1 0 1 0 0 0 1 0 0 0 1 1 0 1 1 1\n",
      " 1 0 0 0 0 1 1 0 1 0 1 0 0 0 0 0 1 1 0 0 0 0 0 0 0 1 0 1 1 1 0 1 0 1 1 0 0\n",
      " 0 0 1 1 1 1 0 0 1 0 0 0 0 1 1 1 1 0 0 1 1 1 0 0 0 0 1 0 0 0 0 0 1 0 1 1 1\n",
      " 1 0 0 0 1 0 0 0 1 0 1 1 1 0 1 1 1 0 1 0 1 1 1 1 0 1 0 0 0 0 0 0 0 1 0 0 1\n",
      " 0 1 1 0 0 1 0 0 1 0 0 1 0 1 1 0 0 0 0 0 1 0 1 0 0 0 0 1 1 1 0 1 0 1 0 0 0\n",
      " 1 0 0 1 1 0 1 0 1 0 0 1 1 0 1 1 0 1 0 1 1 0 0 0 1 0 0 0 1 0 1 1 0 1 1 0 1\n",
      " 1 0 1 1 0 0 1 0 1 0 0 1 0 1 1 0 0 1 0 0 0 0 0 0 1 0 0 0 1 1 1 0 0 0 0 0 0\n",
      " 1 1 1 0 1 0 0 0 0 0 1 1 1 1 1 1 0 0 1 1 0 0 1 1 1 1 1 1 0 0 0 0 1 0 1 0 0\n",
      " 0 1 0 0 1 0 0 0 1 1 1 1 0 0 1 0 0 1 0 1 0 0 1 0 0 0 1 1 1 1 1 0 1 1 1 0 1\n",
      " 1]\n"
     ]
    }
   ],
   "source": [
    "print(y)"
   ]
  },
  {
   "cell_type": "code",
   "execution_count": 12,
   "metadata": {},
   "outputs": [
    {
     "name": "stdout",
     "output_type": "stream",
     "text": [
      "[Epoch] 1 Train 정확도: 0.7050000000000001\n",
      "[Epoch] 2 Train 정확도: 0.902\n",
      "[Epoch] 3 Train 정확도: 0.946\n",
      "[Epoch] 4 Train 정확도: 0.956\n",
      "[Epoch] 5 Train 정확도: 0.957\n",
      "[Epoch] 6 Train 정확도: 0.962\n",
      "[Epoch] 7 Train 정확도: 0.964\n",
      "[Epoch] 8 Train 정확도: 0.968\n",
      "[Epoch] 9 Train 정확도: 0.963\n",
      "[Epoch] 10 Train 정확도: 0.972\n"
     ]
    }
   ],
   "source": [
    "weight_sum = design_X.dot(weight)\n",
    "output = step_function(weight_sum)\n",
    "\n",
    "epoch = 10\n",
    "for j in range(epoch):\n",
    "    weight = weight + lr * (y - output).dot(design_X)\n",
    "    output = step_function(design_X.dot(weight) + bias)\n",
    "    \n",
    "    accuracy = 1 - sum(abs(y-output))/1000\n",
    "    \n",
    "    print(\"[Epoch]\", j+1, \"Train 정확도:\", accuracy)"
   ]
  },
  {
   "cell_type": "code",
   "execution_count": 13,
   "metadata": {},
   "outputs": [
    {
     "data": {
      "text/plain": [
       "0.982"
      ]
     },
     "execution_count": 13,
     "metadata": {},
     "output_type": "execute_result"
    }
   ],
   "source": [
    "test_X = test.iloc[:, 0:4].values\n",
    "test_y = test.iloc[:, 4].values\n",
    "ones_vector = np.ones((test_X.shape[0], 1))\n",
    "design_X = np.hstack((ones_vector, test_X))\n",
    "\n",
    "weight_sum = design_X.dot(weight)\n",
    "output = step_function(weight_sum)\n",
    "\n",
    "test_accuracy = 1 - sum(abs(test_y-output))/1000\n",
    "test_accuracy"
   ]
  },
  {
   "cell_type": "code",
   "execution_count": 14,
   "metadata": {},
   "outputs": [
    {
     "data": {
      "text/plain": [
       "<matplotlib.legend.Legend at 0x1d7eebf6d00>"
      ]
     },
     "execution_count": 14,
     "metadata": {},
     "output_type": "execute_result"
    },
    {
     "data": {
      "image/png": "[encoded data removed]",
      "text/plain": [
       "<Figure size 1000x500 with 1 Axes>"
      ]
     },
     "metadata": {},
     "output_type": "display_data"
    }
   ],
   "source": [
    "data_idx = [i for i in range(test_y.shape[0])]\n",
    "fig, ax = plt.subplots(figsize = (10, 5))\n",
    "ax.scatter(data_idx, test_y, label = 'target')\n",
    "ax.scatter(data_idx, output, label = 'predict')\n",
    "ax.legend()"
   ]
  },
  {
   "cell_type": "markdown",
   "metadata": {},
   "source": [
    "# XOR problem"
   ]
  },
  {
   "cell_type": "code",
   "execution_count": 15,
   "metadata": {},
   "outputs": [],
   "source": [
    "import torch\n",
    "import torch.nn as nn"
   ]
  },
  {
   "cell_type": "code",
   "execution_count": 16,
   "metadata": {},
   "outputs": [
    {
     "name": "stdout",
     "output_type": "stream",
     "text": [
      "cpu\n"
     ]
    }
   ],
   "source": [
    "# gpu가 있다면 gpu를 사용할 준비\n",
    "DEVICE = 'cuda' if torch.cuda.is_available() else 'cpu'\n",
    "print(DEVICE)"
   ]
  },
  {
   "cell_type": "markdown",
   "metadata": {},
   "source": [
    "<img src=\"./image/week1_xor_graph.png\" height=\"200\"/>"
   ]
  },
  {
   "cell_type": "code",
   "execution_count": 19,
   "metadata": {},
   "outputs": [],
   "source": [
    "# x,y생성\n",
    "# 각 텐서에는 데이터의 값 이외에도 미분값 또한 저장된다.\n",
    "x = torch.Tensor([[0,0],[0,1],[1,0],[1,1]]).to(DEVICE)\n",
    "y = torch.Tensor([[0],[1],[1],[0]]).to(DEVICE)"
   ]
  },
  {
   "cell_type": "code",
   "execution_count": 20,
   "metadata": {},
   "outputs": [],
   "source": [
    "perceptron = nn.Sequential(\n",
    "    nn.Linear(2, 1, bias = True),\n",
    "    nn.Sigmoid()\n",
    ")"
   ]
  },
  {
   "cell_type": "code",
   "execution_count": 21,
   "metadata": {},
   "outputs": [
    {
     "data": {
      "text/plain": [
       "tensor([[0.],\n",
       "        [0.],\n",
       "        [0.],\n",
       "        [0.]])"
      ]
     },
     "execution_count": 21,
     "metadata": {},
     "output_type": "execute_result"
    }
   ],
   "source": [
    "y_pred = perceptron(x)\n",
    "res = (y_pred > 0.5).float()\n",
    "res"
   ]
  },
  {
   "cell_type": "code",
   "execution_count": 22,
   "metadata": {},
   "outputs": [],
   "source": [
    "lr = 1e-3\n",
    "loss_func = torch.nn.BCELoss().to(DEVICE)\n",
    "optim = torch.optim.Adam(perceptron.parameters(), lr = lr)"
   ]
  },
  {
   "cell_type": "code",
   "execution_count": 23,
   "metadata": {},
   "outputs": [
    {
     "name": "stdout",
     "output_type": "stream",
     "text": [
      "0 0.7524031400680542\n",
      "1000 0.6939818263053894\n",
      "2000 0.6931805610656738\n",
      "3000 0.6931473016738892\n",
      "4000 0.6931471824645996\n",
      "5000 0.6931471824645996\n",
      "6000 0.6931471824645996\n",
      "7000 0.6931471824645996\n",
      "8000 0.6931471824645996\n",
      "9000 0.6931471824645996\n"
     ]
    }
   ],
   "source": [
    "for epoch in range(10000):\n",
    "  optim.zero_grad()\n",
    "  y_pred = perceptron(x)\n",
    "\n",
    "  loss = loss_func(y_pred, y)\n",
    "  loss.backward()\n",
    "  optim.step() # ?????찾아보고 말해주기\n",
    "\n",
    "  if epoch % 1000 == 0 :\n",
    "    print(epoch, loss.item())"
   ]
  },
  {
   "cell_type": "code",
   "execution_count": 24,
   "metadata": {},
   "outputs": [
    {
     "data": {
      "text/plain": [
       "tensor([[0.],\n",
       "        [0.],\n",
       "        [0.],\n",
       "        [0.]])"
      ]
     },
     "execution_count": 24,
     "metadata": {},
     "output_type": "execute_result"
    }
   ],
   "source": [
    "y_pred = perceptron(x)\n",
    "res = (y_pred>0.5).float()\n",
    "res"
   ]
  },
  {
   "cell_type": "code",
   "execution_count": 25,
   "metadata": {},
   "outputs": [],
   "source": [
    "#layer 쌓는 방식\n",
    "model = nn.Sequential(\n",
    "    nn.Linear(2, 2, bias=True),\n",
    "    nn.Sigmoid(),\n",
    "    nn.Linear(2, 1, bias=True),\n",
    "    nn.Sigmoid()\n",
    "    ).to(DEVICE)"
   ]
  },
  {
   "cell_type": "code",
   "execution_count": 26,
   "metadata": {},
   "outputs": [
    {
     "data": {
      "text/plain": [
       "tensor([[1.],\n",
       "        [1.],\n",
       "        [1.],\n",
       "        [1.]])"
      ]
     },
     "execution_count": 26,
     "metadata": {},
     "output_type": "execute_result"
    }
   ],
   "source": [
    "y_pred = model(x)\n",
    "res = (y_pred>0.5).float()\n",
    "res"
   ]
  },
  {
   "cell_type": "code",
   "execution_count": 27,
   "metadata": {},
   "outputs": [],
   "source": [
    "lr = 1e-3\n",
    "loss_func = torch.nn.BCELoss().to(DEVICE)\n",
    "optim = torch.optim.Adam(model.parameters(),lr = lr)"
   ]
  },
  {
   "cell_type": "code",
   "execution_count": 28,
   "metadata": {},
   "outputs": [
    {
     "name": "stdout",
     "output_type": "stream",
     "text": [
      "0 0.7363312840461731\n",
      "1000 0.6931899785995483\n",
      "2000 0.6782658100128174\n",
      "3000 0.5329328179359436\n",
      "4000 0.3414744734764099\n",
      "5000 0.21595686674118042\n",
      "6000 0.1407182514667511\n",
      "7000 0.09417835623025894\n",
      "8000 0.06430236995220184\n",
      "9000 0.04454616457223892\n"
     ]
    }
   ],
   "source": [
    "for epoch in range(10000):\n",
    "  optim.zero_grad()\n",
    "  y_pred = model(x)\n",
    "\n",
    "  loss = loss_func(y_pred,y)\n",
    "  loss.backward()\n",
    "  optim.step()\n",
    "\n",
    "  if epoch % 1000 == 0 :\n",
    "    print(epoch, loss.item())"
   ]
  },
  {
   "cell_type": "code",
   "execution_count": 29,
   "metadata": {},
   "outputs": [
    {
     "data": {
      "text/plain": [
       "tensor([[0.],\n",
       "        [1.],\n",
       "        [1.],\n",
       "        [0.]])"
      ]
     },
     "execution_count": 29,
     "metadata": {},
     "output_type": "execute_result"
    }
   ],
   "source": [
    "res = (y_pred>0.5).float()\n",
    "res"
   ]
  },
  {
   "cell_type": "markdown",
   "metadata": {},
   "source": [
    "# Multi Layer Perceptron"
   ]
  },
  {
   "cell_type": "markdown",
   "metadata": {},
   "source": [
    "### Make Dataset"
   ]
  },
  {
   "cell_type": "code",
   "execution_count": 30,
   "metadata": {},
   "outputs": [
    {
     "data": {
      "image/png": "[encoded data removed]",
      "text/plain": [
       "<Figure size 640x480 with 1 Axes>"
      ]
     },
     "metadata": {},
     "output_type": "display_data"
    }
   ],
   "source": [
    "import torch\n",
    "import torch.nn as nn\n",
    "import torch.optim as optim\n",
    "import torch.nn.init as init\n",
    "import matplotlib.pyplot as plt\n",
    "\n",
    "num_data = 1000\n",
    "num_epoch = 10000\n",
    "\n",
    "noise = init.normal_(torch.FloatTensor(num_data,1), std=1)\n",
    "x = init.uniform_(torch.Tensor(num_data,1), -15,15)\n",
    "y = (x**2)+3\n",
    "y_noise = y + noise\n",
    "\n",
    "plt.scatter(x, y_noise)\n",
    "plt.show()"
   ]
  },
  {
   "cell_type": "markdown",
   "metadata": {},
   "source": [
    "## MLP with activation function"
   ]
  },
  {
   "cell_type": "markdown",
   "metadata": {},
   "source": [
    "![](./image/week1_MLP.png)"
   ]
  },
  {
   "cell_type": "code",
   "execution_count": 31,
   "metadata": {},
   "outputs": [],
   "source": [
    "model = nn.Sequential(\n",
    "    nn.Linear(1,6),\n",
    "    nn.ReLU(),\n",
    "    nn.Linear(6,10),\n",
    "    nn.ReLU(),\n",
    "    nn.Linear(10,6),\n",
    "    nn.ReLU(),\n",
    "    nn.Linear(6,1)\n",
    ")\n",
    "\n",
    "loss_func = nn.L1Loss()\n",
    "optimizer = optim.SGD(model.parameters(), lr=0.0002)\n",
    "\n",
    "loss_array=[]\n",
    "for i in range(num_epoch):\n",
    "  optimizer.zero_grad()\n",
    "  output = model(x)\n",
    "  loss = loss_func(output,y_noise)\n",
    "  loss.backward()\n",
    "  optimizer.step()\n",
    "\n",
    "  loss_array.append(loss.item())"
   ]
  },
  {
   "cell_type": "code",
   "execution_count": 41,
   "metadata": {},
   "outputs": [
    {
     "data": {
      "image/png": "[encoded data removed]",
      "text/plain": [
       "<Figure size 640x480 with 1 Axes>"
      ]
     },
     "metadata": {},
     "output_type": "display_data"
    }
   ],
   "source": [
    "with torch.no_grad():\n",
    "  plt.scatter(x, y_noise)\n",
    "  plt.scatter(x, model(x))\n",
    "plt.show()"
   ]
  },
  {
   "cell_type": "code",
   "execution_count": 34,
   "metadata": {},
   "outputs": [
    {
     "data": {
      "text/plain": [
       "[<matplotlib.lines.Line2D at 0x1d7f72ecd60>]"
      ]
     },
     "execution_count": 34,
     "metadata": {},
     "output_type": "execute_result"
    },
    {
     "data": {
      "image/png": "[encoded data removed]",
      "text/plain": [
       "<Figure size 1000x500 with 1 Axes>"
      ]
     },
     "metadata": {},
     "output_type": "display_data"
    }
   ],
   "source": [
    "fig, ax = plt.subplots(figsize = (10, 5))\n",
    "ax.plot(loss_array)"
   ]
  },
  {
   "cell_type": "markdown",
   "metadata": {},
   "source": [
    "## MLP without activation function"
   ]
  },
  {
   "cell_type": "code",
   "execution_count": 35,
   "metadata": {},
   "outputs": [],
   "source": [
    "model = nn.Sequential(\n",
    "    nn.Linear(1,6),\n",
    "    nn.Linear(6,10),\n",
    "    nn.Linear(10,6),\n",
    "    nn.Linear(6,1)\n",
    ")\n",
    "\n",
    "loss_func = nn.L1Loss()\n",
    "optimizer = optim.SGD(model.parameters(), lr=0.0002)\n",
    "\n",
    "loss_array=[]\n",
    "for i in range(num_epoch):\n",
    "  optimizer.zero_grad()\n",
    "  output = model(x)\n",
    "  loss = loss_func(output,y_noise)\n",
    "  loss.backward()\n",
    "  optimizer.step()\n",
    "  loss_array.append(loss.item())"
   ]
  },
  {
   "cell_type": "code",
   "execution_count": 36,
   "metadata": {},
   "outputs": [
    {
     "data": {
      "image/png": "[encoded data removed]",
      "text/plain": [
       "<Figure size 640x480 with 1 Axes>"
      ]
     },
     "metadata": {},
     "output_type": "display_data"
    }
   ],
   "source": [
    "with torch.no_grad():\n",
    "  plt.scatter(x, y_noise)\n",
    "  plt.scatter(x, model(x))\n",
    "plt.show()"
   ]
  },
  {
   "cell_type": "code",
   "execution_count": 37,
   "metadata": {},
   "outputs": [
    {
     "data": {
      "text/plain": [
       "[<matplotlib.lines.Line2D at 0x1d7f7518040>]"
      ]
     },
     "execution_count": 37,
     "metadata": {},
     "output_type": "execute_result"
    },
    {
     "data": {
      "image/png": "[encoded data removed]",
      "text/plain": [
       "<Figure size 1000x500 with 1 Axes>"
      ]
     },
     "metadata": {},
     "output_type": "display_data"
    }
   ],
   "source": [
    "fig, ax = plt.subplots(figsize = (10, 5))\n",
    "ax.plot(loss_array)"
   ]
  },
  {
   "cell_type": "markdown",
   "metadata": {},
   "source": [
    "# Pytorch"
   ]
  },
  {
   "cell_type": "markdown",
   "metadata": {},
   "source": [
    "### Load Dataset"
   ]
  },
  {
   "cell_type": "code",
   "execution_count": 39,
   "metadata": {},
   "outputs": [],
   "source": [
    "data = pd.read_csv('./data/smoking.csv')"
   ]
  },
  {
   "cell_type": "code",
   "execution_count": 40,
   "metadata": {},
   "outputs": [
    {
     "data": {
      "text/html": [
       "<div>\n",
       "<style scoped>\n",
       "    .dataframe tbody tr th:only-of-type {\n",
       "        vertical-align: middle;\n",
       "    }\n",
       "\n",
       "    .dataframe tbody tr th {\n",
       "        vertical-align: top;\n",
       "    }\n",
       "\n",
       "    .dataframe thead th {\n",
       "        text-align: right;\n",
       "    }\n",
       "</style>\n",
       "<table border=\"1\" class=\"dataframe\">\n",
       "  <thead>\n",
       "    <tr style=\"text-align: right;\">\n",
       "      <th></th>\n",
       "      <th>ID</th>\n",
       "      <th>gender</th>\n",
       "      <th>age</th>\n",
       "      <th>height(cm)</th>\n",
       "      <th>weight(kg)</th>\n",
       "      <th>waist(cm)</th>\n",
       "      <th>eyesight(left)</th>\n",
       "      <th>eyesight(right)</th>\n",
       "      <th>hearing(left)</th>\n",
       "      <th>hearing(right)</th>\n",
       "      <th>...</th>\n",
       "      <th>hemoglobin</th>\n",
       "      <th>Urine protein</th>\n",
       "      <th>serum creatinine</th>\n",
       "      <th>AST</th>\n",
       "      <th>ALT</th>\n",
       "      <th>Gtp</th>\n",
       "      <th>oral</th>\n",
       "      <th>dental caries</th>\n",
       "      <th>tartar</th>\n",
       "      <th>smoking</th>\n",
       "    </tr>\n",
       "  </thead>\n",
       "  <tbody>\n",
       "    <tr>\n",
       "      <th>0</th>\n",
       "      <td>0</td>\n",
       "      <td>F</td>\n",
       "      <td>40</td>\n",
       "      <td>155</td>\n",
       "      <td>60</td>\n",
       "      <td>81.3</td>\n",
       "      <td>1.2</td>\n",
       "      <td>1.0</td>\n",
       "      <td>1.0</td>\n",
       "      <td>1.0</td>\n",
       "      <td>...</td>\n",
       "      <td>12.9</td>\n",
       "      <td>1.0</td>\n",
       "      <td>0.7</td>\n",
       "      <td>18.0</td>\n",
       "      <td>19.0</td>\n",
       "      <td>27.0</td>\n",
       "      <td>Y</td>\n",
       "      <td>0</td>\n",
       "      <td>Y</td>\n",
       "      <td>0</td>\n",
       "    </tr>\n",
       "    <tr>\n",
       "      <th>1</th>\n",
       "      <td>1</td>\n",
       "      <td>F</td>\n",
       "      <td>40</td>\n",
       "      <td>160</td>\n",
       "      <td>60</td>\n",
       "      <td>81.0</td>\n",
       "      <td>0.8</td>\n",
       "      <td>0.6</td>\n",
       "      <td>1.0</td>\n",
       "      <td>1.0</td>\n",
       "      <td>...</td>\n",
       "      <td>12.7</td>\n",
       "      <td>1.0</td>\n",
       "      <td>0.6</td>\n",
       "      <td>22.0</td>\n",
       "      <td>19.0</td>\n",
       "      <td>18.0</td>\n",
       "      <td>Y</td>\n",
       "      <td>0</td>\n",
       "      <td>Y</td>\n",
       "      <td>0</td>\n",
       "    </tr>\n",
       "    <tr>\n",
       "      <th>2</th>\n",
       "      <td>2</td>\n",
       "      <td>M</td>\n",
       "      <td>55</td>\n",
       "      <td>170</td>\n",
       "      <td>60</td>\n",
       "      <td>80.0</td>\n",
       "      <td>0.8</td>\n",
       "      <td>0.8</td>\n",
       "      <td>1.0</td>\n",
       "      <td>1.0</td>\n",
       "      <td>...</td>\n",
       "      <td>15.8</td>\n",
       "      <td>1.0</td>\n",
       "      <td>1.0</td>\n",
       "      <td>21.0</td>\n",
       "      <td>16.0</td>\n",
       "      <td>22.0</td>\n",
       "      <td>Y</td>\n",
       "      <td>0</td>\n",
       "      <td>N</td>\n",
       "      <td>1</td>\n",
       "    </tr>\n",
       "  </tbody>\n",
       "</table>\n",
       "<p>3 rows × 27 columns</p>\n",
       "</div>"
      ],
      "text/plain": [
       "   ID gender  age  height(cm)  weight(kg)  waist(cm)  eyesight(left)  \\\n",
       "0   0      F   40         155          60       81.3             1.2   \n",
       "1   1      F   40         160          60       81.0             0.8   \n",
       "2   2      M   55         170          60       80.0             0.8   \n",
       "\n",
       "   eyesight(right)  hearing(left)  hearing(right)  ...  hemoglobin  \\\n",
       "0              1.0            1.0             1.0  ...        12.9   \n",
       "1              0.6            1.0             1.0  ...        12.7   \n",
       "2              0.8            1.0             1.0  ...        15.8   \n",
       "\n",
       "   Urine protein  serum creatinine   AST   ALT   Gtp  oral  dental caries  \\\n",
       "0            1.0               0.7  18.0  19.0  27.0     Y              0   \n",
       "1            1.0               0.6  22.0  19.0  18.0     Y              0   \n",
       "2            1.0               1.0  21.0  16.0  22.0     Y              0   \n",
       "\n",
       "   tartar  smoking  \n",
       "0       Y        0  \n",
       "1       Y        0  \n",
       "2       N        1  \n",
       "\n",
       "[3 rows x 27 columns]"
      ]
     },
     "execution_count": 40,
     "metadata": {},
     "output_type": "execute_result"
    }
   ],
   "source": [
    "data.head(3)"
   ]
  },
  {
   "cell_type": "code",
   "execution_count": 41,
   "metadata": {},
   "outputs": [
    {
     "name": "stdout",
     "output_type": "stream",
     "text": [
      "<class 'pandas.core.frame.DataFrame'>\n",
      "RangeIndex: 55692 entries, 0 to 55691\n",
      "Data columns (total 27 columns):\n",
      " #   Column               Non-Null Count  Dtype  \n",
      "---  ------               --------------  -----  \n",
      " 0   ID                   55692 non-null  int64  \n",
      " 1   gender               55692 non-null  object \n",
      " 2   age                  55692 non-null  int64  \n",
      " 3   height(cm)           55692 non-null  int64  \n",
      " 4   weight(kg)           55692 non-null  int64  \n",
      " 5   waist(cm)            55692 non-null  float64\n",
      " 6   eyesight(left)       55692 non-null  float64\n",
      " 7   eyesight(right)      55692 non-null  float64\n",
      " 8   hearing(left)        55692 non-null  float64\n",
      " 9   hearing(right)       55692 non-null  float64\n",
      " 10  systolic             55692 non-null  float64\n",
      " 11  relaxation           55692 non-null  float64\n",
      " 12  fasting blood sugar  55692 non-null  float64\n",
      " 13  Cholesterol          55692 non-null  float64\n",
      " 14  triglyceride         55692 non-null  float64\n",
      " 15  HDL                  55692 non-null  float64\n",
      " 16  LDL                  55692 non-null  float64\n",
      " 17  hemoglobin           55692 non-null  float64\n",
      " 18  Urine protein        55692 non-null  float64\n",
      " 19  serum creatinine     55692 non-null  float64\n",
      " 20  AST                  55692 non-null  float64\n",
      " 21  ALT                  55692 non-null  float64\n",
      " 22  Gtp                  55692 non-null  float64\n",
      " 23  oral                 55692 non-null  object \n",
      " 24  dental caries        55692 non-null  int64  \n",
      " 25  tartar               55692 non-null  object \n",
      " 26  smoking              55692 non-null  int64  \n",
      "dtypes: float64(18), int64(6), object(3)\n",
      "memory usage: 11.5+ MB\n"
     ]
    }
   ],
   "source": [
    "data.info()"
   ]
  },
  {
   "cell_type": "code",
   "execution_count": 42,
   "metadata": {},
   "outputs": [
    {
     "name": "stdout",
     "output_type": "stream",
     "text": [
      "gender\n",
      "oral\n",
      "tartar\n"
     ]
    }
   ],
   "source": [
    "object_col = []\n",
    "for i, col in enumerate(data.columns):\n",
    "    if data[col].dtype == 'object':\n",
    "        print(col)\n",
    "        object_col.append(col)"
   ]
  },
  {
   "cell_type": "code",
   "execution_count": 43,
   "metadata": {},
   "outputs": [],
   "source": [
    "numeric_data = data.drop(object_col + ['ID'], axis = 1, inplace = False).copy()"
   ]
  },
  {
   "cell_type": "code",
   "execution_count": 83,
   "metadata": {},
   "outputs": [
    {
     "data": {
      "text/html": [
       "<div>\n",
       "<style scoped>\n",
       "    .dataframe tbody tr th:only-of-type {\n",
       "        vertical-align: middle;\n",
       "    }\n",
       "\n",
       "    .dataframe tbody tr th {\n",
       "        vertical-align: top;\n",
       "    }\n",
       "\n",
       "    .dataframe thead th {\n",
       "        text-align: right;\n",
       "    }\n",
       "</style>\n",
       "<table border=\"1\" class=\"dataframe\">\n",
       "  <thead>\n",
       "    <tr style=\"text-align: right;\">\n",
       "      <th></th>\n",
       "      <th>age</th>\n",
       "      <th>height(cm)</th>\n",
       "      <th>weight(kg)</th>\n",
       "      <th>waist(cm)</th>\n",
       "      <th>eyesight(left)</th>\n",
       "      <th>eyesight(right)</th>\n",
       "      <th>hearing(left)</th>\n",
       "      <th>hearing(right)</th>\n",
       "      <th>systolic</th>\n",
       "      <th>relaxation</th>\n",
       "      <th>...</th>\n",
       "      <th>HDL</th>\n",
       "      <th>LDL</th>\n",
       "      <th>hemoglobin</th>\n",
       "      <th>Urine protein</th>\n",
       "      <th>serum creatinine</th>\n",
       "      <th>AST</th>\n",
       "      <th>ALT</th>\n",
       "      <th>Gtp</th>\n",
       "      <th>dental caries</th>\n",
       "      <th>smoking</th>\n",
       "    </tr>\n",
       "  </thead>\n",
       "  <tbody>\n",
       "    <tr>\n",
       "      <th>0</th>\n",
       "      <td>40</td>\n",
       "      <td>155</td>\n",
       "      <td>60</td>\n",
       "      <td>81.3</td>\n",
       "      <td>1.2</td>\n",
       "      <td>1.0</td>\n",
       "      <td>1.0</td>\n",
       "      <td>1.0</td>\n",
       "      <td>114.0</td>\n",
       "      <td>73.0</td>\n",
       "      <td>...</td>\n",
       "      <td>73.0</td>\n",
       "      <td>126.0</td>\n",
       "      <td>12.9</td>\n",
       "      <td>1.0</td>\n",
       "      <td>0.7</td>\n",
       "      <td>18.0</td>\n",
       "      <td>19.0</td>\n",
       "      <td>27.0</td>\n",
       "      <td>0</td>\n",
       "      <td>0</td>\n",
       "    </tr>\n",
       "    <tr>\n",
       "      <th>1</th>\n",
       "      <td>40</td>\n",
       "      <td>160</td>\n",
       "      <td>60</td>\n",
       "      <td>81.0</td>\n",
       "      <td>0.8</td>\n",
       "      <td>0.6</td>\n",
       "      <td>1.0</td>\n",
       "      <td>1.0</td>\n",
       "      <td>119.0</td>\n",
       "      <td>70.0</td>\n",
       "      <td>...</td>\n",
       "      <td>42.0</td>\n",
       "      <td>127.0</td>\n",
       "      <td>12.7</td>\n",
       "      <td>1.0</td>\n",
       "      <td>0.6</td>\n",
       "      <td>22.0</td>\n",
       "      <td>19.0</td>\n",
       "      <td>18.0</td>\n",
       "      <td>0</td>\n",
       "      <td>0</td>\n",
       "    </tr>\n",
       "    <tr>\n",
       "      <th>2</th>\n",
       "      <td>55</td>\n",
       "      <td>170</td>\n",
       "      <td>60</td>\n",
       "      <td>80.0</td>\n",
       "      <td>0.8</td>\n",
       "      <td>0.8</td>\n",
       "      <td>1.0</td>\n",
       "      <td>1.0</td>\n",
       "      <td>138.0</td>\n",
       "      <td>86.0</td>\n",
       "      <td>...</td>\n",
       "      <td>55.0</td>\n",
       "      <td>151.0</td>\n",
       "      <td>15.8</td>\n",
       "      <td>1.0</td>\n",
       "      <td>1.0</td>\n",
       "      <td>21.0</td>\n",
       "      <td>16.0</td>\n",
       "      <td>22.0</td>\n",
       "      <td>0</td>\n",
       "      <td>1</td>\n",
       "    </tr>\n",
       "    <tr>\n",
       "      <th>3</th>\n",
       "      <td>40</td>\n",
       "      <td>165</td>\n",
       "      <td>70</td>\n",
       "      <td>88.0</td>\n",
       "      <td>1.5</td>\n",
       "      <td>1.5</td>\n",
       "      <td>1.0</td>\n",
       "      <td>1.0</td>\n",
       "      <td>100.0</td>\n",
       "      <td>60.0</td>\n",
       "      <td>...</td>\n",
       "      <td>45.0</td>\n",
       "      <td>226.0</td>\n",
       "      <td>14.7</td>\n",
       "      <td>1.0</td>\n",
       "      <td>1.0</td>\n",
       "      <td>19.0</td>\n",
       "      <td>26.0</td>\n",
       "      <td>18.0</td>\n",
       "      <td>0</td>\n",
       "      <td>0</td>\n",
       "    </tr>\n",
       "    <tr>\n",
       "      <th>4</th>\n",
       "      <td>40</td>\n",
       "      <td>155</td>\n",
       "      <td>60</td>\n",
       "      <td>86.0</td>\n",
       "      <td>1.0</td>\n",
       "      <td>1.0</td>\n",
       "      <td>1.0</td>\n",
       "      <td>1.0</td>\n",
       "      <td>120.0</td>\n",
       "      <td>74.0</td>\n",
       "      <td>...</td>\n",
       "      <td>62.0</td>\n",
       "      <td>107.0</td>\n",
       "      <td>12.5</td>\n",
       "      <td>1.0</td>\n",
       "      <td>0.6</td>\n",
       "      <td>16.0</td>\n",
       "      <td>14.0</td>\n",
       "      <td>22.0</td>\n",
       "      <td>0</td>\n",
       "      <td>0</td>\n",
       "    </tr>\n",
       "    <tr>\n",
       "      <th>...</th>\n",
       "      <td>...</td>\n",
       "      <td>...</td>\n",
       "      <td>...</td>\n",
       "      <td>...</td>\n",
       "      <td>...</td>\n",
       "      <td>...</td>\n",
       "      <td>...</td>\n",
       "      <td>...</td>\n",
       "      <td>...</td>\n",
       "      <td>...</td>\n",
       "      <td>...</td>\n",
       "      <td>...</td>\n",
       "      <td>...</td>\n",
       "      <td>...</td>\n",
       "      <td>...</td>\n",
       "      <td>...</td>\n",
       "      <td>...</td>\n",
       "      <td>...</td>\n",
       "      <td>...</td>\n",
       "      <td>...</td>\n",
       "      <td>...</td>\n",
       "    </tr>\n",
       "    <tr>\n",
       "      <th>55687</th>\n",
       "      <td>40</td>\n",
       "      <td>170</td>\n",
       "      <td>65</td>\n",
       "      <td>75.0</td>\n",
       "      <td>0.9</td>\n",
       "      <td>0.9</td>\n",
       "      <td>1.0</td>\n",
       "      <td>1.0</td>\n",
       "      <td>110.0</td>\n",
       "      <td>68.0</td>\n",
       "      <td>...</td>\n",
       "      <td>75.0</td>\n",
       "      <td>118.0</td>\n",
       "      <td>12.3</td>\n",
       "      <td>1.0</td>\n",
       "      <td>0.6</td>\n",
       "      <td>14.0</td>\n",
       "      <td>7.0</td>\n",
       "      <td>10.0</td>\n",
       "      <td>1</td>\n",
       "      <td>0</td>\n",
       "    </tr>\n",
       "    <tr>\n",
       "      <th>55688</th>\n",
       "      <td>45</td>\n",
       "      <td>160</td>\n",
       "      <td>50</td>\n",
       "      <td>70.0</td>\n",
       "      <td>1.2</td>\n",
       "      <td>1.2</td>\n",
       "      <td>1.0</td>\n",
       "      <td>1.0</td>\n",
       "      <td>101.0</td>\n",
       "      <td>62.0</td>\n",
       "      <td>...</td>\n",
       "      <td>73.0</td>\n",
       "      <td>79.0</td>\n",
       "      <td>14.0</td>\n",
       "      <td>1.0</td>\n",
       "      <td>0.9</td>\n",
       "      <td>20.0</td>\n",
       "      <td>12.0</td>\n",
       "      <td>14.0</td>\n",
       "      <td>0</td>\n",
       "      <td>0</td>\n",
       "    </tr>\n",
       "    <tr>\n",
       "      <th>55689</th>\n",
       "      <td>55</td>\n",
       "      <td>160</td>\n",
       "      <td>50</td>\n",
       "      <td>68.5</td>\n",
       "      <td>1.0</td>\n",
       "      <td>1.2</td>\n",
       "      <td>1.0</td>\n",
       "      <td>1.0</td>\n",
       "      <td>117.0</td>\n",
       "      <td>72.0</td>\n",
       "      <td>...</td>\n",
       "      <td>79.0</td>\n",
       "      <td>63.0</td>\n",
       "      <td>12.4</td>\n",
       "      <td>1.0</td>\n",
       "      <td>0.5</td>\n",
       "      <td>17.0</td>\n",
       "      <td>11.0</td>\n",
       "      <td>12.0</td>\n",
       "      <td>0</td>\n",
       "      <td>0</td>\n",
       "    </tr>\n",
       "    <tr>\n",
       "      <th>55690</th>\n",
       "      <td>60</td>\n",
       "      <td>165</td>\n",
       "      <td>60</td>\n",
       "      <td>78.0</td>\n",
       "      <td>0.8</td>\n",
       "      <td>1.0</td>\n",
       "      <td>1.0</td>\n",
       "      <td>1.0</td>\n",
       "      <td>133.0</td>\n",
       "      <td>76.0</td>\n",
       "      <td>...</td>\n",
       "      <td>48.0</td>\n",
       "      <td>146.0</td>\n",
       "      <td>14.4</td>\n",
       "      <td>1.0</td>\n",
       "      <td>0.7</td>\n",
       "      <td>20.0</td>\n",
       "      <td>19.0</td>\n",
       "      <td>18.0</td>\n",
       "      <td>0</td>\n",
       "      <td>0</td>\n",
       "    </tr>\n",
       "    <tr>\n",
       "      <th>55691</th>\n",
       "      <td>55</td>\n",
       "      <td>160</td>\n",
       "      <td>65</td>\n",
       "      <td>85.0</td>\n",
       "      <td>0.9</td>\n",
       "      <td>0.7</td>\n",
       "      <td>1.0</td>\n",
       "      <td>1.0</td>\n",
       "      <td>124.0</td>\n",
       "      <td>75.0</td>\n",
       "      <td>...</td>\n",
       "      <td>34.0</td>\n",
       "      <td>150.0</td>\n",
       "      <td>15.0</td>\n",
       "      <td>1.0</td>\n",
       "      <td>0.8</td>\n",
       "      <td>26.0</td>\n",
       "      <td>29.0</td>\n",
       "      <td>41.0</td>\n",
       "      <td>0</td>\n",
       "      <td>1</td>\n",
       "    </tr>\n",
       "  </tbody>\n",
       "</table>\n",
       "<p>55692 rows × 23 columns</p>\n",
       "</div>"
      ],
      "text/plain": [
       "       age  height(cm)  weight(kg)  waist(cm)  eyesight(left)  \\\n",
       "0       40         155          60       81.3             1.2   \n",
       "1       40         160          60       81.0             0.8   \n",
       "2       55         170          60       80.0             0.8   \n",
       "3       40         165          70       88.0             1.5   \n",
       "4       40         155          60       86.0             1.0   \n",
       "...    ...         ...         ...        ...             ...   \n",
       "55687   40         170          65       75.0             0.9   \n",
       "55688   45         160          50       70.0             1.2   \n",
       "55689   55         160          50       68.5             1.0   \n",
       "55690   60         165          60       78.0             0.8   \n",
       "55691   55         160          65       85.0             0.9   \n",
       "\n",
       "       eyesight(right)  hearing(left)  hearing(right)  systolic  relaxation  \\\n",
       "0                  1.0            1.0             1.0     114.0        73.0   \n",
       "1                  0.6            1.0             1.0     119.0        70.0   \n",
       "2                  0.8            1.0             1.0     138.0        86.0   \n",
       "3                  1.5            1.0             1.0     100.0        60.0   \n",
       "4                  1.0            1.0             1.0     120.0        74.0   \n",
       "...                ...            ...             ...       ...         ...   \n",
       "55687              0.9            1.0             1.0     110.0        68.0   \n",
       "55688              1.2            1.0             1.0     101.0        62.0   \n",
       "55689              1.2            1.0             1.0     117.0        72.0   \n",
       "55690              1.0            1.0             1.0     133.0        76.0   \n",
       "55691              0.7            1.0             1.0     124.0        75.0   \n",
       "\n",
       "       ...   HDL    LDL  hemoglobin  Urine protein  serum creatinine   AST  \\\n",
       "0      ...  73.0  126.0        12.9            1.0               0.7  18.0   \n",
       "1      ...  42.0  127.0        12.7            1.0               0.6  22.0   \n",
       "2      ...  55.0  151.0        15.8            1.0               1.0  21.0   \n",
       "3      ...  45.0  226.0        14.7            1.0               1.0  19.0   \n",
       "4      ...  62.0  107.0        12.5            1.0               0.6  16.0   \n",
       "...    ...   ...    ...         ...            ...               ...   ...   \n",
       "55687  ...  75.0  118.0        12.3            1.0               0.6  14.0   \n",
       "55688  ...  73.0   79.0        14.0            1.0               0.9  20.0   \n",
       "55689  ...  79.0   63.0        12.4            1.0               0.5  17.0   \n",
       "55690  ...  48.0  146.0        14.4            1.0               0.7  20.0   \n",
       "55691  ...  34.0  150.0        15.0            1.0               0.8  26.0   \n",
       "\n",
       "        ALT   Gtp  dental caries  smoking  \n",
       "0      19.0  27.0              0        0  \n",
       "1      19.0  18.0              0        0  \n",
       "2      16.0  22.0              0        1  \n",
       "3      26.0  18.0              0        0  \n",
       "4      14.0  22.0              0        0  \n",
       "...     ...   ...            ...      ...  \n",
       "55687   7.0  10.0              1        0  \n",
       "55688  12.0  14.0              0        0  \n",
       "55689  11.0  12.0              0        0  \n",
       "55690  19.0  18.0              0        0  \n",
       "55691  29.0  41.0              0        1  \n",
       "\n",
       "[55692 rows x 23 columns]"
      ]
     },
     "execution_count": 83,
     "metadata": {},
     "output_type": "execute_result"
    }
   ],
   "source": [
    "numeric_data"
   ]
  },
  {
   "cell_type": "code",
   "execution_count": 45,
   "metadata": {},
   "outputs": [],
   "source": [
    "X = numeric_data.drop('smoking', axis = 1, inplace = False).copy()\n",
    "Y = numeric_data['smoking'].copy()"
   ]
  },
  {
   "cell_type": "code",
   "execution_count": 46,
   "metadata": {},
   "outputs": [
    {
     "name": "stdout",
     "output_type": "stream",
     "text": [
      "(55692, 22)\n",
      "(55692,)\n"
     ]
    }
   ],
   "source": [
    "print(X.shape)\n",
    "print(Y.shape)"
   ]
  },
  {
   "cell_type": "code",
   "execution_count": 47,
   "metadata": {},
   "outputs": [],
   "source": [
    "from sklearn.model_selection import train_test_split\n",
    "\n",
    "train_X, test_X, train_Y, test_Y = train_test_split(X, Y, test_size = 0.4, shuffle = True, random_state = 3132)"
   ]
  },
  {
   "cell_type": "code",
   "execution_count": 48,
   "metadata": {},
   "outputs": [
    {
     "name": "stdout",
     "output_type": "stream",
     "text": [
      "(33415, 22)\n",
      "(33415,)\n",
      "(22277, 22)\n",
      "(22277,)\n"
     ]
    }
   ],
   "source": [
    "print(train_X.shape)\n",
    "print(train_Y.shape)\n",
    "print(test_X.shape)\n",
    "print(test_Y.shape)"
   ]
  },
  {
   "cell_type": "code",
   "execution_count": 49,
   "metadata": {},
   "outputs": [
    {
     "data": {
      "text/html": [
       "<div>\n",
       "<style scoped>\n",
       "    .dataframe tbody tr th:only-of-type {\n",
       "        vertical-align: middle;\n",
       "    }\n",
       "\n",
       "    .dataframe tbody tr th {\n",
       "        vertical-align: top;\n",
       "    }\n",
       "\n",
       "    .dataframe thead th {\n",
       "        text-align: right;\n",
       "    }\n",
       "</style>\n",
       "<table border=\"1\" class=\"dataframe\">\n",
       "  <thead>\n",
       "    <tr style=\"text-align: right;\">\n",
       "      <th></th>\n",
       "      <th>age</th>\n",
       "      <th>height(cm)</th>\n",
       "      <th>weight(kg)</th>\n",
       "      <th>waist(cm)</th>\n",
       "      <th>eyesight(left)</th>\n",
       "      <th>eyesight(right)</th>\n",
       "      <th>hearing(left)</th>\n",
       "      <th>hearing(right)</th>\n",
       "      <th>systolic</th>\n",
       "      <th>relaxation</th>\n",
       "      <th>...</th>\n",
       "      <th>triglyceride</th>\n",
       "      <th>HDL</th>\n",
       "      <th>LDL</th>\n",
       "      <th>hemoglobin</th>\n",
       "      <th>Urine protein</th>\n",
       "      <th>serum creatinine</th>\n",
       "      <th>AST</th>\n",
       "      <th>ALT</th>\n",
       "      <th>Gtp</th>\n",
       "      <th>dental caries</th>\n",
       "    </tr>\n",
       "  </thead>\n",
       "  <tbody>\n",
       "    <tr>\n",
       "      <th>46581</th>\n",
       "      <td>40</td>\n",
       "      <td>150</td>\n",
       "      <td>80</td>\n",
       "      <td>98.0</td>\n",
       "      <td>0.7</td>\n",
       "      <td>0.8</td>\n",
       "      <td>1.0</td>\n",
       "      <td>1.0</td>\n",
       "      <td>106.0</td>\n",
       "      <td>77.0</td>\n",
       "      <td>...</td>\n",
       "      <td>346.0</td>\n",
       "      <td>43.0</td>\n",
       "      <td>50.0</td>\n",
       "      <td>13.7</td>\n",
       "      <td>1.0</td>\n",
       "      <td>0.8</td>\n",
       "      <td>20.0</td>\n",
       "      <td>22.0</td>\n",
       "      <td>31.0</td>\n",
       "      <td>0</td>\n",
       "    </tr>\n",
       "    <tr>\n",
       "      <th>32200</th>\n",
       "      <td>75</td>\n",
       "      <td>160</td>\n",
       "      <td>65</td>\n",
       "      <td>86.0</td>\n",
       "      <td>0.6</td>\n",
       "      <td>0.8</td>\n",
       "      <td>1.0</td>\n",
       "      <td>1.0</td>\n",
       "      <td>121.0</td>\n",
       "      <td>69.0</td>\n",
       "      <td>...</td>\n",
       "      <td>141.0</td>\n",
       "      <td>51.0</td>\n",
       "      <td>81.0</td>\n",
       "      <td>13.6</td>\n",
       "      <td>1.0</td>\n",
       "      <td>0.7</td>\n",
       "      <td>16.0</td>\n",
       "      <td>12.0</td>\n",
       "      <td>19.0</td>\n",
       "      <td>0</td>\n",
       "    </tr>\n",
       "    <tr>\n",
       "      <th>45021</th>\n",
       "      <td>55</td>\n",
       "      <td>170</td>\n",
       "      <td>65</td>\n",
       "      <td>81.0</td>\n",
       "      <td>1.0</td>\n",
       "      <td>0.9</td>\n",
       "      <td>1.0</td>\n",
       "      <td>1.0</td>\n",
       "      <td>127.0</td>\n",
       "      <td>76.0</td>\n",
       "      <td>...</td>\n",
       "      <td>236.0</td>\n",
       "      <td>44.0</td>\n",
       "      <td>68.0</td>\n",
       "      <td>15.1</td>\n",
       "      <td>1.0</td>\n",
       "      <td>0.9</td>\n",
       "      <td>28.0</td>\n",
       "      <td>23.0</td>\n",
       "      <td>41.0</td>\n",
       "      <td>0</td>\n",
       "    </tr>\n",
       "  </tbody>\n",
       "</table>\n",
       "<p>3 rows × 22 columns</p>\n",
       "</div>"
      ],
      "text/plain": [
       "       age  height(cm)  weight(kg)  waist(cm)  eyesight(left)  \\\n",
       "46581   40         150          80       98.0             0.7   \n",
       "32200   75         160          65       86.0             0.6   \n",
       "45021   55         170          65       81.0             1.0   \n",
       "\n",
       "       eyesight(right)  hearing(left)  hearing(right)  systolic  relaxation  \\\n",
       "46581              0.8            1.0             1.0     106.0        77.0   \n",
       "32200              0.8            1.0             1.0     121.0        69.0   \n",
       "45021              0.9            1.0             1.0     127.0        76.0   \n",
       "\n",
       "       ...  triglyceride   HDL   LDL  hemoglobin  Urine protein  \\\n",
       "46581  ...         346.0  43.0  50.0        13.7            1.0   \n",
       "32200  ...         141.0  51.0  81.0        13.6            1.0   \n",
       "45021  ...         236.0  44.0  68.0        15.1            1.0   \n",
       "\n",
       "       serum creatinine   AST   ALT   Gtp  dental caries  \n",
       "46581               0.8  20.0  22.0  31.0              0  \n",
       "32200               0.7  16.0  12.0  19.0              0  \n",
       "45021               0.9  28.0  23.0  41.0              0  \n",
       "\n",
       "[3 rows x 22 columns]"
      ]
     },
     "execution_count": 49,
     "metadata": {},
     "output_type": "execute_result"
    }
   ],
   "source": [
    "train_X.head(3)"
   ]
  },
  {
   "cell_type": "code",
   "execution_count": 50,
   "metadata": {},
   "outputs": [
    {
     "data": {
      "text/plain": [
       "46581    1\n",
       "32200    0\n",
       "45021    0\n",
       "8048     1\n",
       "41832    1\n",
       "        ..\n",
       "410      0\n",
       "33109    0\n",
       "29947    0\n",
       "33632    0\n",
       "36883    0\n",
       "Name: smoking, Length: 33415, dtype: int64"
      ]
     },
     "execution_count": 50,
     "metadata": {},
     "output_type": "execute_result"
    }
   ],
   "source": [
    "train_Y"
   ]
  },
  {
   "cell_type": "markdown",
   "metadata": {},
   "source": [
    "## Scaling Data"
   ]
  },
  {
   "cell_type": "code",
   "execution_count": 51,
   "metadata": {},
   "outputs": [],
   "source": [
    "from sklearn.preprocessing import MinMaxScaler\n",
    "\n",
    "mms = MinMaxScaler()\n",
    "mms.fit(train_X)\n",
    "train_X = mms.transform(train_X)\n",
    "test_X = mms.transform(test_X)"
   ]
  },
  {
   "cell_type": "code",
   "execution_count": 53,
   "metadata": {},
   "outputs": [
    {
     "data": {
      "text/plain": [
       "numpy.ndarray"
      ]
     },
     "execution_count": 53,
     "metadata": {},
     "output_type": "execute_result"
    }
   ],
   "source": [
    "type(train_X)"
   ]
  },
  {
   "cell_type": "code",
   "execution_count": 60,
   "metadata": {},
   "outputs": [
    {
     "data": {
      "text/plain": [
       "numpy.ndarray"
      ]
     },
     "execution_count": 60,
     "metadata": {},
     "output_type": "execute_result"
    }
   ],
   "source": [
    "type(train_Y)"
   ]
  },
  {
   "cell_type": "code",
   "execution_count": 59,
   "metadata": {},
   "outputs": [
    {
     "ename": "AttributeError",
     "evalue": "'numpy.ndarray' object has no attribute 'values'",
     "output_type": "error",
     "traceback": [
      "\u001b[1;31m---------------------------------------------------------------------------\u001b[0m",
      "\u001b[1;31mAttributeError\u001b[0m                            Traceback (most recent call last)",
      "\u001b[1;32m~\\AppData\\Local\\Temp\\ipykernel_17244\\65031668.py\u001b[0m in \u001b[0;36m<module>\u001b[1;34m\u001b[0m\n\u001b[1;32m----> 1\u001b[1;33m \u001b[0mtrain_Y\u001b[0m \u001b[1;33m=\u001b[0m \u001b[0mtrain_Y\u001b[0m\u001b[1;33m.\u001b[0m\u001b[0mvalues\u001b[0m\u001b[1;33m\u001b[0m\u001b[1;33m\u001b[0m\u001b[0m\n\u001b[0m\u001b[0;32m      2\u001b[0m \u001b[0mtest_Y\u001b[0m \u001b[1;33m=\u001b[0m \u001b[0mtest_Y\u001b[0m\u001b[1;33m.\u001b[0m\u001b[0mvalues\u001b[0m\u001b[1;33m\u001b[0m\u001b[1;33m\u001b[0m\u001b[0m\n\u001b[0;32m      3\u001b[0m \u001b[1;33m\u001b[0m\u001b[0m\n\u001b[0;32m      4\u001b[0m \u001b[0mtype\u001b[0m\u001b[1;33m(\u001b[0m\u001b[0mtrain_Y\u001b[0m\u001b[1;33m)\u001b[0m\u001b[1;33m\u001b[0m\u001b[1;33m\u001b[0m\u001b[0m\n",
      "\u001b[1;31mAttributeError\u001b[0m: 'numpy.ndarray' object has no attribute 'values'"
     ]
    }
   ],
   "source": [
    "train_Y = train_Y.values\n",
    "test_Y = test_Y.values\n",
    "\n",
    "type(train_Y)"
   ]
  },
  {
   "cell_type": "markdown",
   "metadata": {},
   "source": [
    "### Torch Dataset setting"
   ]
  },
  {
   "cell_type": "code",
   "execution_count": 61,
   "metadata": {},
   "outputs": [],
   "source": [
    "import torch\n",
    "from torch.utils.data import DataLoader, Dataset\n",
    "\n",
    "class TensorData(Dataset):\n",
    "    def __init__(self, x_data, y_data):\n",
    "        # numpy array 형태의 데이터를 torch Tensor 형태로 변환\n",
    "        self.x_data = torch.FloatTensor(x_data)\n",
    "        self.y_data = torch.FloatTensor(y_data)\n",
    "        self.len = self.y_data.shape[0]\n",
    "\n",
    "    def __getitem__(self, index):\n",
    "        return self.x_data[index], self.y_data[index] \n",
    "\n",
    "    def __len__(self):\n",
    "        return self.len"
   ]
  },
  {
   "cell_type": "code",
   "execution_count": 62,
   "metadata": {},
   "outputs": [],
   "source": [
    "trainsets = TensorData(train_X, train_Y)\n",
    "trainloader = DataLoader(trainsets, batch_size=2048, shuffle=True)\n",
    "\n",
    "testsets = TensorData(test_X, test_Y)\n",
    "testloader = DataLoader(testsets, batch_size=2048, shuffle=False)"
   ]
  },
  {
   "cell_type": "code",
   "execution_count": 63,
   "metadata": {},
   "outputs": [
    {
     "name": "stdout",
     "output_type": "stream",
     "text": [
      "tensor([[0.3846, 0.7500, 0.2857,  ..., 0.0048, 0.0140, 0.0000],\n",
      "        [0.3077, 0.5833, 0.2381,  ..., 0.0048, 0.0090, 1.0000],\n",
      "        [0.3846, 0.6667, 0.3333,  ..., 0.0158, 0.0311, 0.0000],\n",
      "        ...,\n",
      "        [0.5385, 0.4167, 0.2381,  ..., 0.0072, 0.0431, 0.0000],\n",
      "        [0.1538, 0.5833, 0.3810,  ..., 0.0120, 0.0321, 0.0000],\n",
      "        [0.0769, 0.7500, 0.3810,  ..., 0.0113, 0.0491, 0.0000]]) torch.Size([2048, 22])\n",
      "tensor([0., 0., 1.,  ..., 1., 1., 1.]) torch.Size([2048])\n"
     ]
    }
   ],
   "source": [
    "for x, y in trainloader:\n",
    "    print(x, x.shape)\n",
    "    print(y, y.shape)\n",
    "    break"
   ]
  },
  {
   "cell_type": "markdown",
   "metadata": {},
   "source": [
    "## Train Setting"
   ]
  },
  {
   "cell_type": "code",
   "execution_count": 64,
   "metadata": {},
   "outputs": [
    {
     "name": "stdout",
     "output_type": "stream",
     "text": [
      "cpu\n"
     ]
    }
   ],
   "source": [
    "# GPU사용가능여부 확인\n",
    "if torch.cuda.is_available():\n",
    "    DEVICE = 'cuda'\n",
    "else:\n",
    "    DEVICE = 'cpu'\n",
    "print(DEVICE)"
   ]
  },
  {
   "cell_type": "code",
   "execution_count": 65,
   "metadata": {},
   "outputs": [],
   "source": [
    "import random\n",
    "import torch\n",
    "import os\n",
    "\n",
    "# seed 고정함수 정의\n",
    "def seed_everything(seed_value):\n",
    "    random.seed(seed_value)\n",
    "    np.random.seed(seed_value)\n",
    "    torch.manual_seed(seed_value)\n",
    "    os.environ['PYTHONHASHSEED'] = str(seed_value)\n",
    "    \n",
    "    if torch.cuda.is_available(): \n",
    "        torch.cuda.manual_seed(seed_value)\n",
    "        torch.cuda.manual_seed_all(seed_value)\n",
    "        torch.backends.cudnn.deterministic = True\n",
    "        torch.backends.cudnn.benchmark = False"
   ]
  },
  {
   "cell_type": "code",
   "execution_count": 100,
   "metadata": {},
   "outputs": [
    {
     "name": "stdout",
     "output_type": "stream",
     "text": [
      "Collecting torchmetrics\n",
      "  Downloading torchmetrics-1.1.0-py3-none-any.whl (761 kB)\n",
      "     -------------------------------------- 761.3/761.3 kB 6.0 MB/s eta 0:00:00\n",
      "Requirement already satisfied: numpy>1.20.0 in c:\\users\\ljh64\\anaconda3\\lib\\site-packages (from torchmetrics) (1.21.5)\n",
      "Requirement already satisfied: packaging in c:\\users\\ljh64\\anaconda3\\lib\\site-packages (from torchmetrics) (21.3)\n",
      "Collecting lightning-utilities>=0.8.0\n",
      "  Downloading lightning_utilities-0.9.0-py3-none-any.whl (23 kB)\n",
      "Requirement already satisfied: torch>=1.8.1 in c:\\users\\ljh64\\anaconda3\\lib\\site-packages (from torchmetrics) (1.13.1)\n",
      "Requirement already satisfied: typing-extensions in c:\\users\\ljh64\\anaconda3\\lib\\site-packages (from lightning-utilities>=0.8.0->torchmetrics) (4.3.0)\n",
      "Requirement already satisfied: pyparsing!=3.0.5,>=2.0.2 in c:\\users\\ljh64\\anaconda3\\lib\\site-packages (from packaging->torchmetrics) (3.0.9)\n",
      "Installing collected packages: lightning-utilities, torchmetrics\n",
      "Successfully installed lightning-utilities-0.9.0 torchmetrics-1.1.0\n",
      "Note: you may need to restart the kernel to use updated packages.\n"
     ]
    }
   ],
   "source": [
    "pip install torchmetrics"
   ]
  },
  {
   "cell_type": "code",
   "execution_count": 103,
   "metadata": {},
   "outputs": [],
   "source": [
    "from torchmetrics.classification import BinaryF1Score\n",
    "from torchmetrics.classification import BinaryAccuracy\n",
    "\n",
    "def evaluation(dataloader):\n",
    "  predictions = torch.tensor([], dtype=torch.float) # 예측값을 저장하는 텐서.\n",
    "  actual = torch.tensor([], dtype=torch.float) # 실제값을 저장하는 텐서.\n",
    "  \n",
    "  with torch.no_grad():\n",
    "    model.eval() # 평가를 할 땐 반드시 eval()을 사용해야 한다.\n",
    "\n",
    "    for data in dataloader:\n",
    "      inputs, values = data[0], data[1]\n",
    "      \n",
    "      outputs = model(inputs.to(DEVICE))\n",
    "      \n",
    "      predictions = torch.cat((predictions, outputs.cpu()), 0) # cat함수를 통해 예측값을 누적.\n",
    "      actual = torch.cat((actual, values), 0) # cat함수를 통해 실제값을 누적.\n",
    "  \n",
    "  predictions = predictions.reshape(-1, )\n",
    "  \n",
    "  metric_f1 = BinaryF1Score(threshold = 0.5)\n",
    "  f1 = metric_f1(predictions, actual).numpy()\n",
    "  metric_acc = BinaryAccuracy()\n",
    "  acc = metric_acc(predictions, actual).numpy()\n",
    "  \n",
    "  model.train() # 다시 학습할 수 있는 상태로 전환\n",
    "\n",
    "  return acc, f1"
   ]
  },
  {
   "cell_type": "markdown",
   "metadata": {},
   "source": [
    "#### Define Model"
   ]
  },
  {
   "cell_type": "code",
   "execution_count": 75,
   "metadata": {},
   "outputs": [],
   "source": [
    "from torch import nn\n",
    "from torch import optim\n",
    "# 모델 구조 정의\n",
    "class MLP_Classifier(nn.Module):\n",
    "    def __init__(self, num_features):\n",
    "        super().__init__()\n",
    "        self.fc1 = nn.Linear(num_features, 128) \n",
    "        self.fc2 = nn.Linear(128, 64) \n",
    "        self.fc3 = nn.Linear(64, 32) \n",
    "        self.fc4 = nn.Linear(32, 16) \n",
    "        self.fc5 = nn.Linear(16, 8)\n",
    "        self.fc6 = nn.Linear(8, 1)\n",
    "        \n",
    "         \n",
    "        self.dropout = nn.Dropout(0.2)\n",
    "        # self.softplus = nn.Softplus()\n",
    "\n",
    "    def forward(self, x): \n",
    "        x = torch.relu(self.fc1(x))\n",
    "        x = torch.relu(self.fc2(x))\n",
    "        # x = self.dropout(torch.relu(self.fc3(x)))\n",
    "        x = torch.relu(self.fc3(x))\n",
    "        x = torch.relu(self.fc4(x))\n",
    "        x = torch.relu(self.fc5(x))\n",
    "        x = torch.sigmoid(self.fc6(x))\n",
    "      \n",
    "        return x"
   ]
  },
  {
   "cell_type": "code",
   "execution_count": 82,
   "metadata": {},
   "outputs": [
    {
     "data": {
      "text/plain": [
       "<All keys matched successfully>"
      ]
     },
     "execution_count": 82,
     "metadata": {},
     "output_type": "execute_result"
    }
   ],
   "source": [
    "model = MLP_Classifier(num_features = train_X.shape[1])\n",
    "\n",
    "model.load_state_dict(torch.load('./model/MLP_classifier_2/EPOCH_333.pt', map_location=torch.device('cpu')))"
   ]
  },
  {
   "cell_type": "code",
   "execution_count": 80,
   "metadata": {},
   "outputs": [
    {
     "ename": "RuntimeError",
     "evalue": "Error(s) in loading state_dict for Sequential:\n\tMissing key(s) in state_dict: \"0.weight\", \"0.bias\". \n\tUnexpected key(s) in state_dict: \"fc1.weight\", \"fc1.bias\", \"fc2.weight\", \"fc2.bias\", \"fc3.weight\", \"fc3.bias\", \"fc4.weight\", \"fc4.bias\", \"fc5.weight\", \"fc5.bias\", \"fc6.weight\", \"fc6.bias\". ",
     "output_type": "error",
     "traceback": [
      "\u001b[1;31m---------------------------------------------------------------------------\u001b[0m",
      "\u001b[1;31mRuntimeError\u001b[0m                              Traceback (most recent call last)",
      "\u001b[1;32m~\\AppData\\Local\\Temp\\ipykernel_17244\\2457469729.py\u001b[0m in \u001b[0;36m<module>\u001b[1;34m\u001b[0m\n\u001b[1;32m----> 1\u001b[1;33m \u001b[0mperceptron\u001b[0m\u001b[1;33m.\u001b[0m\u001b[0mload_state_dict\u001b[0m\u001b[1;33m(\u001b[0m\u001b[0mtorch\u001b[0m\u001b[1;33m.\u001b[0m\u001b[0mload\u001b[0m\u001b[1;33m(\u001b[0m\u001b[1;34m'./model/MLP_classifier_2/EPOCH_333.pt'\u001b[0m\u001b[1;33m,\u001b[0m \u001b[0mmap_location\u001b[0m\u001b[1;33m=\u001b[0m\u001b[0mtorch\u001b[0m\u001b[1;33m.\u001b[0m\u001b[0mdevice\u001b[0m\u001b[1;33m(\u001b[0m\u001b[1;34m'cpu'\u001b[0m\u001b[1;33m)\u001b[0m\u001b[1;33m)\u001b[0m\u001b[1;33m)\u001b[0m\u001b[1;33m\u001b[0m\u001b[1;33m\u001b[0m\u001b[0m\n\u001b[0m",
      "\u001b[1;32mc:\\Users\\ljh64\\Anaconda3\\lib\\site-packages\\torch\\nn\\modules\\module.py\u001b[0m in \u001b[0;36mload_state_dict\u001b[1;34m(self, state_dict, strict)\u001b[0m\n\u001b[0;32m   2039\u001b[0m \u001b[1;33m\u001b[0m\u001b[0m\n\u001b[0;32m   2040\u001b[0m         \u001b[1;32mif\u001b[0m \u001b[0mlen\u001b[0m\u001b[1;33m(\u001b[0m\u001b[0merror_msgs\u001b[0m\u001b[1;33m)\u001b[0m \u001b[1;33m>\u001b[0m \u001b[1;36m0\u001b[0m\u001b[1;33m:\u001b[0m\u001b[1;33m\u001b[0m\u001b[1;33m\u001b[0m\u001b[0m\n\u001b[1;32m-> 2041\u001b[1;33m             raise RuntimeError('Error(s) in loading state_dict for {}:\\n\\t{}'.format(\n\u001b[0m\u001b[0;32m   2042\u001b[0m                                self.__class__.__name__, \"\\n\\t\".join(error_msgs)))\n\u001b[0;32m   2043\u001b[0m         \u001b[1;32mreturn\u001b[0m \u001b[0m_IncompatibleKeys\u001b[0m\u001b[1;33m(\u001b[0m\u001b[0mmissing_keys\u001b[0m\u001b[1;33m,\u001b[0m \u001b[0munexpected_keys\u001b[0m\u001b[1;33m)\u001b[0m\u001b[1;33m\u001b[0m\u001b[1;33m\u001b[0m\u001b[0m\n",
      "\u001b[1;31mRuntimeError\u001b[0m: Error(s) in loading state_dict for Sequential:\n\tMissing key(s) in state_dict: \"0.weight\", \"0.bias\". \n\tUnexpected key(s) in state_dict: \"fc1.weight\", \"fc1.bias\", \"fc2.weight\", \"fc2.bias\", \"fc3.weight\", \"fc3.bias\", \"fc4.weight\", \"fc4.bias\", \"fc5.weight\", \"fc5.bias\", \"fc6.weight\", \"fc6.bias\". "
     ]
    }
   ],
   "source": [
    "perceptron.load_state_dict(torch.load('./model/MLP_classifier_2/EPOCH_333.pt', map_location=torch.device('cpu')))"
   ]
  },
  {
   "cell_type": "code",
   "execution_count": 79,
   "metadata": {},
   "outputs": [
    {
     "data": {
      "text/plain": [
       "tensor([[0.6856],\n",
       "        [0.0434],\n",
       "        [0.6944],\n",
       "        ...,\n",
       "        [0.0635],\n",
       "        [0.5127],\n",
       "        [0.6126]], grad_fn=<SigmoidBackward0>)"
      ]
     },
     "execution_count": 79,
     "metadata": {},
     "output_type": "execute_result"
    }
   ],
   "source": [
    "model(x)"
   ]
  },
  {
   "cell_type": "code",
   "execution_count": 67,
   "metadata": {},
   "outputs": [],
   "source": [
    "import os\n",
    "\n",
    "experiment_name = 'MLP_classifier_4' # 실험명 지정\n",
    "os.makedirs('./model/{0}'.format(experiment_name)) # 해당 이름으로 학습 기록용 폴더 생성"
   ]
  },
  {
   "cell_type": "code",
   "execution_count": 104,
   "metadata": {},
   "outputs": [],
   "source": [
    "seed = 32\n",
    "seed_everything(seed)\n",
    "\n",
    "model = MLP_Classifier(num_features = train_X.shape[1]) # 모델 할당\n",
    "model.to(DEVICE) # gpu/cpu에 모델 올리기\n",
    "criterion = nn.BCELoss().to(DEVICE)\n",
    "\n",
    "optimizer = optim.Adam(model.parameters(), lr=0.0001)"
   ]
  },
  {
   "cell_type": "code",
   "execution_count": 108,
   "metadata": {},
   "outputs": [
    {
     "name": "stdout",
     "output_type": "stream",
     "text": [
      "-----Epoch: 0\n",
      "Train Loss: 0.709\tTrain Acc: 0.369\tTrain F1: 0.539\n",
      "test Loss: 0.470\ttest Acc: 0.365\ttest F1: 0.535\n",
      "-----Epoch: 10\n",
      "Train Loss: 0.545\tTrain Acc: 0.705\tTrain F1: 0.591\n",
      "test Loss: 0.360\ttest Acc: 0.702\ttest F1: 0.588\n",
      "-----Epoch: 20\n",
      "Train Loss: 0.504\tTrain Acc: 0.726\tTrain F1: 0.626\n",
      "test Loss: 0.337\ttest Acc: 0.722\ttest F1: 0.620\n",
      "-----Epoch: 30\n",
      "Train Loss: 0.496\tTrain Acc: 0.732\tTrain F1: 0.656\n",
      "test Loss: 0.333\ttest Acc: 0.730\ttest F1: 0.653\n",
      "-----Epoch: 40\n",
      "Train Loss: 0.491\tTrain Acc: 0.733\tTrain F1: 0.627\n",
      "test Loss: 0.331\ttest Acc: 0.732\ttest F1: 0.623\n",
      "-----Epoch: 50\n",
      "Train Loss: 0.489\tTrain Acc: 0.737\tTrain F1: 0.638\n",
      "test Loss: 0.330\ttest Acc: 0.733\ttest F1: 0.632\n",
      "-----Epoch: 60\n",
      "Train Loss: 0.489\tTrain Acc: 0.738\tTrain F1: 0.650\n",
      "test Loss: 0.329\ttest Acc: 0.735\ttest F1: 0.647\n",
      "-----Epoch: 70\n",
      "Train Loss: 0.488\tTrain Acc: 0.738\tTrain F1: 0.653\n",
      "test Loss: 0.329\ttest Acc: 0.735\ttest F1: 0.648\n",
      "-----Epoch: 80\n",
      "Train Loss: 0.486\tTrain Acc: 0.739\tTrain F1: 0.651\n",
      "test Loss: 0.328\ttest Acc: 0.736\ttest F1: 0.648\n",
      "-----Epoch: 90\n",
      "Train Loss: 0.487\tTrain Acc: 0.738\tTrain F1: 0.663\n",
      "test Loss: 0.328\ttest Acc: 0.735\ttest F1: 0.659\n",
      "-----Epoch: 100\n",
      "Train Loss: 0.485\tTrain Acc: 0.740\tTrain F1: 0.654\n",
      "test Loss: 0.328\ttest Acc: 0.737\ttest F1: 0.650\n",
      "-----Epoch: 110\n",
      "Train Loss: 0.484\tTrain Acc: 0.740\tTrain F1: 0.646\n",
      "test Loss: 0.328\ttest Acc: 0.738\ttest F1: 0.643\n",
      "-----Epoch: 120\n",
      "Train Loss: 0.485\tTrain Acc: 0.741\tTrain F1: 0.659\n",
      "test Loss: 0.327\ttest Acc: 0.737\ttest F1: 0.653\n",
      "-----Epoch: 130\n",
      "Train Loss: 0.484\tTrain Acc: 0.742\tTrain F1: 0.656\n",
      "test Loss: 0.327\ttest Acc: 0.738\ttest F1: 0.650\n",
      "-----Epoch: 140\n",
      "Train Loss: 0.484\tTrain Acc: 0.742\tTrain F1: 0.645\n",
      "test Loss: 0.327\ttest Acc: 0.740\ttest F1: 0.641\n",
      "-----Epoch: 150\n",
      "Train Loss: 0.484\tTrain Acc: 0.744\tTrain F1: 0.657\n",
      "test Loss: 0.326\ttest Acc: 0.738\ttest F1: 0.649\n",
      "-----Epoch: 160\n",
      "Train Loss: 0.482\tTrain Acc: 0.744\tTrain F1: 0.656\n",
      "test Loss: 0.326\ttest Acc: 0.739\ttest F1: 0.649\n",
      "-----Epoch: 170\n",
      "Train Loss: 0.481\tTrain Acc: 0.744\tTrain F1: 0.651\n",
      "test Loss: 0.326\ttest Acc: 0.740\ttest F1: 0.644\n",
      "-----Epoch: 180\n",
      "Train Loss: 0.481\tTrain Acc: 0.746\tTrain F1: 0.657\n",
      "test Loss: 0.326\ttest Acc: 0.741\ttest F1: 0.649\n",
      "-----Epoch: 190\n",
      "Train Loss: 0.481\tTrain Acc: 0.746\tTrain F1: 0.669\n",
      "test Loss: 0.326\ttest Acc: 0.741\ttest F1: 0.663\n",
      "-----Epoch: 200\n",
      "Train Loss: 0.479\tTrain Acc: 0.746\tTrain F1: 0.667\n",
      "test Loss: 0.325\ttest Acc: 0.741\ttest F1: 0.660\n",
      "-----Epoch: 210\n",
      "Train Loss: 0.479\tTrain Acc: 0.748\tTrain F1: 0.656\n",
      "test Loss: 0.325\ttest Acc: 0.743\ttest F1: 0.648\n",
      "-----Epoch: 220\n",
      "Train Loss: 0.478\tTrain Acc: 0.748\tTrain F1: 0.660\n",
      "test Loss: 0.324\ttest Acc: 0.743\ttest F1: 0.652\n",
      "-----Epoch: 230\n",
      "Train Loss: 0.477\tTrain Acc: 0.748\tTrain F1: 0.655\n",
      "test Loss: 0.324\ttest Acc: 0.742\ttest F1: 0.645\n",
      "-----Epoch: 240\n",
      "Train Loss: 0.476\tTrain Acc: 0.749\tTrain F1: 0.664\n",
      "test Loss: 0.324\ttest Acc: 0.743\ttest F1: 0.656\n",
      "-----Epoch: 250\n",
      "Train Loss: 0.476\tTrain Acc: 0.750\tTrain F1: 0.660\n",
      "test Loss: 0.323\ttest Acc: 0.744\ttest F1: 0.650\n",
      "-----Epoch: 260\n",
      "Train Loss: 0.475\tTrain Acc: 0.751\tTrain F1: 0.658\n",
      "test Loss: 0.323\ttest Acc: 0.744\ttest F1: 0.647\n",
      "-----Epoch: 270\n",
      "Train Loss: 0.475\tTrain Acc: 0.750\tTrain F1: 0.675\n",
      "test Loss: 0.324\ttest Acc: 0.743\ttest F1: 0.665\n",
      "-----Epoch: 280\n",
      "Train Loss: 0.474\tTrain Acc: 0.753\tTrain F1: 0.661\n",
      "test Loss: 0.323\ttest Acc: 0.744\ttest F1: 0.647\n",
      "-----Epoch: 290\n",
      "Train Loss: 0.474\tTrain Acc: 0.753\tTrain F1: 0.668\n",
      "test Loss: 0.323\ttest Acc: 0.744\ttest F1: 0.654\n",
      "-----Epoch: 300\n",
      "Train Loss: 0.473\tTrain Acc: 0.755\tTrain F1: 0.670\n",
      "test Loss: 0.322\ttest Acc: 0.745\ttest F1: 0.656\n",
      "-----Epoch: 310\n",
      "Train Loss: 0.473\tTrain Acc: 0.755\tTrain F1: 0.667\n",
      "test Loss: 0.322\ttest Acc: 0.744\ttest F1: 0.651\n",
      "-----Epoch: 320\n",
      "Train Loss: 0.471\tTrain Acc: 0.754\tTrain F1: 0.678\n",
      "test Loss: 0.323\ttest Acc: 0.745\ttest F1: 0.665\n",
      "-----Epoch: 330\n",
      "Train Loss: 0.470\tTrain Acc: 0.755\tTrain F1: 0.673\n",
      "test Loss: 0.322\ttest Acc: 0.746\ttest F1: 0.661\n",
      "-----Epoch: 340\n",
      "Train Loss: 0.470\tTrain Acc: 0.756\tTrain F1: 0.680\n",
      "test Loss: 0.322\ttest Acc: 0.744\ttest F1: 0.665\n",
      "-----Epoch: 350\n",
      "Train Loss: 0.470\tTrain Acc: 0.756\tTrain F1: 0.671\n",
      "test Loss: 0.322\ttest Acc: 0.745\ttest F1: 0.655\n",
      "-----Epoch: 360\n",
      "Train Loss: 0.469\tTrain Acc: 0.757\tTrain F1: 0.662\n",
      "test Loss: 0.322\ttest Acc: 0.745\ttest F1: 0.644\n",
      "-----Epoch: 370\n",
      "Train Loss: 0.469\tTrain Acc: 0.758\tTrain F1: 0.675\n",
      "test Loss: 0.321\ttest Acc: 0.746\ttest F1: 0.658\n",
      "-----Epoch: 380\n",
      "Train Loss: 0.468\tTrain Acc: 0.758\tTrain F1: 0.663\n",
      "test Loss: 0.321\ttest Acc: 0.745\ttest F1: 0.644\n",
      "-----Epoch: 390\n",
      "Train Loss: 0.469\tTrain Acc: 0.758\tTrain F1: 0.676\n",
      "test Loss: 0.321\ttest Acc: 0.746\ttest F1: 0.658\n",
      "-----Epoch: 400\n",
      "Train Loss: 0.468\tTrain Acc: 0.758\tTrain F1: 0.681\n",
      "test Loss: 0.321\ttest Acc: 0.744\ttest F1: 0.662\n",
      "-----Epoch: 410\n",
      "Train Loss: 0.467\tTrain Acc: 0.758\tTrain F1: 0.669\n",
      "test Loss: 0.321\ttest Acc: 0.747\ttest F1: 0.652\n",
      "-----Epoch: 420\n",
      "Train Loss: 0.466\tTrain Acc: 0.756\tTrain F1: 0.645\n",
      "test Loss: 0.322\ttest Acc: 0.744\ttest F1: 0.626\n",
      "-----Epoch: 430\n",
      "Train Loss: 0.466\tTrain Acc: 0.758\tTrain F1: 0.670\n",
      "test Loss: 0.321\ttest Acc: 0.747\ttest F1: 0.652\n",
      "-----Epoch: 440\n",
      "Train Loss: 0.467\tTrain Acc: 0.760\tTrain F1: 0.662\n",
      "test Loss: 0.321\ttest Acc: 0.746\ttest F1: 0.642\n",
      "-----Epoch: 450\n",
      "Train Loss: 0.466\tTrain Acc: 0.759\tTrain F1: 0.666\n",
      "test Loss: 0.321\ttest Acc: 0.748\ttest F1: 0.648\n",
      "-----Epoch: 460\n",
      "Train Loss: 0.466\tTrain Acc: 0.760\tTrain F1: 0.682\n",
      "test Loss: 0.321\ttest Acc: 0.745\ttest F1: 0.662\n",
      "-----Epoch: 470\n",
      "Train Loss: 0.465\tTrain Acc: 0.760\tTrain F1: 0.683\n",
      "test Loss: 0.321\ttest Acc: 0.745\ttest F1: 0.662\n",
      "-----Epoch: 480\n",
      "Train Loss: 0.464\tTrain Acc: 0.760\tTrain F1: 0.664\n",
      "test Loss: 0.321\ttest Acc: 0.747\ttest F1: 0.644\n",
      "-----Epoch: 490\n",
      "Train Loss: 0.464\tTrain Acc: 0.760\tTrain F1: 0.661\n",
      "test Loss: 0.321\ttest Acc: 0.746\ttest F1: 0.638\n",
      "-----Epoch: 500\n",
      "Train Loss: 0.464\tTrain Acc: 0.760\tTrain F1: 0.663\n",
      "test Loss: 0.321\ttest Acc: 0.747\ttest F1: 0.642\n",
      "-----Epoch: 510\n",
      "Train Loss: 0.463\tTrain Acc: 0.761\tTrain F1: 0.683\n",
      "test Loss: 0.321\ttest Acc: 0.746\ttest F1: 0.661\n",
      "-----Epoch: 520\n",
      "Train Loss: 0.463\tTrain Acc: 0.759\tTrain F1: 0.651\n",
      "test Loss: 0.322\ttest Acc: 0.744\ttest F1: 0.629\n",
      "-----Epoch: 530\n",
      "Train Loss: 0.462\tTrain Acc: 0.761\tTrain F1: 0.672\n",
      "test Loss: 0.320\ttest Acc: 0.746\ttest F1: 0.649\n",
      "-----Epoch: 540\n",
      "Train Loss: 0.462\tTrain Acc: 0.761\tTrain F1: 0.676\n",
      "test Loss: 0.320\ttest Acc: 0.746\ttest F1: 0.655\n",
      "-----Epoch: 550\n",
      "Train Loss: 0.462\tTrain Acc: 0.761\tTrain F1: 0.671\n",
      "test Loss: 0.320\ttest Acc: 0.746\ttest F1: 0.648\n",
      "-----Epoch: 560\n",
      "Train Loss: 0.462\tTrain Acc: 0.760\tTrain F1: 0.649\n",
      "test Loss: 0.321\ttest Acc: 0.743\ttest F1: 0.624\n",
      "-----Epoch: 570\n",
      "Train Loss: 0.461\tTrain Acc: 0.761\tTrain F1: 0.674\n",
      "test Loss: 0.320\ttest Acc: 0.747\ttest F1: 0.653\n",
      "-----Epoch: 580\n",
      "Train Loss: 0.461\tTrain Acc: 0.761\tTrain F1: 0.672\n",
      "test Loss: 0.320\ttest Acc: 0.747\ttest F1: 0.650\n",
      "-----Epoch: 590\n",
      "Train Loss: 0.460\tTrain Acc: 0.762\tTrain F1: 0.687\n",
      "test Loss: 0.321\ttest Acc: 0.747\ttest F1: 0.666\n",
      "-----Epoch: 600\n",
      "Train Loss: 0.460\tTrain Acc: 0.764\tTrain F1: 0.683\n",
      "test Loss: 0.320\ttest Acc: 0.747\ttest F1: 0.658\n",
      "-----Epoch: 610\n",
      "Train Loss: 0.459\tTrain Acc: 0.763\tTrain F1: 0.689\n",
      "test Loss: 0.321\ttest Acc: 0.746\ttest F1: 0.663\n",
      "-----Epoch: 620\n",
      "Train Loss: 0.459\tTrain Acc: 0.763\tTrain F1: 0.681\n",
      "test Loss: 0.320\ttest Acc: 0.747\ttest F1: 0.657\n",
      "-----Epoch: 630\n",
      "Train Loss: 0.459\tTrain Acc: 0.764\tTrain F1: 0.687\n",
      "test Loss: 0.320\ttest Acc: 0.747\ttest F1: 0.661\n",
      "-----Epoch: 640\n",
      "Train Loss: 0.459\tTrain Acc: 0.764\tTrain F1: 0.691\n",
      "test Loss: 0.321\ttest Acc: 0.744\ttest F1: 0.663\n",
      "-----Epoch: 650\n",
      "Train Loss: 0.459\tTrain Acc: 0.763\tTrain F1: 0.698\n",
      "test Loss: 0.322\ttest Acc: 0.744\ttest F1: 0.671\n",
      "-----Epoch: 660\n",
      "Train Loss: 0.459\tTrain Acc: 0.763\tTrain F1: 0.695\n",
      "test Loss: 0.321\ttest Acc: 0.743\ttest F1: 0.668\n",
      "-----Epoch: 670\n",
      "Train Loss: 0.458\tTrain Acc: 0.764\tTrain F1: 0.678\n",
      "test Loss: 0.320\ttest Acc: 0.746\ttest F1: 0.652\n",
      "-----Epoch: 680\n",
      "Train Loss: 0.458\tTrain Acc: 0.766\tTrain F1: 0.691\n",
      "test Loss: 0.321\ttest Acc: 0.745\ttest F1: 0.661\n",
      "-----Epoch: 690\n",
      "Train Loss: 0.458\tTrain Acc: 0.763\tTrain F1: 0.693\n",
      "test Loss: 0.321\ttest Acc: 0.744\ttest F1: 0.666\n",
      "-----Epoch: 700\n",
      "Train Loss: 0.458\tTrain Acc: 0.765\tTrain F1: 0.686\n",
      "test Loss: 0.320\ttest Acc: 0.747\ttest F1: 0.659\n",
      "-----Epoch: 710\n",
      "Train Loss: 0.457\tTrain Acc: 0.766\tTrain F1: 0.686\n",
      "test Loss: 0.320\ttest Acc: 0.746\ttest F1: 0.657\n",
      "-----Epoch: 720\n",
      "Train Loss: 0.457\tTrain Acc: 0.766\tTrain F1: 0.681\n",
      "test Loss: 0.320\ttest Acc: 0.747\ttest F1: 0.653\n",
      "-----Epoch: 730\n",
      "Train Loss: 0.457\tTrain Acc: 0.765\tTrain F1: 0.694\n",
      "test Loss: 0.321\ttest Acc: 0.745\ttest F1: 0.665\n",
      "-----Epoch: 740\n",
      "Train Loss: 0.457\tTrain Acc: 0.764\tTrain F1: 0.699\n",
      "test Loss: 0.322\ttest Acc: 0.743\ttest F1: 0.671\n",
      "-----Epoch: 750\n",
      "Train Loss: 0.456\tTrain Acc: 0.766\tTrain F1: 0.681\n",
      "test Loss: 0.320\ttest Acc: 0.746\ttest F1: 0.652\n",
      "-----Epoch: 760\n",
      "Train Loss: 0.456\tTrain Acc: 0.766\tTrain F1: 0.687\n",
      "test Loss: 0.320\ttest Acc: 0.746\ttest F1: 0.658\n",
      "-----Epoch: 770\n",
      "Train Loss: 0.455\tTrain Acc: 0.767\tTrain F1: 0.693\n",
      "test Loss: 0.321\ttest Acc: 0.745\ttest F1: 0.664\n",
      "-----Epoch: 780\n",
      "Train Loss: 0.455\tTrain Acc: 0.763\tTrain F1: 0.658\n",
      "test Loss: 0.321\ttest Acc: 0.745\ttest F1: 0.629\n",
      "-----Epoch: 790\n",
      "Train Loss: 0.455\tTrain Acc: 0.762\tTrain F1: 0.707\n",
      "test Loss: 0.325\ttest Acc: 0.742\ttest F1: 0.680\n",
      "-----Epoch: 800\n",
      "Train Loss: 0.455\tTrain Acc: 0.765\tTrain F1: 0.674\n",
      "test Loss: 0.320\ttest Acc: 0.744\ttest F1: 0.643\n",
      "-----Epoch: 810\n",
      "Train Loss: 0.455\tTrain Acc: 0.765\tTrain F1: 0.675\n",
      "test Loss: 0.320\ttest Acc: 0.746\ttest F1: 0.646\n",
      "-----Epoch: 820\n",
      "Train Loss: 0.454\tTrain Acc: 0.767\tTrain F1: 0.687\n",
      "test Loss: 0.320\ttest Acc: 0.745\ttest F1: 0.656\n",
      "-----Epoch: 830\n",
      "Train Loss: 0.455\tTrain Acc: 0.766\tTrain F1: 0.676\n",
      "test Loss: 0.320\ttest Acc: 0.745\ttest F1: 0.645\n",
      "-----Epoch: 840\n",
      "Train Loss: 0.453\tTrain Acc: 0.767\tTrain F1: 0.686\n",
      "test Loss: 0.320\ttest Acc: 0.746\ttest F1: 0.655\n",
      "-----Epoch: 850\n",
      "Train Loss: 0.453\tTrain Acc: 0.766\tTrain F1: 0.700\n",
      "test Loss: 0.322\ttest Acc: 0.743\ttest F1: 0.669\n",
      "-----Epoch: 860\n",
      "Train Loss: 0.454\tTrain Acc: 0.767\tTrain F1: 0.695\n",
      "test Loss: 0.322\ttest Acc: 0.744\ttest F1: 0.664\n",
      "-----Epoch: 870\n",
      "Train Loss: 0.453\tTrain Acc: 0.767\tTrain F1: 0.684\n",
      "test Loss: 0.320\ttest Acc: 0.744\ttest F1: 0.651\n",
      "-----Epoch: 880\n",
      "Train Loss: 0.452\tTrain Acc: 0.767\tTrain F1: 0.694\n",
      "test Loss: 0.321\ttest Acc: 0.744\ttest F1: 0.662\n",
      "-----Epoch: 890\n",
      "Train Loss: 0.453\tTrain Acc: 0.766\tTrain F1: 0.700\n",
      "test Loss: 0.322\ttest Acc: 0.745\ttest F1: 0.671\n",
      "-----Epoch: 900\n",
      "Train Loss: 0.452\tTrain Acc: 0.766\tTrain F1: 0.701\n",
      "test Loss: 0.322\ttest Acc: 0.743\ttest F1: 0.670\n",
      "-----Epoch: 910\n",
      "Train Loss: 0.452\tTrain Acc: 0.767\tTrain F1: 0.677\n",
      "test Loss: 0.321\ttest Acc: 0.746\ttest F1: 0.646\n",
      "-----Epoch: 920\n",
      "Train Loss: 0.453\tTrain Acc: 0.768\tTrain F1: 0.689\n",
      "test Loss: 0.321\ttest Acc: 0.747\ttest F1: 0.659\n",
      "-----Epoch: 930\n",
      "Train Loss: 0.451\tTrain Acc: 0.768\tTrain F1: 0.683\n",
      "test Loss: 0.321\ttest Acc: 0.747\ttest F1: 0.652\n",
      "-----Epoch: 940\n",
      "Train Loss: 0.451\tTrain Acc: 0.768\tTrain F1: 0.685\n",
      "test Loss: 0.321\ttest Acc: 0.747\ttest F1: 0.652\n",
      "-----Epoch: 950\n",
      "Train Loss: 0.452\tTrain Acc: 0.769\tTrain F1: 0.688\n",
      "test Loss: 0.321\ttest Acc: 0.747\ttest F1: 0.656\n",
      "-----Epoch: 960\n",
      "Train Loss: 0.450\tTrain Acc: 0.769\tTrain F1: 0.689\n",
      "test Loss: 0.321\ttest Acc: 0.744\ttest F1: 0.655\n",
      "-----Epoch: 970\n",
      "Train Loss: 0.451\tTrain Acc: 0.768\tTrain F1: 0.697\n",
      "test Loss: 0.322\ttest Acc: 0.746\ttest F1: 0.666\n",
      "-----Epoch: 980\n",
      "Train Loss: 0.450\tTrain Acc: 0.768\tTrain F1: 0.695\n",
      "test Loss: 0.322\ttest Acc: 0.746\ttest F1: 0.663\n",
      "-----Epoch: 990\n",
      "Train Loss: 0.450\tTrain Acc: 0.769\tTrain F1: 0.702\n",
      "test Loss: 0.322\ttest Acc: 0.744\ttest F1: 0.669\n",
      "-----Epoch: 1000\n",
      "Train Loss: 0.450\tTrain Acc: 0.770\tTrain F1: 0.691\n",
      "test Loss: 0.321\ttest Acc: 0.746\ttest F1: 0.658\n",
      "-----Epoch: 1010\n",
      "Train Loss: 0.448\tTrain Acc: 0.770\tTrain F1: 0.684\n",
      "test Loss: 0.321\ttest Acc: 0.745\ttest F1: 0.648\n",
      "-----Epoch: 1020\n",
      "Train Loss: 0.450\tTrain Acc: 0.770\tTrain F1: 0.698\n",
      "test Loss: 0.322\ttest Acc: 0.747\ttest F1: 0.665\n",
      "-----Epoch: 1030\n",
      "Train Loss: 0.448\tTrain Acc: 0.770\tTrain F1: 0.698\n",
      "test Loss: 0.322\ttest Acc: 0.746\ttest F1: 0.665\n",
      "-----Epoch: 1040\n",
      "Train Loss: 0.449\tTrain Acc: 0.766\tTrain F1: 0.702\n",
      "test Loss: 0.324\ttest Acc: 0.745\ttest F1: 0.673\n",
      "-----Epoch: 1050\n",
      "Train Loss: 0.448\tTrain Acc: 0.772\tTrain F1: 0.692\n",
      "test Loss: 0.321\ttest Acc: 0.747\ttest F1: 0.656\n",
      "-----Epoch: 1060\n",
      "Train Loss: 0.447\tTrain Acc: 0.771\tTrain F1: 0.701\n",
      "test Loss: 0.322\ttest Acc: 0.746\ttest F1: 0.668\n",
      "-----Epoch: 1070\n",
      "Train Loss: 0.448\tTrain Acc: 0.771\tTrain F1: 0.684\n",
      "test Loss: 0.322\ttest Acc: 0.745\ttest F1: 0.646\n",
      "-----Epoch: 1080\n",
      "Train Loss: 0.448\tTrain Acc: 0.771\tTrain F1: 0.686\n",
      "test Loss: 0.322\ttest Acc: 0.746\ttest F1: 0.649\n",
      "-----Epoch: 1090\n",
      "Train Loss: 0.448\tTrain Acc: 0.772\tTrain F1: 0.692\n",
      "test Loss: 0.322\ttest Acc: 0.747\ttest F1: 0.655\n",
      "-----Epoch: 1100\n",
      "Train Loss: 0.447\tTrain Acc: 0.770\tTrain F1: 0.678\n",
      "test Loss: 0.322\ttest Acc: 0.745\ttest F1: 0.639\n",
      "-----Epoch: 1110\n",
      "Train Loss: 0.447\tTrain Acc: 0.770\tTrain F1: 0.697\n",
      "test Loss: 0.323\ttest Acc: 0.746\ttest F1: 0.662\n",
      "-----Epoch: 1120\n",
      "Train Loss: 0.447\tTrain Acc: 0.773\tTrain F1: 0.691\n",
      "test Loss: 0.322\ttest Acc: 0.747\ttest F1: 0.654\n",
      "-----Epoch: 1130\n",
      "Train Loss: 0.447\tTrain Acc: 0.772\tTrain F1: 0.688\n",
      "test Loss: 0.322\ttest Acc: 0.745\ttest F1: 0.649\n",
      "-----Epoch: 1140\n",
      "Train Loss: 0.446\tTrain Acc: 0.772\tTrain F1: 0.684\n",
      "test Loss: 0.322\ttest Acc: 0.745\ttest F1: 0.645\n",
      "-----Epoch: 1150\n",
      "Train Loss: 0.445\tTrain Acc: 0.772\tTrain F1: 0.685\n",
      "test Loss: 0.322\ttest Acc: 0.745\ttest F1: 0.644\n",
      "-----Epoch: 1160\n",
      "Train Loss: 0.446\tTrain Acc: 0.769\tTrain F1: 0.655\n",
      "test Loss: 0.324\ttest Acc: 0.742\ttest F1: 0.611\n",
      "-----Epoch: 1170\n",
      "Train Loss: 0.445\tTrain Acc: 0.772\tTrain F1: 0.694\n",
      "test Loss: 0.323\ttest Acc: 0.747\ttest F1: 0.659\n",
      "-----Epoch: 1180\n",
      "Train Loss: 0.444\tTrain Acc: 0.773\tTrain F1: 0.693\n",
      "test Loss: 0.323\ttest Acc: 0.747\ttest F1: 0.655\n",
      "-----Epoch: 1190\n",
      "Train Loss: 0.444\tTrain Acc: 0.773\tTrain F1: 0.690\n",
      "test Loss: 0.322\ttest Acc: 0.745\ttest F1: 0.648\n",
      "-----Epoch: 1200\n",
      "Train Loss: 0.445\tTrain Acc: 0.770\tTrain F1: 0.705\n",
      "test Loss: 0.325\ttest Acc: 0.745\ttest F1: 0.672\n",
      "-----Epoch: 1210\n",
      "Train Loss: 0.445\tTrain Acc: 0.772\tTrain F1: 0.703\n",
      "test Loss: 0.324\ttest Acc: 0.747\ttest F1: 0.669\n",
      "-----Epoch: 1220\n",
      "Train Loss: 0.445\tTrain Acc: 0.774\tTrain F1: 0.703\n",
      "test Loss: 0.323\ttest Acc: 0.748\ttest F1: 0.667\n",
      "-----Epoch: 1230\n",
      "Train Loss: 0.444\tTrain Acc: 0.773\tTrain F1: 0.690\n",
      "test Loss: 0.323\ttest Acc: 0.744\ttest F1: 0.647\n",
      "-----Epoch: 1240\n",
      "Train Loss: 0.444\tTrain Acc: 0.773\tTrain F1: 0.699\n",
      "test Loss: 0.323\ttest Acc: 0.747\ttest F1: 0.662\n",
      "-----Epoch: 1250\n",
      "Train Loss: 0.443\tTrain Acc: 0.774\tTrain F1: 0.693\n",
      "test Loss: 0.323\ttest Acc: 0.746\ttest F1: 0.652\n",
      "-----Epoch: 1260\n",
      "Train Loss: 0.443\tTrain Acc: 0.772\tTrain F1: 0.699\n",
      "test Loss: 0.324\ttest Acc: 0.746\ttest F1: 0.664\n",
      "-----Epoch: 1270\n",
      "Train Loss: 0.443\tTrain Acc: 0.773\tTrain F1: 0.695\n",
      "test Loss: 0.323\ttest Acc: 0.746\ttest F1: 0.655\n",
      "-----Epoch: 1280\n",
      "Train Loss: 0.442\tTrain Acc: 0.774\tTrain F1: 0.702\n",
      "test Loss: 0.324\ttest Acc: 0.747\ttest F1: 0.664\n",
      "-----Epoch: 1290\n",
      "Train Loss: 0.444\tTrain Acc: 0.772\tTrain F1: 0.713\n",
      "test Loss: 0.326\ttest Acc: 0.745\ttest F1: 0.676\n",
      "-----Epoch: 1300\n",
      "Train Loss: 0.441\tTrain Acc: 0.773\tTrain F1: 0.711\n",
      "test Loss: 0.326\ttest Acc: 0.745\ttest F1: 0.673\n",
      "-----Epoch: 1310\n",
      "Train Loss: 0.441\tTrain Acc: 0.774\tTrain F1: 0.684\n",
      "test Loss: 0.324\ttest Acc: 0.744\ttest F1: 0.639\n",
      "-----Epoch: 1320\n",
      "Train Loss: 0.442\tTrain Acc: 0.772\tTrain F1: 0.711\n",
      "test Loss: 0.326\ttest Acc: 0.745\ttest F1: 0.675\n",
      "-----Epoch: 1330\n",
      "Train Loss: 0.441\tTrain Acc: 0.772\tTrain F1: 0.712\n",
      "test Loss: 0.326\ttest Acc: 0.746\ttest F1: 0.676\n",
      "-----Epoch: 1340\n",
      "Train Loss: 0.441\tTrain Acc: 0.775\tTrain F1: 0.686\n",
      "test Loss: 0.323\ttest Acc: 0.745\ttest F1: 0.642\n",
      "-----Epoch: 1350\n",
      "Train Loss: 0.441\tTrain Acc: 0.775\tTrain F1: 0.694\n",
      "test Loss: 0.324\ttest Acc: 0.747\ttest F1: 0.654\n",
      "-----Epoch: 1360\n",
      "Train Loss: 0.440\tTrain Acc: 0.772\tTrain F1: 0.711\n",
      "test Loss: 0.327\ttest Acc: 0.744\ttest F1: 0.675\n",
      "-----Epoch: 1370\n",
      "Train Loss: 0.440\tTrain Acc: 0.775\tTrain F1: 0.704\n",
      "test Loss: 0.325\ttest Acc: 0.747\ttest F1: 0.664\n",
      "-----Epoch: 1380\n",
      "Train Loss: 0.440\tTrain Acc: 0.776\tTrain F1: 0.702\n",
      "test Loss: 0.325\ttest Acc: 0.745\ttest F1: 0.659\n",
      "-----Epoch: 1390\n",
      "Train Loss: 0.440\tTrain Acc: 0.775\tTrain F1: 0.683\n",
      "test Loss: 0.324\ttest Acc: 0.747\ttest F1: 0.639\n",
      "-----Epoch: 1400\n",
      "Train Loss: 0.440\tTrain Acc: 0.777\tTrain F1: 0.702\n",
      "test Loss: 0.324\ttest Acc: 0.748\ttest F1: 0.662\n",
      "-----Epoch: 1410\n",
      "Train Loss: 0.440\tTrain Acc: 0.776\tTrain F1: 0.692\n",
      "test Loss: 0.324\ttest Acc: 0.749\ttest F1: 0.652\n",
      "-----Epoch: 1420\n",
      "Train Loss: 0.438\tTrain Acc: 0.774\tTrain F1: 0.678\n",
      "test Loss: 0.325\ttest Acc: 0.744\ttest F1: 0.633\n",
      "-----Epoch: 1430\n",
      "Train Loss: 0.439\tTrain Acc: 0.777\tTrain F1: 0.690\n",
      "test Loss: 0.325\ttest Acc: 0.749\ttest F1: 0.649\n",
      "-----Epoch: 1440\n",
      "Train Loss: 0.439\tTrain Acc: 0.777\tTrain F1: 0.700\n",
      "test Loss: 0.325\ttest Acc: 0.748\ttest F1: 0.658\n",
      "-----Epoch: 1450\n",
      "Train Loss: 0.438\tTrain Acc: 0.775\tTrain F1: 0.684\n",
      "test Loss: 0.325\ttest Acc: 0.747\ttest F1: 0.639\n",
      "-----Epoch: 1460\n",
      "Train Loss: 0.438\tTrain Acc: 0.777\tTrain F1: 0.704\n",
      "test Loss: 0.326\ttest Acc: 0.748\ttest F1: 0.663\n",
      "-----Epoch: 1470\n",
      "Train Loss: 0.436\tTrain Acc: 0.777\tTrain F1: 0.706\n",
      "test Loss: 0.326\ttest Acc: 0.747\ttest F1: 0.665\n",
      "-----Epoch: 1480\n",
      "Train Loss: 0.436\tTrain Acc: 0.778\tTrain F1: 0.700\n",
      "test Loss: 0.326\ttest Acc: 0.747\ttest F1: 0.655\n",
      "-----Epoch: 1490\n",
      "Train Loss: 0.438\tTrain Acc: 0.777\tTrain F1: 0.695\n",
      "test Loss: 0.326\ttest Acc: 0.747\ttest F1: 0.653\n",
      "-----Epoch: 1500\n",
      "Train Loss: 0.438\tTrain Acc: 0.777\tTrain F1: 0.702\n",
      "test Loss: 0.326\ttest Acc: 0.747\ttest F1: 0.659\n",
      "-----Epoch: 1510\n",
      "Train Loss: 0.437\tTrain Acc: 0.778\tTrain F1: 0.707\n",
      "test Loss: 0.327\ttest Acc: 0.747\ttest F1: 0.663\n",
      "-----Epoch: 1520\n",
      "Train Loss: 0.437\tTrain Acc: 0.777\tTrain F1: 0.712\n",
      "test Loss: 0.328\ttest Acc: 0.748\ttest F1: 0.671\n",
      "-----Epoch: 1530\n",
      "Train Loss: 0.436\tTrain Acc: 0.778\tTrain F1: 0.700\n",
      "test Loss: 0.327\ttest Acc: 0.748\ttest F1: 0.656\n",
      "-----Epoch: 1540\n",
      "Train Loss: 0.436\tTrain Acc: 0.777\tTrain F1: 0.684\n",
      "test Loss: 0.327\ttest Acc: 0.746\ttest F1: 0.638\n",
      "-----Epoch: 1550\n",
      "Train Loss: 0.435\tTrain Acc: 0.778\tTrain F1: 0.694\n",
      "test Loss: 0.326\ttest Acc: 0.748\ttest F1: 0.649\n",
      "-----Epoch: 1560\n",
      "Train Loss: 0.435\tTrain Acc: 0.777\tTrain F1: 0.710\n",
      "test Loss: 0.328\ttest Acc: 0.746\ttest F1: 0.667\n",
      "-----Epoch: 1570\n",
      "Train Loss: 0.434\tTrain Acc: 0.780\tTrain F1: 0.701\n",
      "test Loss: 0.327\ttest Acc: 0.747\ttest F1: 0.654\n",
      "-----Epoch: 1580\n",
      "Train Loss: 0.433\tTrain Acc: 0.778\tTrain F1: 0.690\n",
      "test Loss: 0.327\ttest Acc: 0.747\ttest F1: 0.643\n",
      "-----Epoch: 1590\n",
      "Train Loss: 0.434\tTrain Acc: 0.778\tTrain F1: 0.702\n",
      "test Loss: 0.328\ttest Acc: 0.745\ttest F1: 0.656\n",
      "-----Epoch: 1600\n",
      "Train Loss: 0.433\tTrain Acc: 0.779\tTrain F1: 0.688\n",
      "test Loss: 0.327\ttest Acc: 0.747\ttest F1: 0.641\n",
      "-----Epoch: 1610\n",
      "Train Loss: 0.433\tTrain Acc: 0.779\tTrain F1: 0.705\n",
      "test Loss: 0.328\ttest Acc: 0.746\ttest F1: 0.658\n",
      "-----Epoch: 1620\n",
      "Train Loss: 0.434\tTrain Acc: 0.779\tTrain F1: 0.691\n",
      "test Loss: 0.328\ttest Acc: 0.747\ttest F1: 0.643\n",
      "-----Epoch: 1630\n",
      "Train Loss: 0.432\tTrain Acc: 0.778\tTrain F1: 0.716\n",
      "test Loss: 0.331\ttest Acc: 0.745\ttest F1: 0.671\n",
      "-----Epoch: 1640\n",
      "Train Loss: 0.432\tTrain Acc: 0.779\tTrain F1: 0.703\n",
      "test Loss: 0.329\ttest Acc: 0.746\ttest F1: 0.657\n",
      "-----Epoch: 1650\n",
      "Train Loss: 0.432\tTrain Acc: 0.779\tTrain F1: 0.688\n",
      "test Loss: 0.329\ttest Acc: 0.746\ttest F1: 0.638\n",
      "-----Epoch: 1660\n",
      "Train Loss: 0.432\tTrain Acc: 0.779\tTrain F1: 0.692\n",
      "test Loss: 0.329\ttest Acc: 0.745\ttest F1: 0.641\n",
      "-----Epoch: 1670\n",
      "Train Loss: 0.432\tTrain Acc: 0.779\tTrain F1: 0.719\n",
      "test Loss: 0.334\ttest Acc: 0.746\ttest F1: 0.676\n",
      "-----Epoch: 1680\n",
      "Train Loss: 0.431\tTrain Acc: 0.779\tTrain F1: 0.680\n",
      "test Loss: 0.331\ttest Acc: 0.744\ttest F1: 0.627\n",
      "-----Epoch: 1690\n",
      "Train Loss: 0.431\tTrain Acc: 0.781\tTrain F1: 0.697\n",
      "test Loss: 0.329\ttest Acc: 0.745\ttest F1: 0.643\n",
      "-----Epoch: 1700\n",
      "Train Loss: 0.430\tTrain Acc: 0.780\tTrain F1: 0.690\n",
      "test Loss: 0.330\ttest Acc: 0.744\ttest F1: 0.637\n",
      "-----Epoch: 1710\n",
      "Train Loss: 0.430\tTrain Acc: 0.776\tTrain F1: 0.664\n",
      "test Loss: 0.333\ttest Acc: 0.740\ttest F1: 0.605\n",
      "-----Epoch: 1720\n",
      "Train Loss: 0.430\tTrain Acc: 0.781\tTrain F1: 0.707\n",
      "test Loss: 0.331\ttest Acc: 0.746\ttest F1: 0.656\n",
      "-----Epoch: 1730\n",
      "Train Loss: 0.429\tTrain Acc: 0.780\tTrain F1: 0.693\n",
      "test Loss: 0.330\ttest Acc: 0.745\ttest F1: 0.642\n",
      "-----Epoch: 1740\n",
      "Train Loss: 0.430\tTrain Acc: 0.780\tTrain F1: 0.714\n",
      "test Loss: 0.333\ttest Acc: 0.747\ttest F1: 0.668\n",
      "-----Epoch: 1750\n",
      "Train Loss: 0.429\tTrain Acc: 0.782\tTrain F1: 0.694\n",
      "test Loss: 0.330\ttest Acc: 0.745\ttest F1: 0.640\n",
      "-----Epoch: 1760\n",
      "Train Loss: 0.428\tTrain Acc: 0.782\tTrain F1: 0.709\n",
      "test Loss: 0.332\ttest Acc: 0.745\ttest F1: 0.657\n",
      "-----Epoch: 1770\n",
      "Train Loss: 0.427\tTrain Acc: 0.781\tTrain F1: 0.682\n",
      "test Loss: 0.331\ttest Acc: 0.743\ttest F1: 0.623\n",
      "-----Epoch: 1780\n",
      "Train Loss: 0.429\tTrain Acc: 0.783\tTrain F1: 0.722\n",
      "test Loss: 0.335\ttest Acc: 0.744\ttest F1: 0.671\n",
      "-----Epoch: 1790\n",
      "Train Loss: 0.429\tTrain Acc: 0.783\tTrain F1: 0.705\n",
      "test Loss: 0.332\ttest Acc: 0.746\ttest F1: 0.652\n",
      "-----Epoch: 1800\n",
      "Train Loss: 0.427\tTrain Acc: 0.784\tTrain F1: 0.703\n",
      "test Loss: 0.332\ttest Acc: 0.747\ttest F1: 0.649\n",
      "-----Epoch: 1810\n",
      "Train Loss: 0.427\tTrain Acc: 0.784\tTrain F1: 0.697\n",
      "test Loss: 0.332\ttest Acc: 0.746\ttest F1: 0.642\n",
      "-----Epoch: 1820\n",
      "Train Loss: 0.426\tTrain Acc: 0.784\tTrain F1: 0.709\n",
      "test Loss: 0.333\ttest Acc: 0.747\ttest F1: 0.658\n",
      "-----Epoch: 1830\n",
      "Train Loss: 0.425\tTrain Acc: 0.784\tTrain F1: 0.714\n",
      "test Loss: 0.333\ttest Acc: 0.745\ttest F1: 0.660\n",
      "-----Epoch: 1840\n",
      "Train Loss: 0.428\tTrain Acc: 0.778\tTrain F1: 0.657\n",
      "test Loss: 0.335\ttest Acc: 0.739\ttest F1: 0.592\n",
      "-----Epoch: 1850\n",
      "Train Loss: 0.426\tTrain Acc: 0.784\tTrain F1: 0.716\n",
      "test Loss: 0.335\ttest Acc: 0.747\ttest F1: 0.664\n",
      "-----Epoch: 1860\n",
      "Train Loss: 0.427\tTrain Acc: 0.785\tTrain F1: 0.698\n",
      "test Loss: 0.333\ttest Acc: 0.746\ttest F1: 0.640\n",
      "-----Epoch: 1870\n",
      "Train Loss: 0.424\tTrain Acc: 0.785\tTrain F1: 0.703\n",
      "test Loss: 0.334\ttest Acc: 0.746\ttest F1: 0.647\n",
      "-----Epoch: 1880\n",
      "Train Loss: 0.425\tTrain Acc: 0.785\tTrain F1: 0.720\n",
      "test Loss: 0.337\ttest Acc: 0.745\ttest F1: 0.666\n",
      "-----Epoch: 1890\n",
      "Train Loss: 0.426\tTrain Acc: 0.784\tTrain F1: 0.702\n",
      "test Loss: 0.334\ttest Acc: 0.747\ttest F1: 0.648\n",
      "-----Epoch: 1900\n",
      "Train Loss: 0.424\tTrain Acc: 0.784\tTrain F1: 0.719\n",
      "test Loss: 0.337\ttest Acc: 0.745\ttest F1: 0.666\n",
      "-----Epoch: 1910\n",
      "Train Loss: 0.425\tTrain Acc: 0.785\tTrain F1: 0.710\n",
      "test Loss: 0.335\ttest Acc: 0.744\ttest F1: 0.653\n",
      "-----Epoch: 1920\n",
      "Train Loss: 0.425\tTrain Acc: 0.786\tTrain F1: 0.720\n",
      "test Loss: 0.337\ttest Acc: 0.746\ttest F1: 0.667\n",
      "-----Epoch: 1930\n",
      "Train Loss: 0.424\tTrain Acc: 0.786\tTrain F1: 0.713\n",
      "test Loss: 0.335\ttest Acc: 0.745\ttest F1: 0.657\n",
      "-----Epoch: 1940\n",
      "Train Loss: 0.422\tTrain Acc: 0.786\tTrain F1: 0.705\n",
      "test Loss: 0.339\ttest Acc: 0.746\ttest F1: 0.647\n",
      "-----Epoch: 1950\n",
      "Train Loss: 0.424\tTrain Acc: 0.785\tTrain F1: 0.714\n",
      "test Loss: 0.336\ttest Acc: 0.746\ttest F1: 0.659\n",
      "-----Epoch: 1960\n",
      "Train Loss: 0.422\tTrain Acc: 0.786\tTrain F1: 0.703\n",
      "test Loss: 0.338\ttest Acc: 0.744\ttest F1: 0.643\n",
      "-----Epoch: 1970\n",
      "Train Loss: 0.421\tTrain Acc: 0.785\tTrain F1: 0.690\n",
      "test Loss: 0.340\ttest Acc: 0.744\ttest F1: 0.627\n",
      "-----Epoch: 1980\n",
      "Train Loss: 0.422\tTrain Acc: 0.787\tTrain F1: 0.710\n",
      "test Loss: 0.342\ttest Acc: 0.747\ttest F1: 0.653\n",
      "-----Epoch: 1990\n",
      "Train Loss: 0.421\tTrain Acc: 0.787\tTrain F1: 0.719\n",
      "test Loss: 0.343\ttest Acc: 0.745\ttest F1: 0.662\n"
     ]
    }
   ],
   "source": [
    "# EARLY STOPPING PARAMETERS\n",
    "best_loss = 10 ** 9 # 매우 큰 값으로 초기값 가정\n",
    "patience_limit = 10000 # 몇 번의 epoch까지 지켜볼지를 결정\n",
    "patience_check = 0 # 현재 몇 epoch 연속으로 loss 개선이 안되는지를 기록\n",
    "\n",
    "loss_history_train = []\n",
    "loss_history_test = []\n",
    "acc_history_train = []\n",
    "acc_history_test = []\n",
    "f1_history_train = []\n",
    "f1_history_test = []\n",
    "n = len(trainloader) # batch size\n",
    "\n",
    "for epoch in range(10000):\n",
    "  # train set\n",
    "  loss_train = 0.0 \n",
    "  model.train()\n",
    "  \n",
    "  for i, data in enumerate(trainloader, 0):\n",
    "    inputs, values = data[0].to(DEVICE), data[1].to(DEVICE) # data에는 X, Y가 들어있다.\n",
    "\n",
    "    optimizer.zero_grad() # 최적화 초기화.\n",
    "\n",
    "    outputs = model(inputs) # 모델에 입력값을 넣어 예측값을 산출한다.\n",
    "    loss = criterion(outputs.reshape(-1, ), values) # 손실함수를 계산. error 계산.\n",
    "    \n",
    "    loss.backward() # 손실 함수를 기준으로 역전파를 설정한다.\n",
    "    optimizer.step() # 역전파를 진행하고 가중치를 업데이트한다.\n",
    "\n",
    "    loss_train += loss.item() # epoch 마다 평균 loss를 계산하기 위해 배치 loss를 더한다.\n",
    "  \n",
    "  loss_history_train.append(loss_train/n)\n",
    "  acc_train, f1_train = evaluation(trainloader)\n",
    "  acc_history_train.append(acc_train)\n",
    "  f1_history_train.append(f1_train)\n",
    "\n",
    "  \n",
    "  # test set\n",
    "  loss_test = 0.0\n",
    "  model.eval()\n",
    "  with torch.no_grad():\n",
    "    for i, data in enumerate(testloader, 0):\n",
    "      \n",
    "      inputs, values = data[0].to(DEVICE), data[1].to(DEVICE) # data에는 X, Y가 들어있다.\n",
    "\n",
    "      outputs = model(inputs) # 모델에 입력값을 넣어 예측값을 산출한다.\n",
    "      loss = criterion(outputs.reshape(-1, ), values) # 손실함수를 계산. error 계산.\n",
    "    \n",
    "      loss_test += loss.item() \n",
    "    \n",
    "  loss_history_test.append(loss_test/n)\n",
    "\n",
    "  acc_test, f1_test = evaluation(testloader)\n",
    "\n",
    "  acc_history_test.append(acc_test)\n",
    "  f1_history_test.append(f1_test)\n",
    "  \n",
    "  # print out evaluations\n",
    "  # 10 Epoch마다 성능 출력\n",
    "  if epoch % 10 == 0:\n",
    "    template = '{0} Loss: {1:.3f}\\t{0} Acc: {2:.3f}\\t{0} F1: {3:.3f}'\n",
    "    print('-----Epoch: {0}'.format(epoch))\n",
    "    print(template.format('Train',\n",
    "                          loss_train/n,\n",
    "                          acc_train,\n",
    "                          f1_train))\n",
    "    print(template.format('test',\n",
    "                          loss_test/n,\n",
    "                          acc_test,\n",
    "                          f1_test))\n",
    "    \n",
    "  # 모델 저장\n",
    "  torch.save(model.state_dict(),\n",
    "             './model/{0}/EPOCH_{1}.pt'.format(experiment_name, epoch))\n",
    "\n",
    "  # EARLY STOPPING\n",
    "  if loss_test > best_loss: # loss가 개선되지 않은 경우\n",
    "      patience_check += 1\n",
    "\n",
    "      if patience_check >= patience_limit: # early stopping 조건 만족 시 조기 종료\n",
    "          print('EARLY STOPPED AT EPOCH--' + str(epoch))\n",
    "          break\n",
    "\n",
    "  else: # loss가 개선된 경우\n",
    "      best_loss = loss_test\n",
    "      patience_check = 0\n",
    "  \n",
    "# 학습 기록을 저장하여 추후 필요한 모델 불러오기\n",
    "np.save('./model/{0}/loss_history_train.npy'.format(experiment_name), np.array(loss_history_train))\n",
    "np.save('./model/{0}/loss_history_test.npy'.format(experiment_name), np.array(loss_history_test))\n",
    "np.save('./model/{0}/acc_history_train.npy'.format(experiment_name), np.array(acc_history_train))\n",
    "np.save('./model/{0}/acc_history_test.npy'.format(experiment_name), np.array(acc_history_test))\n",
    "np.save('./model/{0}/f1_history_train.npy'.format(experiment_name), np.array(f1_history_train))\n",
    "np.save('./model/{0}/f1_history_test.npy'.format(experiment_name), np.array(f1_history_test))"
   ]
  },
  {
   "cell_type": "code",
   "execution_count": 109,
   "metadata": {},
   "outputs": [
    {
     "data": {
      "text/plain": [
       "<matplotlib.legend.Legend at 0x1ad9e518c10>"
      ]
     },
     "execution_count": 109,
     "metadata": {},
     "output_type": "execute_result"
    },
    {
     "data": {
      "image/png": "[encoded data removed]",
      "text/plain": [
       "<Figure size 1000x500 with 1 Axes>"
      ]
     },
     "metadata": {},
     "output_type": "display_data"
    }
   ],
   "source": [
    "fig, ax = plt.subplots(figsize = (10, 5))\n",
    "ax.plot(loss_history_train[:2000], label = 'train')\n",
    "ax.plot(loss_history_test[:2000], label = 'test')\n",
    "ax.legend(fontsize = 20)"
   ]
  },
  {
   "cell_type": "code",
   "execution_count": 69,
   "metadata": {},
   "outputs": [],
   "source": [
    "loss_history_train_2 = np.load('./model/MLP_classifier_2/loss_history_train.npy')\n",
    "acc_history_train_2 = np.load('./model/MLP_classifier_2/acc_history_train.npy')\n",
    "f1_history_train_2 = np.load('./model/MLP_classifier_2/f1_history_train.npy')\n",
    "loss_history_test_2 = np.load('./model/MLP_classifier_2/loss_history_test.npy')\n",
    "acc_history_test_2 = np.load('./model/MLP_classifier_2/acc_history_test.npy')\n",
    "f1_history_test_2 = np.load('./model/MLP_classifier_2/f1_history_test.npy')"
   ]
  },
  {
   "cell_type": "code",
   "execution_count": 70,
   "metadata": {},
   "outputs": [
    {
     "data": {
      "text/plain": [
       "<matplotlib.legend.Legend at 0x1d7fd07fd60>"
      ]
     },
     "execution_count": 70,
     "metadata": {},
     "output_type": "execute_result"
    },
    {
     "data": {
      "image/png": "[encoded data removed]",
      "text/plain": [
       "<Figure size 1000x500 with 1 Axes>"
      ]
     },
     "metadata": {},
     "output_type": "display_data"
    }
   ],
   "source": [
    "fig, ax = plt.subplots(figsize = (10, 5))\n",
    "ax.plot(loss_history_train_2, label = 'train')\n",
    "ax.plot(loss_history_test_2, label = 'test')\n",
    "ax.legend(fontsize = 20)\n"
   ]
  },
  {
   "cell_type": "code",
   "execution_count": 71,
   "metadata": {},
   "outputs": [
    {
     "data": {
      "text/plain": [
       "<matplotlib.legend.Legend at 0x1d7fd08dca0>"
      ]
     },
     "execution_count": 71,
     "metadata": {},
     "output_type": "execute_result"
    },
    {
     "data": {
      "image/png": "[encoded data removed]",
      "text/plain": [
       "<Figure size 1000x500 with 1 Axes>"
      ]
     },
     "metadata": {},
     "output_type": "display_data"
    }
   ],
   "source": [
    "fig, ax = plt.subplots(figsize = (10, 5))\n",
    "ax.plot(acc_history_train_2, label = 'train')\n",
    "ax.plot(acc_history_test_2, label = 'test')\n",
    "ax.legend(fontsize = 20)"
   ]
  },
  {
   "cell_type": "code",
   "execution_count": 72,
   "metadata": {},
   "outputs": [
    {
     "data": {
      "text/plain": [
       "<matplotlib.legend.Legend at 0x1d7fd00d1f0>"
      ]
     },
     "execution_count": 72,
     "metadata": {},
     "output_type": "execute_result"
    },
    {
     "data": {
      "image/png": "[encoded data removed]",
      "text/plain": [
       "<Figure size 1000x500 with 1 Axes>"
      ]
     },
     "metadata": {},
     "output_type": "display_data"
    }
   ],
   "source": [
    "fig, ax = plt.subplots(figsize = (10, 5))\n",
    "ax.plot(f1_history_train_2, label = 'train')\n",
    "ax.plot(f1_history_test_2, label = 'test')\n",
    "ax.legend(fontsize = 20)"
   ]
  },
  {
   "cell_type": "code",
   "execution_count": null,
   "metadata": {},
   "outputs": [],
   "source": []
  }
 ],
 "metadata": {
  "kernelspec": {
   "display_name": "base",
   "language": "python",
   "name": "python3"
  },
  "language_info": {
   "codemirror_mode": {
    "name": "ipython",
    "version": 3
   },
   "file_extension": ".py",
   "mimetype": "text/x-python",
   "name": "python",
   "nbconvert_exporter": "python",
   "pygments_lexer": "ipython3",
   "version": "3.9.13"
  },
  "orig_nbformat": 4
 },
 "nbformat": 4,
 "nbformat_minor": 2
}
