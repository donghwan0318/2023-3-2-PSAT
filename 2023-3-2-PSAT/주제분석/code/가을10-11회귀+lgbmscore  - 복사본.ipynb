{
 "cells": [
  {
   "cell_type": "code",
   "execution_count": 1,
   "metadata": {},
   "outputs": [],
   "source": [
    "import pandas as pd\n",
    "import numpy as np\n",
    "import statsmodels.api as sm\n",
    "# 모델\n",
    "from sklearn.metrics import mean_squared_error\n",
    "from sklearn.linear_model import LinearRegression"
   ]
  },
  {
   "cell_type": "code",
   "execution_count": 2,
   "metadata": {},
   "outputs": [],
   "source": [
    "real_dict = {\"d25\" : [0, 0, 0, 0, 0, 0,\n",
    "                      0, 10, 31, 54, 70, 72, 78, 73, 63, 40, 20, 3, 0,\n",
    "                      0, 0, 0, 0, 0],\n",
    "             \"d26\" : [0, 0, 0, 0, 0, 0,\n",
    "                      1, 3, 11, 40, 61, 52, 75, 61, 62, 40, 18, 2, 0,\n",
    "                      0, 0, 0, 0, 0],\n",
    "             \"d27\" : [0, 0, 0, 0, 0, 0,\n",
    "                      1, 9, 36, 46, 53, 74, 89, 81, 64, 54, 23, 4, 0,\n",
    "                      0, 0, 0, 0, 0],\n",
    "             \"d28\" : [0, 0, 0, 0, 0, 0,\n",
    "                      0, 5, 29, 56, 67, 82, 78, 72, 63, 46, 17, 3, 0,\n",
    "                      0, 0, 0, 0, 0],\n",
    "             \"d29\" : [0, 0, 0, 0, 0, 0,\n",
    "                      0, 4, 20, 56, 66, 76, 53, 57, 66, 42, 20, 2, 0,\n",
    "                      0, 0, 0, 0, 0],\n",
    "             \"d30\" : [0, 0, 0, 0, 0, 0,\n",
    "                      0, 4, 20, 56, 65, 79, 81, 75, 62, 45, 22, 3, 0,\n",
    "                      0, 0, 0, 0, 0],\n",
    "             \"d31\" : [0, 0, 0, 0, 0, 0,\n",
    "                      0, 4, 8, 22, 37, 76, 73, 75, 58, 44, 22, 4, 0,\n",
    "                      0, 0, 0, 0, 0]}"
   ]
  },
  {
   "cell_type": "code",
   "execution_count": 3,
   "metadata": {},
   "outputs": [],
   "source": [
    "## test data set 만드는 함수\n",
    "def make_test_xy(wf,gf):\n",
    "    gf.columns = [\"time\",\"m0\",\"m1\",\"m2\",\"m3\",\"m4\"]\n",
    "    train = pd.merge(gf,wf,on=\"time\")\n",
    "    train[\"time\"] = pd.to_datetime(train[\"time\"])\n",
    "    train[\"month\"]=train[\"time\"].dt.month\n",
    "    train[\"day\"]=train[\"time\"].dt.day\n",
    "    train[\"hour\"]=train[\"time\"].dt.hour\n",
    "    \n",
    "    train_1 = train[(train[\"hour\"]<=10) & (train[\"hour\"]>=7)]\n",
    "    train_2 = train[(train[\"hour\"]<=14) & (train[\"hour\"]>=11)]\n",
    "    train_3 = train[(train[\"hour\"]<=19) & (train[\"hour\"]>=15)]\n",
    "    \n",
    "    train11 = train_1[[\"m0\",\"m1\",\"m2\",\"m3\",\"uv_idx\",\"elevation\"]]\n",
    "    train12 = train_2[[\"m0\",\"m1\",\"m2\",\"m3\",\"uv_idx\",\"elevation\"]]\n",
    "    train13 = train_3[[\"m0\",\"m1\",\"m2\",\"m3\",\"uv_idx\",\"elevation\"]]\n",
    "    train21 = train_1.drop([\"m0\",\"m1\",\"m2\",\"m3\",\"m4\",\"uv_idx\",\"elevation\",\"time\",\"hour\"],axis=1)\n",
    "    train22 = train_2.drop([\"m0\",\"m1\",\"m2\",\"m3\",\"m4\",\"uv_idx\",\"elevation\",\"time\",\"hour\"],axis=1)\n",
    "    train23 = train_3.drop([\"m0\",\"m1\",\"m2\",\"m3\",\"m4\",\"uv_idx\",\"elevation\",\"time\",\"hour\"],axis=1)\n",
    "    \n",
    "    return train11,train12,train13,train21,train22,train23"
   ]
  },
  {
   "cell_type": "markdown",
   "metadata": {},
   "source": [
    "#  예측 진행"
   ]
  },
  {
   "cell_type": "code",
   "execution_count": 69,
   "metadata": {},
   "outputs": [],
   "source": [
    "# 예측에 사용할 데이터 셋 불러오기 \n",
    "x_pred_ori = pd.read_csv(\"../data/gen_fcst_10_2023-10-31.csv\")\n",
    "x_pred_wf = pd.read_csv(\"../data/weather_forecasts/wf10_2023-10-31.csv\")"
   ]
  },
  {
   "cell_type": "code",
   "execution_count": 81,
   "metadata": {},
   "outputs": [],
   "source": [
    "day = real_dict[\"d31\"]"
   ]
  },
  {
   "cell_type": "code",
   "execution_count": 82,
   "metadata": {},
   "outputs": [],
   "source": [
    "# 함수에 넣어서 데이터셋 분리\n",
    "test11,test12,test13,test21,test22,test23 = make_test_xy(x_pred_wf,x_pred_ori)"
   ]
  },
  {
   "cell_type": "code",
   "execution_count": 33,
   "metadata": {},
   "outputs": [],
   "source": [
    "import joblib"
   ]
  },
  {
   "cell_type": "code",
   "execution_count": 84,
   "metadata": {},
   "outputs": [],
   "source": [
    "model11=joblib.load(\"../model/시간1회귀fitting_season10-11_r1.pkl\")\n",
    "model12=joblib.load(\"../model/시간2회귀fitting_season10-11_r1.pkl\")\n",
    "model13=joblib.load(\"../model/시간3회귀fitting_season10-11_r1.pkl\")\n",
    "# 예측 진행 (1차 모델링 y_hat)\n",
    "y_pred11=model11.predict(test11)\n",
    "y_pred12=model12.predict(test12)\n",
    "y_pred13=model13.predict(test13)\n",
    "model21=joblib.load(\"../model/시간1잔차fitting_season10-11_r1.pkl\")\n",
    "model22=joblib.load(\"../model/시간2잔차fitting_season10-11_r1.pkl\")\n",
    "model23=joblib.load(\"../model/시간3잔차fitting_season10-11_r1.pkl\")\n",
    "y_pred21 = model21.predict(test21)\n",
    "y_pred22 = model22.predict(test22)\n",
    "y_pred23 = model23.predict(test23)\n",
    "result1 = y_pred11+y_pred21\n",
    "result2 = y_pred12+y_pred22\n",
    "result3 = y_pred13+y_pred23\n",
    "result = np.concatenate((result1,result2,result3))\n",
    "res1 = result"
   ]
  },
  {
   "cell_type": "code",
   "execution_count": 85,
   "metadata": {},
   "outputs": [
    {
     "data": {
      "text/plain": [
       "array([ 1.84859966e+00,  4.90431195e+00,  2.33039269e+01,  4.29479318e+01,\n",
       "        5.83683362e+01,  7.07005880e+01,  7.43051735e+01,  6.66335775e+01,\n",
       "        5.01526925e+01,  3.81825024e+01,  9.87912963e+00,  7.09053865e-02,\n",
       "       -3.93687518e-01])"
      ]
     },
     "execution_count": 85,
     "metadata": {},
     "output_type": "execute_result"
    }
   ],
   "source": [
    "res1"
   ]
  },
  {
   "cell_type": "code",
   "execution_count": 86,
   "metadata": {},
   "outputs": [],
   "source": [
    "# 예측에 사용할 데이터 셋 불러오기 \n",
    "x_pred_ori = pd.read_csv(\"../data/gen_fcst_17_2023-10-31.csv\")\n",
    "x_pred_wf = pd.read_csv(\"../data/weather_forecasts/wf17_2023-10-31.csv\")\n",
    "# 함수에 넣어서 데이터셋 분리\n",
    "test11,test12,test13,test21,test22,test23 = make_test_xy(x_pred_wf,x_pred_ori)"
   ]
  },
  {
   "cell_type": "code",
   "execution_count": 87,
   "metadata": {},
   "outputs": [],
   "source": [
    "model11=joblib.load(\"../model/시간1회귀fitting_season10-11_r2.pkl\")\n",
    "model12=joblib.load(\"../model/시간2회귀fitting_season10-11_r2.pkl\")\n",
    "model13=joblib.load(\"../model/시간3회귀fitting_season10-11_r2.pkl\")\n",
    "# 예측 진행 (1차 모델링 y_hat)\n",
    "y_pred11=model11.predict(test11)\n",
    "y_pred12=model12.predict(test12)\n",
    "y_pred13=model13.predict(test13)\n",
    "model21=joblib.load(\"../model/시간1잔차fitting_season10-11_r2.pkl\")\n",
    "model22=joblib.load(\"../model/시간2잔차fitting_season10-11_r2.pkl\")\n",
    "model23=joblib.load(\"../model/시간3잔차fitting_season10-11_r2.pkl\")\n",
    "y_pred21 = model21.predict(test21)\n",
    "y_pred22 = model22.predict(test22)\n",
    "y_pred23 = model23.predict(test23)\n",
    "result1 = y_pred11+y_pred21\n",
    "result2 = y_pred12+y_pred22\n",
    "result3 = y_pred13+y_pred23\n",
    "result = np.concatenate((result1,result2,result3))\n",
    "res2 = result"
   ]
  },
  {
   "cell_type": "code",
   "execution_count": 88,
   "metadata": {},
   "outputs": [
    {
     "data": {
      "text/plain": [
       "array([ 0.18596756,  6.01518928, 26.87180759, 50.19747106, 70.2499242 ,\n",
       "       76.6229421 , 72.96244177, 73.3144415 , 62.37336357, 40.73082001,\n",
       "       16.97671082,  3.58966611, -0.6802562 ])"
      ]
     },
     "execution_count": 88,
     "metadata": {},
     "output_type": "execute_result"
    }
   ],
   "source": [
    "res2"
   ]
  },
  {
   "cell_type": "code",
   "execution_count": 89,
   "metadata": {},
   "outputs": [],
   "source": [
    "pred = (res1+res2)/2"
   ]
  },
  {
   "cell_type": "code",
   "execution_count": 90,
   "metadata": {},
   "outputs": [
    {
     "data": {
      "text/plain": [
       "array([ 1.01728361,  5.45975062, 25.08786724, 46.57270141, 64.30913021,\n",
       "       73.66176503, 73.63380766, 69.9740095 , 56.26302805, 39.45666122,\n",
       "       13.42792022,  1.83028575, -0.53697186])"
      ]
     },
     "execution_count": 90,
     "metadata": {},
     "output_type": "execute_result"
    }
   ],
   "source": [
    "pred"
   ]
  },
  {
   "cell_type": "code",
   "execution_count": 91,
   "metadata": {},
   "outputs": [],
   "source": [
    "pred = [0,0,0,0,0,0, \n",
    "        1.01728361,  5.45975062, 25.08786724, 46.57270141, 64.30913021,\n",
    "       73.66176503, 73.63380766, 69.9740095 , 56.26302805, 39.45666122,\n",
    "       13.42792022,  1.83028575, -0.53697186,\n",
    "       0,0,0,0,0]"
   ]
  },
  {
   "cell_type": "code",
   "execution_count": 16,
   "metadata": {},
   "outputs": [],
   "source": [
    "import numpy as np\n",
    "\n",
    "def testMSEnIncentive(pred,day):\n",
    "    realGens1030 = np.array(day)    \n",
    "    \n",
    "    rss = np.power(pred - realGens1030, 2)\n",
    "    rss1 = rss[6:10]\n",
    "    rss2 = rss[10:14]\n",
    "    rss3 = rss[14:19]\n",
    "    mse1 = sum(rss1/len(rss1))\n",
    "    mse2 = sum(rss2/len(rss2))\n",
    "    mse3 = sum(rss3/len(rss3))\n",
    "    mse = [mse1,mse2,mse3]\n",
    "\n",
    "    score_df = abs(pred - realGens1030)*100/99\n",
    "    score = []\n",
    "    for idx, i in enumerate(score_df):\n",
    "        if i <=6:\n",
    "            score.append(realGens1030[idx] * 4)\n",
    "        elif (i <=8) & (i > 6):\n",
    "            score.append(realGens1030[idx] * 3)\n",
    "        else:\n",
    "            score.append(0)\n",
    "    score1 = score[6:10]\n",
    "    score2 = score[10:14]\n",
    "    score3 = score[14:19]\n",
    "    final_score = [score1,score2,score3]\n",
    "    \n",
    "    sum_score = sum(score)\n",
    "\n",
    "    return mse, final_score , score, sum_score"
   ]
  },
  {
   "cell_type": "code",
   "execution_count": 92,
   "metadata": {},
   "outputs": [
    {
     "data": {
      "text/plain": [
       "([224.74464980316156, 194.22955706440771, 20.427109856941687],\n",
       " [[0, 16, 0, 0], [0, 304, 292, 300], [232, 176, 0, 16, 0]],\n",
       " [0,\n",
       "  0,\n",
       "  0,\n",
       "  0,\n",
       "  0,\n",
       "  0,\n",
       "  0,\n",
       "  16,\n",
       "  0,\n",
       "  0,\n",
       "  0,\n",
       "  304,\n",
       "  292,\n",
       "  300,\n",
       "  232,\n",
       "  176,\n",
       "  0,\n",
       "  16,\n",
       "  0,\n",
       "  0,\n",
       "  0,\n",
       "  0,\n",
       "  0,\n",
       "  0],\n",
       " 1336)"
      ]
     },
     "execution_count": 92,
     "metadata": {},
     "output_type": "execute_result"
    }
   ],
   "source": [
    "testMSEnIncentive(pred,day)"
   ]
  },
  {
   "cell_type": "code",
   "execution_count": null,
   "metadata": {},
   "outputs": [],
   "source": []
  }
 ],
 "metadata": {
  "kernelspec": {
   "display_name": "'conda'",
   "language": "python",
   "name": "conda"
  },
  "language_info": {
   "codemirror_mode": {
    "name": "ipython",
    "version": 3
   },
   "file_extension": ".py",
   "mimetype": "text/x-python",
   "name": "python",
   "nbconvert_exporter": "python",
   "pygments_lexer": "ipython3",
   "version": "3.10.0"
  },
  "orig_nbformat": 4
 },
 "nbformat": 4,
 "nbformat_minor": 2
}
