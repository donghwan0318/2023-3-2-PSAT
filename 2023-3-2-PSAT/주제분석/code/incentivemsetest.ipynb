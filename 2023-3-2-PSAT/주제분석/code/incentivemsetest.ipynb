{
 "cells": [
  {
   "cell_type": "code",
   "execution_count": 5,
   "metadata": {},
   "outputs": [],
   "source": [
    "import pandas as pd\n",
    "import numpy as np\n",
    "\n",
    "# 모델\n",
    "from sklearn.metrics import mean_squared_error\n",
    "from lightgbm import LGBMRegressor"
   ]
  },
  {
   "cell_type": "markdown",
   "metadata": {},
   "source": [
    "# test mse/ incentive estimate"
   ]
  },
  {
   "cell_type": "code",
   "execution_count": 23,
   "metadata": {},
   "outputs": [],
   "source": [
    "def testMSEnIncentive(pred):\n",
    "    realGens1030 = np.array([0, 0, 0, 0, 0, 0,\n",
    "                            0, 4, 20, 56,\n",
    "                            65, 79, 81, 75,\n",
    "                            62, 45, 22, 3, 0,\n",
    "                            0, 0, 0, 0, 0])    \n",
    "    \n",
    "    rss = np.power(pred - realGens1030, 2)\n",
    "    rss1 = rss[6:10]\n",
    "    rss2 = rss[10:14]\n",
    "    rss3 = rss[14:19]\n",
    "    mse1 = sum(rss1/len(rss1))\n",
    "    mse2 = sum(rss2/len(rss2))\n",
    "    mse3 = sum(rss3/len(rss3))\n",
    "    mse = [mse1,mse2,mse3]\n",
    "\n",
    "    score_df = abs(pred - realGens1030)*100/99\n",
    "    score = []\n",
    "    for idx, i in enumerate(score_df):\n",
    "        if i <=6:\n",
    "            score.append(realGens1030[idx] * 4)\n",
    "        elif (i <=8) & (i > 6):\n",
    "            score.append(realGens1030[idx] * 3)\n",
    "        else:\n",
    "            score.append(0)\n",
    "    score1 = score[6:10]\n",
    "    score2 = score[10:14]\n",
    "    score3 = score[14:19]\n",
    "    final_score = [score1,score2,score3]\n",
    "\n",
    "    return mse, final_score"
   ]
  },
  {
   "cell_type": "markdown",
   "metadata": {},
   "source": [
    "# spliting test data set"
   ]
  },
  {
   "cell_type": "code",
   "execution_count": 6,
   "metadata": {},
   "outputs": [],
   "source": [
    "## test data set 만드는 함수\n",
    "def make_test_xy(wf,gf):\n",
    "    gf.columns = [\"time\",\"m0\",\"m1\",\"m2\",\"m3\",\"m4\"]\n",
    "    train = pd.merge(gf,wf,on=\"time\")\n",
    "    train[\"time\"] = pd.to_datetime(train[\"time\"])\n",
    "    train[\"month\"]=train[\"time\"].dt.month\n",
    "    train[\"day\"]=train[\"time\"].dt.day\n",
    "    train[\"hour\"]=train[\"time\"].dt.hour\n",
    "    \n",
    "    train_1 = train[(train[\"hour\"]<=10) & (train[\"hour\"]>=7)]\n",
    "    train_2 = train[(train[\"hour\"]<=14) & (train[\"hour\"]>=11)]\n",
    "    train_3 = train[(train[\"hour\"]<=19) & (train[\"hour\"]>=15)]\n",
    "    \n",
    "    train11 = train_1[[\"m0\",\"m1\",\"m2\",\"m3\",\"uv_idx\",\"elevation\"]]\n",
    "    train12 = train_2[[\"m0\",\"m1\",\"m2\",\"m3\",\"uv_idx\",\"elevation\"]]\n",
    "    train13 = train_3[[\"m0\",\"m1\",\"m2\",\"m3\",\"uv_idx\",\"elevation\"]]\n",
    "    train21 = train_1.drop([\"m0\",\"m1\",\"m2\",\"m3\",\"m4\",\"uv_idx\",\"elevation\",\"time\",\"hour\"],axis=1)\n",
    "    train22 = train_2.drop([\"m0\",\"m1\",\"m2\",\"m3\",\"m4\",\"uv_idx\",\"elevation\",\"time\",\"hour\"],axis=1)\n",
    "    train23 = train_3.drop([\"m0\",\"m1\",\"m2\",\"m3\",\"m4\",\"uv_idx\",\"elevation\",\"time\",\"hour\"],axis=1)\n",
    "    \n",
    "    return train11,train12,train13,train21,train22,train23"
   ]
  },
  {
   "cell_type": "markdown",
   "metadata": {},
   "source": [
    "# 데이터 load"
   ]
  },
  {
   "cell_type": "code",
   "execution_count": 11,
   "metadata": {},
   "outputs": [],
   "source": [
    "import joblib"
   ]
  },
  {
   "cell_type": "code",
   "execution_count": 67,
   "metadata": {},
   "outputs": [],
   "source": [
    "# 예측에 사용할 데이터 셋 불러오기 \n",
    "x_pred_ori = pd.read_csv(\"../data/gen_fcst_17_2023-10-30.csv\")\n",
    "x_pred_wf = pd.read_csv(\"../data/weather_forecasts/wf17_2023-10-30.csv\")"
   ]
  },
  {
   "cell_type": "code",
   "execution_count": 68,
   "metadata": {},
   "outputs": [],
   "source": [
    "# 함수에 넣어서 데이터셋 분리\n",
    "test11,test12,test13,test21,test22,test23 = make_test_xy(x_pred_wf,x_pred_ori)"
   ]
  },
  {
   "cell_type": "code",
   "execution_count": 69,
   "metadata": {},
   "outputs": [],
   "source": [
    "model11=joblib.load(\"../model/시간1회귀fitting_season9-11_r2.pkl\")\n",
    "model12=joblib.load(\"../model/시간2회귀fitting_season9-11_r2.pkl\")\n",
    "model13=joblib.load(\"../model/시간3회귀fitting_season9-11_r2.pkl\")"
   ]
  },
  {
   "cell_type": "code",
   "execution_count": 70,
   "metadata": {},
   "outputs": [],
   "source": [
    "# 예측 진행 (1차 모델링 y_hat)\n",
    "y_pred11=model11.predict(test11)\n",
    "y_pred12=model12.predict(test12)\n",
    "y_pred13=model13.predict(test13)"
   ]
  },
  {
   "cell_type": "code",
   "execution_count": 71,
   "metadata": {},
   "outputs": [],
   "source": [
    "model21=joblib.load(\"../model/시간1잔차fitting_season9-11_r2.pkl\")\n",
    "model22=joblib.load(\"../model/시간2잔차fitting_season9-11_r2.pkl\")\n",
    "model23=joblib.load(\"../model/시간3잔차fitting_season9-11_r2.pkl\")"
   ]
  },
  {
   "cell_type": "code",
   "execution_count": 72,
   "metadata": {},
   "outputs": [],
   "source": [
    "y_pred21 = model21.predict(test21)\n",
    "y_pred22 = model22.predict(test22)\n",
    "y_pred23 = model23.predict(test23)"
   ]
  },
  {
   "cell_type": "code",
   "execution_count": 73,
   "metadata": {},
   "outputs": [
    {
     "data": {
      "text/plain": [
       "array([ 0.73153268,  6.59974534, 26.63852524, 48.03316934, 63.03039959,\n",
       "       72.09729688, 74.00698146, 65.88170122, 50.30159219, 35.53265698,\n",
       "       14.17607442,  1.50903526,  0.75730511])"
      ]
     },
     "execution_count": 73,
     "metadata": {},
     "output_type": "execute_result"
    }
   ],
   "source": [
    "result1 = y_pred11+y_pred21\n",
    "result2 = y_pred12+y_pred22\n",
    "result3 = y_pred13+y_pred23\n",
    "result = np.concatenate((result1,result2,result3))\n",
    "result"
   ]
  },
  {
   "cell_type": "code",
   "execution_count": 74,
   "metadata": {},
   "outputs": [
    {
     "data": {
      "text/plain": [
       "24"
      ]
     },
     "execution_count": 74,
     "metadata": {},
     "output_type": "execute_result"
    }
   ],
   "source": [
    "pred = [0,0,0,0,0,0,\n",
    "    0.73153268,  6.59974534, 26.63852524, 48.03316934, 63.03039959,\n",
    "       72.09729688, 74.00698146, 65.88170122, 50.30159219, 35.53265698,\n",
    "       14.17607442,  1.50903526,  0.75730511,\n",
    "    0,0,0,0,0]\n",
    "len(pred)\n"
   ]
  },
  {
   "cell_type": "code",
   "execution_count": 75,
   "metadata": {},
   "outputs": [
    {
     "data": {
      "text/plain": [
       "([28.708556005498195, 45.893079270015775, 58.09872550286908],\n",
       " [[0, 16, 60, 0], [260, 237, 243, 0], [0, 0, 66, 12, 0]])"
      ]
     },
     "execution_count": 75,
     "metadata": {},
     "output_type": "execute_result"
    }
   ],
   "source": [
    "testMSEnIncentive(pred)"
   ]
  },
  {
   "cell_type": "code",
   "execution_count": 22,
   "metadata": {},
   "outputs": [
    {
     "data": {
      "text/plain": [
       "[1]"
      ]
     },
     "execution_count": 22,
     "metadata": {},
     "output_type": "execute_result"
    }
   ],
   "source": [
    "a=[1,2,3,4]\n",
    "a[0:1]"
   ]
  },
  {
   "cell_type": "code",
   "execution_count": null,
   "metadata": {},
   "outputs": [],
   "source": [
    "[0, 0, 0, 0, 0, 0,\n",
    "                            0, 4, 20, 56,\n",
    "                            65, 79, 81, 75,\n",
    "                            62, 45, 22, 3, 0,\n",
    "                            0, 0, 0, 0, 0]"
   ]
  }
 ],
 "metadata": {
  "kernelspec": {
   "display_name": "'conda'",
   "language": "python",
   "name": "conda"
  },
  "language_info": {
   "codemirror_mode": {
    "name": "ipython",
    "version": 3
   },
   "file_extension": ".py",
   "mimetype": "text/x-python",
   "name": "python",
   "nbconvert_exporter": "python",
   "pygments_lexer": "ipython3",
   "version": "3.10.0"
  }
 },
 "nbformat": 4,
 "nbformat_minor": 2
}
