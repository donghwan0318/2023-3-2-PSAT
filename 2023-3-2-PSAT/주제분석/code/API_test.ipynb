{
 "cells": [
  {
   "cell_type": "code",
   "execution_count": 1,
   "metadata": {},
   "outputs": [],
   "source": [
    "import requests\n",
    "import datetime\n",
    "\n",
    "import numpy as np\n",
    "import pandas as pd\n",
    "from eval_bid_sample import _get, _post"
   ]
  },
  {
   "cell_type": "code",
   "execution_count": 2,
   "metadata": {},
   "outputs": [],
   "source": [
    "_API_URL = \"https://research-api.solarkim.com\""
   ]
  },
  {
   "cell_type": "markdown",
   "metadata": {},
   "source": [
    "### !!!예측량 입찰 함수 정의!!!"
   ]
  },
  {
   "cell_type": "code",
   "execution_count": 3,
   "metadata": {},
   "outputs": [],
   "source": [
    "def _post_bids(amounts:list = [0.0] * 24):\n",
    "    \"\"\"\n",
    "    일단위 태양광 발전량 입찰. 시간별 24개의 발전량을 입찰하며 API가 호출된 시간에 따라 입찰 대상일이 결정된다. (https://research-api.solarkim.com/docs#tag/Competition-2023/operation/post_bids_cmpt_2023_bids_post 참고)\n",
    "    \"\"\"\n",
    "    if amounts == None:\n",
    "        print(\"ERROR: Check amount variable.\\n\")\n",
    "    else:\n",
    "        success = _post(f\"{_API_URL}/cmpt-2023/bids\", amounts)\n",
    "        print(success)"
   ]
  },
  {
   "cell_type": "markdown",
   "metadata": {},
   "source": [
    "### 입찰 결과 확인 함수 정의"
   ]
  },
  {
   "cell_type": "code",
   "execution_count": 4,
   "metadata": {},
   "outputs": [],
   "source": [
    "def _get_bids_result(date:str):\n",
    "    \"\"\"\n",
    "    더쉐어 예측 모델의 예측 결과 조회 (https://research-api.solarkim.com/docs#tag/Competition-2023/operation/get_bids_result_date_cmpt_2023_bid_results__date__get 참고)\n",
    "    \"\"\"\n",
    "    if date == None or len(date) != 10:\n",
    "        print('ERROR: Check date variable')\n",
    "    else:\n",
    "        bid_results = _get(f\"{_API_URL}/cmpt-2023/bid-results/{date}\")\n",
    "    print(bid_results)\n",
    "    return bid_results"
   ]
  },
  {
   "cell_type": "markdown",
   "metadata": {},
   "source": [
    "### 기상 예측 결과 얻는 함수 정의"
   ]
  },
  {
   "cell_type": "code",
   "execution_count": 5,
   "metadata": {},
   "outputs": [],
   "source": [
    "def _get_weathers_forecasts(date:str):\n",
    "    \"\"\"\n",
    "    기상데이터 일단위 기상예측 데이터 조회 (https://research-api.solarkim.com/docs#tag/Competition-2023/operation/get_weathers_forecasts_date_bid_round_cmpt_2023_weathers_forecasts__date___bid_round__get 참고)\n",
    "    \"\"\"\n",
    "    bid_round_10 = 1\n",
    "    bid_round_17 = 2\n",
    "    if date == None or len(date) != 10:\n",
    "        print('ERROR: Check date variable')\n",
    "    else:       \n",
    "        weather_fcst_10 = _get(\n",
    "            f\"{_API_URL}/cmpt-2023/weathers-forecasts/{date}/{bid_round_10}\"\n",
    "        )\n",
    "\n",
    "        weather_fcst_17 = _get(\n",
    "            f\"{_API_URL}/cmpt-2023/weathers-forecasts/{date}/{bid_round_17}\"\n",
    "        )\n",
    "\n",
    "    print(weather_fcst_10)\n",
    "    print(weather_fcst_17)\n",
    "    return weather_fcst_10, weather_fcst_17"
   ]
  },
  {
   "cell_type": "markdown",
   "metadata": {},
   "source": [
    "### 모델 예측 발전량 조회 함수 정의"
   ]
  },
  {
   "cell_type": "code",
   "execution_count": 6,
   "metadata": {},
   "outputs": [],
   "source": [
    "def _get_gen_forecasts(date:str):\n",
    "    \"\"\"\n",
    "    더쉐어 예측 모델의 예측 발전량 조회, 입찰대상일의 5가지 예측 모델의 예측 발전량 값을 취득한다 (https://research-api.solarkim.com/docs#tag/Competition-2023/operation/get_gen_forecasts_date_cmpt_2023_gen_forecasts__date___bid_round__get 참고)\n",
    "    \"\"\"\n",
    "    bid_round_10 = 1\n",
    "    bid_round_17 = 2\n",
    "\n",
    "    if date == None or len(date) != 10:\n",
    "        print('ERROR: Check date variable')\n",
    "    else:\n",
    "        gen_fcst_10 = _get(f\"{_API_URL}/cmpt-2023/gen-forecasts/{date}/{bid_round_10}\")\n",
    "\n",
    "        gen_fcst_17 = _get(f\"{_API_URL}/cmpt-2023/gen-forecasts/{date}/{bid_round_17}\")\n",
    "\n",
    "    print(gen_fcst_10)\n",
    "    print(gen_fcst_17)\n",
    "    return gen_fcst_10, gen_fcst_17"
   ]
  },
  {
   "cell_type": "markdown",
   "metadata": {},
   "source": [
    "### 실제 기상 데이터 얻는 함수 정의"
   ]
  },
  {
   "cell_type": "code",
   "execution_count": 7,
   "metadata": {},
   "outputs": [],
   "source": [
    "def _get_weathers_observeds(date:str):\n",
    "    \"\"\"\n",
    "    기상데이터 일단위 기상관측데이터 조회, 당일에 대해 조회하면 현재시간 기준 24시간치 조회 (https://research-api.solarkim.com/docs#tag/Competition-2023/operation/get_weathers_observeds_date_cmpt_2023_weathers_observeds__date__get 참고)\n",
    "    \"\"\"\n",
    "    if date == None or len(date) != 10:\n",
    "        print('ERROR: Check date variable')\n",
    "    else:    \n",
    "        weather_obsv = _get(f\"{_API_URL}/cmpt-2023/weathers-observeds/{date}\")\n",
    "    print(weather_obsv)\n",
    "    return weather_obsv"
   ]
  },
  {
   "cell_type": "markdown",
   "metadata": {},
   "source": [
    "### 국제표준시 -> 한국시간대로 바꾸는 함수 정의"
   ]
  },
  {
   "cell_type": "code",
   "execution_count": 8,
   "metadata": {},
   "outputs": [],
   "source": [
    "def clacTimeStd2KR(time:str):\n",
    "    dt = time\n",
    "    dt_obj = datetime.datetime.strptime(dt, '%Y-%m-%dT%H:%M:%S%z')\n",
    "    dt_obj = dt_obj - datetime.timedelta(hours = -9)\n",
    "\n",
    "    format = '%Y-%m-%d %H:%M:%S'\n",
    "\n",
    "    result =  datetime.datetime.strftime(dt_obj, format)\n",
    "    result = result + '+09:00'\n",
    "\n",
    "    return result"
   ]
  },
  {
   "cell_type": "markdown",
   "metadata": {},
   "source": [
    "# Test"
   ]
  },
  {
   "cell_type": "code",
   "execution_count": 9,
   "metadata": {},
   "outputs": [],
   "source": [
    "res=pd.read_csv(\"../result/gen17_incentive_weight1024.csv\",encoding=\"cp949\")"
   ]
  },
  {
   "cell_type": "code",
   "execution_count": null,
   "metadata": {},
   "outputs": [],
   "source": [
    "-0.07612896,  1.69179457, 13.04265534, 21.76186929, 20.17942529,\n",
    "       14.13697944, 27.9416048 , 20.44751025, 30.73367625, 12.01625192,\n",
    "        4.51355347, -3.74665397, -4.44325625"
   ]
  },
  {
   "cell_type": "code",
   "execution_count": 13,
   "metadata": {},
   "outputs": [
    {
     "name": "stdout",
     "output_type": "stream",
     "text": [
      "24\n"
     ]
    }
   ],
   "source": [
    "amounts = [0,0,0,0,0,0,\n",
    "          -0.07612896,  1.69179457, 13.04265534, 21.76186929, 20.17942529,\n",
    "       14.13697944, 27.9416048 , 20.44751025, 30.73367625, 12.01625192,\n",
    "        4.51355347, -3.74665397, -4.44325625,\n",
    "           0,0,0,0,0]\n",
    "print(len(amounts))"
   ]
  },
  {
   "cell_type": "code",
   "execution_count": 14,
   "metadata": {},
   "outputs": [
    {
     "name": "stdout",
     "output_type": "stream",
     "text": [
      "True\n"
     ]
    }
   ],
   "source": [
    "_post_bids(amounts)"
   ]
  },
  {
   "cell_type": "code",
   "execution_count": 64,
   "metadata": {},
   "outputs": [
    {
     "name": "stdout",
     "output_type": "stream",
     "text": [
      "[]\n"
     ]
    },
    {
     "data": {
      "text/plain": [
       "[]"
      ]
     },
     "execution_count": 64,
     "metadata": {},
     "output_type": "execute_result"
    }
   ],
   "source": [
    "date = '2023-10-23'\n",
    "_get_bids_result(date)"
   ]
  },
  {
   "cell_type": "code",
   "execution_count": 12,
   "metadata": {},
   "outputs": [
    {
     "name": "stdout",
     "output_type": "stream",
     "text": [
      "[{'time': '2023-11-16T16:00:00+00:00', 'cloud': 64.0, 'temp': 11.69, 'humidity': 61.0, 'ground_press': 1017.0, 'wind_speed': 11.2, 'wind_dir': 305.0, 'rain': 0.32, 'snow': 0.0, 'dew_point': 5.0, 'vis': 16.0934, 'uv_idx': 0.0, 'azimuth': 32.5174, 'elevation': -71.5717}, {'time': '2023-11-16T17:00:00+00:00', 'cloud': 71.0, 'temp': 11.8, 'humidity': 55.0, 'ground_press': 1017.0, 'wind_speed': 11.97, 'wind_dir': 303.0, 'rain': 0.0, 'snow': 0.0, 'dew_point': 4.44444, 'vis': 9.65606, 'uv_idx': 0.0, 'azimuth': 61.1458, 'elevation': -62.4471}, {'time': '2023-11-16T18:00:00+00:00', 'cloud': 76.0, 'temp': 10.62, 'humidity': 68.0, 'ground_press': 1017.0, 'wind_speed': 12.64, 'wind_dir': 314.0, 'rain': 0.31, 'snow': 0.0, 'dew_point': 3.88889, 'vis': 9.65606, 'uv_idx': 0.0, 'azimuth': 76.5384, 'elevation': -50.9475}, {'time': '2023-11-16T19:00:00+00:00', 'cloud': 79.0, 'temp': 10.11, 'humidity': 69.0, 'ground_press': 1017.0, 'wind_speed': 11.24, 'wind_dir': 315.0, 'rain': 0.62, 'snow': 0.0, 'dew_point': 3.33333, 'vis': 16.0934, 'uv_idx': 0.0, 'azimuth': 86.9056, 'elevation': -38.7691}, {'time': '2023-11-16T20:00:00+00:00', 'cloud': 89.0, 'temp': 10.08, 'humidity': 66.0, 'ground_press': 1016.0, 'wind_speed': 10.87, 'wind_dir': 313.0, 'rain': 0.57, 'snow': 0.0, 'dew_point': 3.33333, 'vis': 11.2654, 'uv_idx': 0.0, 'azimuth': 95.3452, 'elevation': -26.4669}, {'time': '2023-11-16T21:00:00+00:00', 'cloud': 93.0, 'temp': 9.65, 'humidity': 67.0, 'ground_press': 1016.0, 'wind_speed': 9.72, 'wind_dir': 318.0, 'rain': 0.56, 'snow': 0.0, 'dew_point': 3.33333, 'vis': 11.2654, 'uv_idx': 0.0, 'azimuth': 103.199, 'elevation': -14.3218}, {'time': '2023-11-16T22:00:00+00:00', 'cloud': 93.0, 'temp': 9.5, 'humidity': 66.0, 'ground_press': 1017.0, 'wind_speed': 9.37, 'wind_dir': 313.0, 'rain': 0.67, 'snow': 0.0, 'dew_point': 2.77778, 'vis': 11.2654, 'uv_idx': 0.0, 'azimuth': 111.249, 'elevation': -2.56557}, {'time': '2023-11-16T23:00:00+00:00', 'cloud': 95.0, 'temp': 10.18, 'humidity': 57.0, 'ground_press': 1017.0, 'wind_speed': 10.37, 'wind_dir': 298.0, 'rain': 0.49, 'snow': 0.0, 'dew_point': 2.22222, 'vis': 11.2654, 'uv_idx': 1.0, 'azimuth': 120.12, 'elevation': 8.52976}, {'time': '2023-11-17T00:00:00+00:00', 'cloud': 93.0, 'temp': 10.57, 'humidity': 49.0, 'ground_press': 1017.0, 'wind_speed': 11.92, 'wind_dir': 291.0, 'rain': 0.13, 'snow': 0.0, 'dew_point': 1.66667, 'vis': 11.2654, 'uv_idx': 1.0, 'azimuth': 130.433, 'elevation': 18.5861}, {'time': '2023-11-17T01:00:00+00:00', 'cloud': 74.0, 'temp': 10.89, 'humidity': 45.0, 'ground_press': 1016.0, 'wind_speed': 8.55, 'wind_dir': 285.0, 'rain': 0.0, 'snow': 0.0, 'dew_point': 2.77778, 'vis': 9.65606, 'uv_idx': 1.0, 'azimuth': 142.805, 'elevation': 27.0549}, {'time': '2023-11-17T02:00:00+00:00', 'cloud': 41.0, 'temp': 10.64, 'humidity': 55.0, 'ground_press': 1015.0, 'wind_speed': 12.13, 'wind_dir': 266.0, 'rain': 0.1, 'snow': 0.0, 'dew_point': 3.88889, 'vis': 9.65606, 'uv_idx': 1.0, 'azimuth': 157.62, 'elevation': 33.188}, {'time': '2023-11-17T03:00:00+00:00', 'cloud': 61.0, 'temp': 9.59, 'humidity': 74.0, 'ground_press': 1014.0, 'wind_speed': 13.67, 'wind_dir': 266.0, 'rain': 0.66, 'snow': 0.0, 'dew_point': 5.0, 'vis': 8.04672, 'uv_idx': 1.0, 'azimuth': 174.512, 'elevation': 36.1609}, {'time': '2023-11-17T04:00:00+00:00', 'cloud': 68.0, 'temp': 10.34, 'humidity': 59.0, 'ground_press': 1013.0, 'wind_speed': 17.76, 'wind_dir': 291.0, 'rain': 1.46, 'snow': 0.0, 'dew_point': 4.44444, 'vis': 16.0934, 'uv_idx': 1.0, 'azimuth': 192.004, 'elevation': 35.4461}, {'time': '2023-11-17T05:00:00+00:00', 'cloud': 67.0, 'temp': 8.82, 'humidity': 68.0, 'ground_press': 1013.0, 'wind_speed': 17.41, 'wind_dir': 303.0, 'rain': 0.0, 'snow': 0.0, 'dew_point': 4.44444, 'vis': 16.0934, 'uv_idx': 2.0, 'azimuth': 208.217, 'elevation': 31.1797}, {'time': '2023-11-17T06:00:00+00:00', 'cloud': 63.0, 'temp': 7.71, 'humidity': 76.0, 'ground_press': 1014.0, 'wind_speed': 15.2, 'wind_dir': 307.0, 'rain': 0.61, 'snow': 0.0, 'dew_point': 3.33333, 'vis': 16.0934, 'uv_idx': 2.0, 'azimuth': 222.084, 'elevation': 24.0576}, {'time': '2023-11-17T07:00:00+00:00', 'cloud': 100.0, 'temp': 7.51, 'humidity': 70.0, 'ground_press': 1014.0, 'wind_speed': 13.49, 'wind_dir': 316.0, 'rain': 0.59, 'snow': 0.0, 'dew_point': 2.77778, 'vis': 16.0934, 'uv_idx': 1.0, 'azimuth': 233.596, 'elevation': 14.9057}, {'time': '2023-11-17T08:00:00+00:00', 'cloud': 100.0, 'temp': 7.39, 'humidity': 70.0, 'ground_press': 1014.0, 'wind_speed': 14.27, 'wind_dir': 312.0, 'rain': 0.39, 'snow': 0.0, 'dew_point': 1.66667, 'vis': 16.0934, 'uv_idx': 0.0, 'azimuth': 243.273, 'elevation': 4.39859}, {'time': '2023-11-17T09:00:00+00:00', 'cloud': 100.0, 'temp': 7.22, 'humidity': 68.0, 'ground_press': 1015.0, 'wind_speed': 13.63, 'wind_dir': 312.0, 'rain': 0.49, 'snow': 0.0, 'dew_point': 1.11111, 'vis': 16.0934, 'uv_idx': 0.0, 'azimuth': 251.743, 'elevation': -6.98749}, {'time': '2023-11-17T10:00:00+00:00', 'cloud': 100.0, 'temp': 6.46, 'humidity': 78.0, 'ground_press': 1015.0, 'wind_speed': 14.19, 'wind_dir': 311.0, 'rain': 0.63, 'snow': 0.0, 'dew_point': 1.11111, 'vis': 9.65606, 'uv_idx': 0.0, 'azimuth': 259.615, 'elevation': -18.9234}, {'time': '2023-11-17T11:00:00+00:00', 'cloud': 100.0, 'temp': 6.26, 'humidity': 80.0, 'ground_press': 1015.0, 'wind_speed': 15.13, 'wind_dir': 311.0, 'rain': 0.88, 'snow': 0.0, 'dew_point': 1.11111, 'vis': 11.2654, 'uv_idx': 0.0, 'azimuth': 267.544, 'elevation': -31.1618}, {'time': '2023-11-17T12:00:00+00:00', 'cloud': 100.0, 'temp': 6.31, 'humidity': 73.0, 'ground_press': 1015.0, 'wind_speed': 15.37, 'wind_dir': 313.0, 'rain': 0.74, 'snow': 0.0, 'dew_point': 1.11111, 'vis': 9.65606, 'uv_idx': 0.0, 'azimuth': 276.445, 'elevation': -43.4692}, {'time': '2023-11-17T13:00:00+00:00', 'cloud': 100.0, 'temp': 6.46, 'humidity': 69.0, 'ground_press': 1015.0, 'wind_speed': 15.52, 'wind_dir': 310.0, 'rain': 0.4, 'snow': 0.0, 'dew_point': 1.11111, 'vis': 11.2654, 'uv_idx': 0.0, 'azimuth': 288.089, 'elevation': -55.5094}, {'time': '2023-11-17T14:00:00+00:00', 'cloud': 100.0, 'temp': 6.04, 'humidity': 75.0, 'ground_press': 1015.0, 'wind_speed': 15.84, 'wind_dir': 309.0, 'rain': 0.76, 'snow': 0.0, 'dew_point': 1.66667, 'vis': 16.0934, 'uv_idx': 0.0, 'azimuth': 306.974, 'elevation': -66.4845}, {'time': '2023-11-17T15:00:00+00:00', 'cloud': 100.0, 'temp': 5.3, 'humidity': 85.0, 'ground_press': 1015.0, 'wind_speed': 16.57, 'wind_dir': 305.0, 'rain': 1.11, 'snow': 0.0, 'dew_point': 1.66667, 'vis': 16.0934, 'uv_idx': 0.0, 'azimuth': 343.948, 'elevation': -73.7108}]\n",
      "[{'time': '2023-11-16T16:00:00+00:00', 'cloud': 92.0, 'temp': 11.55, 'humidity': 60.0, 'ground_press': 1017.0, 'wind_speed': 11.02, 'wind_dir': 306.0, 'rain': 0.3, 'snow': 0.0, 'dew_point': 5.0, 'vis': 16.0934, 'uv_idx': 0.0, 'azimuth': 32.5174, 'elevation': -71.5717}, {'time': '2023-11-16T17:00:00+00:00', 'cloud': 92.0, 'temp': 11.47, 'humidity': 56.0, 'ground_press': 1017.0, 'wind_speed': 10.97, 'wind_dir': 299.0, 'rain': 0.0, 'snow': 0.0, 'dew_point': 4.44444, 'vis': 9.65606, 'uv_idx': 0.0, 'azimuth': 61.1458, 'elevation': -62.4471}, {'time': '2023-11-16T18:00:00+00:00', 'cloud': 93.0, 'temp': 10.63, 'humidity': 64.0, 'ground_press': 1017.0, 'wind_speed': 11.7, 'wind_dir': 315.0, 'rain': 0.12, 'snow': 0.0, 'dew_point': 3.88889, 'vis': 9.65606, 'uv_idx': 0.0, 'azimuth': 76.5384, 'elevation': -50.9475}, {'time': '2023-11-16T19:00:00+00:00', 'cloud': 94.0, 'temp': 9.83, 'humidity': 69.0, 'ground_press': 1017.0, 'wind_speed': 10.95, 'wind_dir': 315.0, 'rain': 0.52, 'snow': 0.0, 'dew_point': 3.33333, 'vis': 16.0934, 'uv_idx': 0.0, 'azimuth': 86.9056, 'elevation': -38.7691}, {'time': '2023-11-16T20:00:00+00:00', 'cloud': 97.0, 'temp': 9.93, 'humidity': 65.0, 'ground_press': 1016.0, 'wind_speed': 11.47, 'wind_dir': 309.0, 'rain': 0.54, 'snow': 0.0, 'dew_point': 3.33333, 'vis': 11.2654, 'uv_idx': 0.0, 'azimuth': 95.3452, 'elevation': -26.4669}, {'time': '2023-11-16T21:00:00+00:00', 'cloud': 96.0, 'temp': 9.75, 'humidity': 63.0, 'ground_press': 1016.0, 'wind_speed': 10.9, 'wind_dir': 313.0, 'rain': 0.46, 'snow': 0.0, 'dew_point': 3.33333, 'vis': 11.2654, 'uv_idx': 0.0, 'azimuth': 103.199, 'elevation': -14.3218}, {'time': '2023-11-16T22:00:00+00:00', 'cloud': 87.0, 'temp': 9.94, 'humidity': 58.0, 'ground_press': 1017.0, 'wind_speed': 10.0, 'wind_dir': 313.0, 'rain': 0.35, 'snow': 0.0, 'dew_point': 2.77778, 'vis': 11.2654, 'uv_idx': 0.0, 'azimuth': 111.249, 'elevation': -2.56557}, {'time': '2023-11-16T23:00:00+00:00', 'cloud': 86.0, 'temp': 10.36, 'humidity': 54.0, 'ground_press': 1016.0, 'wind_speed': 8.57, 'wind_dir': 305.0, 'rain': 0.21, 'snow': 0.0, 'dew_point': 2.22222, 'vis': 11.2654, 'uv_idx': 1.0, 'azimuth': 120.12, 'elevation': 8.52976}, {'time': '2023-11-17T00:00:00+00:00', 'cloud': 88.0, 'temp': 10.65, 'humidity': 54.0, 'ground_press': 1017.0, 'wind_speed': 10.74, 'wind_dir': 288.0, 'rain': 0.29, 'snow': 0.0, 'dew_point': 1.66667, 'vis': 11.2654, 'uv_idx': 1.0, 'azimuth': 130.433, 'elevation': 18.5861}, {'time': '2023-11-17T01:00:00+00:00', 'cloud': 100.0, 'temp': 10.93, 'humidity': 53.0, 'ground_press': 1016.0, 'wind_speed': 8.68, 'wind_dir': 281.0, 'rain': 0.2, 'snow': 0.0, 'dew_point': 2.77778, 'vis': 9.65606, 'uv_idx': 1.0, 'azimuth': 142.805, 'elevation': 27.0549}, {'time': '2023-11-17T02:00:00+00:00', 'cloud': 57.0, 'temp': 10.76, 'humidity': 60.0, 'ground_press': 1015.0, 'wind_speed': 13.11, 'wind_dir': 265.0, 'rain': 0.14, 'snow': 0.0, 'dew_point': 3.88889, 'vis': 9.65606, 'uv_idx': 1.0, 'azimuth': 157.62, 'elevation': 33.188}, {'time': '2023-11-17T03:00:00+00:00', 'cloud': 71.0, 'temp': 9.91, 'humidity': 73.0, 'ground_press': 1014.0, 'wind_speed': 13.32, 'wind_dir': 271.0, 'rain': 0.88, 'snow': 0.0, 'dew_point': 5.0, 'vis': 8.04672, 'uv_idx': 1.0, 'azimuth': 174.512, 'elevation': 36.1609}, {'time': '2023-11-17T04:00:00+00:00', 'cloud': 79.0, 'temp': 10.59, 'humidity': 58.0, 'ground_press': 1013.0, 'wind_speed': 16.48, 'wind_dir': 288.0, 'rain': 1.0, 'snow': 0.0, 'dew_point': 4.44444, 'vis': 16.0934, 'uv_idx': 1.0, 'azimuth': 192.004, 'elevation': 35.4461}, {'time': '2023-11-17T05:00:00+00:00', 'cloud': 82.0, 'temp': 9.2, 'humidity': 65.0, 'ground_press': 1013.0, 'wind_speed': 17.39, 'wind_dir': 305.0, 'rain': 0.13, 'snow': 0.0, 'dew_point': 4.44444, 'vis': 16.0934, 'uv_idx': 2.0, 'azimuth': 208.217, 'elevation': 31.1797}, {'time': '2023-11-17T06:00:00+00:00', 'cloud': 84.0, 'temp': 8.1, 'humidity': 70.0, 'ground_press': 1014.0, 'wind_speed': 15.24, 'wind_dir': 315.0, 'rain': 0.27, 'snow': 0.0, 'dew_point': 3.33333, 'vis': 16.0934, 'uv_idx': 2.0, 'azimuth': 222.084, 'elevation': 24.0576}, {'time': '2023-11-17T07:00:00+00:00', 'cloud': 100.0, 'temp': 7.89, 'humidity': 65.0, 'ground_press': 1014.0, 'wind_speed': 14.87, 'wind_dir': 309.0, 'rain': 0.33, 'snow': 0.0, 'dew_point': 2.77778, 'vis': 16.0934, 'uv_idx': 1.0, 'azimuth': 233.596, 'elevation': 14.9057}, {'time': '2023-11-17T08:00:00+00:00', 'cloud': 100.0, 'temp': 7.88, 'humidity': 62.0, 'ground_press': 1014.0, 'wind_speed': 15.02, 'wind_dir': 310.0, 'rain': 0.17, 'snow': 0.0, 'dew_point': 1.66667, 'vis': 16.0934, 'uv_idx': 0.0, 'azimuth': 243.273, 'elevation': 4.39859}, {'time': '2023-11-17T09:00:00+00:00', 'cloud': 100.0, 'temp': 7.01, 'humidity': 72.0, 'ground_press': 1015.0, 'wind_speed': 15.11, 'wind_dir': 310.0, 'rain': 0.32, 'snow': 0.0, 'dew_point': 1.11111, 'vis': 16.0934, 'uv_idx': 0.0, 'azimuth': 251.743, 'elevation': -6.98749}, {'time': '2023-11-17T10:00:00+00:00', 'cloud': 100.0, 'temp': 6.73, 'humidity': 73.0, 'ground_press': 1015.0, 'wind_speed': 14.99, 'wind_dir': 312.0, 'rain': 0.68, 'snow': 0.0, 'dew_point': 1.11111, 'vis': 9.65606, 'uv_idx': 0.0, 'azimuth': 259.615, 'elevation': -18.9234}, {'time': '2023-11-17T11:00:00+00:00', 'cloud': 100.0, 'temp': 6.4, 'humidity': 78.0, 'ground_press': 1015.0, 'wind_speed': 14.96, 'wind_dir': 311.0, 'rain': 0.63, 'snow': 0.0, 'dew_point': 1.11111, 'vis': 11.2654, 'uv_idx': 0.0, 'azimuth': 267.544, 'elevation': -31.1618}, {'time': '2023-11-17T12:00:00+00:00', 'cloud': 100.0, 'temp': 6.21, 'humidity': 78.0, 'ground_press': 1015.0, 'wind_speed': 15.24, 'wind_dir': 313.0, 'rain': 0.71, 'snow': 0.0, 'dew_point': 1.11111, 'vis': 9.65606, 'uv_idx': 0.0, 'azimuth': 276.445, 'elevation': -43.4692}, {'time': '2023-11-17T13:00:00+00:00', 'cloud': 100.0, 'temp': 6.39, 'humidity': 71.0, 'ground_press': 1015.0, 'wind_speed': 15.57, 'wind_dir': 312.0, 'rain': 0.65, 'snow': 0.0, 'dew_point': 1.11111, 'vis': 11.2654, 'uv_idx': 0.0, 'azimuth': 288.089, 'elevation': -55.5094}, {'time': '2023-11-17T14:00:00+00:00', 'cloud': 100.0, 'temp': 6.37, 'humidity': 70.0, 'ground_press': 1015.0, 'wind_speed': 16.11, 'wind_dir': 310.0, 'rain': 0.55, 'snow': 0.0, 'dew_point': 1.66667, 'vis': 16.0934, 'uv_idx': 0.0, 'azimuth': 306.974, 'elevation': -66.4845}, {'time': '2023-11-17T15:00:00+00:00', 'cloud': 100.0, 'temp': 6.14, 'humidity': 75.0, 'ground_press': 1015.0, 'wind_speed': 16.42, 'wind_dir': 308.0, 'rain': 0.56, 'snow': 0.0, 'dew_point': 1.66667, 'vis': 16.0934, 'uv_idx': 0.0, 'azimuth': 343.948, 'elevation': -73.7108}]\n"
     ]
    }
   ],
   "source": [
    "date = \"2023-11-17\"\n",
    "wf10, wf17 = _get_weathers_forecasts(date)\n",
    "wf10_df = pd.DataFrame.from_records(wf10)\n",
    "wf17_df = pd.DataFrame.from_records(wf17)\n",
    "wf10_df['time'] = wf10_df['time'].apply(clacTimeStd2KR)\n",
    "wf17_df['time'] = wf17_df['time'].apply(clacTimeStd2KR)\n",
    "wf10_df.to_csv('../data/weather_forecasts/wf10_{0}.csv'.format(date), index = False)\n",
    "wf17_df.to_csv('../data/weather_forecasts/wf17_{0}.csv'.format(date), index = False)"
   ]
  },
  {
   "cell_type": "code",
   "execution_count": 14,
   "metadata": {},
   "outputs": [],
   "source": [
    "col_name = ['time', 'cloud', 'temp', 'humidity',\n",
    "            'ground_press', 'wind_speed', 'wind_dir',\n",
    "            'rain', 'snow', 'dew_point', 'vis',\n",
    "            'uv_idx', 'azimuth', 'elevation']    "
   ]
  },
  {
   "cell_type": "code",
   "execution_count": 11,
   "metadata": {},
   "outputs": [
    {
     "name": "stdout",
     "output_type": "stream",
     "text": [
      "[{'time': '2023-11-16T16:00:00+00:00', 'model1': 0.0, 'model2': 0.0, 'model3': 0.0, 'model4': 0.0, 'model5': 0.0}, {'time': '2023-11-16T17:00:00+00:00', 'model1': 0.0, 'model2': 0.0, 'model3': 0.0, 'model4': 0.0, 'model5': 0.0}, {'time': '2023-11-16T18:00:00+00:00', 'model1': 0.0, 'model2': 0.0, 'model3': 0.0, 'model4': 0.0, 'model5': 0.0}, {'time': '2023-11-16T19:00:00+00:00', 'model1': 0.0, 'model2': 0.0, 'model3': 0.0, 'model4': 0.0, 'model5': 0.0}, {'time': '2023-11-16T20:00:00+00:00', 'model1': 0.0, 'model2': 0.0, 'model3': 0.0, 'model4': 0.0, 'model5': 0.0}, {'time': '2023-11-16T21:00:00+00:00', 'model1': 0.0, 'model2': 0.0, 'model3': 0.0, 'model4': 0.0, 'model5': 0.0}, {'time': '2023-11-16T22:00:00+00:00', 'model1': 0.0, 'model2': 0.0, 'model3': 0.000485629, 'model4': 0.0, 'model5': 0.0}, {'time': '2023-11-16T23:00:00+00:00', 'model1': 1.69392, 'model2': 4.90879, 'model3': 0.5168, 'model4': 0.322122, 'model5': 5.41806}, {'time': '2023-11-17T00:00:00+00:00', 'model1': 7.86439, 'model2': 12.5125, 'model3': 9.23058, 'model4': 8.15699, 'model5': 28.2972}, {'time': '2023-11-17T01:00:00+00:00', 'model1': 24.2321, 'model2': 23.969, 'model3': 30.6119, 'model4': 21.1394, 'model5': 43.278}, {'time': '2023-11-17T02:00:00+00:00', 'model1': 35.1387, 'model2': 24.0009, 'model3': 29.2346, 'model4': 13.9547, 'model5': 53.6094}, {'time': '2023-11-17T03:00:00+00:00', 'model1': 30.4619, 'model2': 12.932, 'model3': 11.4759, 'model4': 11.4619, 'model5': 47.1759}, {'time': '2023-11-17T04:00:00+00:00', 'model1': 31.2199, 'model2': 19.8265, 'model3': 16.1472, 'model4': 17.8061, 'model5': 53.6594}, {'time': '2023-11-17T05:00:00+00:00', 'model1': 38.9404, 'model2': 26.326, 'model3': 16.009, 'model4': 18.1071, 'model5': 43.5699}, {'time': '2023-11-17T06:00:00+00:00', 'model1': 28.4142, 'model2': 25.3939, 'model3': 14.0327, 'model4': 15.4604, 'model5': 42.7589}, {'time': '2023-11-17T07:00:00+00:00', 'model1': 15.4504, 'model2': 15.1887, 'model3': 9.12216, 'model4': 9.85673, 'model5': 24.8415}, {'time': '2023-11-17T08:00:00+00:00', 'model1': 5.68483, 'model2': 5.72863, 'model3': 3.4388, 'model4': 5.95381, 'model5': 0.407797}, {'time': '2023-11-17T09:00:00+00:00', 'model1': 0.897463, 'model2': 2.14245, 'model3': 0.115512, 'model4': 2.00809, 'model5': 0.0}, {'time': '2023-11-17T10:00:00+00:00', 'model1': 0.34778, 'model2': 0.0, 'model3': 0.0334018, 'model4': 1.01483, 'model5': 0.0}, {'time': '2023-11-17T11:00:00+00:00', 'model1': 0.0, 'model2': 0.0, 'model3': 0.0, 'model4': 0.0, 'model5': 0.0}, {'time': '2023-11-17T12:00:00+00:00', 'model1': 0.0, 'model2': 0.0, 'model3': 0.0, 'model4': 0.0, 'model5': 0.0}, {'time': '2023-11-17T13:00:00+00:00', 'model1': 0.0, 'model2': 0.0, 'model3': 0.0, 'model4': 0.0, 'model5': 0.0}, {'time': '2023-11-17T14:00:00+00:00', 'model1': 0.0, 'model2': 0.0, 'model3': 0.0, 'model4': 0.0, 'model5': 0.0}, {'time': '2023-11-17T15:00:00+00:00', 'model1': 0.0, 'model2': 0.0, 'model3': 0.0, 'model4': 0.0, 'model5': 0.0}]\n",
      "[{'time': '2023-11-16T16:00:00+00:00', 'model1': 0.0, 'model2': 0.0, 'model3': 0.0, 'model4': 0.0, 'model5': 0.0}, {'time': '2023-11-16T17:00:00+00:00', 'model1': 0.0, 'model2': 0.0, 'model3': 0.0, 'model4': 0.0, 'model5': 0.0}, {'time': '2023-11-16T18:00:00+00:00', 'model1': 0.0, 'model2': 0.0, 'model3': 0.0, 'model4': 0.0, 'model5': 0.0}, {'time': '2023-11-16T19:00:00+00:00', 'model1': 0.0, 'model2': 0.0, 'model3': 0.0, 'model4': 0.0, 'model5': 0.0}, {'time': '2023-11-16T20:00:00+00:00', 'model1': 0.0, 'model2': 0.0, 'model3': 0.0, 'model4': 0.0, 'model5': 0.0}, {'time': '2023-11-16T21:00:00+00:00', 'model1': 0.0, 'model2': 0.0, 'model3': 0.0, 'model4': 0.0, 'model5': 0.0}, {'time': '2023-11-16T22:00:00+00:00', 'model1': 0.0, 'model2': 0.0, 'model3': 0.00123465, 'model4': 0.0, 'model5': 1.88075}, {'time': '2023-11-16T23:00:00+00:00', 'model1': 3.15474, 'model2': 6.982, 'model3': 2.76563, 'model4': 0.181976, 'model5': 5.56235}, {'time': '2023-11-17T00:00:00+00:00', 'model1': 7.86709, 'model2': 12.0318, 'model3': 14.0715, 'model4': 6.79273, 'model5': 25.9873}, {'time': '2023-11-17T01:00:00+00:00', 'model1': 16.2502, 'model2': 19.3349, 'model3': 25.6519, 'model4': 15.8521, 'model5': 31.7092}, {'time': '2023-11-17T02:00:00+00:00', 'model1': 31.5656, 'model2': 22.8601, 'model3': 29.8832, 'model4': 15.7591, 'model5': 44.1842}, {'time': '2023-11-17T03:00:00+00:00', 'model1': 24.1277, 'model2': 15.7984, 'model3': 13.4926, 'model4': 9.86218, 'model5': 38.0739}, {'time': '2023-11-17T04:00:00+00:00', 'model1': 29.6041, 'model2': 21.4517, 'model3': 24.0076, 'model4': 17.7628, 'model5': 38.7359}, {'time': '2023-11-17T05:00:00+00:00', 'model1': 32.6014, 'model2': 20.6501, 'model3': 25.6596, 'model4': 18.2293, 'model5': 22.1747}, {'time': '2023-11-17T06:00:00+00:00', 'model1': 20.944, 'model2': 19.5922, 'model3': 20.3618, 'model4': 14.5382, 'model5': 26.8523}, {'time': '2023-11-17T07:00:00+00:00', 'model1': 17.5371, 'model2': 14.3883, 'model3': 9.51675, 'model4': 13.8239, 'model5': 11.0601}, {'time': '2023-11-17T08:00:00+00:00', 'model1': 7.03432, 'model2': 6.80045, 'model3': 1.09316, 'model4': 2.33887, 'model5': 0.0}, {'time': '2023-11-17T09:00:00+00:00', 'model1': 1.34941, 'model2': 1.11867, 'model3': 0.020394, 'model4': 0.0, 'model5': 0.0}, {'time': '2023-11-17T10:00:00+00:00', 'model1': 1.09449, 'model2': 0.0, 'model3': 0.0, 'model4': 0.0, 'model5': 0.0}, {'time': '2023-11-17T11:00:00+00:00', 'model1': 0.0, 'model2': 0.0, 'model3': 0.0, 'model4': 0.0, 'model5': 0.0}, {'time': '2023-11-17T12:00:00+00:00', 'model1': 0.0, 'model2': 0.0, 'model3': 0.0, 'model4': 0.0, 'model5': 0.0}, {'time': '2023-11-17T13:00:00+00:00', 'model1': 0.0, 'model2': 0.0, 'model3': 0.0, 'model4': 0.0, 'model5': 0.0}, {'time': '2023-11-17T14:00:00+00:00', 'model1': 0.0, 'model2': 0.0, 'model3': 0.0, 'model4': 0.0, 'model5': 0.0}, {'time': '2023-11-17T15:00:00+00:00', 'model1': 0.0, 'model2': 0.0, 'model3': 0.0, 'model4': 0.0, 'model5': 0.0}]\n"
     ]
    }
   ],
   "source": [
    "date = \"2023-11-17\"\n",
    "gen_fcst_10, gen_fcst_17 = _get_gen_forecasts(date)\n",
    "gen_fcst_10_df = pd.DataFrame.from_records(gen_fcst_10)\n",
    "gen_fcst_17_df= pd.DataFrame.from_records(gen_fcst_17)\n",
    "gen_fcst_10_df['time'] = gen_fcst_10_df['time'].apply(clacTimeStd2KR)\n",
    "gen_fcst_17_df['time'] = gen_fcst_17_df['time'].apply(clacTimeStd2KR)\n",
    "gen_fcst_10_df.to_csv('../data/gen_fcst_10_{0}.csv'.format(date), index = False)\n",
    "gen_fcst_17_df.to_csv('../data/gen_fcst_17_{0}.csv'.format(date), index = False)"
   ]
  },
  {
   "cell_type": "code",
   "execution_count": 11,
   "metadata": {},
   "outputs": [
    {
     "name": "stdout",
     "output_type": "stream",
     "text": [
      "[]\n"
     ]
    }
   ],
   "source": [
    "date = \"2023-10-25\"\n",
    "weather_obsv = _get_weathers_observeds(date)\n",
    "weather_obsv_df = pd.DataFrame.from_records(weather_obsv)\n",
    "weather_obsv_df.to_csv('../data/weather_obsvs/weather_obsv_{0}.csv'.format(date), index = False)"
   ]
  },
  {
   "cell_type": "code",
   "execution_count": 11,
   "metadata": {},
   "outputs": [
    {
     "name": "stdout",
     "output_type": "stream",
     "text": [
      "[{'time': '2023-10-25T01:00:00+09:00', 'model1': {'error': 0.0, 'incentive': 0}, 'model2': {'error': 0.0, 'incentive': 0}, 'model3': {'error': 0.0, 'incentive': 0}, 'model4': {'error': 0.0, 'incentive': 0}, 'model5': {'error': 0.0, 'incentive': 0}}, {'time': '2023-10-25T02:00:00+09:00', 'model1': {'error': 0.0, 'incentive': 0}, 'model2': {'error': 0.0, 'incentive': 0}, 'model3': {'error': 0.0, 'incentive': 0}, 'model4': {'error': 0.0, 'incentive': 0}, 'model5': {'error': 0.0, 'incentive': 0}}, {'time': '2023-10-25T03:00:00+09:00', 'model1': {'error': 0.0, 'incentive': 0}, 'model2': {'error': 0.0, 'incentive': 0}, 'model3': {'error': 0.0, 'incentive': 0}, 'model4': {'error': 0.0, 'incentive': 0}, 'model5': {'error': 0.0, 'incentive': 0}}, {'time': '2023-10-25T04:00:00+09:00', 'model1': {'error': 0.0, 'incentive': 0}, 'model2': {'error': 0.0, 'incentive': 0}, 'model3': {'error': 0.0, 'incentive': 0}, 'model4': {'error': 0.0, 'incentive': 0}, 'model5': {'error': 0.0, 'incentive': 0}}, {'time': '2023-10-25T05:00:00+09:00', 'model1': {'error': 0.0, 'incentive': 0}, 'model2': {'error': 0.0, 'incentive': 0}, 'model3': {'error': 0.0, 'incentive': 0}, 'model4': {'error': 0.0, 'incentive': 0}, 'model5': {'error': 0.0, 'incentive': 0}}, {'time': '2023-10-25T06:00:00+09:00', 'model1': {'error': 0.0, 'incentive': 0}, 'model2': {'error': 0.0, 'incentive': 0}, 'model3': {'error': 0.0, 'incentive': 0}, 'model4': {'error': 0.0, 'incentive': 0}, 'model5': {'error': 0.0, 'incentive': 0}}, {'time': '2023-10-25T07:00:00+09:00', 'model1': {'error': 2.0202, 'incentive': 0}, 'model2': {'error': 4.0404, 'incentive': 0}, 'model3': {'error': 0.0, 'incentive': 0}, 'model4': {'error': 0.0, 'incentive': 0}, 'model5': {'error': 0.0, 'incentive': 0}}, {'time': '2023-10-25T08:00:00+09:00', 'model1': {'error': 1.0101, 'incentive': 0}, 'model2': {'error': 6.06061, 'incentive': 0}, 'model3': {'error': 3.0303, 'incentive': 0}, 'model4': {'error': 3.0303, 'incentive': 0}, 'model5': {'error': 2.0202, 'incentive': 0}}, {'time': '2023-10-25T09:00:00+09:00', 'model1': {'error': 2.0202, 'incentive': 116}, 'model2': {'error': 1.0101, 'incentive': 116}, 'model3': {'error': 5.05051, 'incentive': 116}, 'model4': {'error': 4.0404, 'incentive': 116}, 'model5': {'error': 0.0, 'incentive': 116}}, {'time': '2023-10-25T10:00:00+09:00', 'model1': {'error': 8.08081, 'incentive': 0}, 'model2': {'error': 8.08081, 'incentive': 0}, 'model3': {'error': 8.08081, 'incentive': 0}, 'model4': {'error': 10.101, 'incentive': 0}, 'model5': {'error': 5.05051, 'incentive': 212}}, {'time': '2023-10-25T11:00:00+09:00', 'model1': {'error': 5.05051, 'incentive': 272}, 'model2': {'error': 9.09091, 'incentive': 0}, 'model3': {'error': 11.1111, 'incentive': 0}, 'model4': {'error': 11.1111, 'incentive': 0}, 'model5': {'error': 3.0303, 'incentive': 272}}, {'time': '2023-10-25T12:00:00+09:00', 'model1': {'error': 3.0303, 'incentive': 292}, 'model2': {'error': 7.07071, 'incentive': 219}, 'model3': {'error': 11.1111, 'incentive': 0}, 'model4': {'error': 8.08081, 'incentive': 0}, 'model5': {'error': 12.1212, 'incentive': 0}}, {'time': '2023-10-25T13:00:00+09:00', 'model1': {'error': 8.08081, 'incentive': 0}, 'model2': {'error': 9.09091, 'incentive': 0}, 'model3': {'error': 14.1414, 'incentive': 0}, 'model4': {'error': 9.09091, 'incentive': 0}, 'model5': {'error': 9.09091, 'incentive': 0}}, {'time': '2023-10-25T14:00:00+09:00', 'model1': {'error': 17.1717, 'incentive': 0}, 'model2': {'error': 18.1818, 'incentive': 0}, 'model3': {'error': 24.2424, 'incentive': 0}, 'model4': {'error': 15.1515, 'incentive': 0}, 'model5': {'error': 28.2828, 'incentive': 0}}, {'time': '2023-10-25T15:00:00+09:00', 'model1': {'error': 13.1313, 'incentive': 0}, 'model2': {'error': 16.1616, 'incentive': 0}, 'model3': {'error': 20.202, 'incentive': 0}, 'model4': {'error': 15.1515, 'incentive': 0}, 'model5': {'error': 41.4141, 'incentive': 0}}, {'time': '2023-10-25T16:00:00+09:00', 'model1': {'error': 8.08081, 'incentive': 0}, 'model2': {'error': 9.09091, 'incentive': 0}, 'model3': {'error': 11.1111, 'incentive': 0}, 'model4': {'error': 9.09091, 'incentive': 0}, 'model5': {'error': 20.202, 'incentive': 0}}, {'time': '2023-10-25T17:00:00+09:00', 'model1': {'error': 8.08081, 'incentive': 0}, 'model2': {'error': 10.101, 'incentive': 0}, 'model3': {'error': 12.1212, 'incentive': 0}, 'model4': {'error': 11.1111, 'incentive': 0}, 'model5': {'error': 6.06061, 'incentive': 69}}, {'time': '2023-10-25T18:00:00+09:00', 'model1': {'error': 2.0202, 'incentive': 0}, 'model2': {'error': 3.0303, 'incentive': 0}, 'model3': {'error': 2.0202, 'incentive': 0}, 'model4': {'error': 2.0202, 'incentive': 0}, 'model5': {'error': 3.0303, 'incentive': 0}}, {'time': '2023-10-25T19:00:00+09:00', 'model1': {'error': 3.0303, 'incentive': 0}, 'model2': {'error': 0.0, 'incentive': 0}, 'model3': {'error': 0.0, 'incentive': 0}, 'model4': {'error': 0.0, 'incentive': 0}, 'model5': {'error': 0.0, 'incentive': 0}}, {'time': '2023-10-25T20:00:00+09:00', 'model1': {'error': 0.0, 'incentive': 0}, 'model2': {'error': 0.0, 'incentive': 0}, 'model3': {'error': 0.0, 'incentive': 0}, 'model4': {'error': 0.0, 'incentive': 0}, 'model5': {'error': 0.0, 'incentive': 0}}, {'time': '2023-10-25T21:00:00+09:00', 'model1': {'error': 0.0, 'incentive': 0}, 'model2': {'error': 0.0, 'incentive': 0}, 'model3': {'error': 0.0, 'incentive': 0}, 'model4': {'error': 0.0, 'incentive': 0}, 'model5': {'error': 0.0, 'incentive': 0}}, {'time': '2023-10-25T22:00:00+09:00', 'model1': {'error': 0.0, 'incentive': 0}, 'model2': {'error': 0.0, 'incentive': 0}, 'model3': {'error': 0.0, 'incentive': 0}, 'model4': {'error': 0.0, 'incentive': 0}, 'model5': {'error': 0.0, 'incentive': 0}}, {'time': '2023-10-25T23:00:00+09:00', 'model1': {'error': 0.0, 'incentive': 0}, 'model2': {'error': 0.0, 'incentive': 0}, 'model3': {'error': 0.0, 'incentive': 0}, 'model4': {'error': 0.0, 'incentive': 0}, 'model5': {'error': 0.0, 'incentive': 0}}, {'time': '2023-10-26T00:00:00+09:00', 'model1': {'error': 0.0, 'incentive': 0}, 'model2': {'error': 0.0, 'incentive': 0}, 'model3': {'error': 0.0, 'incentive': 0}, 'model4': {'error': 0.0, 'incentive': 0}, 'model5': {'error': 0.0, 'incentive': 0}}]\n"
     ]
    },
    {
     "data": {
      "text/plain": [
       "[{'time': '2023-10-25T01:00:00+09:00',\n",
       "  'model1': {'error': 0.0, 'incentive': 0},\n",
       "  'model2': {'error': 0.0, 'incentive': 0},\n",
       "  'model3': {'error': 0.0, 'incentive': 0},\n",
       "  'model4': {'error': 0.0, 'incentive': 0},\n",
       "  'model5': {'error': 0.0, 'incentive': 0}},\n",
       " {'time': '2023-10-25T02:00:00+09:00',\n",
       "  'model1': {'error': 0.0, 'incentive': 0},\n",
       "  'model2': {'error': 0.0, 'incentive': 0},\n",
       "  'model3': {'error': 0.0, 'incentive': 0},\n",
       "  'model4': {'error': 0.0, 'incentive': 0},\n",
       "  'model5': {'error': 0.0, 'incentive': 0}},\n",
       " {'time': '2023-10-25T03:00:00+09:00',\n",
       "  'model1': {'error': 0.0, 'incentive': 0},\n",
       "  'model2': {'error': 0.0, 'incentive': 0},\n",
       "  'model3': {'error': 0.0, 'incentive': 0},\n",
       "  'model4': {'error': 0.0, 'incentive': 0},\n",
       "  'model5': {'error': 0.0, 'incentive': 0}},\n",
       " {'time': '2023-10-25T04:00:00+09:00',\n",
       "  'model1': {'error': 0.0, 'incentive': 0},\n",
       "  'model2': {'error': 0.0, 'incentive': 0},\n",
       "  'model3': {'error': 0.0, 'incentive': 0},\n",
       "  'model4': {'error': 0.0, 'incentive': 0},\n",
       "  'model5': {'error': 0.0, 'incentive': 0}},\n",
       " {'time': '2023-10-25T05:00:00+09:00',\n",
       "  'model1': {'error': 0.0, 'incentive': 0},\n",
       "  'model2': {'error': 0.0, 'incentive': 0},\n",
       "  'model3': {'error': 0.0, 'incentive': 0},\n",
       "  'model4': {'error': 0.0, 'incentive': 0},\n",
       "  'model5': {'error': 0.0, 'incentive': 0}},\n",
       " {'time': '2023-10-25T06:00:00+09:00',\n",
       "  'model1': {'error': 0.0, 'incentive': 0},\n",
       "  'model2': {'error': 0.0, 'incentive': 0},\n",
       "  'model3': {'error': 0.0, 'incentive': 0},\n",
       "  'model4': {'error': 0.0, 'incentive': 0},\n",
       "  'model5': {'error': 0.0, 'incentive': 0}},\n",
       " {'time': '2023-10-25T07:00:00+09:00',\n",
       "  'model1': {'error': 2.0202, 'incentive': 0},\n",
       "  'model2': {'error': 4.0404, 'incentive': 0},\n",
       "  'model3': {'error': 0.0, 'incentive': 0},\n",
       "  'model4': {'error': 0.0, 'incentive': 0},\n",
       "  'model5': {'error': 0.0, 'incentive': 0}},\n",
       " {'time': '2023-10-25T08:00:00+09:00',\n",
       "  'model1': {'error': 1.0101, 'incentive': 0},\n",
       "  'model2': {'error': 6.06061, 'incentive': 0},\n",
       "  'model3': {'error': 3.0303, 'incentive': 0},\n",
       "  'model4': {'error': 3.0303, 'incentive': 0},\n",
       "  'model5': {'error': 2.0202, 'incentive': 0}},\n",
       " {'time': '2023-10-25T09:00:00+09:00',\n",
       "  'model1': {'error': 2.0202, 'incentive': 116},\n",
       "  'model2': {'error': 1.0101, 'incentive': 116},\n",
       "  'model3': {'error': 5.05051, 'incentive': 116},\n",
       "  'model4': {'error': 4.0404, 'incentive': 116},\n",
       "  'model5': {'error': 0.0, 'incentive': 116}},\n",
       " {'time': '2023-10-25T10:00:00+09:00',\n",
       "  'model1': {'error': 8.08081, 'incentive': 0},\n",
       "  'model2': {'error': 8.08081, 'incentive': 0},\n",
       "  'model3': {'error': 8.08081, 'incentive': 0},\n",
       "  'model4': {'error': 10.101, 'incentive': 0},\n",
       "  'model5': {'error': 5.05051, 'incentive': 212}},\n",
       " {'time': '2023-10-25T11:00:00+09:00',\n",
       "  'model1': {'error': 5.05051, 'incentive': 272},\n",
       "  'model2': {'error': 9.09091, 'incentive': 0},\n",
       "  'model3': {'error': 11.1111, 'incentive': 0},\n",
       "  'model4': {'error': 11.1111, 'incentive': 0},\n",
       "  'model5': {'error': 3.0303, 'incentive': 272}},\n",
       " {'time': '2023-10-25T12:00:00+09:00',\n",
       "  'model1': {'error': 3.0303, 'incentive': 292},\n",
       "  'model2': {'error': 7.07071, 'incentive': 219},\n",
       "  'model3': {'error': 11.1111, 'incentive': 0},\n",
       "  'model4': {'error': 8.08081, 'incentive': 0},\n",
       "  'model5': {'error': 12.1212, 'incentive': 0}},\n",
       " {'time': '2023-10-25T13:00:00+09:00',\n",
       "  'model1': {'error': 8.08081, 'incentive': 0},\n",
       "  'model2': {'error': 9.09091, 'incentive': 0},\n",
       "  'model3': {'error': 14.1414, 'incentive': 0},\n",
       "  'model4': {'error': 9.09091, 'incentive': 0},\n",
       "  'model5': {'error': 9.09091, 'incentive': 0}},\n",
       " {'time': '2023-10-25T14:00:00+09:00',\n",
       "  'model1': {'error': 17.1717, 'incentive': 0},\n",
       "  'model2': {'error': 18.1818, 'incentive': 0},\n",
       "  'model3': {'error': 24.2424, 'incentive': 0},\n",
       "  'model4': {'error': 15.1515, 'incentive': 0},\n",
       "  'model5': {'error': 28.2828, 'incentive': 0}},\n",
       " {'time': '2023-10-25T15:00:00+09:00',\n",
       "  'model1': {'error': 13.1313, 'incentive': 0},\n",
       "  'model2': {'error': 16.1616, 'incentive': 0},\n",
       "  'model3': {'error': 20.202, 'incentive': 0},\n",
       "  'model4': {'error': 15.1515, 'incentive': 0},\n",
       "  'model5': {'error': 41.4141, 'incentive': 0}},\n",
       " {'time': '2023-10-25T16:00:00+09:00',\n",
       "  'model1': {'error': 8.08081, 'incentive': 0},\n",
       "  'model2': {'error': 9.09091, 'incentive': 0},\n",
       "  'model3': {'error': 11.1111, 'incentive': 0},\n",
       "  'model4': {'error': 9.09091, 'incentive': 0},\n",
       "  'model5': {'error': 20.202, 'incentive': 0}},\n",
       " {'time': '2023-10-25T17:00:00+09:00',\n",
       "  'model1': {'error': 8.08081, 'incentive': 0},\n",
       "  'model2': {'error': 10.101, 'incentive': 0},\n",
       "  'model3': {'error': 12.1212, 'incentive': 0},\n",
       "  'model4': {'error': 11.1111, 'incentive': 0},\n",
       "  'model5': {'error': 6.06061, 'incentive': 69}},\n",
       " {'time': '2023-10-25T18:00:00+09:00',\n",
       "  'model1': {'error': 2.0202, 'incentive': 0},\n",
       "  'model2': {'error': 3.0303, 'incentive': 0},\n",
       "  'model3': {'error': 2.0202, 'incentive': 0},\n",
       "  'model4': {'error': 2.0202, 'incentive': 0},\n",
       "  'model5': {'error': 3.0303, 'incentive': 0}},\n",
       " {'time': '2023-10-25T19:00:00+09:00',\n",
       "  'model1': {'error': 3.0303, 'incentive': 0},\n",
       "  'model2': {'error': 0.0, 'incentive': 0},\n",
       "  'model3': {'error': 0.0, 'incentive': 0},\n",
       "  'model4': {'error': 0.0, 'incentive': 0},\n",
       "  'model5': {'error': 0.0, 'incentive': 0}},\n",
       " {'time': '2023-10-25T20:00:00+09:00',\n",
       "  'model1': {'error': 0.0, 'incentive': 0},\n",
       "  'model2': {'error': 0.0, 'incentive': 0},\n",
       "  'model3': {'error': 0.0, 'incentive': 0},\n",
       "  'model4': {'error': 0.0, 'incentive': 0},\n",
       "  'model5': {'error': 0.0, 'incentive': 0}},\n",
       " {'time': '2023-10-25T21:00:00+09:00',\n",
       "  'model1': {'error': 0.0, 'incentive': 0},\n",
       "  'model2': {'error': 0.0, 'incentive': 0},\n",
       "  'model3': {'error': 0.0, 'incentive': 0},\n",
       "  'model4': {'error': 0.0, 'incentive': 0},\n",
       "  'model5': {'error': 0.0, 'incentive': 0}},\n",
       " {'time': '2023-10-25T22:00:00+09:00',\n",
       "  'model1': {'error': 0.0, 'incentive': 0},\n",
       "  'model2': {'error': 0.0, 'incentive': 0},\n",
       "  'model3': {'error': 0.0, 'incentive': 0},\n",
       "  'model4': {'error': 0.0, 'incentive': 0},\n",
       "  'model5': {'error': 0.0, 'incentive': 0}},\n",
       " {'time': '2023-10-25T23:00:00+09:00',\n",
       "  'model1': {'error': 0.0, 'incentive': 0},\n",
       "  'model2': {'error': 0.0, 'incentive': 0},\n",
       "  'model3': {'error': 0.0, 'incentive': 0},\n",
       "  'model4': {'error': 0.0, 'incentive': 0},\n",
       "  'model5': {'error': 0.0, 'incentive': 0}},\n",
       " {'time': '2023-10-26T00:00:00+09:00',\n",
       "  'model1': {'error': 0.0, 'incentive': 0},\n",
       "  'model2': {'error': 0.0, 'incentive': 0},\n",
       "  'model3': {'error': 0.0, 'incentive': 0},\n",
       "  'model4': {'error': 0.0, 'incentive': 0},\n",
       "  'model5': {'error': 0.0, 'incentive': 0}}]"
      ]
     },
     "execution_count": 11,
     "metadata": {},
     "output_type": "execute_result"
    }
   ],
   "source": [
    "date = \"2023-10-25\"\n",
    "_get_bids_result(date)\n"
   ]
  }
 ],
 "metadata": {
  "kernelspec": {
   "display_name": "Python 3",
   "language": "python",
   "name": "python3"
  },
  "language_info": {
   "codemirror_mode": {
    "name": "ipython",
    "version": 3
   },
   "file_extension": ".py",
   "mimetype": "text/x-python",
   "name": "python",
   "nbconvert_exporter": "python",
   "pygments_lexer": "ipython3",
   "version": "3.10.0rc2"
  }
 },
 "nbformat": 4,
 "nbformat_minor": 2
}
