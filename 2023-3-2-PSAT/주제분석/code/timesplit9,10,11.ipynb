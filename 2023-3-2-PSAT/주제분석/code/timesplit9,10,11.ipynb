{
 "cells": [
  {
   "cell_type": "code",
   "execution_count": 1,
   "metadata": {},
   "outputs": [],
   "source": [
    "import optuna\n",
    "import pandas as pd\n",
    "import numpy as np\n",
    "import seaborn as sns\n",
    "# 시계열 data split\n",
    "from sklearn.model_selection import TimeSeriesSplit\n",
    "# timeseriessplit 시각화\n",
    "from matplotlib.patches import Patch\n",
    "import matplotlib.pyplot as plt\n",
    "# 모델\n",
    "from sklearn.metrics import mean_squared_error\n",
    "from lightgbm import LGBMRegressor\n",
    "cmap_data = plt.cm.Paired\n",
    "cmap_cv = plt.cm.coolwarm\n",
    "plt.style.use('fivethirtyeight')"
   ]
  },
  {
   "cell_type": "code",
   "execution_count": 2,
   "metadata": {},
   "outputs": [],
   "source": [
    "# timeseriessplit 시각화용 함수\n",
    "def plot_cv_indices(cv, X, n_splits, lw=10):\n",
    "    \n",
    "    fig, ax = plt.subplots()\n",
    "    \"\"\"Create a sample plot for indices of a cross-validation object.\"\"\"\n",
    "\n",
    "    # Generate the training/testing visualizations for each CV split\n",
    "    for ii, (tr, tt) in enumerate(cv.split(X=X)):\n",
    "        # Fill in indices with the training/test groups\n",
    "        indices = np.array([np.nan] * len(X))\n",
    "        indices[tt] = 1\n",
    "        indices[tr] = 0\n",
    "\n",
    "        # Visualize the results\n",
    "        ax.scatter(range(len(indices)), [ii + .5] * len(indices),\n",
    "                   c=indices, marker='_', lw=lw, cmap=cmap_cv,\n",
    "                   vmin=-.2, vmax=1.2)\n",
    "\n",
    "    # Formatting\n",
    "    yticklabels = list(range(n_splits))\n",
    "    ax.set(yticks=np.arange(n_splits) + .5, yticklabels=yticklabels,\n",
    "           xlabel='Sample index', ylabel=\"CV iteration\",\n",
    "           ylim=[n_splits+0.1, -.1], xlim=[0, len(X)])\n",
    "    ax.set_title('{}'.format(type(cv).__name__), fontsize=15)\n",
    "    \n",
    "    ax.legend([Patch(color=cmap_cv(.8)), Patch(color=cmap_cv(.02))],\n",
    "          ['Testing set', 'Training set'], loc=(1.02, .8))"
   ]
  },
  {
   "cell_type": "code",
   "execution_count": 3,
   "metadata": {},
   "outputs": [],
   "source": [
    "# blocked TimeSeriesSplit 용 class 정의\n",
    "class BlockingTimeSeriesSplit():\n",
    "    def __init__(self, n_splits):\n",
    "        self.n_splits = n_splits\n",
    "    \n",
    "    def get_n_splits(self, groups):\n",
    "        return self.n_splits\n",
    "    \n",
    "    def split(self, X, y=None, groups=None):\n",
    "        n_samples = len(X)\n",
    "        k_fold_size = n_samples // self.n_splits\n",
    "        indices = np.arange(n_samples)\n",
    "    \n",
    "        margin = 0\n",
    "        for i in range(self.n_splits):\n",
    "            start = i * k_fold_size\n",
    "            stop = start + k_fold_size\n",
    "            mid = int(0.8 * (stop - start)) + start\n",
    "            yield indices[start: mid], indices[mid + margin: stop]"
   ]
  },
  {
   "cell_type": "markdown",
   "metadata": {},
   "source": [
    "# training 데이터 셋 만들기"
   ]
  },
  {
   "cell_type": "markdown",
   "metadata": {},
   "source": [
    "## 1. gens : 실제 발전량 ( y로 쓸 예정 ) \n",
    "## 2. p_gens : 모델별 발전량 ( x변수로 추가 할 예정 )\n",
    "## 3. wf : 기상 예측량 ( x변수로 추가 할 예정 )"
   ]
  },
  {
   "cell_type": "code",
   "execution_count": 49,
   "metadata": {},
   "outputs": [],
   "source": [
    "gens = pd.read_csv(\"../gens.csv\")\n",
    "p_gens = pd.read_csv(\"../pred.csv\")\n",
    "wf = pd.read_csv(\"../weather_forecast.csv\")"
   ]
  },
  {
   "cell_type": "markdown",
   "metadata": {},
   "source": [
    "## 날씨 예측을 10시에 한번 17시에 한번 진행 함으로 2개로 나눠야함."
   ]
  },
  {
   "cell_type": "code",
   "execution_count": 50,
   "metadata": {},
   "outputs": [],
   "source": [
    "# 날씨 예측량을 round1,2로 분리함\n",
    "wf_round1 = wf[wf[\"round\"]==1]\n",
    "wf_round2 = wf[wf[\"round\"]==2]"
   ]
  },
  {
   "cell_type": "markdown",
   "metadata": {},
   "source": [
    "## p_gens를 x변수로 만들기 위해서 모델별로 분리"
   ]
  },
  {
   "cell_type": "code",
   "execution_count": 17,
   "metadata": {},
   "outputs": [],
   "source": [
    "# 발전량 예측량을 모델별로 분리해서 변수로 만들라고 분리하는거\n",
    "# round1에 대해 진행할 경우에 이거 실행\n",
    "p_gens0 = p_gens.loc[(p_gens[\"model_id\"]==0) & (p_gens[\"round\"]==1)].reset_index()\n",
    "p_gens1 = p_gens.loc[(p_gens[\"model_id\"]==1) & (p_gens[\"round\"]==1)].reset_index()\n",
    "p_gens2 = p_gens.loc[(p_gens[\"model_id\"]==2) & (p_gens[\"round\"]==1)].reset_index()\n",
    "p_gens3 = p_gens.loc[(p_gens[\"model_id\"]==3) & (p_gens[\"round\"]==1)].reset_index()\n",
    "p_gens4 = p_gens.loc[(p_gens[\"model_id\"]==4) & (p_gens[\"round\"]==1)].reset_index()\n"
   ]
  },
  {
   "cell_type": "code",
   "execution_count": 52,
   "metadata": {},
   "outputs": [],
   "source": [
    "# 발전량 예측량을 모델별로 분리해서 변수로 만들라고 분리하는거\n",
    "# round2에 대해 진행할 경우에 이거 실행\n",
    "p_gens0 = p_gens.loc[(p_gens[\"model_id\"]==0) & (p_gens[\"round\"]==2)].reset_index()\n",
    "p_gens1 = p_gens.loc[(p_gens[\"model_id\"]==1) & (p_gens[\"round\"]==2)].reset_index()\n",
    "p_gens2 = p_gens.loc[(p_gens[\"model_id\"]==2) & (p_gens[\"round\"]==2)].reset_index()\n",
    "p_gens3 = p_gens.loc[(p_gens[\"model_id\"]==3) & (p_gens[\"round\"]==2)].reset_index()\n",
    "p_gens4 = p_gens.loc[(p_gens[\"model_id\"]==4) & (p_gens[\"round\"]==2)].reset_index()"
   ]
  },
  {
   "cell_type": "markdown",
   "metadata": {},
   "source": [
    "## p_gens 변수로 만들어진 데이터 셋, wf로 만든 데이터셋을 통합해야함. 시간을 기준으로 통합 예정"
   ]
  },
  {
   "cell_type": "code",
   "execution_count": 53,
   "metadata": {},
   "outputs": [],
   "source": [
    "# p_gens(모델 예측량) 데이터 프레임 생성\n",
    "x_df = pd.DataFrame({\"m0\": p_gens0[\"amount\"],\"m1\": p_gens1[\"amount\"],\n",
    "              \"m2\": p_gens2[\"amount\"],\"m3\": p_gens3[\"amount\"],\n",
    "              \"time\" : p_gens0[\"time\"]})"
   ]
  },
  {
   "cell_type": "code",
   "execution_count": 54,
   "metadata": {},
   "outputs": [],
   "source": [
    "# time을 기준으로 두 데이터 병합 ( p_gens, wf )\n",
    "# 1차 모델링의 Y값으로 쓰일 발전량 gens도 같이 병합\n",
    "# round2에 대해 수행해야하면 wf_round2/ 아니면 wf_round1\n",
    "xy_df = pd.merge(x_df,wf_round2,on=\"time\")\n",
    "xy_df = pd.merge(xy_df,gens,on=\"time\")\n",
    "\n",
    "# 월과 날짜 변수를 추가 할 것임, 또한 시간대를 기준으로 데이터프레임을 3개 생성해야함으로 hour 변수도 추가\n",
    "xy_df[\"time\"]=pd.to_datetime(xy_df[\"time\"])\n",
    "xy_df[\"month\"]=xy_df[\"time\"].dt.month\n",
    "xy_df[\"day\"]=xy_df[\"time\"].dt.day\n",
    "xy_df[\"hour\"]=xy_df[\"time\"].dt.hour\n"
   ]
  },
  {
   "cell_type": "code",
   "execution_count": 55,
   "metadata": {},
   "outputs": [],
   "source": [
    "xy_df = xy_df[(xy_df[\"month\"]<=11) & (xy_df[\"month\"]>=9)]"
   ]
  },
  {
   "cell_type": "code",
   "execution_count": 56,
   "metadata": {},
   "outputs": [],
   "source": [
    "# 시간에 따라 전체 통합된 데이터셋을 3개로 분리\n",
    "# 7-10, 11-14 , 15-19\n",
    "xy_df_1 = xy_df[(xy_df[\"hour\"]<=10) & (xy_df[\"hour\"]>=7)]\n",
    "xy_df_2 = xy_df[(xy_df[\"hour\"]<=14) & (xy_df[\"hour\"]>=11)]\n",
    "xy_df_3 = xy_df[(xy_df[\"hour\"]<=19) & (xy_df[\"hour\"]>=15)]"
   ]
  },
  {
   "cell_type": "code",
   "execution_count": 57,
   "metadata": {},
   "outputs": [],
   "source": [
    "# 1차 모델링에서 사용할 X데이터셋 생성\n",
    "# 데이터프레임 이름 읽는 법.\n",
    "# 변수_몇차모델링_시간분리\n",
    "# 시간 분리는 (1. 7-10 / 2. 11-14 / 3. 15-19)\n",
    "# ex) x_df1_1 (x데이터셋, 1차 모델링, 7-10)\n",
    "x_df1_1 = xy_df_1[[\"m0\",\"m1\",\"m2\",\"m3\",\"uv_idx\",\"elevation\"]]\n",
    "x_df1_2 = xy_df_2[[\"m0\",\"m1\",\"m2\",\"m3\",\"uv_idx\",\"elevation\"]]\n",
    "x_df1_3 = xy_df_3[[\"m0\",\"m1\",\"m2\",\"m3\",\"uv_idx\",\"elevation\"]]\n",
    "x_df2_1 = xy_df_1.drop([\"round\",\"amount\",\"m0\",\"m1\",\"m2\",\"m3\",\"uv_idx\",\"elevation\",\"time\",\"hour\"],axis=1)\n",
    "x_df2_2 = xy_df_2.drop([\"round\",\"amount\",\"m0\",\"m1\",\"m2\",\"m3\",\"uv_idx\",\"elevation\",\"time\",\"hour\"],axis=1)\n",
    "x_df2_3 = xy_df_3.drop([\"round\",\"amount\",\"m0\",\"m1\",\"m2\",\"m3\",\"uv_idx\",\"elevation\",\"time\",\"hour\"],axis=1)"
   ]
  },
  {
   "cell_type": "code",
   "execution_count": 58,
   "metadata": {},
   "outputs": [],
   "source": [
    "# 1차 모델링에서 사용할 Y데이터셋 생성\n",
    "# 표기 법은 X와 동일\n",
    "# 다만 2차 모델링에서 사용할 Y는 1차 모델링에서 구한 Y_hat을 실제 Y에서 뺀 e임으로 추후에 구해야함\n",
    "# e = Y - Y_hat\n",
    "y_df1_1 = xy_df_1[\"amount\"]\n",
    "y_df1_2 = xy_df_2[\"amount\"]\n",
    "y_df1_3 = xy_df_3[\"amount\"]"
   ]
  },
  {
   "cell_type": "markdown",
   "metadata": {},
   "source": [
    "# 모델링1 선형관계 linear or mlp (모델은 바뀔수 있음)"
   ]
  },
  {
   "cell_type": "code",
   "execution_count": 59,
   "metadata": {},
   "outputs": [],
   "source": [
    "from sklearn.linear_model import LinearRegression"
   ]
  },
  {
   "cell_type": "code",
   "execution_count": 60,
   "metadata": {},
   "outputs": [
    {
     "data": {
      "text/html": [
       "<style>#sk-container-id-2 {color: black;background-color: white;}#sk-container-id-2 pre{padding: 0;}#sk-container-id-2 div.sk-toggleable {background-color: white;}#sk-container-id-2 label.sk-toggleable__label {cursor: pointer;display: block;width: 100%;margin-bottom: 0;padding: 0.3em;box-sizing: border-box;text-align: center;}#sk-container-id-2 label.sk-toggleable__label-arrow:before {content: \"▸\";float: left;margin-right: 0.25em;color: #696969;}#sk-container-id-2 label.sk-toggleable__label-arrow:hover:before {color: black;}#sk-container-id-2 div.sk-estimator:hover label.sk-toggleable__label-arrow:before {color: black;}#sk-container-id-2 div.sk-toggleable__content {max-height: 0;max-width: 0;overflow: hidden;text-align: left;background-color: #f0f8ff;}#sk-container-id-2 div.sk-toggleable__content pre {margin: 0.2em;color: black;border-radius: 0.25em;background-color: #f0f8ff;}#sk-container-id-2 input.sk-toggleable__control:checked~div.sk-toggleable__content {max-height: 200px;max-width: 100%;overflow: auto;}#sk-container-id-2 input.sk-toggleable__control:checked~label.sk-toggleable__label-arrow:before {content: \"▾\";}#sk-container-id-2 div.sk-estimator input.sk-toggleable__control:checked~label.sk-toggleable__label {background-color: #d4ebff;}#sk-container-id-2 div.sk-label input.sk-toggleable__control:checked~label.sk-toggleable__label {background-color: #d4ebff;}#sk-container-id-2 input.sk-hidden--visually {border: 0;clip: rect(1px 1px 1px 1px);clip: rect(1px, 1px, 1px, 1px);height: 1px;margin: -1px;overflow: hidden;padding: 0;position: absolute;width: 1px;}#sk-container-id-2 div.sk-estimator {font-family: monospace;background-color: #f0f8ff;border: 1px dotted black;border-radius: 0.25em;box-sizing: border-box;margin-bottom: 0.5em;}#sk-container-id-2 div.sk-estimator:hover {background-color: #d4ebff;}#sk-container-id-2 div.sk-parallel-item::after {content: \"\";width: 100%;border-bottom: 1px solid gray;flex-grow: 1;}#sk-container-id-2 div.sk-label:hover label.sk-toggleable__label {background-color: #d4ebff;}#sk-container-id-2 div.sk-serial::before {content: \"\";position: absolute;border-left: 1px solid gray;box-sizing: border-box;top: 0;bottom: 0;left: 50%;z-index: 0;}#sk-container-id-2 div.sk-serial {display: flex;flex-direction: column;align-items: center;background-color: white;padding-right: 0.2em;padding-left: 0.2em;position: relative;}#sk-container-id-2 div.sk-item {position: relative;z-index: 1;}#sk-container-id-2 div.sk-parallel {display: flex;align-items: stretch;justify-content: center;background-color: white;position: relative;}#sk-container-id-2 div.sk-item::before, #sk-container-id-2 div.sk-parallel-item::before {content: \"\";position: absolute;border-left: 1px solid gray;box-sizing: border-box;top: 0;bottom: 0;left: 50%;z-index: -1;}#sk-container-id-2 div.sk-parallel-item {display: flex;flex-direction: column;z-index: 1;position: relative;background-color: white;}#sk-container-id-2 div.sk-parallel-item:first-child::after {align-self: flex-end;width: 50%;}#sk-container-id-2 div.sk-parallel-item:last-child::after {align-self: flex-start;width: 50%;}#sk-container-id-2 div.sk-parallel-item:only-child::after {width: 0;}#sk-container-id-2 div.sk-dashed-wrapped {border: 1px dashed gray;margin: 0 0.4em 0.5em 0.4em;box-sizing: border-box;padding-bottom: 0.4em;background-color: white;}#sk-container-id-2 div.sk-label label {font-family: monospace;font-weight: bold;display: inline-block;line-height: 1.2em;}#sk-container-id-2 div.sk-label-container {text-align: center;}#sk-container-id-2 div.sk-container {/* jupyter's `normalize.less` sets `[hidden] { display: none; }` but bootstrap.min.css set `[hidden] { display: none !important; }` so we also need the `!important` here to be able to override the default hidden behavior on the sphinx rendered scikit-learn.org. See: https://github.com/scikit-learn/scikit-learn/issues/21755 */display: inline-block !important;position: relative;}#sk-container-id-2 div.sk-text-repr-fallback {display: none;}</style><div id=\"sk-container-id-2\" class=\"sk-top-container\"><div class=\"sk-text-repr-fallback\"><pre>LinearRegression()</pre><b>In a Jupyter environment, please rerun this cell to show the HTML representation or trust the notebook. <br />On GitHub, the HTML representation is unable to render, please try loading this page with nbviewer.org.</b></div><div class=\"sk-container\" hidden><div class=\"sk-item\"><div class=\"sk-estimator sk-toggleable\"><input class=\"sk-toggleable__control sk-hidden--visually\" id=\"sk-estimator-id-2\" type=\"checkbox\" checked><label for=\"sk-estimator-id-2\" class=\"sk-toggleable__label sk-toggleable__label-arrow\">LinearRegression</label><div class=\"sk-toggleable__content\"><pre>LinearRegression()</pre></div></div></div></div></div>"
      ],
      "text/plain": [
       "LinearRegression()"
      ]
     },
     "execution_count": 60,
     "metadata": {},
     "output_type": "execute_result"
    }
   ],
   "source": [
    "# 1차 모델링 (변수 모델예측량 + 고도 + 자외선 지수)\n",
    "lm1 = LinearRegression()\n",
    "lm1.fit(x_df1_1, y_df1_1)\n",
    "lm2 = LinearRegression()\n",
    "lm2.fit(x_df1_2, y_df1_2)\n",
    "lm3 = LinearRegression()\n",
    "lm3.fit(x_df1_3, y_df1_3)\n"
   ]
  },
  {
   "cell_type": "code",
   "execution_count": 63,
   "metadata": {},
   "outputs": [
    {
     "data": {
      "text/plain": [
       "['../model/시간2회귀fitting_season9-11_r2.pkl']"
      ]
     },
     "execution_count": 63,
     "metadata": {},
     "output_type": "execute_result"
    }
   ],
   "source": [
    "import joblib\n",
    "joblib.dump(lm2,\"../model/시간2회귀fitting_season9-11_r2.pkl\")"
   ]
  },
  {
   "cell_type": "markdown",
   "metadata": {},
   "source": [
    "## 2차 모델링에 사용할 y값을 만들어야함.\n",
    "## 2차 모델링에서 사용할 y는 Y-Y_hat = e 임."
   ]
  },
  {
   "cell_type": "code",
   "execution_count": 64,
   "metadata": {},
   "outputs": [],
   "source": [
    "# 2차 모델링에 사용할 Y 데이터 셋 생성\n",
    "y_df2_1 = y_df1_1-lm1.predict(x_df1_1)\n",
    "y_df2_2 = y_df1_2-lm2.predict(x_df1_2)\n",
    "y_df2_3 = y_df1_3-lm3.predict(x_df1_3)"
   ]
  },
  {
   "cell_type": "markdown",
   "metadata": {},
   "source": [
    "# 모델링2 잔차에 대하여 fitting (target variable Y = y_df2_1, y_df2_2, y_df2_3)"
   ]
  },
  {
   "cell_type": "code",
   "execution_count": 65,
   "metadata": {},
   "outputs": [
    {
     "data": {
      "image/png": "[encoded data removed]",
      "text/plain": [
       "<Figure size 640x480 with 1 Axes>"
      ]
     },
     "metadata": {},
     "output_type": "display_data"
    }
   ],
   "source": [
    "# 1. TimeSeriesSplit 기본\n",
    "n_split = 5\n",
    "\n",
    "tscv = TimeSeriesSplit(n_splits=n_split)\n",
    "\n",
    "plot_cv_indices(tscv, x_df2_1, n_splits=n_split)"
   ]
  },
  {
   "cell_type": "code",
   "execution_count": 23,
   "metadata": {},
   "outputs": [
    {
     "data": {
      "image/png": "[encoded data removed]",
      "text/plain": [
       "<Figure size 640x480 with 1 Axes>"
      ]
     },
     "metadata": {},
     "output_type": "display_data"
    }
   ],
   "source": [
    "# 2. Blocked TimeSeriesSplit\n",
    "btscv = BlockingTimeSeriesSplit(n_splits=n_split)\n",
    "plot_cv_indices(btscv, x_df2_1, n_splits=n_split)"
   ]
  },
  {
   "cell_type": "code",
   "execution_count": null,
   "metadata": {},
   "outputs": [],
   "source": [
    "# 나중에 쓸꺼같음 일단 두셈\n",
    "score_df = abs(y_pred-y_test)*100/99\n",
    "score = 0\n",
    "for i in score_df:\n",
    "    if i <=6:\n",
    "        score += y_test * 4\n",
    "    elif (i <=8) & (i > 6):\n",
    "        score += y_test * 3\n",
    "    else:\n",
    "        score += 0"
   ]
  },
  {
   "cell_type": "code",
   "execution_count": 84,
   "metadata": {},
   "outputs": [],
   "source": [
    "## optuna 트리모델 설정\n",
    "\n",
    "def objective(trial):\n",
    "    params = {\n",
    "        'n_estimators': trial.suggest_int('n_estimators', 20, 2000),\n",
    "        'max_depth': trial.suggest_int('max_depth', 3, 20),\n",
    "        'learning_rate': trial.suggest_float('learning_rate', 0.0001, 0.5),\n",
    "        'num_leaves': trial.suggest_int('num_leaves', 2, 50),\n",
    "        'min_child_samples': trial.suggest_int('min_child_samples', 5, 100),\n",
    "        'reg_alpha': trial.suggest_float('reg_alpha', 1e-8, 1.0),\n",
    "        'reg_lambda': trial.suggest_float('reg_lambda', 1e-8, 1.0)\n",
    "    }\n",
    "\n",
    "    scores = []\n",
    "    for i, (train_index, test_index) in enumerate(tscv.split(x_df2_3)):\n",
    "        x_train, y_train=x_df2_3.iloc[train_index], y_df2_3.iloc[train_index]\n",
    "        x_test, y_test=x_df2_3.iloc[test_index], y_df2_3.iloc[test_index]\n",
    "\n",
    "        lgbm_model=LGBMRegressor(**params, boost_from_average=False,\n",
    "                                  random_state=42)\n",
    "        lgbm_model.fit(x_train, y_train)\n",
    "\n",
    "        y_pred=lgbm_model.predict(x_test)\n",
    "        score = mean_squared_error(y_test,y_pred)\n",
    "\n",
    "\n",
    "    return score"
   ]
  },
  {
   "cell_type": "code",
   "execution_count": 85,
   "metadata": {},
   "outputs": [
    {
     "name": "stderr",
     "output_type": "stream",
     "text": [
      "\u001b[32m[I 2023-10-31 19:31:36,257]\u001b[0m A new study created in memory with name: no-name-a4aaa0b0-5b20-4a18-bc25-d552bf816372\u001b[0m\n",
      "\u001b[32m[I 2023-10-31 19:31:36,917]\u001b[0m Trial 0 finished with value: 73.77082566778991 and parameters: {'n_estimators': 1130, 'max_depth': 7, 'learning_rate': 0.018237735778993194, 'num_leaves': 25, 'min_child_samples': 80, 'reg_alpha': 0.9850319651904075, 'reg_lambda': 0.4792731553042457}. Best is trial 0 with value: 73.77082566778991.\u001b[0m\n",
      "\u001b[32m[I 2023-10-31 19:31:37,574]\u001b[0m Trial 1 finished with value: 89.4211952558709 and parameters: {'n_estimators': 1128, 'max_depth': 20, 'learning_rate': 0.19009759675457621, 'num_leaves': 26, 'min_child_samples': 72, 'reg_alpha': 0.9137318113873193, 'reg_lambda': 0.29575780661093876}. Best is trial 0 with value: 73.77082566778991.\u001b[0m\n",
      "\u001b[32m[I 2023-10-31 19:31:39,950]\u001b[0m Trial 2 finished with value: 77.62827783921493 and parameters: {'n_estimators': 1515, 'max_depth': 11, 'learning_rate': 0.07095106253542398, 'num_leaves': 39, 'min_child_samples': 7, 'reg_alpha': 0.8130044503586008, 'reg_lambda': 0.29539716680429845}. Best is trial 0 with value: 73.77082566778991.\u001b[0m\n",
      "\u001b[32m[I 2023-10-31 19:31:42,217]\u001b[0m Trial 3 finished with value: 86.09895761032018 and parameters: {'n_estimators': 1651, 'max_depth': 20, 'learning_rate': 0.028977169242826624, 'num_leaves': 24, 'min_child_samples': 26, 'reg_alpha': 0.7660708196733194, 'reg_lambda': 0.525573545005942}. Best is trial 0 with value: 73.77082566778991.\u001b[0m\n",
      "\u001b[32m[I 2023-10-31 19:31:43,898]\u001b[0m Trial 4 finished with value: 82.43970784160504 and parameters: {'n_estimators': 1998, 'max_depth': 4, 'learning_rate': 0.020294357753574455, 'num_leaves': 16, 'min_child_samples': 54, 'reg_alpha': 0.9415061377050786, 'reg_lambda': 0.973761216540096}. Best is trial 0 with value: 73.77082566778991.\u001b[0m\n",
      "\u001b[32m[I 2023-10-31 19:31:44,806]\u001b[0m Trial 5 finished with value: 92.76848155866665 and parameters: {'n_estimators': 1819, 'max_depth': 12, 'learning_rate': 0.20576092090657166, 'num_leaves': 39, 'min_child_samples': 94, 'reg_alpha': 0.6516451049661423, 'reg_lambda': 0.8784595141382338}. Best is trial 0 with value: 73.77082566778991.\u001b[0m\n",
      "\u001b[32m[I 2023-10-31 19:31:46,613]\u001b[0m Trial 6 finished with value: 99.48857529304311 and parameters: {'n_estimators': 1667, 'max_depth': 16, 'learning_rate': 0.11773024756516985, 'num_leaves': 33, 'min_child_samples': 46, 'reg_alpha': 0.23117785837992208, 'reg_lambda': 0.774089437155024}. Best is trial 0 with value: 73.77082566778991.\u001b[0m\n",
      "\u001b[32m[I 2023-10-31 19:31:47,188]\u001b[0m Trial 7 finished with value: 74.38807127509024 and parameters: {'n_estimators': 930, 'max_depth': 15, 'learning_rate': 0.009408102584782963, 'num_leaves': 31, 'min_child_samples': 93, 'reg_alpha': 0.07478489432616518, 'reg_lambda': 0.7356281330359887}. Best is trial 0 with value: 73.77082566778991.\u001b[0m\n",
      "\u001b[32m[I 2023-10-31 19:31:48,239]\u001b[0m Trial 8 finished with value: 100.84528829602641 and parameters: {'n_estimators': 1568, 'max_depth': 11, 'learning_rate': 0.44898991087691137, 'num_leaves': 11, 'min_child_samples': 24, 'reg_alpha': 0.20106163964242058, 'reg_lambda': 0.42175728597965984}. Best is trial 0 with value: 73.77082566778991.\u001b[0m\n",
      "\u001b[32m[I 2023-10-31 19:31:48,952]\u001b[0m Trial 9 finished with value: 107.89144624134057 and parameters: {'n_estimators': 840, 'max_depth': 12, 'learning_rate': 0.36608148261530216, 'num_leaves': 28, 'min_child_samples': 46, 'reg_alpha': 0.4035837568579203, 'reg_lambda': 0.7875410428658843}. Best is trial 0 with value: 73.77082566778991.\u001b[0m\n",
      "\u001b[32m[I 2023-10-31 19:31:49,175]\u001b[0m Trial 10 finished with value: 86.46441598062825 and parameters: {'n_estimators': 351, 'max_depth': 3, 'learning_rate': 0.28666745223056217, 'num_leaves': 50, 'min_child_samples': 75, 'reg_alpha': 0.5933182969526593, 'reg_lambda': 0.04366353318224858}. Best is trial 0 with value: 73.77082566778991.\u001b[0m\n",
      "\u001b[32m[I 2023-10-31 19:31:49,539]\u001b[0m Trial 11 finished with value: 76.65798005147131 and parameters: {'n_estimators': 956, 'max_depth': 8, 'learning_rate': 0.11271368505521649, 'num_leaves': 2, 'min_child_samples': 99, 'reg_alpha': 0.008522447100680133, 'reg_lambda': 0.5995045490254337}. Best is trial 0 with value: 73.77082566778991.\u001b[0m\n",
      "\u001b[32m[I 2023-10-31 19:31:49,852]\u001b[0m Trial 12 finished with value: 76.35097290372839 and parameters: {'n_estimators': 547, 'max_depth': 6, 'learning_rate': 0.02866544382509476, 'num_leaves': 17, 'min_child_samples': 83, 'reg_alpha': 0.48496126317737476, 'reg_lambda': 0.661441385121444}. Best is trial 0 with value: 73.77082566778991.\u001b[0m\n",
      "\u001b[32m[I 2023-10-31 19:31:50,617]\u001b[0m Trial 13 finished with value: 92.72992164839891 and parameters: {'n_estimators': 1253, 'max_depth': 16, 'learning_rate': 0.1269751994658282, 'num_leaves': 36, 'min_child_samples': 63, 'reg_alpha': 0.6604343287303998, 'reg_lambda': 0.7015426034707601}. Best is trial 0 with value: 73.77082566778991.\u001b[0m\n",
      "\u001b[32m[I 2023-10-31 19:31:51,035]\u001b[0m Trial 14 finished with value: 74.82221979190523 and parameters: {'n_estimators': 689, 'max_depth': 8, 'learning_rate': 0.004172214791760751, 'num_leaves': 46, 'min_child_samples': 87, 'reg_alpha': 0.9847187339920336, 'reg_lambda': 0.5318694829647025}. Best is trial 0 with value: 73.77082566778991.\u001b[0m\n",
      "\u001b[32m[I 2023-10-31 19:31:51,754]\u001b[0m Trial 15 finished with value: 79.36784214581894 and parameters: {'n_estimators': 1227, 'max_depth': 16, 'learning_rate': 0.08082863293817032, 'num_leaves': 21, 'min_child_samples': 79, 'reg_alpha': 0.3860925157376889, 'reg_lambda': 0.6543923252864298}. Best is trial 0 with value: 73.77082566778991.\u001b[0m\n",
      "\u001b[32m[I 2023-10-31 19:31:51,944]\u001b[0m Trial 16 finished with value: 79.46462353975348 and parameters: {'n_estimators': 296, 'max_depth': 8, 'learning_rate': 0.16189094223036854, 'num_leaves': 32, 'min_child_samples': 100, 'reg_alpha': 0.8217662246042677, 'reg_lambda': 0.9825459152739291}. Best is trial 0 with value: 73.77082566778991.\u001b[0m\n",
      "\u001b[32m[I 2023-10-31 19:31:52,081]\u001b[0m Trial 17 finished with value: 74.21993171175373 and parameters: {'n_estimators': 71, 'max_depth': 15, 'learning_rate': 0.06634579053643977, 'num_leaves': 9, 'min_child_samples': 63, 'reg_alpha': 0.03172944296245006, 'reg_lambda': 0.4160479306203887}. Best is trial 0 with value: 73.77082566778991.\u001b[0m\n",
      "\u001b[32m[I 2023-10-31 19:31:52,270]\u001b[0m Trial 18 finished with value: 73.07657959620937 and parameters: {'n_estimators': 184, 'max_depth': 14, 'learning_rate': 0.07605393868682445, 'num_leaves': 4, 'min_child_samples': 64, 'reg_alpha': 0.31294171651690683, 'reg_lambda': 0.41354865511799155}. Best is trial 18 with value: 73.07657959620937.\u001b[0m\n",
      "\u001b[32m[I 2023-10-31 19:31:52,552]\u001b[0m Trial 19 finished with value: 76.68928431105272 and parameters: {'n_estimators': 568, 'max_depth': 6, 'learning_rate': 0.2463719329175456, 'num_leaves': 2, 'min_child_samples': 66, 'reg_alpha': 0.9970642734861167, 'reg_lambda': 0.4149845014736898}. Best is trial 18 with value: 73.07657959620937.\u001b[0m\n",
      "\u001b[32m[I 2023-10-31 19:31:52,683]\u001b[0m Trial 20 finished with value: 75.17278612165155 and parameters: {'n_estimators': 70, 'max_depth': 13, 'learning_rate': 0.14187215953557708, 'num_leaves': 8, 'min_child_samples': 53, 'reg_alpha': 0.5298297006836858, 'reg_lambda': 0.27511171718421296}. Best is trial 18 with value: 73.07657959620937.\u001b[0m\n",
      "\u001b[32m[I 2023-10-31 19:31:52,809]\u001b[0m Trial 21 finished with value: 72.58458669824938 and parameters: {'n_estimators': 58, 'max_depth': 18, 'learning_rate': 0.07928821185652996, 'num_leaves': 8, 'min_child_samples': 62, 'reg_alpha': 0.2600756597809196, 'reg_lambda': 0.429254778382035}. Best is trial 21 with value: 72.58458669824938.\u001b[0m\n",
      "\u001b[32m[I 2023-10-31 19:31:53,104]\u001b[0m Trial 22 finished with value: 75.02170970253754 and parameters: {'n_estimators': 198, 'max_depth': 18, 'learning_rate': 0.07606182022642205, 'num_leaves': 14, 'min_child_samples': 36, 'reg_alpha': 0.2798203505781591, 'reg_lambda': 0.5667769922178396}. Best is trial 21 with value: 72.58458669824938.\u001b[0m\n",
      "\u001b[32m[I 2023-10-31 19:31:53,411]\u001b[0m Trial 23 finished with value: 70.6785447717709 and parameters: {'n_estimators': 446, 'max_depth': 14, 'learning_rate': 0.0977844452636632, 'num_leaves': 5, 'min_child_samples': 69, 'reg_alpha': 0.33310447111646263, 'reg_lambda': 0.4412404051739398}. Best is trial 23 with value: 70.6785447717709.\u001b[0m\n",
      "\u001b[32m[I 2023-10-31 19:31:53,727]\u001b[0m Trial 24 finished with value: 77.28307449736023 and parameters: {'n_estimators': 431, 'max_depth': 18, 'learning_rate': 0.17455250619552784, 'num_leaves': 6, 'min_child_samples': 60, 'reg_alpha': 0.36391591229761927, 'reg_lambda': 0.36414994505375553}. Best is trial 23 with value: 70.6785447717709.\u001b[0m\n",
      "\u001b[32m[I 2023-10-31 19:31:53,803]\u001b[0m Trial 25 finished with value: 73.59838809415741 and parameters: {'n_estimators': 35, 'max_depth': 14, 'learning_rate': 0.11982661003146176, 'num_leaves': 4, 'min_child_samples': 70, 'reg_alpha': 0.301914475895236, 'reg_lambda': 0.20819812372139596}. Best is trial 23 with value: 70.6785447717709.\u001b[0m\n",
      "\u001b[32m[I 2023-10-31 19:31:54,051]\u001b[0m Trial 26 finished with value: 79.78268606165132 and parameters: {'n_estimators': 226, 'max_depth': 18, 'learning_rate': 0.0869908417062483, 'num_leaves': 13, 'min_child_samples': 43, 'reg_alpha': 0.18994132105262587, 'reg_lambda': 0.5140457664290589}. Best is trial 23 with value: 70.6785447717709.\u001b[0m\n",
      "\u001b[32m[I 2023-10-31 19:31:54,453]\u001b[0m Trial 27 finished with value: 88.18844308510322 and parameters: {'n_estimators': 488, 'max_depth': 10, 'learning_rate': 0.14777443780581767, 'num_leaves': 19, 'min_child_samples': 55, 'reg_alpha': 0.11695931399619558, 'reg_lambda': 0.5930995607981846}. Best is trial 23 with value: 70.6785447717709.\u001b[0m\n",
      "\u001b[32m[I 2023-10-31 19:31:54,862]\u001b[0m Trial 28 finished with value: 75.86078937045257 and parameters: {'n_estimators': 674, 'max_depth': 14, 'learning_rate': 0.045329822560727706, 'num_leaves': 7, 'min_child_samples': 70, 'reg_alpha': 0.2830137107962504, 'reg_lambda': 0.47396010945765465}. Best is trial 23 with value: 70.6785447717709.\u001b[0m\n",
      "\u001b[32m[I 2023-10-31 19:31:55,008]\u001b[0m Trial 29 finished with value: 73.62874438787472 and parameters: {'n_estimators': 170, 'max_depth': 17, 'learning_rate': 0.047303166115453814, 'num_leaves': 11, 'min_child_samples': 78, 'reg_alpha': 0.15992109558761813, 'reg_lambda': 0.46456687127165974}. Best is trial 23 with value: 70.6785447717709.\u001b[0m\n",
      "\u001b[32m[I 2023-10-31 19:31:55,365]\u001b[0m Trial 30 finished with value: 75.83068946826116 and parameters: {'n_estimators': 375, 'max_depth': 19, 'learning_rate': 0.10462979023059385, 'num_leaves': 6, 'min_child_samples': 36, 'reg_alpha': 0.12249411489760623, 'reg_lambda': 0.35054511349874024}. Best is trial 23 with value: 70.6785447717709.\u001b[0m\n",
      "\u001b[32m[I 2023-10-31 19:31:55,458]\u001b[0m Trial 31 finished with value: 72.5260371501852 and parameters: {'n_estimators': 45, 'max_depth': 14, 'learning_rate': 0.10009402526691244, 'num_leaves': 4, 'min_child_samples': 67, 'reg_alpha': 0.29264235854896464, 'reg_lambda': 0.1679953303067282}. Best is trial 23 with value: 70.6785447717709.\u001b[0m\n",
      "\u001b[32m[I 2023-10-31 19:31:55,618]\u001b[0m Trial 32 finished with value: 71.76297095022882 and parameters: {'n_estimators': 203, 'max_depth': 13, 'learning_rate': 0.0969440609192711, 'num_leaves': 4, 'min_child_samples': 59, 'reg_alpha': 0.2588448221843367, 'reg_lambda': 0.20255035814438607}. Best is trial 23 with value: 70.6785447717709.\u001b[0m\n",
      "\u001b[32m[I 2023-10-31 19:31:55,739]\u001b[0m Trial 33 finished with value: 75.39486913958073 and parameters: {'n_estimators': 37, 'max_depth': 10, 'learning_rate': 0.18693544261990006, 'num_leaves': 10, 'min_child_samples': 56, 'reg_alpha': 0.23642960491180165, 'reg_lambda': 0.14263291780007492}. Best is trial 23 with value: 70.6785447717709.\u001b[0m\n",
      "\u001b[32m[I 2023-10-31 19:31:55,904]\u001b[0m Trial 34 finished with value: 73.45391963666505 and parameters: {'n_estimators': 293, 'max_depth': 13, 'learning_rate': 0.048739451240464755, 'num_leaves': 2, 'min_child_samples': 73, 'reg_alpha': 0.433234885460466, 'reg_lambda': 0.23042560865999545}. Best is trial 23 with value: 70.6785447717709.\u001b[0m\n",
      "\u001b[32m[I 2023-10-31 19:31:56,092]\u001b[0m Trial 35 finished with value: 71.42474993213476 and parameters: {'n_estimators': 154, 'max_depth': 10, 'learning_rate': 0.0964875589803348, 'num_leaves': 6, 'min_child_samples': 59, 'reg_alpha': 0.33340358591110325, 'reg_lambda': 0.16492710470560656}. Best is trial 23 with value: 70.6785447717709.\u001b[0m\n",
      "\u001b[32m[I 2023-10-31 19:31:56,805]\u001b[0m Trial 36 finished with value: 82.99011263911508 and parameters: {'n_estimators': 396, 'max_depth': 10, 'learning_rate': 0.1512067225660678, 'num_leaves': 14, 'min_child_samples': 5, 'reg_alpha': 0.3433389368594809, 'reg_lambda': 0.137360853930728}. Best is trial 23 with value: 70.6785447717709.\u001b[0m\n",
      "\u001b[32m[I 2023-10-31 19:31:57,294]\u001b[0m Trial 37 finished with value: 84.62289112983873 and parameters: {'n_estimators': 678, 'max_depth': 11, 'learning_rate': 0.20562588989370384, 'num_leaves': 5, 'min_child_samples': 49, 'reg_alpha': 0.32916838635372336, 'reg_lambda': 0.01892284416488177}. Best is trial 23 with value: 70.6785447717709.\u001b[0m\n",
      "\u001b[32m[I 2023-10-31 19:31:57,437]\u001b[0m Trial 38 finished with value: 77.02467692272724 and parameters: {'n_estimators': 165, 'max_depth': 13, 'learning_rate': 0.1355537543246574, 'num_leaves': 24, 'min_child_samples': 86, 'reg_alpha': 0.4452951999243361, 'reg_lambda': 0.10758714615488588}. Best is trial 23 with value: 70.6785447717709.\u001b[0m\n",
      "\u001b[32m[I 2023-10-31 19:31:57,768]\u001b[0m Trial 39 finished with value: 75.1629554127625 and parameters: {'n_estimators': 272, 'max_depth': 12, 'learning_rate': 0.0978726495044813, 'num_leaves': 11, 'min_child_samples': 40, 'reg_alpha': 0.36460129134331465, 'reg_lambda': 0.2129782586180037}. Best is trial 23 with value: 70.6785447717709.\u001b[0m\n",
      "\u001b[32m[I 2023-10-31 19:31:58,364]\u001b[0m Trial 40 finished with value: 75.8957274924326 and parameters: {'n_estimators': 795, 'max_depth': 9, 'learning_rate': 0.0342308978390392, 'num_leaves': 21, 'min_child_samples': 58, 'reg_alpha': 0.22548313928296296, 'reg_lambda': 0.3147639349775522}. Best is trial 23 with value: 70.6785447717709.\u001b[0m\n",
      "\u001b[32m[I 2023-10-31 19:31:58,495]\u001b[0m Trial 41 finished with value: 74.26397192963574 and parameters: {'n_estimators': 117, 'max_depth': 20, 'learning_rate': 0.09870895496828422, 'num_leaves': 8, 'min_child_samples': 69, 'reg_alpha': 0.2611445037254606, 'reg_lambda': 0.2374733947472747}. Best is trial 23 with value: 70.6785447717709.\u001b[0m\n",
      "\u001b[32m[I 2023-10-31 19:31:58,714]\u001b[0m Trial 42 finished with value: 75.97130879159461 and parameters: {'n_estimators': 284, 'max_depth': 15, 'learning_rate': 0.06251140398772329, 'num_leaves': 4, 'min_child_samples': 49, 'reg_alpha': 0.24766860889095232, 'reg_lambda': 0.2829999591702518}. Best is trial 23 with value: 70.6785447717709.\u001b[0m\n",
      "\u001b[32m[I 2023-10-31 19:31:58,807]\u001b[0m Trial 43 finished with value: 78.69968075075558 and parameters: {'n_estimators': 26, 'max_depth': 17, 'learning_rate': 0.0034823202392404162, 'num_leaves': 7, 'min_child_samples': 59, 'reg_alpha': 0.1871339872966436, 'reg_lambda': 0.17787763921759192}. Best is trial 23 with value: 70.6785447717709.\u001b[0m\n",
      "\u001b[32m[I 2023-10-31 19:31:59,118]\u001b[0m Trial 44 finished with value: 78.52863650195071 and parameters: {'n_estimators': 500, 'max_depth': 12, 'learning_rate': 0.09866778889672653, 'num_leaves': 12, 'min_child_samples': 75, 'reg_alpha': 0.34574343565378673, 'reg_lambda': 0.07330741994540563}. Best is trial 23 with value: 70.6785447717709.\u001b[0m\n",
      "\u001b[32m[I 2023-10-31 19:31:59,256]\u001b[0m Trial 45 finished with value: 76.41613064504202 and parameters: {'n_estimators': 120, 'max_depth': 13, 'learning_rate': 0.11872836116628407, 'num_leaves': 16, 'min_child_samples': 64, 'reg_alpha': 0.2874015501286072, 'reg_lambda': 0.17370038484168904}. Best is trial 23 with value: 70.6785447717709.\u001b[0m\n",
      "\u001b[32m[I 2023-10-31 19:31:59,473]\u001b[0m Trial 46 finished with value: 74.55822900111419 and parameters: {'n_estimators': 352, 'max_depth': 14, 'learning_rate': 0.05986510426795653, 'num_leaves': 2, 'min_child_samples': 21, 'reg_alpha': 0.41409704957716986, 'reg_lambda': 0.04667027261319168}. Best is trial 23 with value: 70.6785447717709.\u001b[0m\n",
      "\u001b[32m[I 2023-10-31 19:32:00,395]\u001b[0m Trial 47 finished with value: 82.84835003021571 and parameters: {'n_estimators': 1072, 'max_depth': 15, 'learning_rate': 0.026989176732982262, 'num_leaves': 9, 'min_child_samples': 51, 'reg_alpha': 0.396180982417906, 'reg_lambda': 0.002368300323098649}. Best is trial 23 with value: 70.6785447717709.\u001b[0m\n",
      "\u001b[32m[I 2023-10-31 19:32:00,580]\u001b[0m Trial 48 finished with value: 73.016243582434 and parameters: {'n_estimators': 215, 'max_depth': 16, 'learning_rate': 0.1654591463980594, 'num_leaves': 5, 'min_child_samples': 66, 'reg_alpha': 0.22049156272235482, 'reg_lambda': 0.2549974309547759}. Best is trial 23 with value: 70.6785447717709.\u001b[0m\n",
      "\u001b[32m[I 2023-10-31 19:32:01,825]\u001b[0m Trial 49 finished with value: 88.23512893668605 and parameters: {'n_estimators': 1971, 'max_depth': 11, 'learning_rate': 0.13519288443921368, 'num_leaves': 16, 'min_child_samples': 82, 'reg_alpha': 0.32726251135169165, 'reg_lambda': 0.3428607849418709}. Best is trial 23 with value: 70.6785447717709.\u001b[0m\n",
      "\u001b[32m[I 2023-10-31 19:32:02,204]\u001b[0m Trial 50 finished with value: 77.0793569236758 and parameters: {'n_estimators': 456, 'max_depth': 9, 'learning_rate': 0.02035459726534375, 'num_leaves': 29, 'min_child_samples': 61, 'reg_alpha': 0.16376762074821677, 'reg_lambda': 0.3129265171685756}. Best is trial 23 with value: 70.6785447717709.\u001b[0m\n",
      "\u001b[32m[I 2023-10-31 19:32:02,396]\u001b[0m Trial 51 finished with value: 72.26749468055935 and parameters: {'n_estimators': 239, 'max_depth': 17, 'learning_rate': 0.08422383006326505, 'num_leaves': 4, 'min_child_samples': 66, 'reg_alpha': 0.2259289809560484, 'reg_lambda': 0.2678989251121153}. Best is trial 23 with value: 70.6785447717709.\u001b[0m\n",
      "\u001b[32m[I 2023-10-31 19:32:02,564]\u001b[0m Trial 52 finished with value: 73.85854907448638 and parameters: {'n_estimators': 136, 'max_depth': 19, 'learning_rate': 0.08922129767719429, 'num_leaves': 4, 'min_child_samples': 69, 'reg_alpha': 0.256443932562724, 'reg_lambda': 0.2627963130394992}. Best is trial 23 with value: 70.6785447717709.\u001b[0m\n",
      "\u001b[32m[I 2023-10-31 19:32:03,471]\u001b[0m Trial 53 finished with value: 90.87534794149568 and parameters: {'n_estimators': 1398, 'max_depth': 17, 'learning_rate': 0.10975726212754715, 'num_leaves': 9, 'min_child_samples': 76, 'reg_alpha': 0.31906329999980904, 'reg_lambda': 0.18551363574844748}. Best is trial 23 with value: 70.6785447717709.\u001b[0m\n",
      "\u001b[32m[I 2023-10-31 19:32:03,744]\u001b[0m Trial 54 finished with value: 73.10168458668291 and parameters: {'n_estimators': 576, 'max_depth': 16, 'learning_rate': 0.05727603635167939, 'num_leaves': 2, 'min_child_samples': 66, 'reg_alpha': 0.20935573041735683, 'reg_lambda': 0.10808999322234741}. Best is trial 23 with value: 70.6785447717709.\u001b[0m\n",
      "\u001b[32m[I 2023-10-31 19:32:03,988]\u001b[0m Trial 55 finished with value: 78.53544670231193 and parameters: {'n_estimators': 245, 'max_depth': 19, 'learning_rate': 0.07879602102787736, 'num_leaves': 42, 'min_child_samples': 56, 'reg_alpha': 0.28274153926537277, 'reg_lambda': 0.28627675243677986}. Best is trial 23 with value: 70.6785447717709.\u001b[0m\n",
      "\u001b[32m[I 2023-10-31 19:32:04,237]\u001b[0m Trial 56 finished with value: 78.83158468430611 and parameters: {'n_estimators': 321, 'max_depth': 15, 'learning_rate': 0.12451790215900149, 'num_leaves': 6, 'min_child_samples': 61, 'reg_alpha': 0.3620290952462971, 'reg_lambda': 0.2062145430506908}. Best is trial 23 with value: 70.6785447717709.\u001b[0m\n",
      "\u001b[32m[I 2023-10-31 19:32:04,371]\u001b[0m Trial 57 finished with value: 72.25324924214358 and parameters: {'n_estimators': 103, 'max_depth': 17, 'learning_rate': 0.06698613781120506, 'num_leaves': 7, 'min_child_samples': 73, 'reg_alpha': 0.2575856371732115, 'reg_lambda': 0.3680999753574557}. Best is trial 23 with value: 70.6785447717709.\u001b[0m\n",
      "\u001b[32m[I 2023-10-31 19:32:04,511]\u001b[0m Trial 58 finished with value: 73.80732666045526 and parameters: {'n_estimators': 113, 'max_depth': 12, 'learning_rate': 0.036826994188994114, 'num_leaves': 4, 'min_child_samples': 85, 'reg_alpha': 0.4788572465006, 'reg_lambda': 0.24221327540157297}. Best is trial 23 with value: 70.6785447717709.\u001b[0m\n",
      "\u001b[32m[I 2023-10-31 19:32:04,826]\u001b[0m Trial 59 finished with value: 76.52218363212735 and parameters: {'n_estimators': 390, 'max_depth': 14, 'learning_rate': 0.06590712703799143, 'num_leaves': 10, 'min_child_samples': 73, 'reg_alpha': 0.387825102410829, 'reg_lambda': 0.3811982746898893}. Best is trial 23 with value: 70.6785447717709.\u001b[0m\n",
      "\u001b[32m[I 2023-10-31 19:32:05,001]\u001b[0m Trial 60 finished with value: 73.30380015470915 and parameters: {'n_estimators': 193, 'max_depth': 17, 'learning_rate': 0.11135498517506663, 'num_leaves': 7, 'min_child_samples': 78, 'reg_alpha': 0.30031628200075916, 'reg_lambda': 0.3259038490847859}. Best is trial 23 with value: 70.6785447717709.\u001b[0m\n",
      "\u001b[32m[I 2023-10-31 19:32:05,120]\u001b[0m Trial 61 finished with value: 71.5725202824169 and parameters: {'n_estimators': 94, 'max_depth': 18, 'learning_rate': 0.08094756110246931, 'num_leaves': 3, 'min_child_samples': 71, 'reg_alpha': 0.26469571016908594, 'reg_lambda': 0.39271639191019125}. Best is trial 23 with value: 70.6785447717709.\u001b[0m\n",
      "\u001b[32m[I 2023-10-31 19:32:05,238]\u001b[0m Trial 62 finished with value: 70.8587109487805 and parameters: {'n_estimators': 105, 'max_depth': 16, 'learning_rate': 0.08937948298161676, 'num_leaves': 3, 'min_child_samples': 67, 'reg_alpha': 0.23467379366319907, 'reg_lambda': 0.38144147323140665}. Best is trial 23 with value: 70.6785447717709.\u001b[0m\n",
      "\u001b[32m[I 2023-10-31 19:32:05,400]\u001b[0m Trial 63 finished with value: 74.08183713218901 and parameters: {'n_estimators': 246, 'max_depth': 16, 'learning_rate': 0.07946358200641082, 'num_leaves': 2, 'min_child_samples': 81, 'reg_alpha': 0.24933794920987665, 'reg_lambda': 0.39141073096500884}. Best is trial 23 with value: 70.6785447717709.\u001b[0m\n",
      "\u001b[32m[I 2023-10-31 19:32:05,523]\u001b[0m Trial 64 finished with value: 75.74974550608242 and parameters: {'n_estimators': 113, 'max_depth': 17, 'learning_rate': 0.02060074340697532, 'num_leaves': 6, 'min_child_samples': 91, 'reg_alpha': 0.1971013632492591, 'reg_lambda': 0.4556308212048988}. Best is trial 23 with value: 70.6785447717709.\u001b[0m\n",
      "\u001b[32m[I 2023-10-31 19:32:05,729]\u001b[0m Trial 65 finished with value: 74.00123906650866 and parameters: {'n_estimators': 327, 'max_depth': 18, 'learning_rate': 0.13204049199697615, 'num_leaves': 3, 'min_child_samples': 71, 'reg_alpha': 0.15059754299587008, 'reg_lambda': 0.3645278339063182}. Best is trial 23 with value: 70.6785447717709.\u001b[0m\n",
      "\u001b[32m[I 2023-10-31 19:32:05,902]\u001b[0m Trial 66 finished with value: 71.32981061992542 and parameters: {'n_estimators': 187, 'max_depth': 19, 'learning_rate': 0.05092219869554861, 'num_leaves': 5, 'min_child_samples': 75, 'reg_alpha': 0.10522395356966782, 'reg_lambda': 0.4404200551553271}. Best is trial 23 with value: 70.6785447717709.\u001b[0m\n",
      "\u001b[32m[I 2023-10-31 19:32:06,086]\u001b[0m Trial 67 finished with value: 73.53413764201603 and parameters: {'n_estimators': 162, 'max_depth': 19, 'learning_rate': 0.03930935933719777, 'num_leaves': 8, 'min_child_samples': 76, 'reg_alpha': 0.09398603246206833, 'reg_lambda': 0.4873657185215913}. Best is trial 23 with value: 70.6785447717709.\u001b[0m\n",
      "\u001b[32m[I 2023-10-31 19:32:06,216]\u001b[0m Trial 68 finished with value: 77.5444850192627 and parameters: {'n_estimators': 91, 'max_depth': 20, 'learning_rate': 0.011182842284435182, 'num_leaves': 34, 'min_child_samples': 91, 'reg_alpha': 0.07790297932284487, 'reg_lambda': 0.392333364731461}. Best is trial 23 with value: 70.6785447717709.\u001b[0m\n",
      "\u001b[32m[I 2023-10-31 19:32:06,507]\u001b[0m Trial 69 finished with value: 76.54480219720212 and parameters: {'n_estimators': 425, 'max_depth': 18, 'learning_rate': 0.057423670284907524, 'num_leaves': 12, 'min_child_samples': 73, 'reg_alpha': 0.0480182166211805, 'reg_lambda': 0.4389350453119654}. Best is trial 23 with value: 70.6785447717709.\u001b[0m\n",
      "\u001b[32m[I 2023-10-31 19:32:07,161]\u001b[0m Trial 70 finished with value: 88.51163597227502 and parameters: {'n_estimators': 619, 'max_depth': 15, 'learning_rate': 0.07082511478707065, 'num_leaves': 6, 'min_child_samples': 12, 'reg_alpha': 0.14096575705738149, 'reg_lambda': 0.5033324056880029}. Best is trial 23 with value: 70.6785447717709.\u001b[0m\n",
      "\u001b[32m[I 2023-10-31 19:32:07,358]\u001b[0m Trial 71 finished with value: 72.8367204715165 and parameters: {'n_estimators': 218, 'max_depth': 17, 'learning_rate': 0.08444181258140737, 'num_leaves': 5, 'min_child_samples': 58, 'reg_alpha': 0.18435431033366767, 'reg_lambda': 0.43270623315250417}. Best is trial 23 with value: 70.6785447717709.\u001b[0m\n",
      "\u001b[32m[I 2023-10-31 19:32:07,573]\u001b[0m Trial 72 finished with value: 71.55219928895451 and parameters: {'n_estimators': 254, 'max_depth': 16, 'learning_rate': 0.051192948418507855, 'num_leaves': 3, 'min_child_samples': 66, 'reg_alpha': 0.21979961751527197, 'reg_lambda': 0.338382398229339}. Best is trial 23 with value: 70.6785447717709.\u001b[0m\n",
      "\u001b[32m[I 2023-10-31 19:32:07,822]\u001b[0m Trial 73 finished with value: 73.078144884608 and parameters: {'n_estimators': 331, 'max_depth': 16, 'learning_rate': 0.04645757089435507, 'num_leaves': 3, 'min_child_samples': 64, 'reg_alpha': 0.1191780694341286, 'reg_lambda': 0.3458086581114397}. Best is trial 23 with value: 70.6785447717709.\u001b[0m\n",
      "\u001b[32m[I 2023-10-31 19:32:07,951]\u001b[0m Trial 74 finished with value: 78.2328494221997 and parameters: {'n_estimators': 67, 'max_depth': 20, 'learning_rate': 0.0009013120995876311, 'num_leaves': 7, 'min_child_samples': 69, 'reg_alpha': 0.2621689653695568, 'reg_lambda': 0.4109146278387272}. Best is trial 23 with value: 70.6785447717709.\u001b[0m\n",
      "\u001b[32m[I 2023-10-31 19:32:08,108]\u001b[0m Trial 75 finished with value: 74.13148308262457 and parameters: {'n_estimators': 151, 'max_depth': 18, 'learning_rate': 0.11375180483485463, 'num_leaves': 3, 'min_child_samples': 80, 'reg_alpha': 0.1659858017331243, 'reg_lambda': 0.30215499340226093}. Best is trial 23 with value: 70.6785447717709.\u001b[0m\n",
      "\u001b[32m[I 2023-10-31 19:32:08,331]\u001b[0m Trial 76 finished with value: 73.18497191295549 and parameters: {'n_estimators': 294, 'max_depth': 19, 'learning_rate': 0.031104398973231612, 'num_leaves': 10, 'min_child_samples': 72, 'reg_alpha': 0.31106993535842403, 'reg_lambda': 0.45713449493761993}. Best is trial 23 with value: 70.6785447717709.\u001b[0m\n",
      "\u001b[32m[I 2023-10-31 19:32:08,426]\u001b[0m Trial 77 finished with value: 72.98707758288676 and parameters: {'n_estimators': 20, 'max_depth': 13, 'learning_rate': 0.09152781736318383, 'num_leaves': 5, 'min_child_samples': 68, 'reg_alpha': 0.22008316919230897, 'reg_lambda': 0.5381358074813544}. Best is trial 23 with value: 70.6785447717709.\u001b[0m\n",
      "\u001b[32m[I 2023-10-31 19:32:09,116]\u001b[0m Trial 78 finished with value: 81.35032915306809 and parameters: {'n_estimators': 784, 'max_depth': 16, 'learning_rate': 0.06317154290069536, 'num_leaves': 8, 'min_child_samples': 52, 'reg_alpha': 0.1859562604786736, 'reg_lambda': 0.37805379962614705}. Best is trial 23 with value: 70.6785447717709.\u001b[0m\n",
      "\u001b[32m[I 2023-10-31 19:32:09,393]\u001b[0m Trial 79 finished with value: 72.73441178522998 and parameters: {'n_estimators': 518, 'max_depth': 4, 'learning_rate': 0.05019122440324199, 'num_leaves': 2, 'min_child_samples': 54, 'reg_alpha': 0.26880599852747167, 'reg_lambda': 0.33754318407280703}. Best is trial 23 with value: 70.6785447717709.\u001b[0m\n",
      "\u001b[32m[I 2023-10-31 19:32:09,530]\u001b[0m Trial 80 finished with value: 73.76889907702612 and parameters: {'n_estimators': 97, 'max_depth': 11, 'learning_rate': 0.1482134456833898, 'num_leaves': 49, 'min_child_samples': 63, 'reg_alpha': 0.3389728375637819, 'reg_lambda': 0.40437940070931133}. Best is trial 23 with value: 70.6785447717709.\u001b[0m\n",
      "\u001b[32m[I 2023-10-31 19:32:09,702]\u001b[0m Trial 81 finished with value: 72.29946748491798 and parameters: {'n_estimators': 196, 'max_depth': 17, 'learning_rate': 0.07422144687000314, 'num_leaves': 4, 'min_child_samples': 65, 'reg_alpha': 0.23279998028011506, 'reg_lambda': 0.2993593457757403}. Best is trial 23 with value: 70.6785447717709.\u001b[0m\n",
      "\u001b[32m[I 2023-10-31 19:32:09,902]\u001b[0m Trial 82 finished with value: 73.59207084064239 and parameters: {'n_estimators': 255, 'max_depth': 15, 'learning_rate': 0.09504927950179845, 'num_leaves': 5, 'min_child_samples': 78, 'reg_alpha': 0.2362780787409459, 'reg_lambda': 0.36619916930319146}. Best is trial 23 with value: 70.6785447717709.\u001b[0m\n",
      "\u001b[32m[I 2023-10-31 19:32:10,065]\u001b[0m Trial 83 finished with value: 72.1356178942301 and parameters: {'n_estimators': 181, 'max_depth': 17, 'learning_rate': 0.12390436587510575, 'num_leaves': 3, 'min_child_samples': 59, 'reg_alpha': 0.292732070833399, 'reg_lambda': 0.2633187932133986}. Best is trial 23 with value: 70.6785447717709.\u001b[0m\n",
      "\u001b[32m[I 2023-10-31 19:32:10,319]\u001b[0m Trial 84 finished with value: 75.19422631616582 and parameters: {'n_estimators': 367, 'max_depth': 9, 'learning_rate': 0.12475235903748838, 'num_leaves': 3, 'min_child_samples': 57, 'reg_alpha': 0.30263998775430395, 'reg_lambda': 0.43500586973770144}. Best is trial 23 with value: 70.6785447717709.\u001b[0m\n",
      "\u001b[32m[I 2023-10-31 19:32:10,495]\u001b[0m Trial 85 finished with value: 72.1754546505645 and parameters: {'n_estimators': 160, 'max_depth': 18, 'learning_rate': 0.10529009375230354, 'num_leaves': 7, 'min_child_samples': 60, 'reg_alpha': 0.2820780772556877, 'reg_lambda': 0.3301543543622383}. Best is trial 23 with value: 70.6785447717709.\u001b[0m\n",
      "\u001b[32m[I 2023-10-31 19:32:10,660]\u001b[0m Trial 86 finished with value: 75.38460771594762 and parameters: {'n_estimators': 158, 'max_depth': 18, 'learning_rate': 0.10404087290074894, 'num_leaves': 6, 'min_child_samples': 62, 'reg_alpha': 0.36419757659524293, 'reg_lambda': 0.3331326514851376}. Best is trial 23 with value: 70.6785447717709.\u001b[0m\n",
      "\u001b[32m[I 2023-10-31 19:32:11,136]\u001b[0m Trial 87 finished with value: 82.99504207915808 and parameters: {'n_estimators': 452, 'max_depth': 19, 'learning_rate': 0.11531133392077954, 'num_leaves': 9, 'min_child_samples': 47, 'reg_alpha': 0.2941159651123827, 'reg_lambda': 0.2842196493377387}. Best is trial 23 with value: 70.6785447717709.\u001b[0m\n",
      "\u001b[32m[I 2023-10-31 19:32:11,298]\u001b[0m Trial 88 finished with value: 71.55732434791005 and parameters: {'n_estimators': 197, 'max_depth': 18, 'learning_rate': 0.13587272658270622, 'num_leaves': 3, 'min_child_samples': 60, 'reg_alpha': 0.27548492902977223, 'reg_lambda': 0.315531023624211}. Best is trial 23 with value: 70.6785447717709.\u001b[0m\n",
      "\u001b[32m[I 2023-10-31 19:32:11,517]\u001b[0m Trial 89 finished with value: 74.50475554085689 and parameters: {'n_estimators': 310, 'max_depth': 14, 'learning_rate': 0.14198629944980984, 'num_leaves': 3, 'min_child_samples': 59, 'reg_alpha': 0.20141986237535567, 'reg_lambda': 0.22917574873260613}. Best is trial 23 with value: 70.6785447717709.\u001b[0m\n",
      "\u001b[32m[I 2023-10-31 19:32:11,701]\u001b[0m Trial 90 finished with value: 73.29317868435442 and parameters: {'n_estimators': 276, 'max_depth': 16, 'learning_rate': 0.15568618543774201, 'num_leaves': 2, 'min_child_samples': 54, 'reg_alpha': 0.3383180188583295, 'reg_lambda': 0.30634338981961295}. Best is trial 23 with value: 70.6785447717709.\u001b[0m\n",
      "\u001b[32m[I 2023-10-31 19:32:11,914]\u001b[0m Trial 91 finished with value: 72.95119396745933 and parameters: {'n_estimators': 195, 'max_depth': 18, 'learning_rate': 0.1307174774498846, 'num_leaves': 5, 'min_child_samples': 60, 'reg_alpha': 0.3119963653495718, 'reg_lambda': 0.2610222814355706}. Best is trial 23 with value: 70.6785447717709.\u001b[0m\n",
      "\u001b[32m[I 2023-10-31 19:32:12,035]\u001b[0m Trial 92 finished with value: 72.66544813233625 and parameters: {'n_estimators': 63, 'max_depth': 18, 'learning_rate': 0.09322421182753857, 'num_leaves': 3, 'min_child_samples': 50, 'reg_alpha': 0.28528274829458455, 'reg_lambda': 0.401166987995894}. Best is trial 23 with value: 70.6785447717709.\u001b[0m\n",
      "\u001b[32m[I 2023-10-31 19:32:12,217]\u001b[0m Trial 93 finished with value: 78.42545902576012 and parameters: {'n_estimators': 154, 'max_depth': 19, 'learning_rate': 0.10605765045965714, 'num_leaves': 7, 'min_child_samples': 56, 'reg_alpha': 0.24033595042595265, 'reg_lambda': 0.3268385713093549}. Best is trial 23 with value: 70.6785447717709.\u001b[0m\n",
      "\u001b[32m[I 2023-10-31 19:32:12,408]\u001b[0m Trial 94 finished with value: 70.63223866232993 and parameters: {'n_estimators': 212, 'max_depth': 20, 'learning_rate': 0.1217596907245488, 'num_leaves': 5, 'min_child_samples': 62, 'reg_alpha': 0.2605488876130374, 'reg_lambda': 0.34392145289266834}. Best is trial 94 with value: 70.63223866232993.\u001b[0m\n",
      "\u001b[32m[I 2023-10-31 19:32:12,617]\u001b[0m Trial 95 finished with value: 71.6811701286484 and parameters: {'n_estimators': 240, 'max_depth': 20, 'learning_rate': 0.12096593149878436, 'num_leaves': 5, 'min_child_samples': 66, 'reg_alpha': 0.21736731948965077, 'reg_lambda': 0.48613425106954744}. Best is trial 94 with value: 70.63223866232993.\u001b[0m\n",
      "\u001b[32m[I 2023-10-31 19:32:12,907]\u001b[0m Trial 96 finished with value: 73.88327902624738 and parameters: {'n_estimators': 418, 'max_depth': 20, 'learning_rate': 0.08540318764454102, 'num_leaves': 5, 'min_child_samples': 68, 'reg_alpha': 0.21147768798199587, 'reg_lambda': 0.48641148339019374}. Best is trial 94 with value: 70.63223866232993.\u001b[0m\n",
      "\u001b[32m[I 2023-10-31 19:32:13,166]\u001b[0m Trial 97 finished with value: 74.19313577732623 and parameters: {'n_estimators': 364, 'max_depth': 20, 'learning_rate': 0.05346195886197982, 'num_leaves': 6, 'min_child_samples': 71, 'reg_alpha': 0.17256120878483144, 'reg_lambda': 0.46877383562390346}. Best is trial 94 with value: 70.63223866232993.\u001b[0m\n",
      "\u001b[32m[I 2023-10-31 19:32:13,389]\u001b[0m Trial 98 finished with value: 75.16515036432568 and parameters: {'n_estimators': 264, 'max_depth': 19, 'learning_rate': 0.072457144668227, 'num_leaves': 11, 'min_child_samples': 67, 'reg_alpha': 0.14908627074807437, 'reg_lambda': 0.42147009983108713}. Best is trial 94 with value: 70.63223866232993.\u001b[0m\n",
      "\u001b[32m[I 2023-10-31 19:32:13,577]\u001b[0m Trial 99 finished with value: 77.16684468040435 and parameters: {'n_estimators': 221, 'max_depth': 20, 'learning_rate': 0.16886505420724696, 'num_leaves': 9, 'min_child_samples': 75, 'reg_alpha': 0.2574769211858676, 'reg_lambda': 0.3543305437051678}. Best is trial 94 with value: 70.63223866232993.\u001b[0m\n"
     ]
    }
   ],
   "source": [
    "study = optuna.create_study()\n",
    "study.optimize(objective, n_trials=100)"
   ]
  },
  {
   "cell_type": "code",
   "execution_count": 86,
   "metadata": {},
   "outputs": [
    {
     "name": "stdout",
     "output_type": "stream",
     "text": [
      "70.63223866232993\n",
      "{'n_estimators': 212, 'max_depth': 20, 'learning_rate': 0.1217596907245488, 'num_leaves': 5, 'min_child_samples': 62, 'reg_alpha': 0.2605488876130374, 'reg_lambda': 0.34392145289266834}\n"
     ]
    }
   ],
   "source": [
    "print(study.best_value)\n",
    "print(study.best_params)"
   ]
  },
  {
   "cell_type": "markdown",
   "metadata": {},
   "source": [
    "# 모델 학습 후 저장"
   ]
  },
  {
   "cell_type": "code",
   "execution_count": 87,
   "metadata": {},
   "outputs": [],
   "source": [
    "import joblib"
   ]
  },
  {
   "cell_type": "code",
   "execution_count": 88,
   "metadata": {},
   "outputs": [
    {
     "data": {
      "text/plain": [
       "['../model/시간3잔차fitting_season9-11_r2.pkl']"
      ]
     },
     "execution_count": 88,
     "metadata": {},
     "output_type": "execute_result"
    }
   ],
   "source": [
    "# 모델 학습 후 저장 !!! 필 히  이름 바 꿀 것!!!!!!11\n",
    "model=LGBMRegressor(**study.best_params,random_state=42)\n",
    "model.fit(x_df2_3,y_df2_3)\n",
    "joblib.dump(model,\"../model/시간3잔차fitting_season9-11_r2.pkl\")"
   ]
  },
  {
   "cell_type": "markdown",
   "metadata": {},
   "source": [
    "# 예측 시작"
   ]
  },
  {
   "cell_type": "markdown",
   "metadata": {},
   "source": [
    "## 예측하려는 파일을 이제 시간대별 round별로 나눠야함 \n",
    "## 해당 기능을 수행하는 함수 선언"
   ]
  },
  {
   "cell_type": "code",
   "execution_count": 37,
   "metadata": {},
   "outputs": [],
   "source": [
    "## test data set 만드는 함수\n",
    "def make_test_xy(wf,gf):\n",
    "    gf.columns = [\"time\",\"m0\",\"m1\",\"m2\",\"m3\",\"m4\"]\n",
    "    train = pd.merge(gf,wf,on=\"time\")\n",
    "    train[\"time\"] = pd.to_datetime(train[\"time\"])\n",
    "    train[\"month\"]=train[\"time\"].dt.month\n",
    "    train[\"day\"]=train[\"time\"].dt.day\n",
    "    train[\"hour\"]=train[\"time\"].dt.hour\n",
    "    \n",
    "    train_1 = train[(train[\"hour\"]<=10) & (train[\"hour\"]>=7)]\n",
    "    train_2 = train[(train[\"hour\"]<=14) & (train[\"hour\"]>=11)]\n",
    "    train_3 = train[(train[\"hour\"]<=19) & (train[\"hour\"]>=15)]\n",
    "    \n",
    "    train11 = train_1[[\"m0\",\"m1\",\"m2\",\"m3\",\"uv_idx\",\"elevation\"]]\n",
    "    train12 = train_2[[\"m0\",\"m1\",\"m2\",\"m3\",\"uv_idx\",\"elevation\"]]\n",
    "    train13 = train_3[[\"m0\",\"m1\",\"m2\",\"m3\",\"uv_idx\",\"elevation\"]]\n",
    "    train21 = train_1.drop([\"m0\",\"m1\",\"m2\",\"m3\",\"m4\",\"uv_idx\",\"elevation\",\"time\",\"hour\"],axis=1)\n",
    "    train22 = train_2.drop([\"m0\",\"m1\",\"m2\",\"m3\",\"m4\",\"uv_idx\",\"elevation\",\"time\",\"hour\"],axis=1)\n",
    "    train23 = train_3.drop([\"m0\",\"m1\",\"m2\",\"m3\",\"m4\",\"uv_idx\",\"elevation\",\"time\",\"hour\"],axis=1)\n",
    "    \n",
    "    return train11,train12,train13,train21,train22,train23"
   ]
  },
  {
   "cell_type": "code",
   "execution_count": 40,
   "metadata": {},
   "outputs": [],
   "source": [
    "# 예측에 사용할 데이터 셋 불러오기 \n",
    "x_pred_ori = pd.read_csv(\"../data/gen_fcst_17_2023-10-29.csv\")\n",
    "x_pred_wf = pd.read_csv(\"../data/weather_forecasts/wf17_2023-10-29.csv\")"
   ]
  },
  {
   "cell_type": "code",
   "execution_count": 41,
   "metadata": {},
   "outputs": [],
   "source": [
    "# 함수에 넣어서 데이터셋 분리\n",
    "test11,test12,test13,test21,test22,test23 = make_test_xy(x_pred_wf,x_pred_ori)"
   ]
  },
  {
   "cell_type": "code",
   "execution_count": 43,
   "metadata": {},
   "outputs": [],
   "source": [
    "model11=joblib.load(\"../model/시간1회귀fitting_r2.pkl\")\n",
    "model12=joblib.load(\"../model/시간2회귀fitting_r2.pkl\")\n",
    "model13=joblib.load(\"../model/시간3회귀fitting_r2.pkl\")"
   ]
  },
  {
   "cell_type": "code",
   "execution_count": 44,
   "metadata": {},
   "outputs": [],
   "source": [
    "# 예측 진행 (1차 모델링 y_hat)\n",
    "y_pred11=model11.predict(test11)\n",
    "y_pred12=model12.predict(test12)\n",
    "y_pred13=model13.predict(test13)"
   ]
  },
  {
   "cell_type": "code",
   "execution_count": 45,
   "metadata": {},
   "outputs": [],
   "source": [
    "model21=joblib.load(\"../model/시간1잔차fitting_r2.pkl\")\n",
    "model22=joblib.load(\"../model/시간2잔차fitting_r2.pkl\")\n",
    "model23=joblib.load(\"../model/시간3잔차fitting_r2.pkl\")"
   ]
  },
  {
   "cell_type": "code",
   "execution_count": 46,
   "metadata": {},
   "outputs": [],
   "source": [
    "y_pred21 = model21.predict(test21)\n",
    "y_pred22 = model22.predict(test22)\n",
    "y_pred23 = model23.predict(test23)"
   ]
  },
  {
   "cell_type": "code",
   "execution_count": 47,
   "metadata": {},
   "outputs": [],
   "source": [
    "result1 = y_pred11+y_pred21\n",
    "result2 = y_pred12+y_pred22\n",
    "result3 = y_pred13+y_pred23"
   ]
  },
  {
   "cell_type": "code",
   "execution_count": 48,
   "metadata": {},
   "outputs": [
    {
     "data": {
      "text/plain": [
       "array([ 1.35474742,  6.59445036, 26.80329053, 48.4434706 , 65.76463266,\n",
       "       71.77289597, 72.78084658, 66.27235926, 48.41336102, 31.64974038,\n",
       "        8.94495557, -1.16909971, -2.95582166])"
      ]
     },
     "execution_count": 48,
     "metadata": {},
     "output_type": "execute_result"
    }
   ],
   "source": [
    "result = np.concatenate((result1,result2,result3))\n",
    "result"
   ]
  }
 ],
 "metadata": {
  "kernelspec": {
   "display_name": "'conda'",
   "language": "python",
   "name": "conda"
  },
  "language_info": {
   "codemirror_mode": {
    "name": "ipython",
    "version": 3
   },
   "file_extension": ".py",
   "mimetype": "text/x-python",
   "name": "python",
   "nbconvert_exporter": "python",
   "pygments_lexer": "ipython3",
   "version": "3.10.0"
  }
 },
 "nbformat": 4,
 "nbformat_minor": 2
}
