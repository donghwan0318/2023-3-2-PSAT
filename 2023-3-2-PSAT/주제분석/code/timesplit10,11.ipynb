{
 "cells": [
  {
   "cell_type": "code",
   "execution_count": 1,
   "metadata": {},
   "outputs": [],
   "source": [
    "import optuna\n",
    "from sklearn.model_selection import KFold\n",
    "\n",
    "import pandas as pd\n",
    "import numpy as np\n",
    "import seaborn as sns\n",
    "# 시계열 data split\n",
    "from sklearn.model_selection import TimeSeriesSplit\n",
    "# timeseriessplit 시각화\n",
    "from matplotlib.patches import Patch\n",
    "import matplotlib.pyplot as plt\n",
    "# 모델\n",
    "from sklearn.metrics import mean_squared_error\n",
    "from lightgbm import LGBMRegressor\n",
    "cmap_data = plt.cm.Paired\n",
    "cmap_cv = plt.cm.coolwarm\n",
    "plt.style.use('fivethirtyeight')"
   ]
  },
  {
   "cell_type": "code",
   "execution_count": 2,
   "metadata": {},
   "outputs": [],
   "source": [
    "# timeseriessplit 시각화용 함수\n",
    "def plot_cv_indices(cv, X, n_splits, lw=10):\n",
    "    \n",
    "    fig, ax = plt.subplots()\n",
    "    \"\"\"Create a sample plot for indices of a cross-validation object.\"\"\"\n",
    "\n",
    "    # Generate the training/testing visualizations for each CV split\n",
    "    for ii, (tr, tt) in enumerate(cv.split(X=X)):\n",
    "        # Fill in indices with the training/test groups\n",
    "        indices = np.array([np.nan] * len(X))\n",
    "        indices[tt] = 1\n",
    "        indices[tr] = 0\n",
    "\n",
    "        # Visualize the results\n",
    "        ax.scatter(range(len(indices)), [ii + .5] * len(indices),\n",
    "                   c=indices, marker='_', lw=lw, cmap=cmap_cv,\n",
    "                   vmin=-.2, vmax=1.2)\n",
    "\n",
    "    # Formatting\n",
    "    yticklabels = list(range(n_splits))\n",
    "    ax.set(yticks=np.arange(n_splits) + .5, yticklabels=yticklabels,\n",
    "           xlabel='Sample index', ylabel=\"CV iteration\",\n",
    "           ylim=[n_splits+0.1, -.1], xlim=[0, len(X)])\n",
    "    ax.set_title('{}'.format(type(cv).__name__), fontsize=15)\n",
    "    \n",
    "    ax.legend([Patch(color=cmap_cv(.8)), Patch(color=cmap_cv(.02))],\n",
    "          ['Testing set', 'Training set'], loc=(1.02, .8))"
   ]
  },
  {
   "cell_type": "code",
   "execution_count": 3,
   "metadata": {},
   "outputs": [],
   "source": [
    "# blocked TimeSeriesSplit 용 class 정의\n",
    "class BlockingTimeSeriesSplit():\n",
    "    def __init__(self, n_splits):\n",
    "        self.n_splits = n_splits\n",
    "    \n",
    "    def get_n_splits(self, groups):\n",
    "        return self.n_splits\n",
    "    \n",
    "    def split(self, X, y=None, groups=None):\n",
    "        n_samples = len(X)\n",
    "        k_fold_size = n_samples // self.n_splits\n",
    "        indices = np.arange(n_samples)\n",
    "    \n",
    "        margin = 0\n",
    "        for i in range(self.n_splits):\n",
    "            start = i * k_fold_size\n",
    "            stop = start + k_fold_size\n",
    "            mid = int(0.8 * (stop - start)) + start\n",
    "            yield indices[start: mid], indices[mid + margin: stop]"
   ]
  },
  {
   "cell_type": "markdown",
   "metadata": {},
   "source": [
    "# training 데이터 셋 만들기"
   ]
  },
  {
   "cell_type": "markdown",
   "metadata": {},
   "source": [
    "## 1. gens : 실제 발전량 ( y로 쓸 예정 ) \n",
    "## 2. p_gens : 모델별 발전량 ( x변수로 추가 할 예정 )\n",
    "## 3. wf : 기상 예측량 ( x변수로 추가 할 예정 )"
   ]
  },
  {
   "cell_type": "code",
   "execution_count": 4,
   "metadata": {},
   "outputs": [],
   "source": [
    "gens = pd.read_csv(\"../gens.csv\")\n",
    "p_gens = pd.read_csv(\"../pred.csv\")\n",
    "wf = pd.read_csv(\"../weather_forecast.csv\")\n",
    "add_gens = pd.read_csv('../add_gens.csv')"
   ]
  },
  {
   "cell_type": "code",
   "execution_count": 5,
   "metadata": {},
   "outputs": [],
   "source": [
    "gens = pd.concat([gens, add_gens], axis = 0)"
   ]
  },
  {
   "cell_type": "markdown",
   "metadata": {},
   "source": [
    "## 날씨 예측을 10시에 한번 17시에 한번 진행 함으로 2개로 나눠야함."
   ]
  },
  {
   "cell_type": "code",
   "execution_count": 6,
   "metadata": {},
   "outputs": [],
   "source": [
    "# 날씨 예측량을 round1,2로 분리함\n",
    "wf_round1 = wf[wf[\"round\"]==1]\n",
    "wf_round2 = wf[wf[\"round\"]==2]"
   ]
  },
  {
   "cell_type": "code",
   "execution_count": 7,
   "metadata": {},
   "outputs": [
    {
     "name": "stderr",
     "output_type": "stream",
     "text": [
      "C:\\Users\\admin\\AppData\\Local\\Temp\\ipykernel_31440\\3743235756.py:1: SettingWithCopyWarning: \n",
      "A value is trying to be set on a copy of a slice from a DataFrame\n",
      "\n",
      "See the caveats in the documentation: https://pandas.pydata.org/pandas-docs/stable/user_guide/indexing.html#returning-a-view-versus-a-copy\n",
      "  wf_round1.drop([\"round\"],axis=1,inplace=True)\n",
      "C:\\Users\\admin\\AppData\\Local\\Temp\\ipykernel_31440\\3743235756.py:2: SettingWithCopyWarning: \n",
      "A value is trying to be set on a copy of a slice from a DataFrame\n",
      "\n",
      "See the caveats in the documentation: https://pandas.pydata.org/pandas-docs/stable/user_guide/indexing.html#returning-a-view-versus-a-copy\n",
      "  wf_round2.drop([\"round\"],axis=1,inplace=True)\n"
     ]
    }
   ],
   "source": [
    "wf_round1.drop([\"round\"],axis=1,inplace=True)\n",
    "wf_round2.drop([\"round\"],axis=1,inplace=True)"
   ]
  },
  {
   "cell_type": "markdown",
   "metadata": {},
   "source": [
    "## p_gens를 x변수로 만들기 위해서 모델별로 분리"
   ]
  },
  {
   "cell_type": "code",
   "execution_count": 8,
   "metadata": {},
   "outputs": [],
   "source": [
    "# 발전량 예측량을 모델별로 분리해서 변수로 만들라고 분리하는거\n",
    "# round1에 대해 진행할 경우에 이거 실행\n",
    "p_gens10 = p_gens.loc[(p_gens[\"model_id\"]==0) & (p_gens[\"round\"]==1)].reset_index()\n",
    "p_gens11 = p_gens.loc[(p_gens[\"model_id\"]==1) & (p_gens[\"round\"]==1)].reset_index()\n",
    "p_gens12 = p_gens.loc[(p_gens[\"model_id\"]==2) & (p_gens[\"round\"]==1)].reset_index()\n",
    "p_gens13 = p_gens.loc[(p_gens[\"model_id\"]==3) & (p_gens[\"round\"]==1)].reset_index()\n",
    "p_gens14 = p_gens.loc[(p_gens[\"model_id\"]==4) & (p_gens[\"round\"]==1)].reset_index()\n"
   ]
  },
  {
   "cell_type": "code",
   "execution_count": 9,
   "metadata": {},
   "outputs": [],
   "source": [
    "# 발전량 예측량을 모델별로 분리해서 변수로 만들라고 분리하는거\n",
    "# round2에 대해 진행할 경우에 이거 실행\n",
    "p_gens20 = p_gens.loc[(p_gens[\"model_id\"]==0) & (p_gens[\"round\"]==2)].reset_index()\n",
    "p_gens21 = p_gens.loc[(p_gens[\"model_id\"]==1) & (p_gens[\"round\"]==2)].reset_index()\n",
    "p_gens22 = p_gens.loc[(p_gens[\"model_id\"]==2) & (p_gens[\"round\"]==2)].reset_index()\n",
    "p_gens23 = p_gens.loc[(p_gens[\"model_id\"]==3) & (p_gens[\"round\"]==2)].reset_index()\n",
    "p_gens24 = p_gens.loc[(p_gens[\"model_id\"]==4) & (p_gens[\"round\"]==2)].reset_index()"
   ]
  },
  {
   "cell_type": "markdown",
   "metadata": {},
   "source": [
    "## p_gens 변수로 만들어진 데이터 셋, wf로 만든 데이터셋을 통합해야함. 시간을 기준으로 통합 예정"
   ]
  },
  {
   "cell_type": "code",
   "execution_count": 10,
   "metadata": {},
   "outputs": [],
   "source": [
    "# p_gens(모델 예측량) 데이터 프레임 생성\n",
    "x_df1 = pd.DataFrame({\"m0\": p_gens10[\"amount\"],\"m1\": p_gens11[\"amount\"],\n",
    "              \"m2\": p_gens12[\"amount\"],\"m3\": p_gens13[\"amount\"],\"m4\":p_gens14[\"amount\"],\n",
    "              \"time\" : p_gens10[\"time\"]})\n",
    "x_df2 = pd.DataFrame({\"m0\": p_gens20[\"amount\"],\"m1\": p_gens21[\"amount\"],\n",
    "              \"m2\": p_gens22[\"amount\"],\"m3\": p_gens23[\"amount\"],\"m4\":p_gens24[\"amount\"],\n",
    "              \"time\" : p_gens20[\"time\"]})"
   ]
  },
  {
   "cell_type": "code",
   "execution_count": 11,
   "metadata": {},
   "outputs": [],
   "source": [
    "# 10월 발전량 데이터 추가 round 1\n",
    "for i in range(21,32):\n",
    "    exec(f\"a = pd.read_csv('../data/gen_fcst_10_2023-10-{i}.csv')\")\n",
    "    a.columns = [\"time\",\"m0\",\"m1\",\"m2\",\"m3\",\"m4\"]\n",
    "    a = a[[\"m0\",\"m1\",\"m2\",\"m3\",\"m4\",\"time\"]]\n",
    "    x_df1 = pd.concat([x_df1,a],axis=0)\n",
    "    \n",
    "\n",
    "# 10월 발전량 데이터 추가 round 2\n",
    "for i in range(21,32):\n",
    "    exec(f\"a = pd.read_csv('../data/gen_fcst_17_2023-10-{i}.csv')\")\n",
    "    a.columns = [\"time\",\"m0\",\"m1\",\"m2\",\"m3\",\"m4\"]\n",
    "    a = a[[\"m0\",\"m1\",\"m2\",\"m3\",\"m4\",\"time\"]]\n",
    "    x_df2 = pd.concat([x_df2,a],axis=0)"
   ]
  },
  {
   "cell_type": "code",
   "execution_count": 12,
   "metadata": {},
   "outputs": [],
   "source": [
    "# 11월 발전량 데이터 추가 round 1\n",
    "for i in range(1,10):\n",
    "    exec(f\"a = pd.read_csv('../data/gen_fcst_10_2023-11-0{i}.csv')\")\n",
    "    a.columns = [\"time\",\"m0\",\"m1\",\"m2\",\"m3\",\"m4\"]\n",
    "    a = a[[\"m0\",\"m1\",\"m2\",\"m3\",\"m4\",\"time\"]]\n",
    "    x_df1 = pd.concat([x_df1,a],axis=0)\n",
    "    \n",
    "for i in range(10,13):\n",
    "    exec(f\"a = pd.read_csv('../data/gen_fcst_10_2023-11-{i}.csv')\")\n",
    "    a.columns = [\"time\",\"m0\",\"m1\",\"m2\",\"m3\",\"m4\"]\n",
    "    a = a[[\"m0\",\"m1\",\"m2\",\"m3\",\"m4\",\"time\"]]\n",
    "    x_df1 = pd.concat([x_df1,a],axis=0)\n",
    "\n",
    "# 11월 발전량 데이터 추가 round 2\n",
    "for i in range(1,10):\n",
    "    exec(f\"a = pd.read_csv('../data/gen_fcst_17_2023-11-0{i}.csv')\")\n",
    "    a.columns = [\"time\",\"m0\",\"m1\",\"m2\",\"m3\",\"m4\"]\n",
    "    a = a[[\"m0\",\"m1\",\"m2\",\"m3\",\"m4\",\"time\"]]\n",
    "    x_df2 = pd.concat([x_df2,a],axis=0)\n",
    "\n",
    "for i in range(10,13):\n",
    "    exec(f\"a = pd.read_csv('../data/gen_fcst_17_2023-11-{i}.csv')\")\n",
    "    a.columns = [\"time\",\"m0\",\"m1\",\"m2\",\"m3\",\"m4\"]\n",
    "    a = a[[\"m0\",\"m1\",\"m2\",\"m3\",\"m4\",\"time\"]]\n",
    "    x_df2 = pd.concat([x_df2,a],axis=0)"
   ]
  },
  {
   "cell_type": "code",
   "execution_count": 13,
   "metadata": {},
   "outputs": [],
   "source": [
    "# 10월 날씨 데이터 추가 round 1\n",
    "for i in range(21,32):\n",
    "    exec(f\"a = pd.read_csv('../data/weather_forecasts/wf10_2023-10-{i}.csv')\")\n",
    "    wf_round1 = pd.concat([wf_round1,a],axis=0)\n",
    "    \n",
    "\n",
    "# 10월 날씨 데이터 추가 round 2\n",
    "for i in range(21,32):\n",
    "    exec(f\"a = pd.read_csv('../data/weather_forecasts/wf17_2023-10-{i}.csv')\")\n",
    "    wf_round2 = pd.concat([wf_round2,a],axis=0)"
   ]
  },
  {
   "cell_type": "code",
   "execution_count": 14,
   "metadata": {},
   "outputs": [],
   "source": [
    "# 11월 날씨 데이터 추가 round 1\n",
    "for i in range(1,10):\n",
    "    exec(f\"a = pd.read_csv('../data/weather_forecasts/wf10_2023-11-0{i}.csv')\")\n",
    "    wf_round1 = pd.concat([wf_round1,a],axis=0)\n",
    "\n",
    "for i in range(10,13):\n",
    "    exec(f\"a = pd.read_csv('../data/weather_forecasts/wf10_2023-11-{i}.csv')\")\n",
    "    wf_round1 = pd.concat([wf_round1,a],axis=0)\n",
    "\n",
    "# 11월 날씨 데이터 추가 round 2\n",
    "for i in range(1,10):\n",
    "    exec(f\"a = pd.read_csv('../data/weather_forecasts/wf17_2023-11-0{i}.csv')\")\n",
    "    wf_round2 = pd.concat([wf_round2,a],axis=0)\n",
    "    \n",
    "for i in range(10,13):\n",
    "    exec(f\"a = pd.read_csv('../data/weather_forecasts/wf17_2023-11-{i}.csv')\")\n",
    "    wf_round2 = pd.concat([wf_round2,a],axis=0)"
   ]
  },
  {
   "cell_type": "code",
   "execution_count": 15,
   "metadata": {},
   "outputs": [],
   "source": [
    "# time을 기준으로 두 데이터 병합 ( p_gens, wf )\n",
    "# 1차 모델링의 Y값으로 쓰일 발전량 gens도 같이 병합\n",
    "# round2에 대해 수행해야하면 wf_round2/ 아니면 wf_round1\n",
    "xy_df1 = pd.merge(x_df1,wf_round1,on=\"time\")\n",
    "xy_df1 = pd.merge(xy_df1,gens,on=\"time\")\n",
    "\n",
    "# 월과 날짜 변수를 추가 할 것임, 또한 시간대를 기준으로 데이터프레임을 3개 생성해야함으로 hour 변수도 추가\n",
    "xy_df1[\"time\"]=pd.to_datetime(xy_df1[\"time\"])\n",
    "xy_df1[\"month\"]=xy_df1[\"time\"].dt.month\n",
    "xy_df1[\"day\"]=xy_df1[\"time\"].dt.day\n",
    "xy_df1[\"hour\"]=xy_df1[\"time\"].dt.hour\n",
    "\n",
    "# round2에 대해 수행해야하면 wf_round2/ 아니면 wf_round1\n",
    "xy_df2 = pd.merge(x_df2,wf_round2,on=\"time\")\n",
    "xy_df2 = pd.merge(xy_df2,gens,on=\"time\")\n",
    "\n",
    "# 월2 날짜 변수를 추가 할 것임, 또한 시간대를 기준으로 데이터프레임을 3개 생성해야함으로 hour 변수도 추가\n",
    "xy_df2[\"time\"]=pd.to_datetime(xy_df2[\"time\"])\n",
    "xy_df2[\"month\"]=xy_df2[\"time\"].dt.month\n",
    "xy_df2[\"day\"]=xy_df2[\"time\"].dt.day\n",
    "xy_df2[\"hour\"]=xy_df2[\"time\"].dt.hour\n"
   ]
  },
  {
   "cell_type": "code",
   "execution_count": 16,
   "metadata": {},
   "outputs": [],
   "source": [
    "xy_df1_ori = xy_df1.copy()\n",
    "xy_df2_ori = xy_df2.copy()"
   ]
  },
  {
   "cell_type": "code",
   "execution_count": 17,
   "metadata": {},
   "outputs": [],
   "source": [
    "xy_df1 = xy_df1[(xy_df1[\"month\"]==10) | (xy_df1[\"month\"]==11)]\n",
    "xy_df2 = xy_df2[(xy_df2[\"month\"]==10) | (xy_df2[\"month\"]==11)]\n",
    "xy_df1.reset_index(drop=True,inplace=True)\n",
    "xy_df2.reset_index(drop=True,inplace=True)"
   ]
  },
  {
   "cell_type": "code",
   "execution_count": 18,
   "metadata": {},
   "outputs": [],
   "source": [
    "from sklearn.metrics.pairwise import cosine_similarity"
   ]
  },
  {
   "cell_type": "code",
   "execution_count": 19,
   "metadata": {},
   "outputs": [],
   "source": [
    "# xy_df1 에 유사도 발전량 추가\n",
    "make_train1 = xy_df1[[\"m0\",\"m1\",\"m2\",\"m3\",\"m4\",\"elevation\",\"uv_idx\",\"amount\"]]\n",
    "make_train2 = xy_df1[[\"m0\",\"m1\",\"m2\",\"m3\",\"m4\",\"elevation\",\"uv_idx\",\"humidity\",\"amount\",\"vis\",\"dew_point\",\"ground_press\"]]\n",
    "feature = make_train1.drop([\"amount\"],axis=1)\n",
    "cosine_sim = cosine_similarity(feature,feature)\n",
    "np.fill_diagonal(cosine_sim, 0)\n",
    "most_similar_idx = cosine_sim.argmax(axis=1)\n",
    "for i in range(len(xy_df1)):\n",
    "    idx = most_similar_idx[i]\n",
    "    xy_df1.loc[i,\"amount1\"] = xy_df1.at[idx,\"amount\"]\n",
    "    \n",
    "feature = make_train2.drop([\"amount\"],axis=1)\n",
    "cosine_sim = cosine_similarity(feature,feature)\n",
    "np.fill_diagonal(cosine_sim, 0)\n",
    "most_similar_idx = cosine_sim.argmax(axis=1)\n",
    "for i in range(len(xy_df1)):\n",
    "    idx = most_similar_idx[i]\n",
    "    xy_df1.loc[i,\"amount2\"] = xy_df1.at[idx,\"amount\"]"
   ]
  },
  {
   "cell_type": "code",
   "execution_count": 20,
   "metadata": {},
   "outputs": [],
   "source": [
    "# xy_df2 에 유사도 발전량 추가\n",
    "make_train1 = xy_df2[[\"m0\",\"m1\",\"m2\",\"m3\",\"m4\",\"elevation\",\"uv_idx\",\"amount\"]]\n",
    "make_train2 = xy_df2[[\"m0\",\"m1\",\"m2\",\"m3\",\"m4\",\"elevation\",\"uv_idx\",\"humidity\",\"amount\",\"vis\",\"dew_point\",\"ground_press\"]]\n",
    "feature = make_train1.drop([\"amount\"],axis=1)\n",
    "cosine_sim = cosine_similarity(feature,feature)\n",
    "np.fill_diagonal(cosine_sim, 0)\n",
    "most_similar_idx = cosine_sim.argmax(axis=1)\n",
    "for i in range(len(xy_df2)):\n",
    "    idx = most_similar_idx[i]\n",
    "    xy_df2.loc[i,\"amount1\"] = xy_df2.at[idx,\"amount\"]\n",
    "    \n",
    "feature = make_train2.drop([\"amount\"],axis=1)\n",
    "cosine_sim = cosine_similarity(feature,feature)\n",
    "np.fill_diagonal(cosine_sim, 0)\n",
    "most_similar_idx = cosine_sim.argmax(axis=1)\n",
    "for i in range(len(xy_df2)):\n",
    "    idx = most_similar_idx[i]\n",
    "    xy_df2.loc[i,\"amount2\"] = xy_df2.at[idx,\"amount\"]"
   ]
  },
  {
   "cell_type": "code",
   "execution_count": 21,
   "metadata": {},
   "outputs": [],
   "source": [
    "# r1\n",
    "# 시간에 따라 전체 통합된 데이터셋을 3개로 분리\n",
    "# 7-10, 11-14 , 15-19\n",
    "xy_df1_1 = xy_df1[(xy_df1[\"hour\"]<=9) & (xy_df1[\"hour\"]>=7)]\n",
    "xy_df1_2 = xy_df1[(xy_df1[\"hour\"]<=15) & (xy_df1[\"hour\"]>=10)]\n",
    "xy_df1_3 = xy_df1[(xy_df1[\"hour\"]<=19) & (xy_df1[\"hour\"]>=16)]"
   ]
  },
  {
   "cell_type": "code",
   "execution_count": 22,
   "metadata": {},
   "outputs": [],
   "source": [
    "# r2\n",
    "# 시간에 따라 전체 통합된 데이터셋을 3개로 분리\n",
    "# 7-10, 11-14 , 15-19\n",
    "xy_df2_1 = xy_df2[(xy_df2[\"hour\"]<=9) & (xy_df2[\"hour\"]>=7)]\n",
    "xy_df2_2 = xy_df2[(xy_df2[\"hour\"]<=15) & (xy_df2[\"hour\"]>=10)]\n",
    "xy_df2_3 = xy_df2[(xy_df2[\"hour\"]<=19) & (xy_df2[\"hour\"]>=16)]"
   ]
  },
  {
   "cell_type": "code",
   "execution_count": 63,
   "metadata": {},
   "outputs": [],
   "source": [
    "# r1\n",
    "# 1차 모델링에서 사용할 X데이터셋 생성\n",
    "# 데이터프레임 이름 읽는 법.\n",
    "# 변수_몇차모델링_시간분리\n",
    "# 시간 분리는 (1. 7-10 / 2. 11-14 / 3. 15-19)\n",
    "# ex) x_df1_1 (x데이터셋, 1차 모델링, 7-10)\n",
    "x1_df1_1 = xy_df1_1[[\"m0\",\"m1\",\"m2\",\"m3\",\"m4\",\"uv_idx\",\"elevation\",\"amount1\",\"amount2\"]]\n",
    "x1_df1_2 = xy_df1_2[[\"m0\",\"m1\",\"m2\",\"m3\",\"m4\",\"uv_idx\",\"elevation\",\"amount1\",\"amount2\"]]\n",
    "x1_df1_3 = xy_df1_3[[\"m0\",\"m1\",\"m2\",\"m3\",\"m4\",\"uv_idx\",\"elevation\",\"amount1\",\"amount2\"]]\n",
    "x1_df2_1 = xy_df1_1.drop([\"amount\",\"m0\",\"m1\",\"m2\",\"m3\",\"m4\",\"uv_idx\",\"elevation\",\"time\",\"hour\",\"amount1\",\"amount2\",\"day\",\"month\"],axis=1)\n",
    "x1_df2_2 = xy_df1_2.drop([\"amount\",\"m0\",\"m1\",\"m2\",\"m3\",\"m4\",\"uv_idx\",\"elevation\",\"time\",\"hour\",\"amount1\",\"amount2\",\"day\",\"month\"],axis=1)\n",
    "x1_df2_3 = xy_df1_3.drop([\"amount\",\"m0\",\"m1\",\"m2\",\"m3\",\"m4\",\"uv_idx\",\"elevation\",\"time\",\"hour\",\"amount1\",\"amount2\",\"day\",\"month\"],axis=1)"
   ]
  },
  {
   "cell_type": "code",
   "execution_count": 64,
   "metadata": {},
   "outputs": [],
   "source": [
    "# r2\n",
    "# 1차 모델링에서 사용할 X데이터셋 생성\n",
    "# 데이터프레임 이름 읽는 법.\n",
    "# 변수_몇차모델링_시간분리\n",
    "# 시간 분리는 (1. 7-10 / 2. 11-14 / 3. 15-19)\n",
    "# ex) x_df1_1 (x데이터셋, 1차 모델링, 7-10)\n",
    "x2_df1_1 = xy_df2_1[[\"m0\",\"m1\",\"m2\",\"m3\",\"m4\",\"uv_idx\",\"elevation\",\"amount1\",\"amount2\"]]\n",
    "x2_df1_2 = xy_df2_2[[\"m0\",\"m1\",\"m2\",\"m3\",\"m4\",\"uv_idx\",\"elevation\",\"amount1\",\"amount2\"]]\n",
    "x2_df1_3 = xy_df2_3[[\"m0\",\"m1\",\"m2\",\"m3\",\"m4\",\"uv_idx\",\"elevation\",\"amount1\",\"amount2\"]]\n",
    "x2_df2_1 = xy_df2_1.drop([\"amount\",\"m0\",\"m1\",\"m2\",\"m3\",\"m4\",\"uv_idx\",\"elevation\",\"time\",\"hour\",\"amount1\",\"amount2\",\"day\",\"month\"],axis=1)\n",
    "x2_df2_2 = xy_df2_2.drop([\"amount\",\"m0\",\"m1\",\"m2\",\"m3\",\"m4\",\"uv_idx\",\"elevation\",\"time\",\"hour\",\"amount1\",\"amount2\",\"day\",\"month\"],axis=1)\n",
    "x2_df2_3 = xy_df2_3.drop([\"amount\",\"m0\",\"m1\",\"m2\",\"m3\",\"m4\",\"uv_idx\",\"elevation\",\"time\",\"hour\",\"amount1\",\"amount2\",\"day\",\"month\"],axis=1)"
   ]
  },
  {
   "cell_type": "code",
   "execution_count": 66,
   "metadata": {},
   "outputs": [],
   "source": [
    "# r1\n",
    "# 1차 모델링에서 사용할 Y데이터셋 생성\n",
    "# 표기 법은 X와 동일\n",
    "# 다만 2차 모델링에서 사용할 Y는 1차 모델링에서 구한 Y_hat을 실제 Y에서 뺀 e임으로 추후에 구해야함\n",
    "# e = Y - Y_hat\n",
    "y1_df1_1 = xy_df1_1[\"amount\"]\n",
    "y1_df1_2 = xy_df1_2[\"amount\"]\n",
    "y1_df1_3 = xy_df1_3[\"amount\"]"
   ]
  },
  {
   "cell_type": "code",
   "execution_count": 73,
   "metadata": {},
   "outputs": [],
   "source": [
    "# r2\n",
    "# 1차 모델링에서 사용할 Y데이터셋 생성\n",
    "# 표기 법은 X와 동일\n",
    "# 다만 2차 모델링에서 사용할 Y는 1차 모델링에서 구한 Y_hat을 실제 Y에서 뺀 e임으로 추후에 구해야함\n",
    "# e = Y - Y_hat\n",
    "y2_df1_1 = xy_df2_1[\"amount\"]\n",
    "y2_df1_2 = xy_df2_2[\"amount\"]\n",
    "y2_df1_3 = xy_df2_3[\"amount\"]"
   ]
  },
  {
   "cell_type": "markdown",
   "metadata": {},
   "source": [
    "# 모델링1 선형관계 linear or mlp (모델은 바뀔수 있음)"
   ]
  },
  {
   "cell_type": "code",
   "execution_count": 67,
   "metadata": {},
   "outputs": [],
   "source": [
    "from sklearn.linear_model import LinearRegression"
   ]
  },
  {
   "cell_type": "code",
   "execution_count": 76,
   "metadata": {},
   "outputs": [
    {
     "data": {
      "text/html": [
       "<style>#sk-container-id-3 {color: black;}#sk-container-id-3 pre{padding: 0;}#sk-container-id-3 div.sk-toggleable {background-color: white;}#sk-container-id-3 label.sk-toggleable__label {cursor: pointer;display: block;width: 100%;margin-bottom: 0;padding: 0.3em;box-sizing: border-box;text-align: center;}#sk-container-id-3 label.sk-toggleable__label-arrow:before {content: \"▸\";float: left;margin-right: 0.25em;color: #696969;}#sk-container-id-3 label.sk-toggleable__label-arrow:hover:before {color: black;}#sk-container-id-3 div.sk-estimator:hover label.sk-toggleable__label-arrow:before {color: black;}#sk-container-id-3 div.sk-toggleable__content {max-height: 0;max-width: 0;overflow: hidden;text-align: left;background-color: #f0f8ff;}#sk-container-id-3 div.sk-toggleable__content pre {margin: 0.2em;color: black;border-radius: 0.25em;background-color: #f0f8ff;}#sk-container-id-3 input.sk-toggleable__control:checked~div.sk-toggleable__content {max-height: 200px;max-width: 100%;overflow: auto;}#sk-container-id-3 input.sk-toggleable__control:checked~label.sk-toggleable__label-arrow:before {content: \"▾\";}#sk-container-id-3 div.sk-estimator input.sk-toggleable__control:checked~label.sk-toggleable__label {background-color: #d4ebff;}#sk-container-id-3 div.sk-label input.sk-toggleable__control:checked~label.sk-toggleable__label {background-color: #d4ebff;}#sk-container-id-3 input.sk-hidden--visually {border: 0;clip: rect(1px 1px 1px 1px);clip: rect(1px, 1px, 1px, 1px);height: 1px;margin: -1px;overflow: hidden;padding: 0;position: absolute;width: 1px;}#sk-container-id-3 div.sk-estimator {font-family: monospace;background-color: #f0f8ff;border: 1px dotted black;border-radius: 0.25em;box-sizing: border-box;margin-bottom: 0.5em;}#sk-container-id-3 div.sk-estimator:hover {background-color: #d4ebff;}#sk-container-id-3 div.sk-parallel-item::after {content: \"\";width: 100%;border-bottom: 1px solid gray;flex-grow: 1;}#sk-container-id-3 div.sk-label:hover label.sk-toggleable__label {background-color: #d4ebff;}#sk-container-id-3 div.sk-serial::before {content: \"\";position: absolute;border-left: 1px solid gray;box-sizing: border-box;top: 0;bottom: 0;left: 50%;z-index: 0;}#sk-container-id-3 div.sk-serial {display: flex;flex-direction: column;align-items: center;background-color: white;padding-right: 0.2em;padding-left: 0.2em;position: relative;}#sk-container-id-3 div.sk-item {position: relative;z-index: 1;}#sk-container-id-3 div.sk-parallel {display: flex;align-items: stretch;justify-content: center;background-color: white;position: relative;}#sk-container-id-3 div.sk-item::before, #sk-container-id-3 div.sk-parallel-item::before {content: \"\";position: absolute;border-left: 1px solid gray;box-sizing: border-box;top: 0;bottom: 0;left: 50%;z-index: -1;}#sk-container-id-3 div.sk-parallel-item {display: flex;flex-direction: column;z-index: 1;position: relative;background-color: white;}#sk-container-id-3 div.sk-parallel-item:first-child::after {align-self: flex-end;width: 50%;}#sk-container-id-3 div.sk-parallel-item:last-child::after {align-self: flex-start;width: 50%;}#sk-container-id-3 div.sk-parallel-item:only-child::after {width: 0;}#sk-container-id-3 div.sk-dashed-wrapped {border: 1px dashed gray;margin: 0 0.4em 0.5em 0.4em;box-sizing: border-box;padding-bottom: 0.4em;background-color: white;}#sk-container-id-3 div.sk-label label {font-family: monospace;font-weight: bold;display: inline-block;line-height: 1.2em;}#sk-container-id-3 div.sk-label-container {text-align: center;}#sk-container-id-3 div.sk-container {/* jupyter's `normalize.less` sets `[hidden] { display: none; }` but bootstrap.min.css set `[hidden] { display: none !important; }` so we also need the `!important` here to be able to override the default hidden behavior on the sphinx rendered scikit-learn.org. See: https://github.com/scikit-learn/scikit-learn/issues/21755 */display: inline-block !important;position: relative;}#sk-container-id-3 div.sk-text-repr-fallback {display: none;}</style><div id=\"sk-container-id-3\" class=\"sk-top-container\"><div class=\"sk-text-repr-fallback\"><pre>LinearRegression()</pre><b>In a Jupyter environment, please rerun this cell to show the HTML representation or trust the notebook. <br />On GitHub, the HTML representation is unable to render, please try loading this page with nbviewer.org.</b></div><div class=\"sk-container\" hidden><div class=\"sk-item\"><div class=\"sk-estimator sk-toggleable\"><input class=\"sk-toggleable__control sk-hidden--visually\" id=\"sk-estimator-id-3\" type=\"checkbox\" checked><label for=\"sk-estimator-id-3\" class=\"sk-toggleable__label sk-toggleable__label-arrow\">LinearRegression</label><div class=\"sk-toggleable__content\"><pre>LinearRegression()</pre></div></div></div></div></div>"
      ],
      "text/plain": [
       "LinearRegression()"
      ]
     },
     "execution_count": 76,
     "metadata": {},
     "output_type": "execute_result"
    }
   ],
   "source": [
    "# r1\n",
    "# 1차 모델링 (변수 모델예측량 + 고도 + 자외선 지수)\n",
    "lm1 = LinearRegression()\n",
    "lm1.fit(x1_df1_1, y1_df1_1)\n",
    "lm2 = LinearRegression()\n",
    "lm2.fit(x1_df1_2, y1_df1_2)\n",
    "lm3 = LinearRegression()\n",
    "lm3.fit(x1_df1_3, y1_df1_3)\n"
   ]
  },
  {
   "cell_type": "code",
   "execution_count": 69,
   "metadata": {},
   "outputs": [
    {
     "data": {
      "text/plain": [
       "['../model/시간3r1유사도추가회귀.pkl']"
      ]
     },
     "execution_count": 69,
     "metadata": {},
     "output_type": "execute_result"
    }
   ],
   "source": [
    "import joblib\n",
    "joblib.dump(lm1,\"../model/시간1r1유사도추가회귀.pkl\")\n",
    "joblib.dump(lm2,\"../model/시간2r1유사도추가회귀.pkl\")\n",
    "joblib.dump(lm3,\"../model/시간3r1유사도추가회귀.pkl\")"
   ]
  },
  {
   "cell_type": "code",
   "execution_count": 79,
   "metadata": {},
   "outputs": [],
   "source": [
    "# r1\n",
    "# 2차 모델링에 사용할 y1 데이터 셋 생성\n",
    "y1_df2_1 = y1_df1_1-lm1.predict(x1_df1_1)\n",
    "y1_df2_2 = y1_df1_2-lm2.predict(x1_df1_2)\n",
    "y1_df2_3 = y1_df1_3-lm3.predict(x1_df1_3)"
   ]
  },
  {
   "cell_type": "code",
   "execution_count": 80,
   "metadata": {},
   "outputs": [
    {
     "data": {
      "text/html": [
       "<style>#sk-container-id-4 {color: black;}#sk-container-id-4 pre{padding: 0;}#sk-container-id-4 div.sk-toggleable {background-color: white;}#sk-container-id-4 label.sk-toggleable__label {cursor: pointer;display: block;width: 100%;margin-bottom: 0;padding: 0.3em;box-sizing: border-box;text-align: center;}#sk-container-id-4 label.sk-toggleable__label-arrow:before {content: \"▸\";float: left;margin-right: 0.25em;color: #696969;}#sk-container-id-4 label.sk-toggleable__label-arrow:hover:before {color: black;}#sk-container-id-4 div.sk-estimator:hover label.sk-toggleable__label-arrow:before {color: black;}#sk-container-id-4 div.sk-toggleable__content {max-height: 0;max-width: 0;overflow: hidden;text-align: left;background-color: #f0f8ff;}#sk-container-id-4 div.sk-toggleable__content pre {margin: 0.2em;color: black;border-radius: 0.25em;background-color: #f0f8ff;}#sk-container-id-4 input.sk-toggleable__control:checked~div.sk-toggleable__content {max-height: 200px;max-width: 100%;overflow: auto;}#sk-container-id-4 input.sk-toggleable__control:checked~label.sk-toggleable__label-arrow:before {content: \"▾\";}#sk-container-id-4 div.sk-estimator input.sk-toggleable__control:checked~label.sk-toggleable__label {background-color: #d4ebff;}#sk-container-id-4 div.sk-label input.sk-toggleable__control:checked~label.sk-toggleable__label {background-color: #d4ebff;}#sk-container-id-4 input.sk-hidden--visually {border: 0;clip: rect(1px 1px 1px 1px);clip: rect(1px, 1px, 1px, 1px);height: 1px;margin: -1px;overflow: hidden;padding: 0;position: absolute;width: 1px;}#sk-container-id-4 div.sk-estimator {font-family: monospace;background-color: #f0f8ff;border: 1px dotted black;border-radius: 0.25em;box-sizing: border-box;margin-bottom: 0.5em;}#sk-container-id-4 div.sk-estimator:hover {background-color: #d4ebff;}#sk-container-id-4 div.sk-parallel-item::after {content: \"\";width: 100%;border-bottom: 1px solid gray;flex-grow: 1;}#sk-container-id-4 div.sk-label:hover label.sk-toggleable__label {background-color: #d4ebff;}#sk-container-id-4 div.sk-serial::before {content: \"\";position: absolute;border-left: 1px solid gray;box-sizing: border-box;top: 0;bottom: 0;left: 50%;z-index: 0;}#sk-container-id-4 div.sk-serial {display: flex;flex-direction: column;align-items: center;background-color: white;padding-right: 0.2em;padding-left: 0.2em;position: relative;}#sk-container-id-4 div.sk-item {position: relative;z-index: 1;}#sk-container-id-4 div.sk-parallel {display: flex;align-items: stretch;justify-content: center;background-color: white;position: relative;}#sk-container-id-4 div.sk-item::before, #sk-container-id-4 div.sk-parallel-item::before {content: \"\";position: absolute;border-left: 1px solid gray;box-sizing: border-box;top: 0;bottom: 0;left: 50%;z-index: -1;}#sk-container-id-4 div.sk-parallel-item {display: flex;flex-direction: column;z-index: 1;position: relative;background-color: white;}#sk-container-id-4 div.sk-parallel-item:first-child::after {align-self: flex-end;width: 50%;}#sk-container-id-4 div.sk-parallel-item:last-child::after {align-self: flex-start;width: 50%;}#sk-container-id-4 div.sk-parallel-item:only-child::after {width: 0;}#sk-container-id-4 div.sk-dashed-wrapped {border: 1px dashed gray;margin: 0 0.4em 0.5em 0.4em;box-sizing: border-box;padding-bottom: 0.4em;background-color: white;}#sk-container-id-4 div.sk-label label {font-family: monospace;font-weight: bold;display: inline-block;line-height: 1.2em;}#sk-container-id-4 div.sk-label-container {text-align: center;}#sk-container-id-4 div.sk-container {/* jupyter's `normalize.less` sets `[hidden] { display: none; }` but bootstrap.min.css set `[hidden] { display: none !important; }` so we also need the `!important` here to be able to override the default hidden behavior on the sphinx rendered scikit-learn.org. See: https://github.com/scikit-learn/scikit-learn/issues/21755 */display: inline-block !important;position: relative;}#sk-container-id-4 div.sk-text-repr-fallback {display: none;}</style><div id=\"sk-container-id-4\" class=\"sk-top-container\"><div class=\"sk-text-repr-fallback\"><pre>LinearRegression()</pre><b>In a Jupyter environment, please rerun this cell to show the HTML representation or trust the notebook. <br />On GitHub, the HTML representation is unable to render, please try loading this page with nbviewer.org.</b></div><div class=\"sk-container\" hidden><div class=\"sk-item\"><div class=\"sk-estimator sk-toggleable\"><input class=\"sk-toggleable__control sk-hidden--visually\" id=\"sk-estimator-id-4\" type=\"checkbox\" checked><label for=\"sk-estimator-id-4\" class=\"sk-toggleable__label sk-toggleable__label-arrow\">LinearRegression</label><div class=\"sk-toggleable__content\"><pre>LinearRegression()</pre></div></div></div></div></div>"
      ],
      "text/plain": [
       "LinearRegression()"
      ]
     },
     "execution_count": 80,
     "metadata": {},
     "output_type": "execute_result"
    }
   ],
   "source": [
    "# r2\n",
    "# 1차 모델링 (변수 모델예측량 + 고도 + 자외선 지수)\n",
    "lm1 = LinearRegression()\n",
    "lm1.fit(x2_df1_1, y2_df1_1)\n",
    "lm2 = LinearRegression()\n",
    "lm2.fit(x2_df1_2, y2_df1_2)\n",
    "lm3 = LinearRegression()\n",
    "lm3.fit(x2_df1_3, y2_df1_3)"
   ]
  },
  {
   "cell_type": "code",
   "execution_count": 75,
   "metadata": {},
   "outputs": [
    {
     "data": {
      "text/plain": [
       "['../model/시간3r2유사도추가회귀.pkl']"
      ]
     },
     "execution_count": 75,
     "metadata": {},
     "output_type": "execute_result"
    }
   ],
   "source": [
    "import joblib\n",
    "joblib.dump(lm1,\"../model/시간1r2유사도추가회귀.pkl\")\n",
    "joblib.dump(lm2,\"../model/시간2r2유사도추가회귀.pkl\")\n",
    "joblib.dump(lm3,\"../model/시간3r2유사도추가회귀.pkl\")"
   ]
  },
  {
   "cell_type": "code",
   "execution_count": 81,
   "metadata": {},
   "outputs": [],
   "source": [
    "# r1\n",
    "# 2차 모델링에 사용할 y2 데이터 셋 생성\n",
    "y2_df2_1 = y2_df1_1-lm1.predict(x2_df1_1)\n",
    "y2_df2_2 = y2_df1_2-lm2.predict(x2_df1_2)\n",
    "y2_df2_3 = y2_df1_3-lm3.predict(x2_df1_3)"
   ]
  },
  {
   "cell_type": "markdown",
   "metadata": {},
   "source": [
    "# 모델링2 잔차에 대하여 fitting (target variable Y = y_df2_1, y_df2_2, y_df2_3)"
   ]
  },
  {
   "cell_type": "code",
   "execution_count": 82,
   "metadata": {},
   "outputs": [
    {
     "data": {
      "image/png": "[encoded data removed]",
      "text/plain": [
       "<Figure size 640x480 with 1 Axes>"
      ]
     },
     "metadata": {},
     "output_type": "display_data"
    }
   ],
   "source": [
    "# 1. TimeSeriesSplit 기본\n",
    "n_split = 5\n",
    "\n",
    "tscv = TimeSeriesSplit(n_splits=n_split)\n",
    "\n",
    "plot_cv_indices(tscv, x_df2_1, n_splits=n_split)"
   ]
  },
  {
   "cell_type": "code",
   "execution_count": 23,
   "metadata": {},
   "outputs": [
    {
     "data": {
      "image/png": "[encoded data removed]",
      "text/plain": [
       "<Figure size 640x480 with 1 Axes>"
      ]
     },
     "metadata": {},
     "output_type": "display_data"
    }
   ],
   "source": [
    "# 2. Blocked TimeSeriesSplit\n",
    "btscv = BlockingTimeSeriesSplit(n_splits=n_split)\n",
    "plot_cv_indices(btscv, x_df2_1, n_splits=n_split)"
   ]
  },
  {
   "cell_type": "code",
   "execution_count": null,
   "metadata": {},
   "outputs": [],
   "source": [
    "# 그냥 kfold cv\n",
    "## optuna 트리모델 설정\n",
    "\n",
    "def objective(trial):\n",
    "    params = {\n",
    "        'n_estimators': trial.suggest_int('n_estimators', 20, 2000),\n",
    "        'max_depth': trial.suggest_int('max_depth', 3, 20),\n",
    "        'learning_rate': trial.suggest_float('learning_rate', 0.0001, 0.5),\n",
    "        'num_leaves': trial.suggest_int('num_leaves', 2, 50),\n",
    "        'min_child_samples': trial.suggest_int('min_child_samples', 5, 100),\n",
    "        'reg_alpha': trial.suggest_float('reg_alpha', 1e-8, 1.0),\n",
    "        'reg_lambda': trial.suggest_float('reg_lambda', 1e-8, 1.0)\n",
    "    }\n",
    "    \n",
    "    kf = KFold(n_splits= 5)\n",
    "    scores = []\n",
    "    for i, (train_index, test_index) in enumerate(kf.split(x1_df2_2)):\n",
    "        x_train, y_train=x1_df2_2.iloc[train_index], y1_df2_2.iloc[train_index]\n",
    "        x_test, y_test=x1_df2_2.iloc[test_index], y1_df2_2.iloc[test_index]\n",
    "\n",
    "        lgbm_model=LGBMRegressor(**params, boost_from_average=False,\n",
    "                                  random_state=42)\n",
    "        lgbm_model.fit(x_train, y_train)\n",
    "\n",
    "        y_pred=lgbm_model.predict(x_test)\n",
    "        score = mean_squared_error(y_test,y_pred)\n",
    "\n",
    "\n",
    "    return score"
   ]
  },
  {
   "cell_type": "code",
   "execution_count": 117,
   "metadata": {},
   "outputs": [],
   "source": [
    "## optuna 트리모델 설정\n",
    "# tscv\n",
    "def objective(trial):\n",
    "    params = {\n",
    "        'n_estimators': trial.suggest_int('n_estimators', 20, 2000),\n",
    "        'max_depth': trial.suggest_int('max_depth', 3, 20),\n",
    "        'learning_rate': trial.suggest_float('learning_rate', 0.0001, 0.5),\n",
    "        'num_leaves': trial.suggest_int('num_leaves', 2, 50),\n",
    "        'min_child_samples': trial.suggest_int('min_child_samples', 5, 100),\n",
    "        'reg_alpha': trial.suggest_float('reg_alpha', 1e-8, 1.0),\n",
    "        'reg_lambda': trial.suggest_float('reg_lambda', 1e-8, 1.0)\n",
    "    }\n",
    "    \n",
    "    \n",
    "    scores = []\n",
    "    for i, (train_index, test_index) in enumerate(tscv.split(x2_df2_1)):\n",
    "        x_train, y_train=x2_df2_1.iloc[train_index], y2_df2_1.iloc[train_index]\n",
    "        x_test, y_test=x2_df2_1.iloc[test_index], y2_df2_1.iloc[test_index]\n",
    "\n",
    "        lgbm_model=LGBMRegressor(**params, boost_from_average=False,\n",
    "                                  random_state=42)\n",
    "        lgbm_model.fit(x_train, y_train)\n",
    "\n",
    "        y_pred=lgbm_model.predict(x_test)\n",
    "        score = mean_squared_error(y_test,y_pred)\n",
    "\n",
    "\n",
    "    return score"
   ]
  },
  {
   "cell_type": "code",
   "execution_count": 118,
   "metadata": {},
   "outputs": [
    {
     "name": "stderr",
     "output_type": "stream",
     "text": [
      "\u001b[32m[I 2023-11-15 00:06:01,904]\u001b[0m A new study created in memory with name: no-name-eb6a371e-83bf-4b0e-8e97-c035f00e96e9\u001b[0m\n",
      "\u001b[32m[I 2023-11-15 00:06:02,654]\u001b[0m Trial 0 finished with value: 35.930802505266755 and parameters: {'n_estimators': 1757, 'max_depth': 16, 'learning_rate': 0.04234030638781319, 'num_leaves': 17, 'min_child_samples': 34, 'reg_alpha': 0.05682157676171681, 'reg_lambda': 0.28510088753726603}. Best is trial 0 with value: 35.930802505266755.\u001b[0m\n",
      "\u001b[32m[I 2023-11-15 00:06:02,814]\u001b[0m Trial 1 finished with value: 43.096931523163 and parameters: {'n_estimators': 171, 'max_depth': 18, 'learning_rate': 0.2025719459727967, 'num_leaves': 24, 'min_child_samples': 12, 'reg_alpha': 0.7797053106783707, 'reg_lambda': 0.4086687717415802}. Best is trial 0 with value: 35.930802505266755.\u001b[0m\n",
      "\u001b[32m[I 2023-11-15 00:06:02,946]\u001b[0m Trial 2 finished with value: 33.422955610651805 and parameters: {'n_estimators': 808, 'max_depth': 6, 'learning_rate': 0.49191801797101375, 'num_leaves': 30, 'min_child_samples': 81, 'reg_alpha': 0.8293492743825776, 'reg_lambda': 0.8279407249871128}. Best is trial 2 with value: 33.422955610651805.\u001b[0m\n",
      "\u001b[32m[I 2023-11-15 00:06:03,540]\u001b[0m Trial 3 finished with value: 42.90131944660846 and parameters: {'n_estimators': 1565, 'max_depth': 11, 'learning_rate': 0.3712668417117571, 'num_leaves': 31, 'min_child_samples': 18, 'reg_alpha': 0.39584189453865376, 'reg_lambda': 0.15984875236254031}. Best is trial 2 with value: 33.422955610651805.\u001b[0m\n",
      "\u001b[32m[I 2023-11-15 00:06:03,869]\u001b[0m Trial 4 finished with value: 45.93782125198262 and parameters: {'n_estimators': 861, 'max_depth': 10, 'learning_rate': 0.2581137474426765, 'num_leaves': 43, 'min_child_samples': 39, 'reg_alpha': 0.21921061660238395, 'reg_lambda': 0.7875599236572011}. Best is trial 2 with value: 33.422955610651805.\u001b[0m\n",
      "\u001b[32m[I 2023-11-15 00:06:03,924]\u001b[0m Trial 5 finished with value: 32.056370050745144 and parameters: {'n_estimators': 121, 'max_depth': 6, 'learning_rate': 0.40871813673822455, 'num_leaves': 29, 'min_child_samples': 83, 'reg_alpha': 0.6536460091385226, 'reg_lambda': 0.4930847764507436}. Best is trial 5 with value: 32.056370050745144.\u001b[0m\n",
      "\u001b[32m[I 2023-11-15 00:06:04,086]\u001b[0m Trial 6 finished with value: 31.579562146415828 and parameters: {'n_estimators': 76, 'max_depth': 20, 'learning_rate': 0.3977452021918717, 'num_leaves': 23, 'min_child_samples': 30, 'reg_alpha': 0.41079311905560834, 'reg_lambda': 0.390533072312627}. Best is trial 6 with value: 31.579562146415828.\u001b[0m\n",
      "\u001b[32m[I 2023-11-15 00:06:04,460]\u001b[0m Trial 7 finished with value: 45.30588131400317 and parameters: {'n_estimators': 472, 'max_depth': 14, 'learning_rate': 0.18159091704566152, 'num_leaves': 46, 'min_child_samples': 14, 'reg_alpha': 0.44801447584771986, 'reg_lambda': 0.7864131419409331}. Best is trial 6 with value: 31.579562146415828.\u001b[0m\n",
      "\u001b[32m[I 2023-11-15 00:06:04,535]\u001b[0m Trial 8 finished with value: 28.918627666539983 and parameters: {'n_estimators': 351, 'max_depth': 15, 'learning_rate': 0.15531135849475197, 'num_leaves': 47, 'min_child_samples': 92, 'reg_alpha': 0.4447967630093641, 'reg_lambda': 0.4989247432155731}. Best is trial 8 with value: 28.918627666539983.\u001b[0m\n",
      "\u001b[32m[I 2023-11-15 00:06:04,861]\u001b[0m Trial 9 finished with value: 31.243352191317147 and parameters: {'n_estimators': 1947, 'max_depth': 13, 'learning_rate': 0.05846420283760224, 'num_leaves': 11, 'min_child_samples': 76, 'reg_alpha': 0.5340494924803942, 'reg_lambda': 0.6991387404884588}. Best is trial 8 with value: 28.918627666539983.\u001b[0m\n",
      "\u001b[32m[I 2023-11-15 00:06:05,163]\u001b[0m Trial 10 finished with value: 34.315552930340736 and parameters: {'n_estimators': 1172, 'max_depth': 9, 'learning_rate': 0.13714721273922265, 'num_leaves': 3, 'min_child_samples': 62, 'reg_alpha': 0.9566142328546959, 'reg_lambda': 0.9813765034203433}. Best is trial 8 with value: 28.918627666539983.\u001b[0m\n",
      "\u001b[32m[I 2023-11-15 00:06:05,408]\u001b[0m Trial 11 finished with value: 30.044206008917296 and parameters: {'n_estimators': 1951, 'max_depth': 14, 'learning_rate': 0.028998271777537665, 'num_leaves': 7, 'min_child_samples': 100, 'reg_alpha': 0.5845384148103744, 'reg_lambda': 0.6081354828088996}. Best is trial 8 with value: 28.918627666539983.\u001b[0m\n",
      "\u001b[32m[I 2023-11-15 00:06:05,589]\u001b[0m Trial 12 finished with value: 30.044206008917296 and parameters: {'n_estimators': 1319, 'max_depth': 16, 'learning_rate': 0.03531861962722979, 'num_leaves': 37, 'min_child_samples': 99, 'reg_alpha': 0.607318346956376, 'reg_lambda': 0.5899299973283947}. Best is trial 8 with value: 28.918627666539983.\u001b[0m\n",
      "\u001b[32m[I 2023-11-15 00:06:05,690]\u001b[0m Trial 13 finished with value: 30.044206008917296 and parameters: {'n_estimators': 424, 'max_depth': 15, 'learning_rate': 0.00369663087377356, 'num_leaves': 2, 'min_child_samples': 98, 'reg_alpha': 0.2816595027447533, 'reg_lambda': 0.5853594753843991}. Best is trial 8 with value: 28.918627666539983.\u001b[0m\n",
      "\u001b[32m[I 2023-11-15 00:06:05,882]\u001b[0m Trial 14 finished with value: 30.048508424645377 and parameters: {'n_estimators': 592, 'max_depth': 3, 'learning_rate': 0.10581998195061709, 'num_leaves': 12, 'min_child_samples': 60, 'reg_alpha': 0.6450380276651735, 'reg_lambda': 0.04897696898003823}. Best is trial 8 with value: 28.918627666539983.\u001b[0m\n",
      "\u001b[32m[I 2023-11-15 00:06:06,123]\u001b[0m Trial 15 finished with value: 28.861606630534258 and parameters: {'n_estimators': 1321, 'max_depth': 18, 'learning_rate': 0.10343809403175214, 'num_leaves': 38, 'min_child_samples': 89, 'reg_alpha': 0.5266207173174169, 'reg_lambda': 0.5828941522958363}. Best is trial 15 with value: 28.861606630534258.\u001b[0m\n",
      "\u001b[32m[I 2023-11-15 00:06:06,480]\u001b[0m Trial 16 finished with value: 30.828956887522953 and parameters: {'n_estimators': 1398, 'max_depth': 20, 'learning_rate': 0.11343954037270795, 'num_leaves': 50, 'min_child_samples': 70, 'reg_alpha': 0.32026944349435305, 'reg_lambda': 0.4231744703985216}. Best is trial 15 with value: 28.861606630534258.\u001b[0m\n",
      "\u001b[32m[I 2023-11-15 00:06:06,696]\u001b[0m Trial 17 finished with value: 28.702561756411686 and parameters: {'n_estimators': 1109, 'max_depth': 19, 'learning_rate': 0.24814113090319154, 'num_leaves': 39, 'min_child_samples': 90, 'reg_alpha': 0.492627030823565, 'reg_lambda': 0.27630481264551976}. Best is trial 17 with value: 28.702561756411686.\u001b[0m\n",
      "\u001b[32m[I 2023-11-15 00:06:07,085]\u001b[0m Trial 18 finished with value: 31.36196889580707 and parameters: {'n_estimators': 1070, 'max_depth': 18, 'learning_rate': 0.23940752112372093, 'num_leaves': 37, 'min_child_samples': 52, 'reg_alpha': 0.5213679722334946, 'reg_lambda': 0.21528736771091284}. Best is trial 17 with value: 28.702561756411686.\u001b[0m\n",
      "\u001b[32m[I 2023-11-15 00:06:07,406]\u001b[0m Trial 19 finished with value: 32.94587387906161 and parameters: {'n_estimators': 1556, 'max_depth': 18, 'learning_rate': 0.28134861355723423, 'num_leaves': 38, 'min_child_samples': 87, 'reg_alpha': 0.7010080419340019, 'reg_lambda': 0.3050597741575457}. Best is trial 17 with value: 28.702561756411686.\u001b[0m\n",
      "\u001b[32m[I 2023-11-15 00:06:07,641]\u001b[0m Trial 20 finished with value: 28.97722697103336 and parameters: {'n_estimators': 850, 'max_depth': 20, 'learning_rate': 0.0895713202855864, 'num_leaves': 41, 'min_child_samples': 72, 'reg_alpha': 0.5575641346113801, 'reg_lambda': 0.10545476140066892}. Best is trial 17 with value: 28.702561756411686.\u001b[0m\n",
      "\u001b[32m[I 2023-11-15 00:06:07,880]\u001b[0m Trial 21 finished with value: 32.07511943578281 and parameters: {'n_estimators': 1247, 'max_depth': 17, 'learning_rate': 0.16115692404356724, 'num_leaves': 45, 'min_child_samples': 88, 'reg_alpha': 0.47818500490723104, 'reg_lambda': 0.4974017255546317}. Best is trial 17 with value: 28.702561756411686.\u001b[0m\n",
      "\u001b[32m[I 2023-11-15 00:06:08,105]\u001b[0m Trial 22 finished with value: 28.820850663965388 and parameters: {'n_estimators': 1037, 'max_depth': 18, 'learning_rate': 0.15681513794632237, 'num_leaves': 50, 'min_child_samples': 89, 'reg_alpha': 0.3875592555597318, 'reg_lambda': 0.27574552016353193}. Best is trial 17 with value: 28.702561756411686.\u001b[0m\n",
      "\u001b[32m[I 2023-11-15 00:06:08,374]\u001b[0m Trial 23 finished with value: 30.62561942756355 and parameters: {'n_estimators': 1010, 'max_depth': 19, 'learning_rate': 0.20969459702973295, 'num_leaves': 50, 'min_child_samples': 63, 'reg_alpha': 0.3589701964734572, 'reg_lambda': 0.0027117585685533796}. Best is trial 17 with value: 28.702561756411686.\u001b[0m\n",
      "\u001b[32m[I 2023-11-15 00:06:08,643]\u001b[0m Trial 24 finished with value: 32.47095136078606 and parameters: {'n_estimators': 1497, 'max_depth': 17, 'learning_rate': 0.08387129419434633, 'num_leaves': 33, 'min_child_samples': 78, 'reg_alpha': 0.506395319538033, 'reg_lambda': 0.26910020344244745}. Best is trial 17 with value: 28.702561756411686.\u001b[0m\n",
      "\u001b[32m[I 2023-11-15 00:06:08,802]\u001b[0m Trial 25 finished with value: 28.929733618215153 and parameters: {'n_estimators': 708, 'max_depth': 12, 'learning_rate': 0.13410840408842647, 'num_leaves': 41, 'min_child_samples': 92, 'reg_alpha': 0.23682081696882723, 'reg_lambda': 0.17461612182928815}. Best is trial 17 with value: 28.702561756411686.\u001b[0m\n",
      "\u001b[32m[I 2023-11-15 00:06:09,278]\u001b[0m Trial 26 finished with value: 34.884314873551254 and parameters: {'n_estimators': 1111, 'max_depth': 19, 'learning_rate': 0.17526247537562814, 'num_leaves': 33, 'min_child_samples': 48, 'reg_alpha': 0.33344844307214166, 'reg_lambda': 0.3479448843533225}. Best is trial 17 with value: 28.702561756411686.\u001b[0m\n",
      "\u001b[32m[I 2023-11-15 00:06:09,584]\u001b[0m Trial 27 finished with value: 31.3845616489099 and parameters: {'n_estimators': 995, 'max_depth': 17, 'learning_rate': 0.2807486285066107, 'num_leaves': 39, 'min_child_samples': 70, 'reg_alpha': 0.4640760660461457, 'reg_lambda': 0.22388621054364033}. Best is trial 17 with value: 28.702561756411686.\u001b[0m\n",
      "\u001b[32m[I 2023-11-15 00:06:09,961]\u001b[0m Trial 28 finished with value: 28.926016064137855 and parameters: {'n_estimators': 1707, 'max_depth': 19, 'learning_rate': 0.21542497914735004, 'num_leaves': 20, 'min_child_samples': 92, 'reg_alpha': 0.5534364162739968, 'reg_lambda': 0.34577281712672353}. Best is trial 17 with value: 28.702561756411686.\u001b[0m\n",
      "\u001b[32m[I 2023-11-15 00:06:10,216]\u001b[0m Trial 29 finished with value: 31.252539450425058 and parameters: {'n_estimators': 1353, 'max_depth': 16, 'learning_rate': 0.06266045119085253, 'num_leaves': 35, 'min_child_samples': 86, 'reg_alpha': 0.06955312781941153, 'reg_lambda': 0.304113644120121}. Best is trial 17 with value: 28.702561756411686.\u001b[0m\n",
      "\u001b[32m[I 2023-11-15 00:06:10,566]\u001b[0m Trial 30 finished with value: 33.41240568558738 and parameters: {'n_estimators': 1691, 'max_depth': 15, 'learning_rate': 0.14011653546707908, 'num_leaves': 27, 'min_child_samples': 78, 'reg_alpha': 0.39627708537489653, 'reg_lambda': 0.2534413832289502}. Best is trial 17 with value: 28.702561756411686.\u001b[0m\n",
      "\u001b[32m[I 2023-11-15 00:06:10,688]\u001b[0m Trial 31 finished with value: 28.988141446075232 and parameters: {'n_estimators': 293, 'max_depth': 16, 'learning_rate': 0.16229829359433867, 'num_leaves': 47, 'min_child_samples': 93, 'reg_alpha': 0.4283571823364464, 'reg_lambda': 0.5093637571967521}. Best is trial 17 with value: 28.702561756411686.\u001b[0m\n",
      "\u001b[32m[I 2023-11-15 00:06:10,980]\u001b[0m Trial 32 finished with value: 30.813858368427358 and parameters: {'n_estimators': 1260, 'max_depth': 18, 'learning_rate': 0.12176305097737182, 'num_leaves': 48, 'min_child_samples': 94, 'reg_alpha': 0.4625560829358551, 'reg_lambda': 0.4380611389577911}. Best is trial 17 with value: 28.702561756411686.\u001b[0m\n",
      "\u001b[32m[I 2023-11-15 00:06:11,211]\u001b[0m Trial 33 finished with value: 32.601233624428325 and parameters: {'n_estimators': 919, 'max_depth': 15, 'learning_rate': 0.08561688795512734, 'num_leaves': 43, 'min_child_samples': 84, 'reg_alpha': 0.5104766888894869, 'reg_lambda': 0.3486867809374501}. Best is trial 17 with value: 28.702561756411686.\u001b[0m\n",
      "\u001b[32m[I 2023-11-15 00:06:11,407]\u001b[0m Trial 34 finished with value: 28.81643833064144 and parameters: {'n_estimators': 728, 'max_depth': 17, 'learning_rate': 0.2007382911566252, 'num_leaves': 44, 'min_child_samples': 89, 'reg_alpha': 0.3784139864292157, 'reg_lambda': 0.13947563063671095}. Best is trial 17 with value: 28.702561756411686.\u001b[0m\n",
      "\u001b[32m[I 2023-11-15 00:06:11,633]\u001b[0m Trial 35 finished with value: 28.476259673485806 and parameters: {'n_estimators': 733, 'max_depth': 18, 'learning_rate': 0.19196848426159108, 'num_leaves': 44, 'min_child_samples': 74, 'reg_alpha': 0.36698161248712835, 'reg_lambda': 0.13077882635980764}. Best is trial 35 with value: 28.476259673485806.\u001b[0m\n",
      "\u001b[32m[I 2023-11-15 00:06:11,812]\u001b[0m Trial 36 finished with value: 32.24085535550391 and parameters: {'n_estimators': 697, 'max_depth': 19, 'learning_rate': 0.19181636977797414, 'num_leaves': 43, 'min_child_samples': 81, 'reg_alpha': 0.38241794091190906, 'reg_lambda': 0.12361461420536829}. Best is trial 35 with value: 28.476259673485806.\u001b[0m\n",
      "\u001b[32m[I 2023-11-15 00:06:12,022]\u001b[0m Trial 37 finished with value: 28.571607072634617 and parameters: {'n_estimators': 717, 'max_depth': 17, 'learning_rate': 0.22807774625745897, 'num_leaves': 43, 'min_child_samples': 74, 'reg_alpha': 0.28748381270076534, 'reg_lambda': 0.17235768928980486}. Best is trial 35 with value: 28.476259673485806.\u001b[0m\n",
      "\u001b[32m[I 2023-11-15 00:06:12,250]\u001b[0m Trial 38 finished with value: 31.229888678048592 and parameters: {'n_estimators': 723, 'max_depth': 13, 'learning_rate': 0.24468942898526722, 'num_leaves': 44, 'min_child_samples': 67, 'reg_alpha': 0.16077194940163295, 'reg_lambda': 0.1758571930102822}. Best is trial 35 with value: 28.476259673485806.\u001b[0m\n",
      "\u001b[32m[I 2023-11-15 00:06:12,512]\u001b[0m Trial 39 finished with value: 39.91908053054649 and parameters: {'n_estimators': 585, 'max_depth': 8, 'learning_rate': 0.30827801006992345, 'num_leaves': 41, 'min_child_samples': 43, 'reg_alpha': 0.2851240677179282, 'reg_lambda': 0.09607913743240061}. Best is trial 35 with value: 28.476259673485806.\u001b[0m\n",
      "\u001b[32m[I 2023-11-15 00:06:12,607]\u001b[0m Trial 40 finished with value: 30.937945529435453 and parameters: {'n_estimators': 198, 'max_depth': 20, 'learning_rate': 0.21584245557597648, 'num_leaves': 34, 'min_child_samples': 77, 'reg_alpha': 0.20801832286498506, 'reg_lambda': 0.15091545271162224}. Best is trial 35 with value: 28.476259673485806.\u001b[0m\n",
      "\u001b[32m[I 2023-11-15 00:06:13,148]\u001b[0m Trial 41 finished with value: 39.1178915396059 and parameters: {'n_estimators': 937, 'max_depth': 16, 'learning_rate': 0.19068617374879177, 'num_leaves': 49, 'min_child_samples': 25, 'reg_alpha': 0.3567929308340058, 'reg_lambda': 0.2051388114419161}. Best is trial 35 with value: 28.476259673485806.\u001b[0m\n",
      "\u001b[32m[I 2023-11-15 00:06:13,532]\u001b[0m Trial 42 finished with value: 36.403189307257826 and parameters: {'n_estimators': 782, 'max_depth': 17, 'learning_rate': 0.23073841191933195, 'num_leaves': 46, 'min_child_samples': 6, 'reg_alpha': 0.4005859465231126, 'reg_lambda': 0.0693359114472411}. Best is trial 35 with value: 28.476259673485806.\u001b[0m\n",
      "\u001b[32m[I 2023-11-15 00:06:13,674]\u001b[0m Trial 43 finished with value: 31.94813508571782 and parameters: {'n_estimators': 535, 'max_depth': 19, 'learning_rate': 0.19046900286883023, 'num_leaves': 41, 'min_child_samples': 81, 'reg_alpha': 0.3024538461790771, 'reg_lambda': 0.141801432433268}. Best is trial 35 with value: 28.476259673485806.\u001b[0m\n",
      "\u001b[32m[I 2023-11-15 00:06:14,001]\u001b[0m Trial 44 finished with value: 33.14061232867506 and parameters: {'n_estimators': 820, 'max_depth': 18, 'learning_rate': 0.26316523058017843, 'num_leaves': 45, 'min_child_samples': 56, 'reg_alpha': 0.41918962231676166, 'reg_lambda': 0.2335934835604847}. Best is trial 35 with value: 28.476259673485806.\u001b[0m\n",
      "\u001b[32m[I 2023-11-15 00:06:14,220]\u001b[0m Trial 45 finished with value: 28.811243058410888 and parameters: {'n_estimators': 649, 'max_depth': 14, 'learning_rate': 0.16927743648232998, 'num_leaves': 48, 'min_child_samples': 73, 'reg_alpha': 0.3767136088874169, 'reg_lambda': 0.1759721736443931}. Best is trial 35 with value: 28.476259673485806.\u001b[0m\n",
      "\u001b[32m[I 2023-11-15 00:06:14,405]\u001b[0m Trial 46 finished with value: 28.589955282550942 and parameters: {'n_estimators': 614, 'max_depth': 14, 'learning_rate': 0.2241272122618932, 'num_leaves': 47, 'min_child_samples': 73, 'reg_alpha': 0.34639741539941105, 'reg_lambda': 0.18247055102003273}. Best is trial 35 with value: 28.476259673485806.\u001b[0m\n",
      "\u001b[32m[I 2023-11-15 00:06:14,568]\u001b[0m Trial 47 finished with value: 28.743218629859324 and parameters: {'n_estimators': 430, 'max_depth': 11, 'learning_rate': 0.23306702536136514, 'num_leaves': 47, 'min_child_samples': 73, 'reg_alpha': 0.27137392226673296, 'reg_lambda': 0.08423624559106535}. Best is trial 35 with value: 28.476259673485806.\u001b[0m\n",
      "\u001b[32m[I 2023-11-15 00:06:14,733]\u001b[0m Trial 48 finished with value: 30.47456621729703 and parameters: {'n_estimators': 432, 'max_depth': 11, 'learning_rate': 0.22530048879282083, 'num_leaves': 28, 'min_child_samples': 65, 'reg_alpha': 0.25145780683253666, 'reg_lambda': 0.05850059671051584}. Best is trial 35 with value: 28.476259673485806.\u001b[0m\n",
      "\u001b[32m[I 2023-11-15 00:06:14,864]\u001b[0m Trial 49 finished with value: 28.03532403309373 and parameters: {'n_estimators': 282, 'max_depth': 10, 'learning_rate': 0.26159574353894527, 'num_leaves': 31, 'min_child_samples': 59, 'reg_alpha': 0.30664731490689373, 'reg_lambda': 0.00848875671346247}. Best is trial 49 with value: 28.03532403309373.\u001b[0m\n",
      "\u001b[32m[I 2023-11-15 00:06:14,947]\u001b[0m Trial 50 finished with value: 28.700980040166897 and parameters: {'n_estimators': 51, 'max_depth': 9, 'learning_rate': 0.32625251458019966, 'num_leaves': 30, 'min_child_samples': 60, 'reg_alpha': 0.3364057843496458, 'reg_lambda': 0.00018219732541786132}. Best is trial 49 with value: 28.03532403309373.\u001b[0m\n",
      "\u001b[32m[I 2023-11-15 00:06:15,068]\u001b[0m Trial 51 finished with value: 29.834024341732157 and parameters: {'n_estimators': 173, 'max_depth': 8, 'learning_rate': 0.30311222876555705, 'num_leaves': 25, 'min_child_samples': 56, 'reg_alpha': 0.299746574583052, 'reg_lambda': 0.016064385924184438}. Best is trial 49 with value: 28.03532403309373.\u001b[0m\n",
      "\u001b[32m[I 2023-11-15 00:06:15,156]\u001b[0m Trial 52 finished with value: 27.29523135692959 and parameters: {'n_estimators': 42, 'max_depth': 9, 'learning_rate': 0.25725096563530037, 'num_leaves': 30, 'min_child_samples': 58, 'reg_alpha': 0.3492109503373112, 'reg_lambda': 0.05087498094599413}. Best is trial 52 with value: 27.29523135692959.\u001b[0m\n",
      "\u001b[32m[I 2023-11-15 00:06:15,239]\u001b[0m Trial 53 finished with value: 28.691683231454782 and parameters: {'n_estimators': 37, 'max_depth': 10, 'learning_rate': 0.33024413395160285, 'num_leaves': 30, 'min_child_samples': 57, 'reg_alpha': 0.3412890807295227, 'reg_lambda': 0.041372766271832395}. Best is trial 52 with value: 27.29523135692959.\u001b[0m\n",
      "\u001b[32m[I 2023-11-15 00:06:15,392]\u001b[0m Trial 54 finished with value: 30.08138810518952 and parameters: {'n_estimators': 281, 'max_depth': 10, 'learning_rate': 0.3543892904871307, 'num_leaves': 21, 'min_child_samples': 46, 'reg_alpha': 0.33037398841379034, 'reg_lambda': 0.060708173655441025}. Best is trial 52 with value: 27.29523135692959.\u001b[0m\n",
      "\u001b[32m[I 2023-11-15 00:06:15,506]\u001b[0m Trial 55 finished with value: 36.82722421722361 and parameters: {'n_estimators': 98, 'max_depth': 6, 'learning_rate': 0.25109166761352003, 'num_leaves': 31, 'min_child_samples': 36, 'reg_alpha': 0.20275215640597458, 'reg_lambda': 0.044451247774291075}. Best is trial 52 with value: 27.29523135692959.\u001b[0m\n",
      "\u001b[32m[I 2023-11-15 00:06:15,585]\u001b[0m Trial 56 finished with value: 29.872741457963414 and parameters: {'n_estimators': 25, 'max_depth': 10, 'learning_rate': 0.27405413034838444, 'num_leaves': 24, 'min_child_samples': 55, 'reg_alpha': 0.26608715629087054, 'reg_lambda': 0.12245744006204332}. Best is trial 52 with value: 27.29523135692959.\u001b[0m\n",
      "\u001b[32m[I 2023-11-15 00:06:15,757]\u001b[0m Trial 57 finished with value: 28.241622112174497 and parameters: {'n_estimators': 239, 'max_depth': 12, 'learning_rate': 0.2587338991173289, 'num_leaves': 31, 'min_child_samples': 52, 'reg_alpha': 0.44607337199893926, 'reg_lambda': 0.10180187085364514}. Best is trial 52 with value: 27.29523135692959.\u001b[0m\n",
      "\u001b[32m[I 2023-11-15 00:06:15,936]\u001b[0m Trial 58 finished with value: 31.84810406424807 and parameters: {'n_estimators': 348, 'max_depth': 12, 'learning_rate': 0.26315286677415073, 'num_leaves': 35, 'min_child_samples': 49, 'reg_alpha': 0.451079539580454, 'reg_lambda': 0.10532782854512024}. Best is trial 52 with value: 27.29523135692959.\u001b[0m\n",
      "\u001b[32m[I 2023-11-15 00:06:16,063]\u001b[0m Trial 59 finished with value: 30.74201477294322 and parameters: {'n_estimators': 235, 'max_depth': 8, 'learning_rate': 0.20886288342925374, 'num_leaves': 16, 'min_child_samples': 66, 'reg_alpha': 0.43330149212200564, 'reg_lambda': 0.09840392221234887}. Best is trial 52 with value: 27.29523135692959.\u001b[0m\n",
      "\u001b[32m[I 2023-11-15 00:06:16,234]\u001b[0m Trial 60 finished with value: 31.098326511070447 and parameters: {'n_estimators': 349, 'max_depth': 7, 'learning_rate': 0.23740960619245685, 'num_leaves': 32, 'min_child_samples': 51, 'reg_alpha': 0.3092225257510899, 'reg_lambda': 0.19230960357912857}. Best is trial 52 with value: 27.29523135692959.\u001b[0m\n",
      "\u001b[32m[I 2023-11-15 00:06:16,346]\u001b[0m Trial 61 finished with value: 32.90503137716406 and parameters: {'n_estimators': 120, 'max_depth': 13, 'learning_rate': 0.25537730541926573, 'num_leaves': 28, 'min_child_samples': 42, 'reg_alpha': 0.36047183522084086, 'reg_lambda': 0.03310564102621777}. Best is trial 52 with value: 27.29523135692959.\u001b[0m\n",
      "\u001b[32m[I 2023-11-15 00:06:16,517]\u001b[0m Trial 62 finished with value: 31.366615987933898 and parameters: {'n_estimators': 494, 'max_depth': 10, 'learning_rate': 0.2810646889363604, 'num_leaves': 26, 'min_child_samples': 68, 'reg_alpha': 0.3368204714520349, 'reg_lambda': 0.03311333836639575}. Best is trial 52 with value: 27.29523135692959.\u001b[0m\n",
      "\u001b[32m[I 2023-11-15 00:06:16,619]\u001b[0m Trial 63 finished with value: 30.541699863600268 and parameters: {'n_estimators': 145, 'max_depth': 9, 'learning_rate': 0.2939546566887999, 'num_leaves': 30, 'min_child_samples': 62, 'reg_alpha': 0.4264527218934093, 'reg_lambda': 0.07744034834181132}. Best is trial 52 with value: 27.29523135692959.\u001b[0m\n",
      "\u001b[32m[I 2023-11-15 00:06:16,757]\u001b[0m Trial 64 finished with value: 29.017365450708255 and parameters: {'n_estimators': 234, 'max_depth': 12, 'learning_rate': 0.21494419573788806, 'num_leaves': 36, 'min_child_samples': 57, 'reg_alpha': 0.4815434546652076, 'reg_lambda': 0.1494307715250267}. Best is trial 52 with value: 27.29523135692959.\u001b[0m\n",
      "\u001b[32m[I 2023-11-15 00:06:16,952]\u001b[0m Trial 65 finished with value: 32.345917959411196 and parameters: {'n_estimators': 553, 'max_depth': 9, 'learning_rate': 0.2673010835581933, 'num_leaves': 23, 'min_child_samples': 60, 'reg_alpha': 0.3079454644395076, 'reg_lambda': 0.026084703006689088}. Best is trial 52 with value: 27.29523135692959.\u001b[0m\n",
      "\u001b[32m[I 2023-11-15 00:06:17,112]\u001b[0m Trial 66 finished with value: 28.414849321737496 and parameters: {'n_estimators': 294, 'max_depth': 4, 'learning_rate': 0.24484101195576624, 'num_leaves': 32, 'min_child_samples': 52, 'reg_alpha': 0.40642987700516026, 'reg_lambda': 0.06717049435908279}. Best is trial 52 with value: 27.29523135692959.\u001b[0m\n",
      "\u001b[32m[I 2023-11-15 00:06:17,366]\u001b[0m Trial 67 finished with value: 33.018732432529916 and parameters: {'n_estimators': 645, 'max_depth': 3, 'learning_rate': 0.23059603602884193, 'num_leaves': 39, 'min_child_samples': 53, 'reg_alpha': 0.4155650836943042, 'reg_lambda': 0.00017378898036724683}. Best is trial 52 with value: 27.29523135692959.\u001b[0m\n",
      "\u001b[32m[I 2023-11-15 00:06:17,546]\u001b[0m Trial 68 finished with value: 32.331064710873534 and parameters: {'n_estimators': 375, 'max_depth': 5, 'learning_rate': 0.25014658520561445, 'num_leaves': 32, 'min_child_samples': 45, 'reg_alpha': 0.4532041912435564, 'reg_lambda': 0.10675844145181601}. Best is trial 52 with value: 27.29523135692959.\u001b[0m\n",
      "\u001b[32m[I 2023-11-15 00:06:17,716]\u001b[0m Trial 69 finished with value: 38.1937462576073 and parameters: {'n_estimators': 302, 'max_depth': 5, 'learning_rate': 0.17673802322175938, 'num_leaves': 37, 'min_child_samples': 39, 'reg_alpha': 0.39370454718066394, 'reg_lambda': 0.2151018655537142}. Best is trial 52 with value: 27.29523135692959.\u001b[0m\n",
      "\u001b[32m[I 2023-11-15 00:06:17,879]\u001b[0m Trial 70 finished with value: 28.762130935921153 and parameters: {'n_estimators': 460, 'max_depth': 4, 'learning_rate': 0.20247885361619236, 'num_leaves': 28, 'min_child_samples': 71, 'reg_alpha': 0.49405056397480823, 'reg_lambda': 0.07101481774033691}. Best is trial 52 with value: 27.29523135692959.\u001b[0m\n",
      "\u001b[32m[I 2023-11-15 00:06:17,977]\u001b[0m Trial 71 finished with value: 28.235030427338113 and parameters: {'n_estimators': 79, 'max_depth': 11, 'learning_rate': 0.2895795462012296, 'num_leaves': 29, 'min_child_samples': 58, 'reg_alpha': 0.3500207956871971, 'reg_lambda': 0.046563197892883525}. Best is trial 52 with value: 27.29523135692959.\u001b[0m\n",
      "\u001b[32m[I 2023-11-15 00:06:18,090]\u001b[0m Trial 72 finished with value: 30.27166420247135 and parameters: {'n_estimators': 206, 'max_depth': 11, 'learning_rate': 0.2888906569884611, 'num_leaves': 26, 'min_child_samples': 64, 'reg_alpha': 0.36758095177705313, 'reg_lambda': 0.12741213931187534}. Best is trial 52 with value: 27.29523135692959.\u001b[0m\n",
      "\u001b[32m[I 2023-11-15 00:06:18,187]\u001b[0m Trial 73 finished with value: 29.265296525669235 and parameters: {'n_estimators': 97, 'max_depth': 13, 'learning_rate': 0.27349032914147814, 'num_leaves': 33, 'min_child_samples': 60, 'reg_alpha': 0.29163106587775584, 'reg_lambda': 0.1551457938510619}. Best is trial 52 with value: 27.29523135692959.\u001b[0m\n",
      "\u001b[32m[I 2023-11-15 00:06:18,330]\u001b[0m Trial 74 finished with value: 29.9581846512869 and parameters: {'n_estimators': 254, 'max_depth': 14, 'learning_rate': 0.24450561812881888, 'num_leaves': 35, 'min_child_samples': 50, 'reg_alpha': 0.35771701549714263, 'reg_lambda': 0.08247408567714974}. Best is trial 52 with value: 27.29523135692959.\u001b[0m\n",
      "\u001b[32m[I 2023-11-15 00:06:18,435]\u001b[0m Trial 75 finished with value: 29.630147111302634 and parameters: {'n_estimators': 160, 'max_depth': 11, 'learning_rate': 0.22293329795417788, 'num_leaves': 31, 'min_child_samples': 74, 'reg_alpha': 0.4019782740591631, 'reg_lambda': 0.17978577054121775}. Best is trial 52 with value: 27.29523135692959.\u001b[0m\n",
      "\u001b[32m[I 2023-11-15 00:06:18,616]\u001b[0m Trial 76 finished with value: 31.088539635677684 and parameters: {'n_estimators': 371, 'max_depth': 12, 'learning_rate': 0.25622717865977385, 'num_leaves': 29, 'min_child_samples': 53, 'reg_alpha': 0.23073347240214123, 'reg_lambda': 0.04576746059183344}. Best is trial 52 with value: 27.29523135692959.\u001b[0m\n",
      "\u001b[32m[I 2023-11-15 00:06:18,817]\u001b[0m Trial 77 finished with value: 30.876049743954844 and parameters: {'n_estimators': 640, 'max_depth': 14, 'learning_rate': 0.23950230710963535, 'num_leaves': 40, 'min_child_samples': 69, 'reg_alpha': 0.26534743178818365, 'reg_lambda': 0.11966964862155166}. Best is trial 52 with value: 27.29523135692959.\u001b[0m\n",
      "\u001b[32m[I 2023-11-15 00:06:19,094]\u001b[0m Trial 78 finished with value: 29.9730271858398 and parameters: {'n_estimators': 903, 'max_depth': 13, 'learning_rate': 0.22106536082687603, 'num_leaves': 22, 'min_child_samples': 59, 'reg_alpha': 0.3283428539490013, 'reg_lambda': 0.082001489484178}. Best is trial 52 with value: 27.29523135692959.\u001b[0m\n",
      "\u001b[32m[I 2023-11-15 00:06:19,257]\u001b[0m Trial 79 finished with value: 31.361275600828037 and parameters: {'n_estimators': 506, 'max_depth': 7, 'learning_rate': 0.26764207897061526, 'num_leaves': 16, 'min_child_samples': 75, 'reg_alpha': 0.46966454918316497, 'reg_lambda': 0.24031521556314536}. Best is trial 52 with value: 27.29523135692959.\u001b[0m\n",
      "\u001b[32m[I 2023-11-15 00:06:19,452]\u001b[0m Trial 80 finished with value: 31.473194673052525 and parameters: {'n_estimators': 320, 'max_depth': 12, 'learning_rate': 0.20625722562083593, 'num_leaves': 42, 'min_child_samples': 47, 'reg_alpha': 0.44507501193702725, 'reg_lambda': 0.16092872049871113}. Best is trial 52 with value: 27.29523135692959.\u001b[0m\n",
      "\u001b[32m[I 2023-11-15 00:06:19,554]\u001b[0m Trial 81 finished with value: 27.680194112209453 and parameters: {'n_estimators': 67, 'max_depth': 10, 'learning_rate': 0.28998159261033324, 'num_leaves': 29, 'min_child_samples': 58, 'reg_alpha': 0.35982743501449993, 'reg_lambda': 0.027779050364767202}. Best is trial 52 with value: 27.29523135692959.\u001b[0m\n",
      "\u001b[32m[I 2023-11-15 00:06:19,660]\u001b[0m Trial 82 finished with value: 30.98000386621498 and parameters: {'n_estimators': 74, 'max_depth': 10, 'learning_rate': 0.28853669958775513, 'num_leaves': 27, 'min_child_samples': 63, 'reg_alpha': 0.3774779861592788, 'reg_lambda': 0.059049424950081295}. Best is trial 52 with value: 27.29523135692959.\u001b[0m\n",
      "\u001b[32m[I 2023-11-15 00:06:19,787]\u001b[0m Trial 83 finished with value: 29.48596344503953 and parameters: {'n_estimators': 179, 'max_depth': 11, 'learning_rate': 0.2508829684498463, 'num_leaves': 32, 'min_child_samples': 54, 'reg_alpha': 0.3152487460370769, 'reg_lambda': 0.018942936349194067}. Best is trial 52 with value: 27.29523135692959.\u001b[0m\n",
      "\u001b[32m[I 2023-11-15 00:06:19,867]\u001b[0m Trial 84 finished with value: 30.831038688144066 and parameters: {'n_estimators': 20, 'max_depth': 15, 'learning_rate': 0.27139690680552303, 'num_leaves': 29, 'min_child_samples': 84, 'reg_alpha': 0.4061031891654069, 'reg_lambda': 0.12099677227552204}. Best is trial 52 with value: 27.29523135692959.\u001b[0m\n",
      "\u001b[32m[I 2023-11-15 00:06:20,109]\u001b[0m Trial 85 finished with value: 31.3056605408432 and parameters: {'n_estimators': 775, 'max_depth': 9, 'learning_rate': 0.2320055223645732, 'num_leaves': 25, 'min_child_samples': 68, 'reg_alpha': 0.3527677166323262, 'reg_lambda': 0.09846968102165765}. Best is trial 52 with value: 27.29523135692959.\u001b[0m\n",
      "\u001b[32m[I 2023-11-15 00:06:20,210]\u001b[0m Trial 86 finished with value: 30.27223484472658 and parameters: {'n_estimators': 142, 'max_depth': 11, 'learning_rate': 0.3073442215115542, 'num_leaves': 34, 'min_child_samples': 80, 'reg_alpha': 0.278132820783428, 'reg_lambda': 0.02282032501351862}. Best is trial 52 with value: 27.29523135692959.\u001b[0m\n",
      "\u001b[32m[I 2023-11-15 00:06:20,350]\u001b[0m Trial 87 finished with value: 26.609649946968243 and parameters: {'n_estimators': 255, 'max_depth': 10, 'learning_rate': 0.19414227033088552, 'num_leaves': 45, 'min_child_samples': 58, 'reg_alpha': 0.3817946865424996, 'reg_lambda': 0.19947251211619177}. Best is trial 87 with value: 26.609649946968243.\u001b[0m\n",
      "\u001b[32m[I 2023-11-15 00:06:20,484]\u001b[0m Trial 88 finished with value: 27.074054515870966 and parameters: {'n_estimators': 257, 'max_depth': 7, 'learning_rate': 0.18925092779935204, 'num_leaves': 19, 'min_child_samples': 58, 'reg_alpha': 0.42510087120303247, 'reg_lambda': 0.059633137260275304}. Best is trial 87 with value: 26.609649946968243.\u001b[0m\n",
      "\u001b[32m[I 2023-11-15 00:06:20,623]\u001b[0m Trial 89 finished with value: 27.124121146182627 and parameters: {'n_estimators': 273, 'max_depth': 7, 'learning_rate': 0.19004908750212993, 'num_leaves': 12, 'min_child_samples': 58, 'reg_alpha': 0.3854655843936213, 'reg_lambda': 0.05656305607864927}. Best is trial 87 with value: 26.609649946968243.\u001b[0m\n",
      "\u001b[32m[I 2023-11-15 00:06:20,753]\u001b[0m Trial 90 finished with value: 27.304520118251446 and parameters: {'n_estimators': 251, 'max_depth': 7, 'learning_rate': 0.1491043184598763, 'num_leaves': 4, 'min_child_samples': 58, 'reg_alpha': 0.4208751626982732, 'reg_lambda': 0.0651428901972916}. Best is trial 87 with value: 26.609649946968243.\u001b[0m\n",
      "\u001b[32m[I 2023-11-15 00:06:20,884]\u001b[0m Trial 91 finished with value: 27.490060625293367 and parameters: {'n_estimators': 240, 'max_depth': 7, 'learning_rate': 0.15465000438610282, 'num_leaves': 12, 'min_child_samples': 58, 'reg_alpha': 0.41825960884281943, 'reg_lambda': 0.05082634086403746}. Best is trial 87 with value: 26.609649946968243.\u001b[0m\n",
      "\u001b[32m[I 2023-11-15 00:06:21,008]\u001b[0m Trial 92 finished with value: 27.30289609705812 and parameters: {'n_estimators': 229, 'max_depth': 7, 'learning_rate': 0.15331669658295055, 'num_leaves': 6, 'min_child_samples': 58, 'reg_alpha': 0.42480666177512855, 'reg_lambda': 0.04686603058837356}. Best is trial 87 with value: 26.609649946968243.\u001b[0m\n",
      "\u001b[32m[I 2023-11-15 00:06:21,111]\u001b[0m Trial 93 finished with value: 29.821244506685044 and parameters: {'n_estimators': 106, 'max_depth': 7, 'learning_rate': 0.1386549327456103, 'num_leaves': 5, 'min_child_samples': 62, 'reg_alpha': 0.42619007223693406, 'reg_lambda': 0.0009075751928071599}. Best is trial 87 with value: 26.609649946968243.\u001b[0m\n",
      "\u001b[32m[I 2023-11-15 00:06:21,232]\u001b[0m Trial 94 finished with value: 27.426421167853324 and parameters: {'n_estimators': 206, 'max_depth': 6, 'learning_rate': 0.15059390695662445, 'num_leaves': 9, 'min_child_samples': 58, 'reg_alpha': 0.3892317798510341, 'reg_lambda': 0.05040511479374315}. Best is trial 87 with value: 26.609649946968243.\u001b[0m\n",
      "\u001b[32m[I 2023-11-15 00:06:21,387]\u001b[0m Trial 95 finished with value: 28.997803929957087 and parameters: {'n_estimators': 209, 'max_depth': 7, 'learning_rate': 0.1498241262250583, 'num_leaves': 9, 'min_child_samples': 55, 'reg_alpha': 0.38581304765452196, 'reg_lambda': 0.04948099676838241}. Best is trial 87 with value: 26.609649946968243.\u001b[0m\n",
      "\u001b[32m[I 2023-11-15 00:06:21,878]\u001b[0m Trial 96 finished with value: 33.616675620237515 and parameters: {'n_estimators': 1902, 'max_depth': 6, 'learning_rate': 0.1655726083536703, 'num_leaves': 12, 'min_child_samples': 61, 'reg_alpha': 0.472339821785531, 'reg_lambda': 0.02072213921005245}. Best is trial 87 with value: 26.609649946968243.\u001b[0m\n",
      "\u001b[32m[I 2023-11-15 00:06:22,034]\u001b[0m Trial 97 finished with value: 30.362655708612138 and parameters: {'n_estimators': 392, 'max_depth': 8, 'learning_rate': 0.15174953198637686, 'num_leaves': 6, 'min_child_samples': 65, 'reg_alpha': 0.43350960860826643, 'reg_lambda': 0.07496786817025888}. Best is trial 87 with value: 26.609649946968243.\u001b[0m\n",
      "\u001b[32m[I 2023-11-15 00:06:22,191]\u001b[0m Trial 98 finished with value: 29.322133037322182 and parameters: {'n_estimators': 270, 'max_depth': 6, 'learning_rate': 0.17918352707058263, 'num_leaves': 9, 'min_child_samples': 57, 'reg_alpha': 0.5063306392930529, 'reg_lambda': 0.029904742906147797}. Best is trial 87 with value: 26.609649946968243.\u001b[0m\n",
      "\u001b[32m[I 2023-11-15 00:06:22,340]\u001b[0m Trial 99 finished with value: 26.53423212205019 and parameters: {'n_estimators': 317, 'max_depth': 8, 'learning_rate': 0.1656046541597481, 'num_leaves': 3, 'min_child_samples': 58, 'reg_alpha': 0.5331249906654068, 'reg_lambda': 0.05660113084690789}. Best is trial 99 with value: 26.53423212205019.\u001b[0m\n"
     ]
    }
   ],
   "source": [
    "study = optuna.create_study()\n",
    "study.optimize(objective, n_trials=100)"
   ]
  },
  {
   "cell_type": "code",
   "execution_count": 119,
   "metadata": {},
   "outputs": [
    {
     "name": "stdout",
     "output_type": "stream",
     "text": [
      "26.53423212205019\n",
      "{'n_estimators': 317, 'max_depth': 8, 'learning_rate': 0.1656046541597481, 'num_leaves': 3, 'min_child_samples': 58, 'reg_alpha': 0.5331249906654068, 'reg_lambda': 0.05660113084690789}\n"
     ]
    }
   ],
   "source": [
    "print(study.best_value)\n",
    "print(study.best_params)"
   ]
  },
  {
   "cell_type": "markdown",
   "metadata": {},
   "source": [
    "# 모델 학습 후 저장"
   ]
  },
  {
   "cell_type": "code",
   "execution_count": 98,
   "metadata": {},
   "outputs": [],
   "source": [
    "import joblib"
   ]
  },
  {
   "cell_type": "code",
   "execution_count": 103,
   "metadata": {},
   "outputs": [
    {
     "data": {
      "text/plain": [
       "['../model/시간1r1유사도추가lgbm.pkl']"
      ]
     },
     "execution_count": 103,
     "metadata": {},
     "output_type": "execute_result"
    }
   ],
   "source": [
    "model=LGBMRegressor(**study.best_params,random_state=42)\n",
    "model.fit(x1_df2_1,y1_df2_1)\n",
    "joblib.dump(model,\"../model/시간1r1유사도추가lgbm.pkl\")"
   ]
  },
  {
   "cell_type": "code",
   "execution_count": 99,
   "metadata": {},
   "outputs": [
    {
     "data": {
      "text/plain": [
       "['../model/시간2r1유사도추가lgbm.pkl']"
      ]
     },
     "execution_count": 99,
     "metadata": {},
     "output_type": "execute_result"
    }
   ],
   "source": [
    "# 모델 학습 후 저장 !!! 필 히  이름 바 꿀 것!!!!!!11\n",
    "model=LGBMRegressor(**study.best_params,random_state=42)\n",
    "model.fit(x1_df2_2,y1_df2_2)\n",
    "joblib.dump(model,\"../model/시간2r1유사도추가lgbm.pkl\")"
   ]
  },
  {
   "cell_type": "code",
   "execution_count": 107,
   "metadata": {},
   "outputs": [
    {
     "data": {
      "text/plain": [
       "['../model/시간3r1유사도추가lgbm.pkl']"
      ]
     },
     "execution_count": 107,
     "metadata": {},
     "output_type": "execute_result"
    }
   ],
   "source": [
    "model=LGBMRegressor(**study.best_params,random_state=42)\n",
    "model.fit(x1_df2_3,y1_df2_3)\n",
    "joblib.dump(model,\"../model/시간3r1유사도추가lgbm.pkl\")"
   ]
  },
  {
   "cell_type": "code",
   "execution_count": 120,
   "metadata": {},
   "outputs": [
    {
     "data": {
      "text/plain": [
       "['../model/시간1r2유사도추가lgbm.pkl']"
      ]
     },
     "execution_count": 120,
     "metadata": {},
     "output_type": "execute_result"
    }
   ],
   "source": [
    "model=LGBMRegressor(**study.best_params,random_state=42)\n",
    "model.fit(x2_df2_1,y2_df2_1)\n",
    "joblib.dump(model,\"../model/시간1r2유사도추가lgbm.pkl\")"
   ]
  },
  {
   "cell_type": "code",
   "execution_count": 115,
   "metadata": {},
   "outputs": [
    {
     "data": {
      "text/plain": [
       "['../model/시간2r2유사도추가lgbm.pkl']"
      ]
     },
     "execution_count": 115,
     "metadata": {},
     "output_type": "execute_result"
    }
   ],
   "source": [
    "# 모델 학습 후 저장 !!! 필 히  이름 바 꿀 것!!!!!!11\n",
    "model=LGBMRegressor(**study.best_params,random_state=42)\n",
    "model.fit(x2_df2_2,y2_df2_2)\n",
    "joblib.dump(model,\"../model/시간2r2유사도추가lgbm.pkl\")"
   ]
  },
  {
   "cell_type": "code",
   "execution_count": 111,
   "metadata": {},
   "outputs": [
    {
     "data": {
      "text/plain": [
       "['../model/시간3r2유사도추가lgbm.pkl']"
      ]
     },
     "execution_count": 111,
     "metadata": {},
     "output_type": "execute_result"
    }
   ],
   "source": [
    "model=LGBMRegressor(**study.best_params,random_state=42)\n",
    "model.fit(x2_df2_3,y2_df2_3)\n",
    "joblib.dump(model,\"../model/시간3r2유사도추가lgbm.pkl\")"
   ]
  },
  {
   "cell_type": "markdown",
   "metadata": {},
   "source": [
    "# 예측 시작"
   ]
  },
  {
   "cell_type": "markdown",
   "metadata": {},
   "source": [
    "## 예측하려는 파일을 이제 시간대별 round별로 나눠야함 \n",
    "## 해당 기능을 수행하는 함수 선언"
   ]
  },
  {
   "cell_type": "markdown",
   "metadata": {},
   "source": [
    "## R1"
   ]
  },
  {
   "cell_type": "code",
   "execution_count": 54,
   "metadata": {},
   "outputs": [],
   "source": [
    "date = \"2023-11-17\""
   ]
  },
  {
   "cell_type": "code",
   "execution_count": 55,
   "metadata": {},
   "outputs": [],
   "source": [
    "# 예측에 사용할 데이터 셋 불러오기 \n",
    "gf = pd.read_csv(f\"../data/gen_fcst_10_{date}.csv\")\n",
    "wf = pd.read_csv(f\"../data/weather_forecasts/wf10_{date}.csv\")\n",
    "gf.columns = [\"time\",\"m0\",\"m1\",\"m2\",\"m3\",\"m4\"]\n",
    "train = pd.merge(gf,wf,on=\"time\")\n",
    "train[\"time\"] = pd.to_datetime(train[\"time\"])\n",
    "train[\"month\"]=train[\"time\"].dt.month\n",
    "train[\"day\"]=train[\"time\"].dt.day\n",
    "train[\"hour\"]=train[\"time\"].dt.hour"
   ]
  },
  {
   "cell_type": "code",
   "execution_count": 56,
   "metadata": {},
   "outputs": [
    {
     "name": "stderr",
     "output_type": "stream",
     "text": [
      "C:\\Users\\admin\\AppData\\Local\\Temp\\ipykernel_31440\\1801296762.py:7: SettingWithCopyWarning: \n",
      "A value is trying to be set on a copy of a slice from a DataFrame.\n",
      "Try using .loc[row_indexer,col_indexer] = value instead\n",
      "\n",
      "See the caveats in the documentation: https://pandas.pydata.org/pandas-docs/stable/user_guide/indexing.html#returning-a-view-versus-a-copy\n",
      "  pred1[\"amount1\"] = 0\n",
      "C:\\Users\\admin\\AppData\\Local\\Temp\\ipykernel_31440\\1801296762.py:8: SettingWithCopyWarning: \n",
      "A value is trying to be set on a copy of a slice from a DataFrame.\n",
      "Try using .loc[row_indexer,col_indexer] = value instead\n",
      "\n",
      "See the caveats in the documentation: https://pandas.pydata.org/pandas-docs/stable/user_guide/indexing.html#returning-a-view-versus-a-copy\n",
      "  pred2[\"amount2\"] = 0\n"
     ]
    }
   ],
   "source": [
    "a1 = xy_df1[[\"m0\",\"m1\",\"m2\",\"m3\",\"m4\",\"elevation\",\"uv_idx\",\"amount\"]]\n",
    "a2 = xy_df1[[\"m0\",\"m1\",\"m2\",\"m3\",\"m4\",\"elevation\",\"uv_idx\",\"humidity\",\"amount\",\"vis\",\"dew_point\",\"ground_press\"]]\n",
    "feature1 = a1.drop([\"amount\"],axis=1)\n",
    "feature2 = a2.drop([\"amount\"],axis=1)\n",
    "pred1 = train[[\"m0\",\"m1\",\"m2\",\"m3\",\"m4\",\"elevation\",\"uv_idx\"]]\n",
    "pred2 = train[[\"m0\",\"m1\",\"m2\",\"m3\",\"m4\",\"elevation\",\"uv_idx\",\"humidity\",\"vis\",\"dew_point\",\"ground_press\"]]\n",
    "pred1[\"amount1\"] = 0\n",
    "pred2[\"amount2\"] = 0"
   ]
  },
  {
   "cell_type": "code",
   "execution_count": 57,
   "metadata": {},
   "outputs": [],
   "source": [
    "# 각 pred 행에 대해 가장 유사도가 높은 feature 행의 amount를 가져와서 추가\n",
    "for i in range(pred1.shape[0]):\n",
    "    # 현재 pred 행과 모든 feature 행 간의 코사인 유사도 계산\n",
    "    similarities = cosine_similarity(pred1.drop([\"amount1\"],axis=1).iloc[[i]], feature1)[0]\n",
    "    \n",
    "    # 유사도가 가장 높은 feature 행의 인덱스 찾기\n",
    "    most_similar_index = np.argmax(similarities)\n",
    "    \n",
    "    # 해당 인덱스에 대응하는 make_train1의 amount 값을 가져와서 pred의 amount에 추가\n",
    "    pred1.loc[i, \"amount1\"] = a1.at[most_similar_index, \"amount\"]\n",
    "\n",
    "# 각 pred 행에 대해 가장 유사도가 높은 feature 행의 amount를 가져와서 추가\n",
    "for i in range(pred2.shape[0]):\n",
    "    # 현재 pred 행과 모든 feature 행 간의 코사인 유사도 계산\n",
    "    similarities = cosine_similarity(pred2.drop([\"amount2\"],axis=1).iloc[[i]], feature2)[0]\n",
    "    \n",
    "    # 유사도가 가장 높은 feature 행의 인덱스 찾기\n",
    "    most_similar_index = np.argmax(similarities)\n",
    "    \n",
    "    # 해당 인덱스에 대응하는 make_train1의 amount 값을 가져와서 pred의 amount에 추가\n",
    "    pred2.loc[i, \"amount2\"] = a2.at[most_similar_index, \"amount\"]"
   ]
  },
  {
   "cell_type": "code",
   "execution_count": 58,
   "metadata": {},
   "outputs": [],
   "source": [
    "train[\"amount1\"]=pred1[\"amount1\"]\n",
    "train[\"amount2\"]=pred2[\"amount2\"]"
   ]
  },
  {
   "cell_type": "code",
   "execution_count": 59,
   "metadata": {},
   "outputs": [],
   "source": [
    "## test data set 만드는 함수\n",
    "def make_test_xy(train):\n",
    "    train_1 = train[(train[\"hour\"]<=9) & (train[\"hour\"]>=7)]\n",
    "    train_2 = train[(train[\"hour\"]<=15) & (train[\"hour\"]>=10)]\n",
    "    train_3 = train[(train[\"hour\"]<=19) & (train[\"hour\"]>=16)]\n",
    "    \n",
    "    train11 = train_1[[\"m0\",\"m1\",\"m2\",\"m3\",\"m4\",\"uv_idx\",\"elevation\",\"amount1\",\"amount2\"]]\n",
    "    train12 = train_2[[\"m0\",\"m1\",\"m2\",\"m3\",\"m4\",\"uv_idx\",\"elevation\",\"amount1\",\"amount2\"]]\n",
    "    train13 = train_3[[\"m0\",\"m1\",\"m2\",\"m3\",\"m4\",\"uv_idx\",\"elevation\",\"amount1\",\"amount2\"]]\n",
    "    train21 = train_1.drop([\"m0\",\"m1\",\"m2\",\"m3\",\"m4\",\"uv_idx\",\"elevation\",\"time\",\"hour\",\"amount1\",\"amount2\",\"day\",\"month\",\"time\"],axis=1)\n",
    "    train22 = train_2.drop([\"m0\",\"m1\",\"m2\",\"m3\",\"m4\",\"uv_idx\",\"elevation\",\"time\",\"hour\",\"amount1\",\"amount2\",\"day\",\"month\",\"time\"],axis=1)\n",
    "    train23 = train_3.drop([\"m0\",\"m1\",\"m2\",\"m3\",\"m4\",\"uv_idx\",\"elevation\",\"time\",\"hour\",\"amount1\",\"amount2\",\"day\",\"month\",\"time\"],axis=1)\n",
    "    \n",
    "    return train11,train12,train13,train21,train22,train23"
   ]
  },
  {
   "cell_type": "code",
   "execution_count": 60,
   "metadata": {},
   "outputs": [],
   "source": [
    "# 함수에 넣어서 데이터셋 분리\n",
    "test11,test12,test13,test21,test22,test23 = make_test_xy(train)"
   ]
  },
  {
   "cell_type": "code",
   "execution_count": 61,
   "metadata": {},
   "outputs": [],
   "source": [
    "model11=joblib.load(\"../model/시간1r1유사도추가회귀.pkl\")\n",
    "model12=joblib.load(\"../model/시간2r1유사도추가회귀.pkl\")\n",
    "model13=joblib.load(\"../model/시간3r1유사도추가회귀.pkl\")"
   ]
  },
  {
   "cell_type": "code",
   "execution_count": 62,
   "metadata": {},
   "outputs": [],
   "source": [
    "# 예측 진행 (1차 모델링 y_hat)\n",
    "y_pred11=model11.predict(test11)\n",
    "y_pred12=model12.predict(test12)\n",
    "y_pred13=model13.predict(test13)"
   ]
  },
  {
   "cell_type": "code",
   "execution_count": 63,
   "metadata": {},
   "outputs": [],
   "source": [
    "model21=joblib.load(\"../model/시간1r1유사도추가lgbm.pkl\")\n",
    "model22=joblib.load(\"../model/시간2r1유사도추가lgbm.pkl\")\n",
    "model23=joblib.load(\"../model/시간3r1유사도추가lgbm.pkl\")"
   ]
  },
  {
   "cell_type": "code",
   "execution_count": 64,
   "metadata": {},
   "outputs": [],
   "source": [
    "y_pred21 = model21.predict(test21)\n",
    "y_pred22 = model22.predict(test22)\n",
    "y_pred23 = model23.predict(test23)"
   ]
  },
  {
   "cell_type": "code",
   "execution_count": 65,
   "metadata": {},
   "outputs": [],
   "source": [
    "result1 = y_pred11+y_pred21\n",
    "result2 = y_pred12+y_pred22\n",
    "result3 = y_pred13+y_pred23"
   ]
  },
  {
   "cell_type": "code",
   "execution_count": 66,
   "metadata": {},
   "outputs": [
    {
     "data": {
      "text/plain": [
       "array([ 0.78881588,  1.99668565, 11.65047454, 28.18778026, 20.26474815,\n",
       "       13.21148804, 31.78232173, 22.81184245, 27.28617364, 13.3399234 ,\n",
       "        4.55998877, -1.6072397 , -2.25836043])"
      ]
     },
     "execution_count": 66,
     "metadata": {},
     "output_type": "execute_result"
    }
   ],
   "source": [
    "resultr1 = np.concatenate((result1,result2,result3))\n",
    "resultr1"
   ]
  },
  {
   "cell_type": "markdown",
   "metadata": {},
   "source": [
    "### R2"
   ]
  },
  {
   "cell_type": "code",
   "execution_count": 80,
   "metadata": {},
   "outputs": [],
   "source": [
    "date = \"2023-11-17\""
   ]
  },
  {
   "cell_type": "code",
   "execution_count": 81,
   "metadata": {},
   "outputs": [],
   "source": [
    "# 예측에 사용할 데이터 셋 불러오기 \n",
    "gf = pd.read_csv(f\"../data/gen_fcst_17_{date}.csv\")\n",
    "wf = pd.read_csv(f\"../data/weather_forecasts/wf17_{date}.csv\")\n",
    "gf.columns = [\"time\",\"m0\",\"m1\",\"m2\",\"m3\",\"m4\"]\n",
    "train = pd.merge(gf,wf,on=\"time\")\n",
    "train[\"time\"] = pd.to_datetime(train[\"time\"])\n",
    "train[\"month\"]=train[\"time\"].dt.month\n",
    "train[\"day\"]=train[\"time\"].dt.day\n",
    "train[\"hour\"]=train[\"time\"].dt.hour"
   ]
  },
  {
   "cell_type": "code",
   "execution_count": 69,
   "metadata": {},
   "outputs": [
    {
     "name": "stderr",
     "output_type": "stream",
     "text": [
      "C:\\Users\\admin\\AppData\\Local\\Temp\\ipykernel_31440\\1801296762.py:7: SettingWithCopyWarning: \n",
      "A value is trying to be set on a copy of a slice from a DataFrame.\n",
      "Try using .loc[row_indexer,col_indexer] = value instead\n",
      "\n",
      "See the caveats in the documentation: https://pandas.pydata.org/pandas-docs/stable/user_guide/indexing.html#returning-a-view-versus-a-copy\n",
      "  pred1[\"amount1\"] = 0\n",
      "C:\\Users\\admin\\AppData\\Local\\Temp\\ipykernel_31440\\1801296762.py:8: SettingWithCopyWarning: \n",
      "A value is trying to be set on a copy of a slice from a DataFrame.\n",
      "Try using .loc[row_indexer,col_indexer] = value instead\n",
      "\n",
      "See the caveats in the documentation: https://pandas.pydata.org/pandas-docs/stable/user_guide/indexing.html#returning-a-view-versus-a-copy\n",
      "  pred2[\"amount2\"] = 0\n"
     ]
    }
   ],
   "source": [
    "a1 = xy_df1[[\"m0\",\"m1\",\"m2\",\"m3\",\"m4\",\"elevation\",\"uv_idx\",\"amount\"]]\n",
    "a2 = xy_df1[[\"m0\",\"m1\",\"m2\",\"m3\",\"m4\",\"elevation\",\"uv_idx\",\"humidity\",\"amount\",\"vis\",\"dew_point\",\"ground_press\"]]\n",
    "feature1 = a1.drop([\"amount\"],axis=1)\n",
    "feature2 = a2.drop([\"amount\"],axis=1)\n",
    "pred1 = train[[\"m0\",\"m1\",\"m2\",\"m3\",\"m4\",\"elevation\",\"uv_idx\"]]\n",
    "pred2 = train[[\"m0\",\"m1\",\"m2\",\"m3\",\"m4\",\"elevation\",\"uv_idx\",\"humidity\",\"vis\",\"dew_point\",\"ground_press\"]]\n",
    "pred1[\"amount1\"] = 0\n",
    "pred2[\"amount2\"] = 0"
   ]
  },
  {
   "cell_type": "code",
   "execution_count": 70,
   "metadata": {},
   "outputs": [],
   "source": [
    "# 각 pred 행에 대해 가장 유사도가 높은 feature 행의 amount를 가져와서 추가\n",
    "for i in range(pred1.shape[0]):\n",
    "    # 현재 pred 행과 모든 feature 행 간의 코사인 유사도 계산\n",
    "    similarities = cosine_similarity(pred1.drop([\"amount1\"],axis=1).iloc[[i]], feature1)[0]\n",
    "    \n",
    "    # 유사도가 가장 높은 feature 행의 인덱스 찾기\n",
    "    most_similar_index = np.argmax(similarities)\n",
    "    \n",
    "    # 해당 인덱스에 대응하는 make_train1의 amount 값을 가져와서 pred의 amount에 추가\n",
    "    pred1.loc[i, \"amount1\"] = a1.at[most_similar_index, \"amount\"]\n",
    "\n",
    "# 각 pred 행에 대해 가장 유사도가 높은 feature 행의 amount를 가져와서 추가\n",
    "for i in range(pred2.shape[0]):\n",
    "    # 현재 pred 행과 모든 feature 행 간의 코사인 유사도 계산\n",
    "    similarities = cosine_similarity(pred2.drop([\"amount2\"],axis=1).iloc[[i]], feature2)[0]\n",
    "    \n",
    "    # 유사도가 가장 높은 feature 행의 인덱스 찾기\n",
    "    most_similar_index = np.argmax(similarities)\n",
    "    \n",
    "    # 해당 인덱스에 대응하는 make_train1의 amount 값을 가져와서 pred의 amount에 추가\n",
    "    pred2.loc[i, \"amount2\"] = a2.at[most_similar_index, \"amount\"]"
   ]
  },
  {
   "cell_type": "code",
   "execution_count": 71,
   "metadata": {},
   "outputs": [],
   "source": [
    "train[\"amount1\"]=pred1[\"amount1\"]\n",
    "train[\"amount2\"]=pred2[\"amount2\"]"
   ]
  },
  {
   "cell_type": "code",
   "execution_count": 72,
   "metadata": {},
   "outputs": [],
   "source": [
    "## test data set 만드는 함수\n",
    "def make_test_xy(train):\n",
    "    train_1 = train[(train[\"hour\"]<=9) & (train[\"hour\"]>=7)]\n",
    "    train_2 = train[(train[\"hour\"]<=15) & (train[\"hour\"]>=10)]\n",
    "    train_3 = train[(train[\"hour\"]<=19) & (train[\"hour\"]>=16)]\n",
    "    \n",
    "    train11 = train_1[[\"m0\",\"m1\",\"m2\",\"m3\",\"m4\",\"uv_idx\",\"elevation\",\"amount1\",\"amount2\"]]\n",
    "    train12 = train_2[[\"m0\",\"m1\",\"m2\",\"m3\",\"m4\",\"uv_idx\",\"elevation\",\"amount1\",\"amount2\"]]\n",
    "    train13 = train_3[[\"m0\",\"m1\",\"m2\",\"m3\",\"m4\",\"uv_idx\",\"elevation\",\"amount1\",\"amount2\"]]\n",
    "    train21 = train_1.drop([\"m0\",\"m1\",\"m2\",\"m3\",\"m4\",\"uv_idx\",\"elevation\",\"time\",\"hour\",\"amount1\",\"amount2\",\"day\",\"month\",\"time\"],axis=1)\n",
    "    train22 = train_2.drop([\"m0\",\"m1\",\"m2\",\"m3\",\"m4\",\"uv_idx\",\"elevation\",\"time\",\"hour\",\"amount1\",\"amount2\",\"day\",\"month\",\"time\"],axis=1)\n",
    "    train23 = train_3.drop([\"m0\",\"m1\",\"m2\",\"m3\",\"m4\",\"uv_idx\",\"elevation\",\"time\",\"hour\",\"amount1\",\"amount2\",\"day\",\"month\",\"time\"],axis=1)\n",
    "    \n",
    "    return train11,train12,train13,train21,train22,train23"
   ]
  },
  {
   "cell_type": "code",
   "execution_count": 73,
   "metadata": {},
   "outputs": [],
   "source": [
    "# 함수에 넣어서 데이터셋 분리\n",
    "test11,test12,test13,test21,test22,test23 = make_test_xy(train)"
   ]
  },
  {
   "cell_type": "code",
   "execution_count": 74,
   "metadata": {},
   "outputs": [],
   "source": [
    "import joblib"
   ]
  },
  {
   "cell_type": "code",
   "execution_count": 75,
   "metadata": {},
   "outputs": [],
   "source": [
    "model11=joblib.load(\"../model/시간1r2유사도추가회귀.pkl\")\n",
    "model12=joblib.load(\"../model/시간2r2유사도추가회귀.pkl\")\n",
    "model13=joblib.load(\"../model/시간3r2유사도추가회귀.pkl\")\n",
    "# 예측 진행 (1차 모델링 y_hat)\n",
    "y_pred11=model11.predict(test11)\n",
    "y_pred12=model12.predict(test12)\n",
    "y_pred13=model13.predict(test13)"
   ]
  },
  {
   "cell_type": "code",
   "execution_count": 76,
   "metadata": {},
   "outputs": [],
   "source": [
    "model21=joblib.load(\"../model/시간1r2유사도추가lgbm.pkl\")\n",
    "model22=joblib.load(\"../model/시간2r2유사도추가lgbm.pkl\")\n",
    "model23=joblib.load(\"../model/시간3r2유사도추가lgbm.pkl\")\n",
    "y_pred21 = model21.predict(test21)\n",
    "y_pred22 = model22.predict(test22)\n",
    "y_pred23 = model23.predict(test23)"
   ]
  },
  {
   "cell_type": "code",
   "execution_count": 77,
   "metadata": {},
   "outputs": [
    {
     "data": {
      "text/plain": [
       "array([-0.9410738 ,  1.38690349, 14.43483615, 15.33595832, 20.09410243,\n",
       "       15.06247084, 24.10088787, 18.08317806, 34.18117885, 10.69258043,\n",
       "        4.46711816, -5.88606825, -6.62815206])"
      ]
     },
     "execution_count": 77,
     "metadata": {},
     "output_type": "execute_result"
    }
   ],
   "source": [
    "result1 = y_pred11+y_pred21\n",
    "result2 = y_pred12+y_pred22\n",
    "result3 = y_pred13+y_pred23\n",
    "resultr2 = np.concatenate((result1,result2,result3))\n",
    "resultr2"
   ]
  },
  {
   "cell_type": "markdown",
   "metadata": {},
   "source": [
    "## 최종"
   ]
  },
  {
   "cell_type": "code",
   "execution_count": 82,
   "metadata": {},
   "outputs": [
    {
     "data": {
      "text/html": [
       "<div>\n",
       "<style scoped>\n",
       "    .dataframe tbody tr th:only-of-type {\n",
       "        vertical-align: middle;\n",
       "    }\n",
       "\n",
       "    .dataframe tbody tr th {\n",
       "        vertical-align: top;\n",
       "    }\n",
       "\n",
       "    .dataframe thead th {\n",
       "        text-align: right;\n",
       "    }\n",
       "</style>\n",
       "<table border=\"1\" class=\"dataframe\">\n",
       "  <thead>\n",
       "    <tr style=\"text-align: right;\">\n",
       "      <th></th>\n",
       "      <th>time</th>\n",
       "      <th>cloud</th>\n",
       "      <th>temp</th>\n",
       "      <th>humidity</th>\n",
       "      <th>ground_press</th>\n",
       "      <th>wind_speed</th>\n",
       "      <th>wind_dir</th>\n",
       "      <th>rain</th>\n",
       "      <th>snow</th>\n",
       "      <th>dew_point</th>\n",
       "      <th>vis</th>\n",
       "      <th>uv_idx</th>\n",
       "      <th>azimuth</th>\n",
       "      <th>elevation</th>\n",
       "    </tr>\n",
       "  </thead>\n",
       "  <tbody>\n",
       "    <tr>\n",
       "      <th>0</th>\n",
       "      <td>2023-11-17 01:00:00+09:00</td>\n",
       "      <td>92.0</td>\n",
       "      <td>11.55</td>\n",
       "      <td>60.0</td>\n",
       "      <td>1017.0</td>\n",
       "      <td>11.02</td>\n",
       "      <td>306.0</td>\n",
       "      <td>0.30</td>\n",
       "      <td>0.0</td>\n",
       "      <td>5.00000</td>\n",
       "      <td>16.09340</td>\n",
       "      <td>0.0</td>\n",
       "      <td>32.5174</td>\n",
       "      <td>-71.57170</td>\n",
       "    </tr>\n",
       "    <tr>\n",
       "      <th>1</th>\n",
       "      <td>2023-11-17 02:00:00+09:00</td>\n",
       "      <td>92.0</td>\n",
       "      <td>11.47</td>\n",
       "      <td>56.0</td>\n",
       "      <td>1017.0</td>\n",
       "      <td>10.97</td>\n",
       "      <td>299.0</td>\n",
       "      <td>0.00</td>\n",
       "      <td>0.0</td>\n",
       "      <td>4.44444</td>\n",
       "      <td>9.65606</td>\n",
       "      <td>0.0</td>\n",
       "      <td>61.1458</td>\n",
       "      <td>-62.44710</td>\n",
       "    </tr>\n",
       "    <tr>\n",
       "      <th>2</th>\n",
       "      <td>2023-11-17 03:00:00+09:00</td>\n",
       "      <td>93.0</td>\n",
       "      <td>10.63</td>\n",
       "      <td>64.0</td>\n",
       "      <td>1017.0</td>\n",
       "      <td>11.70</td>\n",
       "      <td>315.0</td>\n",
       "      <td>0.12</td>\n",
       "      <td>0.0</td>\n",
       "      <td>3.88889</td>\n",
       "      <td>9.65606</td>\n",
       "      <td>0.0</td>\n",
       "      <td>76.5384</td>\n",
       "      <td>-50.94750</td>\n",
       "    </tr>\n",
       "    <tr>\n",
       "      <th>3</th>\n",
       "      <td>2023-11-17 04:00:00+09:00</td>\n",
       "      <td>94.0</td>\n",
       "      <td>9.83</td>\n",
       "      <td>69.0</td>\n",
       "      <td>1017.0</td>\n",
       "      <td>10.95</td>\n",
       "      <td>315.0</td>\n",
       "      <td>0.52</td>\n",
       "      <td>0.0</td>\n",
       "      <td>3.33333</td>\n",
       "      <td>16.09340</td>\n",
       "      <td>0.0</td>\n",
       "      <td>86.9056</td>\n",
       "      <td>-38.76910</td>\n",
       "    </tr>\n",
       "    <tr>\n",
       "      <th>4</th>\n",
       "      <td>2023-11-17 05:00:00+09:00</td>\n",
       "      <td>97.0</td>\n",
       "      <td>9.93</td>\n",
       "      <td>65.0</td>\n",
       "      <td>1016.0</td>\n",
       "      <td>11.47</td>\n",
       "      <td>309.0</td>\n",
       "      <td>0.54</td>\n",
       "      <td>0.0</td>\n",
       "      <td>3.33333</td>\n",
       "      <td>11.26540</td>\n",
       "      <td>0.0</td>\n",
       "      <td>95.3452</td>\n",
       "      <td>-26.46690</td>\n",
       "    </tr>\n",
       "    <tr>\n",
       "      <th>5</th>\n",
       "      <td>2023-11-17 06:00:00+09:00</td>\n",
       "      <td>96.0</td>\n",
       "      <td>9.75</td>\n",
       "      <td>63.0</td>\n",
       "      <td>1016.0</td>\n",
       "      <td>10.90</td>\n",
       "      <td>313.0</td>\n",
       "      <td>0.46</td>\n",
       "      <td>0.0</td>\n",
       "      <td>3.33333</td>\n",
       "      <td>11.26540</td>\n",
       "      <td>0.0</td>\n",
       "      <td>103.1990</td>\n",
       "      <td>-14.32180</td>\n",
       "    </tr>\n",
       "    <tr>\n",
       "      <th>6</th>\n",
       "      <td>2023-11-17 07:00:00+09:00</td>\n",
       "      <td>87.0</td>\n",
       "      <td>9.94</td>\n",
       "      <td>58.0</td>\n",
       "      <td>1017.0</td>\n",
       "      <td>10.00</td>\n",
       "      <td>313.0</td>\n",
       "      <td>0.35</td>\n",
       "      <td>0.0</td>\n",
       "      <td>2.77778</td>\n",
       "      <td>11.26540</td>\n",
       "      <td>0.0</td>\n",
       "      <td>111.2490</td>\n",
       "      <td>-2.56557</td>\n",
       "    </tr>\n",
       "    <tr>\n",
       "      <th>7</th>\n",
       "      <td>2023-11-17 08:00:00+09:00</td>\n",
       "      <td>86.0</td>\n",
       "      <td>10.36</td>\n",
       "      <td>54.0</td>\n",
       "      <td>1016.0</td>\n",
       "      <td>8.57</td>\n",
       "      <td>305.0</td>\n",
       "      <td>0.21</td>\n",
       "      <td>0.0</td>\n",
       "      <td>2.22222</td>\n",
       "      <td>11.26540</td>\n",
       "      <td>1.0</td>\n",
       "      <td>120.1200</td>\n",
       "      <td>8.52976</td>\n",
       "    </tr>\n",
       "    <tr>\n",
       "      <th>8</th>\n",
       "      <td>2023-11-17 09:00:00+09:00</td>\n",
       "      <td>88.0</td>\n",
       "      <td>10.65</td>\n",
       "      <td>54.0</td>\n",
       "      <td>1017.0</td>\n",
       "      <td>10.74</td>\n",
       "      <td>288.0</td>\n",
       "      <td>0.29</td>\n",
       "      <td>0.0</td>\n",
       "      <td>1.66667</td>\n",
       "      <td>11.26540</td>\n",
       "      <td>1.0</td>\n",
       "      <td>130.4330</td>\n",
       "      <td>18.58610</td>\n",
       "    </tr>\n",
       "    <tr>\n",
       "      <th>9</th>\n",
       "      <td>2023-11-17 10:00:00+09:00</td>\n",
       "      <td>100.0</td>\n",
       "      <td>10.93</td>\n",
       "      <td>53.0</td>\n",
       "      <td>1016.0</td>\n",
       "      <td>8.68</td>\n",
       "      <td>281.0</td>\n",
       "      <td>0.20</td>\n",
       "      <td>0.0</td>\n",
       "      <td>2.77778</td>\n",
       "      <td>9.65606</td>\n",
       "      <td>1.0</td>\n",
       "      <td>142.8050</td>\n",
       "      <td>27.05490</td>\n",
       "    </tr>\n",
       "    <tr>\n",
       "      <th>10</th>\n",
       "      <td>2023-11-17 11:00:00+09:00</td>\n",
       "      <td>57.0</td>\n",
       "      <td>10.76</td>\n",
       "      <td>60.0</td>\n",
       "      <td>1015.0</td>\n",
       "      <td>13.11</td>\n",
       "      <td>265.0</td>\n",
       "      <td>0.14</td>\n",
       "      <td>0.0</td>\n",
       "      <td>3.88889</td>\n",
       "      <td>9.65606</td>\n",
       "      <td>1.0</td>\n",
       "      <td>157.6200</td>\n",
       "      <td>33.18800</td>\n",
       "    </tr>\n",
       "    <tr>\n",
       "      <th>11</th>\n",
       "      <td>2023-11-17 12:00:00+09:00</td>\n",
       "      <td>71.0</td>\n",
       "      <td>9.91</td>\n",
       "      <td>73.0</td>\n",
       "      <td>1014.0</td>\n",
       "      <td>13.32</td>\n",
       "      <td>271.0</td>\n",
       "      <td>0.88</td>\n",
       "      <td>0.0</td>\n",
       "      <td>5.00000</td>\n",
       "      <td>8.04672</td>\n",
       "      <td>1.0</td>\n",
       "      <td>174.5120</td>\n",
       "      <td>36.16090</td>\n",
       "    </tr>\n",
       "    <tr>\n",
       "      <th>12</th>\n",
       "      <td>2023-11-17 13:00:00+09:00</td>\n",
       "      <td>79.0</td>\n",
       "      <td>10.59</td>\n",
       "      <td>58.0</td>\n",
       "      <td>1013.0</td>\n",
       "      <td>16.48</td>\n",
       "      <td>288.0</td>\n",
       "      <td>1.00</td>\n",
       "      <td>0.0</td>\n",
       "      <td>4.44444</td>\n",
       "      <td>16.09340</td>\n",
       "      <td>1.0</td>\n",
       "      <td>192.0040</td>\n",
       "      <td>35.44610</td>\n",
       "    </tr>\n",
       "    <tr>\n",
       "      <th>13</th>\n",
       "      <td>2023-11-17 14:00:00+09:00</td>\n",
       "      <td>82.0</td>\n",
       "      <td>9.20</td>\n",
       "      <td>65.0</td>\n",
       "      <td>1013.0</td>\n",
       "      <td>17.39</td>\n",
       "      <td>305.0</td>\n",
       "      <td>0.13</td>\n",
       "      <td>0.0</td>\n",
       "      <td>4.44444</td>\n",
       "      <td>16.09340</td>\n",
       "      <td>2.0</td>\n",
       "      <td>208.2170</td>\n",
       "      <td>31.17970</td>\n",
       "    </tr>\n",
       "    <tr>\n",
       "      <th>14</th>\n",
       "      <td>2023-11-17 15:00:00+09:00</td>\n",
       "      <td>84.0</td>\n",
       "      <td>8.10</td>\n",
       "      <td>70.0</td>\n",
       "      <td>1014.0</td>\n",
       "      <td>15.24</td>\n",
       "      <td>315.0</td>\n",
       "      <td>0.27</td>\n",
       "      <td>0.0</td>\n",
       "      <td>3.33333</td>\n",
       "      <td>16.09340</td>\n",
       "      <td>2.0</td>\n",
       "      <td>222.0840</td>\n",
       "      <td>24.05760</td>\n",
       "    </tr>\n",
       "    <tr>\n",
       "      <th>15</th>\n",
       "      <td>2023-11-17 16:00:00+09:00</td>\n",
       "      <td>100.0</td>\n",
       "      <td>7.89</td>\n",
       "      <td>65.0</td>\n",
       "      <td>1014.0</td>\n",
       "      <td>14.87</td>\n",
       "      <td>309.0</td>\n",
       "      <td>0.33</td>\n",
       "      <td>0.0</td>\n",
       "      <td>2.77778</td>\n",
       "      <td>16.09340</td>\n",
       "      <td>1.0</td>\n",
       "      <td>233.5960</td>\n",
       "      <td>14.90570</td>\n",
       "    </tr>\n",
       "    <tr>\n",
       "      <th>16</th>\n",
       "      <td>2023-11-17 17:00:00+09:00</td>\n",
       "      <td>100.0</td>\n",
       "      <td>7.88</td>\n",
       "      <td>62.0</td>\n",
       "      <td>1014.0</td>\n",
       "      <td>15.02</td>\n",
       "      <td>310.0</td>\n",
       "      <td>0.17</td>\n",
       "      <td>0.0</td>\n",
       "      <td>1.66667</td>\n",
       "      <td>16.09340</td>\n",
       "      <td>0.0</td>\n",
       "      <td>243.2730</td>\n",
       "      <td>4.39859</td>\n",
       "    </tr>\n",
       "    <tr>\n",
       "      <th>17</th>\n",
       "      <td>2023-11-17 18:00:00+09:00</td>\n",
       "      <td>100.0</td>\n",
       "      <td>7.01</td>\n",
       "      <td>72.0</td>\n",
       "      <td>1015.0</td>\n",
       "      <td>15.11</td>\n",
       "      <td>310.0</td>\n",
       "      <td>0.32</td>\n",
       "      <td>0.0</td>\n",
       "      <td>1.11111</td>\n",
       "      <td>16.09340</td>\n",
       "      <td>0.0</td>\n",
       "      <td>251.7430</td>\n",
       "      <td>-6.98749</td>\n",
       "    </tr>\n",
       "    <tr>\n",
       "      <th>18</th>\n",
       "      <td>2023-11-17 19:00:00+09:00</td>\n",
       "      <td>100.0</td>\n",
       "      <td>6.73</td>\n",
       "      <td>73.0</td>\n",
       "      <td>1015.0</td>\n",
       "      <td>14.99</td>\n",
       "      <td>312.0</td>\n",
       "      <td>0.68</td>\n",
       "      <td>0.0</td>\n",
       "      <td>1.11111</td>\n",
       "      <td>9.65606</td>\n",
       "      <td>0.0</td>\n",
       "      <td>259.6150</td>\n",
       "      <td>-18.92340</td>\n",
       "    </tr>\n",
       "    <tr>\n",
       "      <th>19</th>\n",
       "      <td>2023-11-17 20:00:00+09:00</td>\n",
       "      <td>100.0</td>\n",
       "      <td>6.40</td>\n",
       "      <td>78.0</td>\n",
       "      <td>1015.0</td>\n",
       "      <td>14.96</td>\n",
       "      <td>311.0</td>\n",
       "      <td>0.63</td>\n",
       "      <td>0.0</td>\n",
       "      <td>1.11111</td>\n",
       "      <td>11.26540</td>\n",
       "      <td>0.0</td>\n",
       "      <td>267.5440</td>\n",
       "      <td>-31.16180</td>\n",
       "    </tr>\n",
       "    <tr>\n",
       "      <th>20</th>\n",
       "      <td>2023-11-17 21:00:00+09:00</td>\n",
       "      <td>100.0</td>\n",
       "      <td>6.21</td>\n",
       "      <td>78.0</td>\n",
       "      <td>1015.0</td>\n",
       "      <td>15.24</td>\n",
       "      <td>313.0</td>\n",
       "      <td>0.71</td>\n",
       "      <td>0.0</td>\n",
       "      <td>1.11111</td>\n",
       "      <td>9.65606</td>\n",
       "      <td>0.0</td>\n",
       "      <td>276.4450</td>\n",
       "      <td>-43.46920</td>\n",
       "    </tr>\n",
       "    <tr>\n",
       "      <th>21</th>\n",
       "      <td>2023-11-17 22:00:00+09:00</td>\n",
       "      <td>100.0</td>\n",
       "      <td>6.39</td>\n",
       "      <td>71.0</td>\n",
       "      <td>1015.0</td>\n",
       "      <td>15.57</td>\n",
       "      <td>312.0</td>\n",
       "      <td>0.65</td>\n",
       "      <td>0.0</td>\n",
       "      <td>1.11111</td>\n",
       "      <td>11.26540</td>\n",
       "      <td>0.0</td>\n",
       "      <td>288.0890</td>\n",
       "      <td>-55.50940</td>\n",
       "    </tr>\n",
       "    <tr>\n",
       "      <th>22</th>\n",
       "      <td>2023-11-17 23:00:00+09:00</td>\n",
       "      <td>100.0</td>\n",
       "      <td>6.37</td>\n",
       "      <td>70.0</td>\n",
       "      <td>1015.0</td>\n",
       "      <td>16.11</td>\n",
       "      <td>310.0</td>\n",
       "      <td>0.55</td>\n",
       "      <td>0.0</td>\n",
       "      <td>1.66667</td>\n",
       "      <td>16.09340</td>\n",
       "      <td>0.0</td>\n",
       "      <td>306.9740</td>\n",
       "      <td>-66.48450</td>\n",
       "    </tr>\n",
       "    <tr>\n",
       "      <th>23</th>\n",
       "      <td>2023-11-18 00:00:00+09:00</td>\n",
       "      <td>100.0</td>\n",
       "      <td>6.14</td>\n",
       "      <td>75.0</td>\n",
       "      <td>1015.0</td>\n",
       "      <td>16.42</td>\n",
       "      <td>308.0</td>\n",
       "      <td>0.56</td>\n",
       "      <td>0.0</td>\n",
       "      <td>1.66667</td>\n",
       "      <td>16.09340</td>\n",
       "      <td>0.0</td>\n",
       "      <td>343.9480</td>\n",
       "      <td>-73.71080</td>\n",
       "    </tr>\n",
       "  </tbody>\n",
       "</table>\n",
       "</div>"
      ],
      "text/plain": [
       "                         time  cloud   temp  humidity  ground_press  \\\n",
       "0   2023-11-17 01:00:00+09:00   92.0  11.55      60.0        1017.0   \n",
       "1   2023-11-17 02:00:00+09:00   92.0  11.47      56.0        1017.0   \n",
       "2   2023-11-17 03:00:00+09:00   93.0  10.63      64.0        1017.0   \n",
       "3   2023-11-17 04:00:00+09:00   94.0   9.83      69.0        1017.0   \n",
       "4   2023-11-17 05:00:00+09:00   97.0   9.93      65.0        1016.0   \n",
       "5   2023-11-17 06:00:00+09:00   96.0   9.75      63.0        1016.0   \n",
       "6   2023-11-17 07:00:00+09:00   87.0   9.94      58.0        1017.0   \n",
       "7   2023-11-17 08:00:00+09:00   86.0  10.36      54.0        1016.0   \n",
       "8   2023-11-17 09:00:00+09:00   88.0  10.65      54.0        1017.0   \n",
       "9   2023-11-17 10:00:00+09:00  100.0  10.93      53.0        1016.0   \n",
       "10  2023-11-17 11:00:00+09:00   57.0  10.76      60.0        1015.0   \n",
       "11  2023-11-17 12:00:00+09:00   71.0   9.91      73.0        1014.0   \n",
       "12  2023-11-17 13:00:00+09:00   79.0  10.59      58.0        1013.0   \n",
       "13  2023-11-17 14:00:00+09:00   82.0   9.20      65.0        1013.0   \n",
       "14  2023-11-17 15:00:00+09:00   84.0   8.10      70.0        1014.0   \n",
       "15  2023-11-17 16:00:00+09:00  100.0   7.89      65.0        1014.0   \n",
       "16  2023-11-17 17:00:00+09:00  100.0   7.88      62.0        1014.0   \n",
       "17  2023-11-17 18:00:00+09:00  100.0   7.01      72.0        1015.0   \n",
       "18  2023-11-17 19:00:00+09:00  100.0   6.73      73.0        1015.0   \n",
       "19  2023-11-17 20:00:00+09:00  100.0   6.40      78.0        1015.0   \n",
       "20  2023-11-17 21:00:00+09:00  100.0   6.21      78.0        1015.0   \n",
       "21  2023-11-17 22:00:00+09:00  100.0   6.39      71.0        1015.0   \n",
       "22  2023-11-17 23:00:00+09:00  100.0   6.37      70.0        1015.0   \n",
       "23  2023-11-18 00:00:00+09:00  100.0   6.14      75.0        1015.0   \n",
       "\n",
       "    wind_speed  wind_dir  rain  snow  dew_point       vis  uv_idx   azimuth  \\\n",
       "0        11.02     306.0  0.30   0.0    5.00000  16.09340     0.0   32.5174   \n",
       "1        10.97     299.0  0.00   0.0    4.44444   9.65606     0.0   61.1458   \n",
       "2        11.70     315.0  0.12   0.0    3.88889   9.65606     0.0   76.5384   \n",
       "3        10.95     315.0  0.52   0.0    3.33333  16.09340     0.0   86.9056   \n",
       "4        11.47     309.0  0.54   0.0    3.33333  11.26540     0.0   95.3452   \n",
       "5        10.90     313.0  0.46   0.0    3.33333  11.26540     0.0  103.1990   \n",
       "6        10.00     313.0  0.35   0.0    2.77778  11.26540     0.0  111.2490   \n",
       "7         8.57     305.0  0.21   0.0    2.22222  11.26540     1.0  120.1200   \n",
       "8        10.74     288.0  0.29   0.0    1.66667  11.26540     1.0  130.4330   \n",
       "9         8.68     281.0  0.20   0.0    2.77778   9.65606     1.0  142.8050   \n",
       "10       13.11     265.0  0.14   0.0    3.88889   9.65606     1.0  157.6200   \n",
       "11       13.32     271.0  0.88   0.0    5.00000   8.04672     1.0  174.5120   \n",
       "12       16.48     288.0  1.00   0.0    4.44444  16.09340     1.0  192.0040   \n",
       "13       17.39     305.0  0.13   0.0    4.44444  16.09340     2.0  208.2170   \n",
       "14       15.24     315.0  0.27   0.0    3.33333  16.09340     2.0  222.0840   \n",
       "15       14.87     309.0  0.33   0.0    2.77778  16.09340     1.0  233.5960   \n",
       "16       15.02     310.0  0.17   0.0    1.66667  16.09340     0.0  243.2730   \n",
       "17       15.11     310.0  0.32   0.0    1.11111  16.09340     0.0  251.7430   \n",
       "18       14.99     312.0  0.68   0.0    1.11111   9.65606     0.0  259.6150   \n",
       "19       14.96     311.0  0.63   0.0    1.11111  11.26540     0.0  267.5440   \n",
       "20       15.24     313.0  0.71   0.0    1.11111   9.65606     0.0  276.4450   \n",
       "21       15.57     312.0  0.65   0.0    1.11111  11.26540     0.0  288.0890   \n",
       "22       16.11     310.0  0.55   0.0    1.66667  16.09340     0.0  306.9740   \n",
       "23       16.42     308.0  0.56   0.0    1.66667  16.09340     0.0  343.9480   \n",
       "\n",
       "    elevation  \n",
       "0   -71.57170  \n",
       "1   -62.44710  \n",
       "2   -50.94750  \n",
       "3   -38.76910  \n",
       "4   -26.46690  \n",
       "5   -14.32180  \n",
       "6    -2.56557  \n",
       "7     8.52976  \n",
       "8    18.58610  \n",
       "9    27.05490  \n",
       "10   33.18800  \n",
       "11   36.16090  \n",
       "12   35.44610  \n",
       "13   31.17970  \n",
       "14   24.05760  \n",
       "15   14.90570  \n",
       "16    4.39859  \n",
       "17   -6.98749  \n",
       "18  -18.92340  \n",
       "19  -31.16180  \n",
       "20  -43.46920  \n",
       "21  -55.50940  \n",
       "22  -66.48450  \n",
       "23  -73.71080  "
      ]
     },
     "execution_count": 82,
     "metadata": {},
     "output_type": "execute_result"
    }
   ],
   "source": [
    "wf"
   ]
  },
  {
   "cell_type": "code",
   "execution_count": 48,
   "metadata": {},
   "outputs": [],
   "source": [
    "fres = (resultr1+resultr2)/2"
   ]
  },
  {
   "cell_type": "code",
   "execution_count": 78,
   "metadata": {},
   "outputs": [
    {
     "data": {
      "text/plain": [
       "array([-0.07612896,  1.69179457, 13.04265534, 21.76186929, 20.17942529,\n",
       "       14.13697944, 27.9416048 , 20.44751025, 30.73367625, 12.01625192,\n",
       "        4.51355347, -3.74665397, -4.44325625])"
      ]
     },
     "execution_count": 78,
     "metadata": {},
     "output_type": "execute_result"
    }
   ],
   "source": [
    "fres"
   ]
  },
  {
   "cell_type": "code",
   "execution_count": 455,
   "metadata": {},
   "outputs": [],
   "source": [
    "real_dict = {\"1025\" : [0, 0, 0, 0, 0, 0,\n",
    "                      0, 10, 31, 54, 70, 72, 78, 73, 63, 40, 20, 3, 0,\n",
    "                      0, 0, 0, 0, 0],\n",
    "             \"1026\" : [0, 0, 0, 0, 0, 0,\n",
    "                      1, 3, 11, 40, 61, 52, 75, 61, 62, 40, 18, 2, 0,\n",
    "                      0, 0, 0, 0, 0],\n",
    "             \"1027\" : [0, 0, 0, 0, 0, 0,\n",
    "                      1, 9, 36, 46, 53, 74, 89, 81, 64, 54, 23, 4, 0,\n",
    "                      0, 0, 0, 0, 0],\n",
    "             \"1028\" : [0, 0, 0, 0, 0, 0,\n",
    "                      0, 5, 29, 56, 67, 82, 78, 72, 63, 46, 17, 3, 0,\n",
    "                      0, 0, 0, 0, 0],\n",
    "             \"1029\" : [0, 0, 0, 0, 0, 0,\n",
    "                      0, 4, 20, 56, 66, 76, 53, 57, 66, 42, 20, 2, 0,\n",
    "                      0, 0, 0, 0, 0],\n",
    "             \"1030\" : [0, 0, 0, 0, 0, 0,\n",
    "                      0, 4, 20, 56, 65, 79, 81, 75, 62, 45, 22, 3, 0,\n",
    "                      0, 0, 0, 0, 0],\n",
    "             \"1031\" : [0, 0, 0, 0, 0, 0,\n",
    "                      0, 4, 8, 22, 37, 76, 73, 75, 58, 44, 22, 4, 0,\n",
    "                      0, 0, 0, 0, 0],\n",
    "             \"1101\" : [0, 0, 0, 0, 0, 0,\n",
    "                       0, 6, 30, 51, 58, 68, 68, 69, 55, 38, 18, 1, 0,\n",
    "                       0, 0, 0, 0, 0],\n",
    "             \"1102\" : [0, 0, 0, 0, 0, 0,\n",
    "                       0, 4, 32, 46, 71, 76, 79, 73, 64, 44, 22, 4, 0,\n",
    "                       0, 0, 0, 0, 0],\n",
    "             \"1104\" : [0, 0, 0, 0, 0, 0,\n",
    "\t\t\t\t\t\t\t\t\t\t\t 0, 6, 20, 42, 51, 36, 37, 34, 28, 8, 4, 2, 0,\n",
    "\t\t\t\t\t\t\t\t\t\t\t 0, 0, 0, 0, 0],\n",
    "\t\t\t\"1105\" : [0, 0, 0, 0, 0, 0,\n",
    "\t\t\t\t\t\t\t\t\t\t\t 0, 2, 16, 18, 16, 16, 10, 6, 4, 7, 4, 1, 0,\n",
    "\t\t\t\t\t\t\t\t\t\t\t 0, 0, 0, 0, 0],\n",
    "             \"1113\" : [0, 0, 0, 0, 0, 0,\n",
    "                       0,5,33,53,79,81,56,82,38,42,25,1,0,\n",
    "                       0,0,0,0,0],\n",
    "             \"1114\" : [0,0,0,0,0,0,\n",
    "                       0,3,16,16,17,23,18,16,36,38,14,0,0,\n",
    "                       0,0,0,0,0]}"
   ]
  },
  {
   "cell_type": "code",
   "execution_count": 50,
   "metadata": {},
   "outputs": [],
   "source": [
    "import numpy as np\n",
    "\n",
    "def testMSEnIncentive(pred,day):\n",
    "    pred = [0,0,0,0,0,0]+pred+[0,0,0,0,0]\n",
    "    realGens1030 = np.array(day)    \n",
    "    \n",
    "    rss = np.power(pred - realGens1030, 2)\n",
    "    rss1 = rss[7:10]\n",
    "    rss2 = rss[10:16]\n",
    "    rss3 = rss[16:20]\n",
    "    mse1 = sum(rss1/len(rss1))\n",
    "    mse2 = sum(rss2/len(rss2))\n",
    "    mse3 = sum(rss3/len(rss3))\n",
    "    mse = [mse1,mse2,mse3]\n",
    "\n",
    "    score_df = abs(pred - realGens1030)*100/99\n",
    "    score = []\n",
    "    for idx, i in enumerate(score_df):\n",
    "        if i <=6:\n",
    "            score.append(realGens1030[idx] * 4)\n",
    "        elif (i <=8) & (i > 6):\n",
    "            score.append(realGens1030[idx] * 3)\n",
    "        else:\n",
    "            score.append(0)\n",
    "    score1 = score[7:10]\n",
    "    score2 = score[10:16]\n",
    "    score3 = score[16:20]\n",
    "    final_score = [score1,score2,score3]\n",
    "    \n",
    "    sum_score = sum(score)\n",
    "\n",
    "    return mse, final_score , score, sum_score"
   ]
  },
  {
   "cell_type": "code",
   "execution_count": 459,
   "metadata": {},
   "outputs": [],
   "source": [
    "day = real_dict[\"1105\"]"
   ]
  },
  {
   "cell_type": "code",
   "execution_count": 53,
   "metadata": {},
   "outputs": [
    {
     "data": {
      "text/plain": [
       "[<matplotlib.lines.Line2D at 0x1fdc4b60460>]"
      ]
     },
     "execution_count": 53,
     "metadata": {},
     "output_type": "execute_result"
    },
    {
     "data": {
      "image/png": "[encoded data removed]",
      "text/plain": [
       "<Figure size 640x480 with 1 Axes>"
      ]
     },
     "metadata": {},
     "output_type": "display_data"
    }
   ],
   "source": [
    "plt.plot(day)\n",
    "plt.plot([0,0,0,0,0,0]+fres.tolist()+[0,0,0,0,0])"
   ]
  },
  {
   "cell_type": "code",
   "execution_count": 52,
   "metadata": {},
   "outputs": [
    {
     "data": {
      "text/plain": [
       "[<matplotlib.lines.Line2D at 0x1fdc4d0a080>]"
      ]
     },
     "execution_count": 52,
     "metadata": {},
     "output_type": "execute_result"
    },
    {
     "data": {
      "image/png": "[encoded data removed]",
      "text/plain": [
       "<Figure size 640x480 with 1 Axes>"
      ]
     },
     "metadata": {},
     "output_type": "display_data"
    }
   ],
   "source": [
    "plt.plot([0,0,0,0,0,0]+resultr1.tolist()+[0,0,0,0,0])\n",
    "plt.plot([0,0,0,0,0,0]+resultr2.tolist()+[0,0,0,0,0])\n"
   ]
  },
  {
   "cell_type": "code",
   "execution_count": 429,
   "metadata": {},
   "outputs": [
    {
     "data": {
      "text/plain": [
       "([191.9454818832244, 51.35655267645031, 8.967107784293239],\n",
       " [[24, 0, 0], [0, 0, 111, 136, 112, 32], [16, 8, 0, 0]],\n",
       " [0,\n",
       "  0,\n",
       "  0,\n",
       "  0,\n",
       "  0,\n",
       "  0,\n",
       "  0,\n",
       "  24,\n",
       "  0,\n",
       "  0,\n",
       "  0,\n",
       "  0,\n",
       "  111,\n",
       "  136,\n",
       "  112,\n",
       "  32,\n",
       "  16,\n",
       "  8,\n",
       "  0,\n",
       "  0,\n",
       "  0,\n",
       "  0,\n",
       "  0,\n",
       "  0],\n",
       " 439)"
      ]
     },
     "execution_count": 429,
     "metadata": {},
     "output_type": "execute_result"
    }
   ],
   "source": [
    "testMSEnIncentive(fres.tolist(),day)"
   ]
  }
 ],
 "metadata": {
  "kernelspec": {
   "display_name": "Python 3",
   "language": "python",
   "name": "python3"
  },
  "language_info": {
   "codemirror_mode": {
    "name": "ipython",
    "version": 3
   },
   "file_extension": ".py",
   "mimetype": "text/x-python",
   "name": "python",
   "nbconvert_exporter": "python",
   "pygments_lexer": "ipython3",
   "version": "3.10.0rc2"
  }
 },
 "nbformat": 4,
 "nbformat_minor": 2
}
