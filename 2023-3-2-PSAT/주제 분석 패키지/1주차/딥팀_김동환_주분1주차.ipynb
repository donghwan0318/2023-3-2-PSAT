{
 "cells": [
  {
   "cell_type": "markdown",
   "metadata": {},
   "source": [
    "# Chapter 1 : Data Preprocessing"
   ]
  },
  {
   "cell_type": "markdown",
   "metadata": {},
   "source": [
    "### 문제 0."
   ]
  },
  {
   "cell_type": "code",
   "execution_count": 266,
   "metadata": {},
   "outputs": [],
   "source": [
    "import pandas as pd\n",
    "import matplotlib.pyplot as plt\n",
    "import seaborn as sns\n",
    "import missingno as msno\n",
    "import numpy as np\n",
    "import tslearn as ts\n",
    "import scalecast as sc\n",
    "import pmdarima as pa\n",
    "import statsmodels as st"
   ]
  },
  {
   "cell_type": "markdown",
   "metadata": {},
   "source": [
    "### 문제 1."
   ]
  },
  {
   "cell_type": "code",
   "execution_count": 267,
   "metadata": {},
   "outputs": [],
   "source": [
    "oil = pd.read_csv(\"oil.csv\")\n",
    "sales = pd.read_csv(\"sales.csv\")\n",
    "stores = pd.read_csv(\"stores.csv\")\n",
    "holidays_events = pd.read_csv(\"holidays_events.csv\")"
   ]
  },
  {
   "cell_type": "markdown",
   "metadata": {},
   "source": [
    "### 문제 2."
   ]
  },
  {
   "cell_type": "markdown",
   "metadata": {},
   "source": [
    "#### sales"
   ]
  },
  {
   "cell_type": "code",
   "execution_count": 268,
   "metadata": {},
   "outputs": [
    {
     "name": "stdout",
     "output_type": "stream",
     "text": [
      "       id        date  store_nbr      family  sales  onpromotion\n",
      "0  971190  2014-07-01          1  AUTOMOTIVE    2.0            0\n",
      "1  971191  2014-07-01          1   BABY CARE    0.0            0\n",
      "2  971192  2014-07-01          1      BEAUTY    6.0            0\n",
      "0    2014-07-01\n",
      "Name: date, dtype: object\n",
      "2029697    2017-08-15\n",
      "Name: date, dtype: object\n",
      "(2029698, 6)\n"
     ]
    },
    {
     "data": {
      "text/html": [
       "<div>\n",
       "<style scoped>\n",
       "    .dataframe tbody tr th:only-of-type {\n",
       "        vertical-align: middle;\n",
       "    }\n",
       "\n",
       "    .dataframe tbody tr th {\n",
       "        vertical-align: top;\n",
       "    }\n",
       "\n",
       "    .dataframe thead th {\n",
       "        text-align: right;\n",
       "    }\n",
       "</style>\n",
       "<table border=\"1\" class=\"dataframe\">\n",
       "  <thead>\n",
       "    <tr style=\"text-align: right;\">\n",
       "      <th></th>\n",
       "      <th>id</th>\n",
       "      <th>store_nbr</th>\n",
       "      <th>sales</th>\n",
       "      <th>onpromotion</th>\n",
       "    </tr>\n",
       "  </thead>\n",
       "  <tbody>\n",
       "    <tr>\n",
       "      <th>count</th>\n",
       "      <td>2.029698e+06</td>\n",
       "      <td>2.029698e+06</td>\n",
       "      <td>2.029698e+06</td>\n",
       "      <td>2.029698e+06</td>\n",
       "    </tr>\n",
       "    <tr>\n",
       "      <th>mean</th>\n",
       "      <td>1.986038e+06</td>\n",
       "      <td>2.750000e+01</td>\n",
       "      <td>4.150122e+02</td>\n",
       "      <td>3.830921e+00</td>\n",
       "    </tr>\n",
       "    <tr>\n",
       "      <th>std</th>\n",
       "      <td>5.859235e+05</td>\n",
       "      <td>1.558579e+01</td>\n",
       "      <td>1.218749e+03</td>\n",
       "      <td>1.468650e+01</td>\n",
       "    </tr>\n",
       "    <tr>\n",
       "      <th>min</th>\n",
       "      <td>9.711900e+05</td>\n",
       "      <td>1.000000e+00</td>\n",
       "      <td>0.000000e+00</td>\n",
       "      <td>0.000000e+00</td>\n",
       "    </tr>\n",
       "    <tr>\n",
       "      <th>25%</th>\n",
       "      <td>1.478614e+06</td>\n",
       "      <td>1.400000e+01</td>\n",
       "      <td>1.000000e+00</td>\n",
       "      <td>0.000000e+00</td>\n",
       "    </tr>\n",
       "    <tr>\n",
       "      <th>50%</th>\n",
       "      <td>1.986038e+06</td>\n",
       "      <td>2.750000e+01</td>\n",
       "      <td>1.800000e+01</td>\n",
       "      <td>0.000000e+00</td>\n",
       "    </tr>\n",
       "    <tr>\n",
       "      <th>75%</th>\n",
       "      <td>2.493463e+06</td>\n",
       "      <td>4.100000e+01</td>\n",
       "      <td>2.380000e+02</td>\n",
       "      <td>1.000000e+00</td>\n",
       "    </tr>\n",
       "    <tr>\n",
       "      <th>max</th>\n",
       "      <td>3.000887e+06</td>\n",
       "      <td>5.400000e+01</td>\n",
       "      <td>1.247170e+05</td>\n",
       "      <td>7.410000e+02</td>\n",
       "    </tr>\n",
       "  </tbody>\n",
       "</table>\n",
       "</div>"
      ],
      "text/plain": [
       "                 id     store_nbr         sales   onpromotion\n",
       "count  2.029698e+06  2.029698e+06  2.029698e+06  2.029698e+06\n",
       "mean   1.986038e+06  2.750000e+01  4.150122e+02  3.830921e+00\n",
       "std    5.859235e+05  1.558579e+01  1.218749e+03  1.468650e+01\n",
       "min    9.711900e+05  1.000000e+00  0.000000e+00  0.000000e+00\n",
       "25%    1.478614e+06  1.400000e+01  1.000000e+00  0.000000e+00\n",
       "50%    1.986038e+06  2.750000e+01  1.800000e+01  0.000000e+00\n",
       "75%    2.493463e+06  4.100000e+01  2.380000e+02  1.000000e+00\n",
       "max    3.000887e+06  5.400000e+01  1.247170e+05  7.410000e+02"
      ]
     },
     "execution_count": 268,
     "metadata": {},
     "output_type": "execute_result"
    }
   ],
   "source": [
    "# 열 6개 시계열 데이터 \n",
    "# 패널 데이터네\n",
    "print(sales.head(3))\n",
    "\n",
    "# 시계열 데이터 기간 2014/07/01 ~ 2018/08/15\n",
    "# 근데 끊기는 지점없이 이어져있는 지는 확인해봐야함\n",
    "print(sales[\"date\"].head(1))\n",
    "print(sales[\"date\"].tail(1))\n",
    "\n",
    "# 행 2029698 (왤케 많음?) 열 6개\n",
    "print(sales.shape)\n",
    "\n",
    "# 기초통계량 확인\n",
    "sales.describe()"
   ]
  },
  {
   "cell_type": "code",
   "execution_count": 269,
   "metadata": {},
   "outputs": [
    {
     "name": "stdout",
     "output_type": "stream",
     "text": [
      "33\n",
      "['AUTOMOTIVE' 'BABY CARE' 'BEAUTY' 'BEVERAGES' 'BOOKS' 'BREAD/BAKERY'\n",
      " 'CELEBRATION' 'CLEANING' 'DAIRY' 'DELI' 'EGGS' 'FROZEN FOODS' 'GROCERY I'\n",
      " 'GROCERY II' 'HARDWARE' 'HOME AND KITCHEN I' 'HOME AND KITCHEN II'\n",
      " 'HOME APPLIANCES' 'HOME CARE' 'LADIESWEAR' 'LAWN AND GARDEN' 'LINGERIE'\n",
      " 'LIQUOR,WINE,BEER' 'MAGAZINES' 'MEATS' 'PERSONAL CARE' 'PET SUPPLIES'\n",
      " 'PLAYERS AND ELECTRONICS' 'POULTRY' 'PREPARED FOODS' 'PRODUCE'\n",
      " 'SCHOOL AND OFFICE SUPPLIES' 'SEAFOOD']\n"
     ]
    },
    {
     "data": {
      "text/plain": [
       "<AxesSubplot: ylabel='sales'>"
      ]
     },
     "execution_count": 269,
     "metadata": {},
     "output_type": "execute_result"
    },
    {
     "data": {
      "image/png": "[encoded data removed]",
      "text/plain": [
       "<Figure size 640x480 with 1 Axes>"
      ]
     },
     "metadata": {},
     "output_type": "display_data"
    }
   ],
   "source": [
    "# 종류가 몇 종류나 있나 알아보기\n",
    "# 33종류(많네요 ㅋ)\n",
    "print(sales[\"family\"].nunique())\n",
    "print(sales[\"family\"].unique())\n",
    "\n",
    "\n",
    "# 시계열 데이터니까 무지성 timeseries plot 그려볼라하였으나 패널이니까\n",
    "# AUTOMOTIVE 하나만 그려보기\n",
    "sns.lineplot(sales.loc[sales[\"family\"]==\"AUTOMOTIVE\",\"sales\"])\n",
    "sns.lineplot(sales.loc[sales[\"family\"]==\"AUTOMOTIVE\",\"onpromotion\"])"
   ]
  },
  {
   "cell_type": "markdown",
   "metadata": {},
   "source": [
    "#### oil"
   ]
  },
  {
   "cell_type": "code",
   "execution_count": 270,
   "metadata": {},
   "outputs": [
    {
     "name": "stdout",
     "output_type": "stream",
     "text": [
      "         date  dcoilwtico\n",
      "0  2014-07-01      106.06\n",
      "1  2014-07-02      105.18\n",
      "2  2014-07-03      104.76\n",
      "           date  dcoilwtico\n",
      "802  2017-07-27       49.05\n",
      "803  2017-07-28       49.72\n",
      "804  2017-07-31       50.21\n",
      "(805, 2)\n"
     ]
    },
    {
     "data": {
      "text/html": [
       "<div>\n",
       "<style scoped>\n",
       "    .dataframe tbody tr th:only-of-type {\n",
       "        vertical-align: middle;\n",
       "    }\n",
       "\n",
       "    .dataframe tbody tr th {\n",
       "        vertical-align: top;\n",
       "    }\n",
       "\n",
       "    .dataframe thead th {\n",
       "        text-align: right;\n",
       "    }\n",
       "</style>\n",
       "<table border=\"1\" class=\"dataframe\">\n",
       "  <thead>\n",
       "    <tr style=\"text-align: right;\">\n",
       "      <th></th>\n",
       "      <th>dcoilwtico</th>\n",
       "    </tr>\n",
       "  </thead>\n",
       "  <tbody>\n",
       "    <tr>\n",
       "      <th>count</th>\n",
       "      <td>776.000000</td>\n",
       "    </tr>\n",
       "    <tr>\n",
       "      <th>mean</th>\n",
       "      <td>53.141379</td>\n",
       "    </tr>\n",
       "    <tr>\n",
       "      <th>std</th>\n",
       "      <td>16.829996</td>\n",
       "    </tr>\n",
       "    <tr>\n",
       "      <th>min</th>\n",
       "      <td>26.190000</td>\n",
       "    </tr>\n",
       "    <tr>\n",
       "      <th>25%</th>\n",
       "      <td>44.687500</td>\n",
       "    </tr>\n",
       "    <tr>\n",
       "      <th>50%</th>\n",
       "      <td>48.490000</td>\n",
       "    </tr>\n",
       "    <tr>\n",
       "      <th>75%</th>\n",
       "      <td>53.802500</td>\n",
       "    </tr>\n",
       "    <tr>\n",
       "      <th>max</th>\n",
       "      <td>106.060000</td>\n",
       "    </tr>\n",
       "  </tbody>\n",
       "</table>\n",
       "</div>"
      ],
      "text/plain": [
       "       dcoilwtico\n",
       "count  776.000000\n",
       "mean    53.141379\n",
       "std     16.829996\n",
       "min     26.190000\n",
       "25%     44.687500\n",
       "50%     48.490000\n",
       "75%     53.802500\n",
       "max    106.060000"
      ]
     },
     "execution_count": 270,
     "metadata": {},
     "output_type": "execute_result"
    }
   ],
   "source": [
    "# 매우 간단한 형태로 구성\n",
    "# 시계열 데이터 기간 2014/07/01 ~ 2014/07/31\n",
    "print(oil.head(3))\n",
    "print(oil.tail(3))\n",
    "\n",
    "# 행 805\n",
    "print(oil.shape)\n",
    "\n",
    "# 기초통계량 확인\n",
    "oil.describe()"
   ]
  },
  {
   "cell_type": "code",
   "execution_count": 271,
   "metadata": {},
   "outputs": [
    {
     "data": {
      "text/plain": [
       "<AxesSubplot: >"
      ]
     },
     "execution_count": 271,
     "metadata": {},
     "output_type": "execute_result"
    },
    {
     "data": {
      "image/png": "[encoded data removed]",
      "text/plain": [
       "<Figure size 640x480 with 1 Axes>"
      ]
     },
     "metadata": {},
     "output_type": "display_data"
    }
   ],
   "source": [
    "# 시계열 데이터니까 무지성 timeseries plot 그려보기\n",
    "sns.lineplot(oil)"
   ]
  },
  {
   "cell_type": "markdown",
   "metadata": {},
   "source": [
    "#### stores"
   ]
  },
  {
   "cell_type": "code",
   "execution_count": 272,
   "metadata": {},
   "outputs": [
    {
     "name": "stdout",
     "output_type": "stream",
     "text": [
      "   store_nbr           city                           state type  cluster\n",
      "0          1          Quito                       Pichincha    D       13\n",
      "1          2          Quito                       Pichincha    D       13\n",
      "2          3          Quito                       Pichincha    D        8\n",
      "3          4          Quito                       Pichincha    D        9\n",
      "4          5  Santo Domingo  Santo Domingo de los Tsachilas    D        4\n",
      "5          6          Quito                       Pichincha    D       13\n",
      "6          7          Quito                       Pichincha    D        8\n",
      "7          8          Quito                       Pichincha    D        8\n",
      "8          9          Quito                       Pichincha    B        6\n",
      "9         10          Quito                       Pichincha    C       15\n",
      "(54, 5)\n"
     ]
    },
    {
     "data": {
      "text/html": [
       "<div>\n",
       "<style scoped>\n",
       "    .dataframe tbody tr th:only-of-type {\n",
       "        vertical-align: middle;\n",
       "    }\n",
       "\n",
       "    .dataframe tbody tr th {\n",
       "        vertical-align: top;\n",
       "    }\n",
       "\n",
       "    .dataframe thead th {\n",
       "        text-align: right;\n",
       "    }\n",
       "</style>\n",
       "<table border=\"1\" class=\"dataframe\">\n",
       "  <thead>\n",
       "    <tr style=\"text-align: right;\">\n",
       "      <th></th>\n",
       "      <th>store_nbr</th>\n",
       "      <th>cluster</th>\n",
       "    </tr>\n",
       "  </thead>\n",
       "  <tbody>\n",
       "    <tr>\n",
       "      <th>count</th>\n",
       "      <td>54.000000</td>\n",
       "      <td>54.000000</td>\n",
       "    </tr>\n",
       "    <tr>\n",
       "      <th>mean</th>\n",
       "      <td>27.500000</td>\n",
       "      <td>8.481481</td>\n",
       "    </tr>\n",
       "    <tr>\n",
       "      <th>std</th>\n",
       "      <td>15.732133</td>\n",
       "      <td>4.693395</td>\n",
       "    </tr>\n",
       "    <tr>\n",
       "      <th>min</th>\n",
       "      <td>1.000000</td>\n",
       "      <td>1.000000</td>\n",
       "    </tr>\n",
       "    <tr>\n",
       "      <th>25%</th>\n",
       "      <td>14.250000</td>\n",
       "      <td>4.000000</td>\n",
       "    </tr>\n",
       "    <tr>\n",
       "      <th>50%</th>\n",
       "      <td>27.500000</td>\n",
       "      <td>8.500000</td>\n",
       "    </tr>\n",
       "    <tr>\n",
       "      <th>75%</th>\n",
       "      <td>40.750000</td>\n",
       "      <td>13.000000</td>\n",
       "    </tr>\n",
       "    <tr>\n",
       "      <th>max</th>\n",
       "      <td>54.000000</td>\n",
       "      <td>17.000000</td>\n",
       "    </tr>\n",
       "  </tbody>\n",
       "</table>\n",
       "</div>"
      ],
      "text/plain": [
       "       store_nbr    cluster\n",
       "count  54.000000  54.000000\n",
       "mean   27.500000   8.481481\n",
       "std    15.732133   4.693395\n",
       "min     1.000000   1.000000\n",
       "25%    14.250000   4.000000\n",
       "50%    27.500000   8.500000\n",
       "75%    40.750000  13.000000\n",
       "max    54.000000  17.000000"
      ]
     },
     "execution_count": 272,
     "metadata": {},
     "output_type": "execute_result"
    }
   ],
   "source": [
    "# 열 6개 시계열 데이터 \n",
    "print(stores.head(10))\n",
    "\n",
    "# 행 54, 열 5\n",
    "print(stores.shape)\n",
    "\n",
    "# 기초통계량 확인\n",
    "stores.describe()"
   ]
  },
  {
   "cell_type": "code",
   "execution_count": 273,
   "metadata": {},
   "outputs": [
    {
     "name": "stdout",
     "output_type": "stream",
     "text": [
      "22\n",
      "['Quito' 'Santo Domingo' 'Cayambe' 'Latacunga' 'Riobamba' 'Ibarra'\n",
      " 'Guaranda' 'Puyo' 'Ambato' 'Guayaquil' 'Salinas' 'Daule' 'Babahoyo'\n",
      " 'Quevedo' 'Playas' 'Libertad' 'Cuenca' 'Loja' 'Machala' 'Esmeraldas'\n",
      " 'Manta' 'El Carmen']\n",
      "16\n",
      "['Pichincha' 'Santo Domingo de los Tsachilas' 'Cotopaxi' 'Chimborazo'\n",
      " 'Imbabura' 'Bolivar' 'Pastaza' 'Tungurahua' 'Guayas' 'Santa Elena'\n",
      " 'Los Rios' 'Azuay' 'Loja' 'El Oro' 'Esmeraldas' 'Manabi']\n"
     ]
    }
   ],
   "source": [
    "# 종류가 몇 종류나 있나 알아보기\n",
    "print(stores[\"city\"].nunique())\n",
    "print(stores[\"city\"].unique())\n",
    "\n",
    "print(stores[\"state\"].nunique())\n",
    "print(stores[\"state\"].unique())"
   ]
  },
  {
   "cell_type": "markdown",
   "metadata": {},
   "source": [
    "#### holidays_events"
   ]
  },
  {
   "cell_type": "code",
   "execution_count": 274,
   "metadata": {},
   "outputs": [
    {
     "name": "stdout",
     "output_type": "stream",
     "text": [
      "         date     type    locale    locale_name  \\\n",
      "0  2014-07-01    Event  National        Ecuador   \n",
      "1  2014-07-03  Holiday     Local      El Carmen   \n",
      "2  2014-07-03  Holiday     Local  Santo Domingo   \n",
      "3  2014-07-04    Event  National        Ecuador   \n",
      "4  2014-07-05    Event  National        Ecuador   \n",
      "5  2014-07-08    Event  National        Ecuador   \n",
      "6  2014-07-09    Event  National        Ecuador   \n",
      "7  2014-07-12    Event  National        Ecuador   \n",
      "8  2014-07-13    Event  National        Ecuador   \n",
      "9  2014-07-23  Holiday     Local        Cayambe   \n",
      "\n",
      "                                       description  transferred  \n",
      "0       Mundial de futbol Brasil: Octavos de Final        False  \n",
      "1                       Cantonizacion de El Carmen        False  \n",
      "2                       Fundacion de Santo Domingo        False  \n",
      "3       Mundial de futbol Brasil: Cuartos de Final        False  \n",
      "4       Mundial de futbol Brasil: Cuartos de Final        False  \n",
      "5            Mundial de futbol Brasil: Semifinales        False  \n",
      "6            Mundial de futbol Brasil: Semifinales        False  \n",
      "7  Mundial de futbol Brasil: Tercer y cuarto lugar        False  \n",
      "8                  Mundial de futbol Brasil: Final        False  \n",
      "9                         Cantonizacion de Cayambe        False  \n",
      "(233, 6)\n"
     ]
    },
    {
     "data": {
      "text/html": [
       "<div>\n",
       "<style scoped>\n",
       "    .dataframe tbody tr th:only-of-type {\n",
       "        vertical-align: middle;\n",
       "    }\n",
       "\n",
       "    .dataframe tbody tr th {\n",
       "        vertical-align: top;\n",
       "    }\n",
       "\n",
       "    .dataframe thead th {\n",
       "        text-align: right;\n",
       "    }\n",
       "</style>\n",
       "<table border=\"1\" class=\"dataframe\">\n",
       "  <thead>\n",
       "    <tr style=\"text-align: right;\">\n",
       "      <th></th>\n",
       "      <th>date</th>\n",
       "      <th>type</th>\n",
       "      <th>locale</th>\n",
       "      <th>locale_name</th>\n",
       "      <th>description</th>\n",
       "      <th>transferred</th>\n",
       "    </tr>\n",
       "  </thead>\n",
       "  <tbody>\n",
       "    <tr>\n",
       "      <th>count</th>\n",
       "      <td>233</td>\n",
       "      <td>233</td>\n",
       "      <td>233</td>\n",
       "      <td>233</td>\n",
       "      <td>233</td>\n",
       "      <td>233</td>\n",
       "    </tr>\n",
       "    <tr>\n",
       "      <th>unique</th>\n",
       "      <td>209</td>\n",
       "      <td>6</td>\n",
       "      <td>3</td>\n",
       "      <td>24</td>\n",
       "      <td>97</td>\n",
       "      <td>2</td>\n",
       "    </tr>\n",
       "    <tr>\n",
       "      <th>top</th>\n",
       "      <td>2016-06-25</td>\n",
       "      <td>Holiday</td>\n",
       "      <td>National</td>\n",
       "      <td>Ecuador</td>\n",
       "      <td>Carnaval</td>\n",
       "      <td>False</td>\n",
       "    </tr>\n",
       "    <tr>\n",
       "      <th>freq</th>\n",
       "      <td>3</td>\n",
       "      <td>136</td>\n",
       "      <td>123</td>\n",
       "      <td>123</td>\n",
       "      <td>6</td>\n",
       "      <td>223</td>\n",
       "    </tr>\n",
       "  </tbody>\n",
       "</table>\n",
       "</div>"
      ],
      "text/plain": [
       "              date     type    locale locale_name description transferred\n",
       "count          233      233       233         233         233         233\n",
       "unique         209        6         3          24          97           2\n",
       "top     2016-06-25  Holiday  National     Ecuador    Carnaval       False\n",
       "freq             3      136       123         123           6         223"
      ]
     },
     "execution_count": 274,
     "metadata": {},
     "output_type": "execute_result"
    }
   ],
   "source": [
    "# 열 6개 시계열 데이터 \n",
    "print(holidays_events.head(10))\n",
    "\n",
    "# 행 233, 열 6\n",
    "print(holidays_events.shape)\n",
    "\n",
    "# 기초통계량 확인\n",
    "holidays_events.describe()"
   ]
  },
  {
   "cell_type": "markdown",
   "metadata": {},
   "source": [
    "### 문제 3."
   ]
  },
  {
   "cell_type": "code",
   "execution_count": 275,
   "metadata": {},
   "outputs": [],
   "source": [
    "data = pd.merge(sales,oil,on=\"date\")\n",
    "data = pd.merge(data,stores,on=\"store_nbr\")"
   ]
  },
  {
   "cell_type": "code",
   "execution_count": 276,
   "metadata": {},
   "outputs": [
    {
     "data": {
      "text/html": [
       "<div>\n",
       "<style scoped>\n",
       "    .dataframe tbody tr th:only-of-type {\n",
       "        vertical-align: middle;\n",
       "    }\n",
       "\n",
       "    .dataframe tbody tr th {\n",
       "        vertical-align: top;\n",
       "    }\n",
       "\n",
       "    .dataframe thead th {\n",
       "        text-align: right;\n",
       "    }\n",
       "</style>\n",
       "<table border=\"1\" class=\"dataframe\">\n",
       "  <thead>\n",
       "    <tr style=\"text-align: right;\">\n",
       "      <th></th>\n",
       "      <th>date</th>\n",
       "      <th>dcoilwtico</th>\n",
       "    </tr>\n",
       "  </thead>\n",
       "  <tbody>\n",
       "    <tr>\n",
       "      <th>0</th>\n",
       "      <td>2014-07-01</td>\n",
       "      <td>106.06</td>\n",
       "    </tr>\n",
       "    <tr>\n",
       "      <th>1</th>\n",
       "      <td>2014-07-02</td>\n",
       "      <td>105.18</td>\n",
       "    </tr>\n",
       "    <tr>\n",
       "      <th>2</th>\n",
       "      <td>2014-07-03</td>\n",
       "      <td>104.76</td>\n",
       "    </tr>\n",
       "    <tr>\n",
       "      <th>3</th>\n",
       "      <td>2014-07-04</td>\n",
       "      <td>NaN</td>\n",
       "    </tr>\n",
       "    <tr>\n",
       "      <th>4</th>\n",
       "      <td>2014-07-07</td>\n",
       "      <td>104.19</td>\n",
       "    </tr>\n",
       "    <tr>\n",
       "      <th>...</th>\n",
       "      <td>...</td>\n",
       "      <td>...</td>\n",
       "    </tr>\n",
       "    <tr>\n",
       "      <th>800</th>\n",
       "      <td>2017-07-25</td>\n",
       "      <td>47.77</td>\n",
       "    </tr>\n",
       "    <tr>\n",
       "      <th>801</th>\n",
       "      <td>2017-07-26</td>\n",
       "      <td>48.58</td>\n",
       "    </tr>\n",
       "    <tr>\n",
       "      <th>802</th>\n",
       "      <td>2017-07-27</td>\n",
       "      <td>49.05</td>\n",
       "    </tr>\n",
       "    <tr>\n",
       "      <th>803</th>\n",
       "      <td>2017-07-28</td>\n",
       "      <td>49.72</td>\n",
       "    </tr>\n",
       "    <tr>\n",
       "      <th>804</th>\n",
       "      <td>2017-07-31</td>\n",
       "      <td>50.21</td>\n",
       "    </tr>\n",
       "  </tbody>\n",
       "</table>\n",
       "<p>805 rows × 2 columns</p>\n",
       "</div>"
      ],
      "text/plain": [
       "           date  dcoilwtico\n",
       "0    2014-07-01      106.06\n",
       "1    2014-07-02      105.18\n",
       "2    2014-07-03      104.76\n",
       "3    2014-07-04         NaN\n",
       "4    2014-07-07      104.19\n",
       "..          ...         ...\n",
       "800  2017-07-25       47.77\n",
       "801  2017-07-26       48.58\n",
       "802  2017-07-27       49.05\n",
       "803  2017-07-28       49.72\n",
       "804  2017-07-31       50.21\n",
       "\n",
       "[805 rows x 2 columns]"
      ]
     },
     "execution_count": 276,
     "metadata": {},
     "output_type": "execute_result"
    }
   ],
   "source": [
    "oil"
   ]
  },
  {
   "cell_type": "markdown",
   "metadata": {},
   "source": [
    "### 문제 4."
   ]
  },
  {
   "cell_type": "code",
   "execution_count": 277,
   "metadata": {},
   "outputs": [],
   "source": [
    "# transferred True인 열 삭제\n",
    "holidays_events = holidays_events.query(\"transferred==False\")"
   ]
  },
  {
   "cell_type": "code",
   "execution_count": 278,
   "metadata": {},
   "outputs": [],
   "source": [
    "# datetime으로 전처리\n",
    "data[\"date\"]=pd.to_datetime(data[\"date\"])\n",
    "holidays_events[\"date\"]=pd.to_datetime(holidays_events[\"date\"])"
   ]
  },
  {
   "cell_type": "code",
   "execution_count": 279,
   "metadata": {},
   "outputs": [
    {
     "name": "stdout",
     "output_type": "stream",
     "text": [
      "2014-07-01 00:00:00\n",
      "2017-07-31 00:00:00\n"
     ]
    }
   ],
   "source": [
    "# data에서 최대 날짜 2017/07/31 이후의 holiday는 필요없음\n",
    "print(min(data[\"date\"]))\n",
    "\n",
    "# 최대 날짜 2017/07/31\n",
    "print(max(data[\"date\"]))\n",
    "\n",
    "# cut point 변수 생성\n",
    "cut_point = pd.to_datetime(\"2017-08-01\")"
   ]
  },
  {
   "cell_type": "code",
   "execution_count": 280,
   "metadata": {},
   "outputs": [],
   "source": [
    "# holidays_events에서 필요없는 행( 최대 날짜 이후 행 제거 )\n",
    "holidays_events = holidays_events[holidays_events[\"date\"] < cut_point]"
   ]
  },
  {
   "cell_type": "code",
   "execution_count": 281,
   "metadata": {},
   "outputs": [],
   "source": [
    "# data 에 holiday 열 생성하고 0으로 초기화\n",
    "data[[\"holiday\"]]=[0]"
   ]
  },
  {
   "cell_type": "code",
   "execution_count": 282,
   "metadata": {},
   "outputs": [
    {
     "data": {
      "text/plain": [
       "array(['National', 'Local', 'Regional'], dtype=object)"
      ]
     },
     "execution_count": 282,
     "metadata": {},
     "output_type": "execute_result"
    }
   ],
   "source": [
    "# 공휴일은 국가 단위, 시, 도 단위로 나눠짐 3가지 경우로 나눠서 각각 반영 할 예정\n",
    "holidays_events[\"locale\"].unique()"
   ]
  },
  {
   "cell_type": "code",
   "execution_count": 283,
   "metadata": {},
   "outputs": [],
   "source": [
    "# 1. 국가 공휴일 반영하기 date만 신경쓰면됨\n",
    "national = holidays_events.query(\"locale=='National'\")[\"date\"]\n",
    "\n",
    "# 국가 공휴일 적용\n",
    "data.loc[data[\"date\"].isin(national),\"holiday\"]=1"
   ]
  },
  {
   "cell_type": "code",
   "execution_count": 284,
   "metadata": {},
   "outputs": [],
   "source": [
    "# 2. State 공휴일 반영하기 locale_name과 date를 신경써야함\n",
    "regional = holidays_events.query(\"locale == 'Regional'\")[[\"date\",\"locale_name\"]]\n",
    "\n",
    "# State 공휴일 적용\n",
    "data.loc[data[\"date\"].isin(regional[\"date\"])&data[\"state\"].isin(regional[\"locale_name\"]),\"holiday\"]=1"
   ]
  },
  {
   "cell_type": "code",
   "execution_count": 285,
   "metadata": {},
   "outputs": [],
   "source": [
    "# 3. Local 공휴일 반영하기 locale_name과 date를 신경써야함\n",
    "local = holidays_events.query(\"locale == 'Local'\")[[\"date\",\"locale_name\"]]\n",
    "\n",
    "# Local 공휴일 적용\n",
    "data.loc[data[\"date\"].isin(local[\"date\"])&data[\"city\"].isin(local[\"locale_name\"]),\"holiday\"]=1"
   ]
  },
  {
   "cell_type": "markdown",
   "metadata": {},
   "source": [
    "### 문제 5."
   ]
  },
  {
   "cell_type": "code",
   "execution_count": 286,
   "metadata": {},
   "outputs": [],
   "source": [
    "data = data.drop([\"id\"],axis=1)"
   ]
  },
  {
   "cell_type": "markdown",
   "metadata": {},
   "source": [
    "### 문제 6."
   ]
  },
  {
   "cell_type": "code",
   "execution_count": 287,
   "metadata": {},
   "outputs": [
    {
     "data": {
      "text/plain": [
       "date           datetime64[ns]\n",
       "store_nbr               int64\n",
       "family                 object\n",
       "sales                 float64\n",
       "onpromotion             int64\n",
       "dcoilwtico            float64\n",
       "city                   object\n",
       "state                  object\n",
       "type                   object\n",
       "cluster                 int64\n",
       "holiday                 int64\n",
       "dtype: object"
      ]
     },
     "execution_count": 287,
     "metadata": {},
     "output_type": "execute_result"
    }
   ],
   "source": [
    "# date열은 이미 위에서 작업하였음\n",
    "# cluster과 holiday를 object로 변경하여야함\n",
    "data.dtypes"
   ]
  },
  {
   "cell_type": "code",
   "execution_count": 288,
   "metadata": {},
   "outputs": [],
   "source": [
    "data[[\"cluster\",\"holiday\"]] = data[[\"cluster\",\"holiday\"]].astype(\"object\")"
   ]
  },
  {
   "cell_type": "code",
   "execution_count": 289,
   "metadata": {},
   "outputs": [
    {
     "data": {
      "text/plain": [
       "date           datetime64[ns]\n",
       "store_nbr               int64\n",
       "family                 object\n",
       "sales                 float64\n",
       "onpromotion             int64\n",
       "dcoilwtico            float64\n",
       "city                   object\n",
       "state                  object\n",
       "type                   object\n",
       "cluster                object\n",
       "holiday                object\n",
       "dtype: object"
      ]
     },
     "execution_count": 289,
     "metadata": {},
     "output_type": "execute_result"
    }
   ],
   "source": [
    "# 변경된것 확인\n",
    "data.dtypes"
   ]
  },
  {
   "cell_type": "markdown",
   "metadata": {},
   "source": [
    "### 문제 7."
   ]
  },
  {
   "cell_type": "code",
   "execution_count": 290,
   "metadata": {},
   "outputs": [],
   "source": [
    "# year,month,weekday 변수 생성\n",
    "data[\"year\"] = data[\"date\"].dt.year\n",
    "data[\"month\"] = data[\"date\"].dt.month\n",
    "data[\"weekday\"] = data[\"date\"].dt.weekday"
   ]
  },
  {
   "cell_type": "code",
   "execution_count": 291,
   "metadata": {},
   "outputs": [
    {
     "data": {
      "text/html": [
       "<div>\n",
       "<style scoped>\n",
       "    .dataframe tbody tr th:only-of-type {\n",
       "        vertical-align: middle;\n",
       "    }\n",
       "\n",
       "    .dataframe tbody tr th {\n",
       "        vertical-align: top;\n",
       "    }\n",
       "\n",
       "    .dataframe thead th {\n",
       "        text-align: right;\n",
       "    }\n",
       "</style>\n",
       "<table border=\"1\" class=\"dataframe\">\n",
       "  <thead>\n",
       "    <tr style=\"text-align: right;\">\n",
       "      <th></th>\n",
       "      <th>date</th>\n",
       "      <th>store_nbr</th>\n",
       "      <th>family</th>\n",
       "      <th>sales</th>\n",
       "      <th>onpromotion</th>\n",
       "      <th>dcoilwtico</th>\n",
       "      <th>city</th>\n",
       "      <th>state</th>\n",
       "      <th>type</th>\n",
       "      <th>cluster</th>\n",
       "      <th>holiday</th>\n",
       "      <th>year</th>\n",
       "      <th>month</th>\n",
       "      <th>weekday</th>\n",
       "    </tr>\n",
       "  </thead>\n",
       "  <tbody>\n",
       "    <tr>\n",
       "      <th>0</th>\n",
       "      <td>2014-07-01</td>\n",
       "      <td>1</td>\n",
       "      <td>AUTOMOTIVE</td>\n",
       "      <td>2.0</td>\n",
       "      <td>0</td>\n",
       "      <td>106.06</td>\n",
       "      <td>Quito</td>\n",
       "      <td>Pichincha</td>\n",
       "      <td>D</td>\n",
       "      <td>13</td>\n",
       "      <td>1</td>\n",
       "      <td>2014</td>\n",
       "      <td>7</td>\n",
       "      <td>1</td>\n",
       "    </tr>\n",
       "    <tr>\n",
       "      <th>1</th>\n",
       "      <td>2014-07-01</td>\n",
       "      <td>1</td>\n",
       "      <td>BABY CARE</td>\n",
       "      <td>0.0</td>\n",
       "      <td>0</td>\n",
       "      <td>106.06</td>\n",
       "      <td>Quito</td>\n",
       "      <td>Pichincha</td>\n",
       "      <td>D</td>\n",
       "      <td>13</td>\n",
       "      <td>1</td>\n",
       "      <td>2014</td>\n",
       "      <td>7</td>\n",
       "      <td>1</td>\n",
       "    </tr>\n",
       "    <tr>\n",
       "      <th>2</th>\n",
       "      <td>2014-07-01</td>\n",
       "      <td>1</td>\n",
       "      <td>BEAUTY</td>\n",
       "      <td>6.0</td>\n",
       "      <td>0</td>\n",
       "      <td>106.06</td>\n",
       "      <td>Quito</td>\n",
       "      <td>Pichincha</td>\n",
       "      <td>D</td>\n",
       "      <td>13</td>\n",
       "      <td>1</td>\n",
       "      <td>2014</td>\n",
       "      <td>7</td>\n",
       "      <td>1</td>\n",
       "    </tr>\n",
       "  </tbody>\n",
       "</table>\n",
       "</div>"
      ],
      "text/plain": [
       "        date  store_nbr      family  sales  onpromotion  dcoilwtico   city  \\\n",
       "0 2014-07-01          1  AUTOMOTIVE    2.0            0      106.06  Quito   \n",
       "1 2014-07-01          1   BABY CARE    0.0            0      106.06  Quito   \n",
       "2 2014-07-01          1      BEAUTY    6.0            0      106.06  Quito   \n",
       "\n",
       "       state type cluster holiday  year  month  weekday  \n",
       "0  Pichincha    D      13       1  2014      7        1  \n",
       "1  Pichincha    D      13       1  2014      7        1  \n",
       "2  Pichincha    D      13       1  2014      7        1  "
      ]
     },
     "execution_count": 291,
     "metadata": {},
     "output_type": "execute_result"
    }
   ],
   "source": [
    "# 확인용\n",
    "data.head(3)"
   ]
  },
  {
   "cell_type": "markdown",
   "metadata": {},
   "source": [
    "### 문제 8."
   ]
  },
  {
   "cell_type": "code",
   "execution_count": 292,
   "metadata": {},
   "outputs": [
    {
     "data": {
      "text/plain": [
       "Timestamp('2017-07-31 00:00:00')"
      ]
     },
     "execution_count": 292,
     "metadata": {},
     "output_type": "execute_result"
    }
   ],
   "source": [
    "# 31 - 17 + 1 =15\n",
    "# 2014/07/01 ~ 2017/07/16 train\n",
    "# 2017/07/17 ~ 2017/07/31 test\n",
    "max(data[\"date\"])"
   ]
  },
  {
   "cell_type": "code",
   "execution_count": 293,
   "metadata": {},
   "outputs": [],
   "source": [
    "# 기간에 맞게 cut off point 지정\n",
    "train_point = pd.to_datetime(\"2017-07-16\")\n",
    "\n",
    "# 기간에 맞게 train,valid set 분리\n",
    "train = data[data[\"date\"] <= train_point]\n",
    "valid = data[data[\"date\"] > train_point]"
   ]
  },
  {
   "cell_type": "markdown",
   "metadata": {},
   "source": [
    "### 문제 9."
   ]
  },
  {
   "cell_type": "code",
   "execution_count": 294,
   "metadata": {},
   "outputs": [],
   "source": [
    "# date와 store_nbr를 기준으로 sales를 합쳐야함\n",
    "nbr_sales = data.groupby([\"date\",\"store_nbr\"])['sales'].sum()\n",
    "\n",
    "# 원하는 형태는 store_nbr과 sales를 열로 갖는 데이터프레임임\n",
    "nbr_sales = nbr_sales.unstack(level=\"store_nbr\")\n",
    "final = pd.melt(nbr_sales)"
   ]
  },
  {
   "cell_type": "code",
   "execution_count": 295,
   "metadata": {},
   "outputs": [
    {
     "data": {
      "text/html": [
       "<div>\n",
       "<style scoped>\n",
       "    .dataframe tbody tr th:only-of-type {\n",
       "        vertical-align: middle;\n",
       "    }\n",
       "\n",
       "    .dataframe tbody tr th {\n",
       "        vertical-align: top;\n",
       "    }\n",
       "\n",
       "    .dataframe thead th {\n",
       "        text-align: right;\n",
       "    }\n",
       "</style>\n",
       "<table border=\"1\" class=\"dataframe\">\n",
       "  <thead>\n",
       "    <tr style=\"text-align: right;\">\n",
       "      <th></th>\n",
       "      <th>store_nbr</th>\n",
       "      <th>value</th>\n",
       "    </tr>\n",
       "  </thead>\n",
       "  <tbody>\n",
       "    <tr>\n",
       "      <th>0</th>\n",
       "      <td>1</td>\n",
       "      <td>9649.172980</td>\n",
       "    </tr>\n",
       "    <tr>\n",
       "      <th>1</th>\n",
       "      <td>1</td>\n",
       "      <td>14812.346000</td>\n",
       "    </tr>\n",
       "    <tr>\n",
       "      <th>2</th>\n",
       "      <td>1</td>\n",
       "      <td>9593.299000</td>\n",
       "    </tr>\n",
       "    <tr>\n",
       "      <th>3</th>\n",
       "      <td>1</td>\n",
       "      <td>11822.021000</td>\n",
       "    </tr>\n",
       "    <tr>\n",
       "      <th>4</th>\n",
       "      <td>1</td>\n",
       "      <td>10168.345014</td>\n",
       "    </tr>\n",
       "    <tr>\n",
       "      <th>...</th>\n",
       "      <td>...</td>\n",
       "      <td>...</td>\n",
       "    </tr>\n",
       "    <tr>\n",
       "      <th>43357</th>\n",
       "      <td>54</td>\n",
       "      <td>8241.906000</td>\n",
       "    </tr>\n",
       "    <tr>\n",
       "      <th>43358</th>\n",
       "      <td>54</td>\n",
       "      <td>6572.494000</td>\n",
       "    </tr>\n",
       "    <tr>\n",
       "      <th>43359</th>\n",
       "      <td>54</td>\n",
       "      <td>6911.345000</td>\n",
       "    </tr>\n",
       "    <tr>\n",
       "      <th>43360</th>\n",
       "      <td>54</td>\n",
       "      <td>9531.089998</td>\n",
       "    </tr>\n",
       "    <tr>\n",
       "      <th>43361</th>\n",
       "      <td>54</td>\n",
       "      <td>12830.713996</td>\n",
       "    </tr>\n",
       "  </tbody>\n",
       "</table>\n",
       "<p>43362 rows × 2 columns</p>\n",
       "</div>"
      ],
      "text/plain": [
       "       store_nbr         value\n",
       "0              1   9649.172980\n",
       "1              1  14812.346000\n",
       "2              1   9593.299000\n",
       "3              1  11822.021000\n",
       "4              1  10168.345014\n",
       "...          ...           ...\n",
       "43357         54   8241.906000\n",
       "43358         54   6572.494000\n",
       "43359         54   6911.345000\n",
       "43360         54   9531.089998\n",
       "43361         54  12830.713996\n",
       "\n",
       "[43362 rows x 2 columns]"
      ]
     },
     "execution_count": 295,
     "metadata": {},
     "output_type": "execute_result"
    }
   ],
   "source": [
    "# 확인용\n",
    "final"
   ]
  },
  {
   "cell_type": "code",
   "execution_count": 296,
   "metadata": {},
   "outputs": [],
   "source": [
    "# 3000 이하인 행을 추출하고 count를 세어 전체 count로 나누어 비율을 구할 것임\n",
    "\n",
    "# 3000이하인 행 추출\n",
    "under_3000 = final.query(\"value < 3000\")\n",
    "\n",
    "# 3000이하인 행과 전체 행에 대하여 store_nbr을 기준으로 groupby하고 count로 갯수를 세고 나누어 비율을 구함\n",
    "under_3000_group = under_3000.groupby(\"store_nbr\")['value'].count()/final.groupby(\"store_nbr\")[\"value\"].count()\n",
    "\n",
    "# list로 반환\n",
    "final_store = list(under_3000_group.index[under_3000_group<0.1])"
   ]
  },
  {
   "cell_type": "code",
   "execution_count": 297,
   "metadata": {},
   "outputs": [],
   "source": [
    "# 위에서 반환한 리스트에 포함될 경우 남김\n",
    "data = data[data[\"store_nbr\"].isin(final_store)]"
   ]
  },
  {
   "cell_type": "markdown",
   "metadata": {},
   "source": [
    "### 문제 10."
   ]
  },
  {
   "cell_type": "code",
   "execution_count": 298,
   "metadata": {},
   "outputs": [],
   "source": [
    "# sales 가 3000 이하 인 열만 뽑아서 날짜를 세고 그걸 전체 날짜로 나눌 것임\n",
    "\n",
    "# sales 가 3000 이하 인 열 추출\n",
    "under_10 = data.query(\"sales < 10\")\n",
    "\n",
    "# sales가 3000이하 인 열을 family별로 count하고 전체 데이터를 family별로 카운트하고 두 값을 나누어 비율을 계산\n",
    "under_10_group = under_10.groupby('family')['sales'].count()/data.groupby(\"family\")['sales'].count()\n",
    "\n",
    "# 그 비율이 10퍼센트 미만인 경우를 list로 반환\n",
    "final_family = list(under_10_group.index[under_10_group<0.1])"
   ]
  },
  {
   "cell_type": "code",
   "execution_count": 299,
   "metadata": {},
   "outputs": [],
   "source": [
    "# 위에서 반환한 리스트에 포함될 경우 남김\n",
    "data = data[data[\"family\"].isin(final_family)]"
   ]
  },
  {
   "cell_type": "markdown",
   "metadata": {},
   "source": [
    "### 문제 11."
   ]
  },
  {
   "cell_type": "code",
   "execution_count": 307,
   "metadata": {},
   "outputs": [],
   "source": [
    "mean_for_sh = data.groupby([\"store_nbr\",\"holiday\"])['sales'].mean()"
   ]
  },
  {
   "cell_type": "markdown",
   "metadata": {},
   "source": [
    "#### 문제 11-1."
   ]
  },
  {
   "cell_type": "code",
   "execution_count": 312,
   "metadata": {},
   "outputs": [],
   "source": [
    "h0 = data.query(\"holiday == 0\")\n",
    "h1 = data.query(\"holiday == 1\")\n",
    "h0 = h0.groupby(\"store_nbr\")['sales'].mean()\n",
    "h1 = h1.groupby(\"store_nbr\")['sales'].mean()"
   ]
  },
  {
   "cell_type": "code",
   "execution_count": 320,
   "metadata": {},
   "outputs": [
    {
     "data": {
      "text/plain": [
       "Text(0.5, 1.0, 'Holiday1 Sales Histogram')"
      ]
     },
     "execution_count": 320,
     "metadata": {},
     "output_type": "execute_result"
    },
    {
     "data": {
      "image/png": "[encoded data removed]",
      "text/plain": [
       "<Figure size 2000x800 with 2 Axes>"
      ]
     },
     "metadata": {},
     "output_type": "display_data"
    }
   ],
   "source": [
    "plt.figure(figsize=(20,8))\n",
    "plt.subplot(1,2,1)\n",
    "plt.hist(h0)\n",
    "plt.title(\"Holiday0 Sales Histogram\")\n",
    "plt.subplot(1,2,2)\n",
    "plt.hist(h1)\n",
    "plt.title(\"Holiday1 Sales Histogram\")"
   ]
  },
  {
   "cell_type": "markdown",
   "metadata": {},
   "source": [
    "#### 문제 11-2."
   ]
  }
 ],
 "metadata": {
  "kernelspec": {
   "display_name": "'conda'",
   "language": "python",
   "name": "conda"
  },
  "language_info": {
   "codemirror_mode": {
    "name": "ipython",
    "version": 3
   },
   "file_extension": ".py",
   "mimetype": "text/x-python",
   "name": "python",
   "nbconvert_exporter": "python",
   "pygments_lexer": "ipython3",
   "version": "3.10.0rc2"
  }
 },
 "nbformat": 4,
 "nbformat_minor": 2
}
